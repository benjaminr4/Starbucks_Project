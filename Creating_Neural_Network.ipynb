{
 "cells": [
  {
   "cell_type": "code",
   "execution_count": 1,
   "metadata": {},
   "outputs": [],
   "source": [
    "import pandas as pd\n",
    "import numpy as np\n",
    "import math\n",
    "import json\n",
    "import seaborn as sn\n",
    "import matplotlib.pyplot as plt\n",
    "import torch\n",
    "from torch.utils.data import DataLoader, TensorDataset\n",
    "from sklearn.preprocessing import quantile_transform\n",
    "\n",
    "#robust_scale, scale, minmax_scale, quantile_transform"
   ]
  },
  {
   "cell_type": "code",
   "execution_count": 22,
   "metadata": {},
   "outputs": [],
   "source": [
    "#import os\n",
    "\n",
    "from sklearn.metrics import accuracy_score, precision_score, recall_score, f1_score, roc_curve, auc, roc_auc_score, classification_report, confusion_matrix"
   ]
  },
  {
   "cell_type": "code",
   "execution_count": 3,
   "metadata": {},
   "outputs": [],
   "source": [
    "offers_classed=pd.read_pickle(\"final_table_nf.pkl\")"
   ]
  },
  {
   "cell_type": "code",
   "execution_count": 4,
   "metadata": {},
   "outputs": [
    {
     "name": "stdout",
     "output_type": "stream",
     "text": [
      "66501\n"
     ]
    }
   ],
   "source": [
    "labels=offers_classed['successful_offer'].values\n",
    "print(len(labels))"
   ]
  },
  {
   "cell_type": "code",
   "execution_count": 5,
   "metadata": {},
   "outputs": [
    {
     "name": "stdout",
     "output_type": "stream",
     "text": [
      "66501\n"
     ]
    }
   ],
   "source": [
    "features = offers_classed.filter(['reward', 'difficulty', 'duration','mobile', 'social', 'web', 'bogo', 'discount',\n",
    "                 'informational', 'age', 'became_member_on', 'income', 'female', 'male', 'other','total_spend','transaction','viewed'])\n",
    "print(len(features))"
   ]
  },
  {
   "cell_type": "code",
   "execution_count": null,
   "metadata": {},
   "outputs": [],
   "source": []
  },
  {
   "cell_type": "code",
   "execution_count": 6,
   "metadata": {},
   "outputs": [],
   "source": [
    "def quantileScale (df,col):\n",
    "    col=df.filter(col)\n",
    "    col_scaled=quantile_transform(col, copy=False)\n",
    "    col=pd.DataFrame(col_scaled, columns=col.columns, index=col.index)\n",
    "    df.update(col)\n",
    "    return (df)"
   ]
  },
  {
   "cell_type": "code",
   "execution_count": 7,
   "metadata": {
    "scrolled": false
   },
   "outputs": [
    {
     "data": {
      "text/plain": [
       "Index(['reward', 'difficulty', 'duration', 'mobile', 'social', 'web', 'bogo',\n",
       "       'discount', 'informational', 'age', 'became_member_on', 'income',\n",
       "       'female', 'male', 'other', 'total_spend', 'transaction', 'viewed'],\n",
       "      dtype='object')"
      ]
     },
     "execution_count": 7,
     "metadata": {},
     "output_type": "execute_result"
    }
   ],
   "source": [
    "features.columns"
   ]
  },
  {
   "cell_type": "code",
   "execution_count": 8,
   "metadata": {},
   "outputs": [],
   "source": [
    "features=quantileScale(features,['reward', 'difficulty', 'duration', 'mobile', 'social', 'web', 'bogo',\n",
    "       'discount', 'informational', 'age', 'became_member_on', 'income',\n",
    "       'female', 'male', 'other'])\n",
    "\n",
    "features=features.values\n"
   ]
  },
  {
   "cell_type": "code",
   "execution_count": null,
   "metadata": {},
   "outputs": [],
   "source": []
  },
  {
   "cell_type": "code",
   "execution_count": 10,
   "metadata": {},
   "outputs": [],
   "source": [
    "#Convert features and labels to tensors\n",
    "features = torch.as_tensor(features, dtype=torch.float)\n",
    "labels = torch.as_tensor(labels, dtype=torch.long)"
   ]
  },
  {
   "cell_type": "code",
   "execution_count": null,
   "metadata": {},
   "outputs": [],
   "source": []
  },
  {
   "cell_type": "code",
   "execution_count": 11,
   "metadata": {},
   "outputs": [],
   "source": [
    "## Split data into three random datasets \n",
    "\n",
    "# Generate randomic indices\n",
    "len_dataset = len(features)\n",
    "random_idx = np.random.choice(len_dataset, len_dataset, replace=False)\n",
    "\n",
    "# Use the proportions: train: 80%, valid: 10%, test: 10%\n",
    "train_idx = random_idx[:int(len_dataset*0.8)]\n",
    "valid_idx = random_idx[int(len_dataset*0.8):-int(len_dataset*0.1)]\n",
    "test_idx = random_idx[-int(len_dataset*0.1):]\n",
    "\n",
    "# Create datasets\n",
    "train_dataset = TensorDataset(features[train_idx], labels[train_idx])\n",
    "valid_dataset = TensorDataset(features[valid_idx], labels[valid_idx])\n",
    "test_dataset = TensorDataset(features[test_idx], labels[test_idx])\n",
    "\n",
    "# Create dataloaders\n",
    "train_dataloader = DataLoader(train_dataset, batch_size=32, shuffle=True)\n",
    "valid_dataloader = DataLoader(valid_dataset, batch_size=32, shuffle=True)\n",
    "test_dataloader = DataLoader(test_dataset, batch_size=32, shuffle=False)"
   ]
  },
  {
   "cell_type": "code",
   "execution_count": 12,
   "metadata": {},
   "outputs": [],
   "source": [
    "#temp=[]\n",
    "\n",
    "#for features, labels in test_dataloader:\n",
    "#    print(features)\n",
    "#    llist.append(features)"
   ]
  },
  {
   "cell_type": "code",
   "execution_count": null,
   "metadata": {},
   "outputs": [],
   "source": []
  },
  {
   "cell_type": "code",
   "execution_count": 16,
   "metadata": {},
   "outputs": [
    {
     "name": "stdout",
     "output_type": "stream",
     "text": [
      "Train dataset:\tNegative Class: 30431 / 57.20%\tPositive Class: 22769 / 42.80%\n",
      "Valid dataset:\tNegative Class:  3858 / 58.01%\tPositive Class:  2793 / 41.99%\n",
      "Test dataset:\tNegative Class:  3774 / 56.75%\tPositive Class:  2876 / 43.25%\n"
     ]
    }
   ],
   "source": [
    "#training labels\n",
    "targ_neg = (labels[train_idx] == 0).sum()\n",
    "targ_pos = (labels[train_idx] == 1).sum()\n",
    "targ_total = targ_neg + targ_pos\n",
    "print('Train dataset:\\tNegative Class: {:5d} / {:5.2f}%\\tPositive Class: {:5d} / {:5.2f}%' \n",
    "      .format(targ_neg, targ_neg*100/targ_total, targ_pos, targ_pos*100/targ_total))\n",
    "\n",
    "#validating labels\n",
    "targ_neg = (labels[valid_idx] == 0).sum()\n",
    "targ_pos = (labels[valid_idx] == 1).sum()\n",
    "targ_total = targ_neg + targ_pos\n",
    "print('Valid dataset:\\tNegative Class: {:5d} / {:5.2f}%\\tPositive Class: {:5d} / {:5.2f}%' \n",
    "      .format(targ_neg, targ_neg*100/targ_total, targ_pos, targ_pos*100/targ_total))\n",
    "\n",
    "#testing labels\n",
    "targ_neg = (labels[test_idx] == 0).sum()\n",
    "targ_pos = (labels[test_idx] == 1).sum()\n",
    "targ_total = targ_neg + targ_pos\n",
    "print('Test dataset:\\tNegative Class: {:5d} / {:5.2f}%\\tPositive Class: {:5d} / {:5.2f}%' \n",
    "      .format(targ_neg, targ_neg*100/targ_total,  targ_pos, targ_pos*100/targ_total))"
   ]
  },
  {
   "cell_type": "code",
   "execution_count": null,
   "metadata": {},
   "outputs": [],
   "source": []
  },
  {
   "cell_type": "code",
   "execution_count": 17,
   "metadata": {},
   "outputs": [],
   "source": [
    "#import torch\n",
    "import torch.nn as nn\n",
    "\n",
    "\n",
    "class LinearNN(nn.Module):\n",
    "    def __init__(self, input_size, hidden_layers=[128,128],\n",
    "                 output_size=2, dropout=0.2):\n",
    "        super(LinearNN, self).__init__()\n",
    "        self.input_size = input_size\n",
    "\n",
    "        nodes = []\n",
    "        nodes.append(input_size)\n",
    "        nodes.extend(hidden_layers)\n",
    "        nodes.append(output_size)\n",
    "\n",
    "        self.module_list = nn.ModuleList()\n",
    "        for nodes_in, nodes_out in zip(nodes[:-1], nodes[1:]):\n",
    "            layer = nn.Linear(nodes_in, nodes_out)\n",
    "            self.module_list.append(layer)\n",
    "\n",
    "        self.activation = nn.ReLU()\n",
    "        self.dropout = nn.Dropout(dropout)\n",
    "\n",
    "    def forward(self, x):\n",
    "        x = x.view(-1, self.input_size)\n",
    "        for layer in self.module_list[:-1]:\n",
    "            x = layer(x)\n",
    "            x = self.activation(x)\n",
    "            x = self.dropout(x)\n",
    "        x = self.module_list[-1](x)\n",
    "\n",
    "        return x"
   ]
  },
  {
   "cell_type": "code",
   "execution_count": 25,
   "metadata": {},
   "outputs": [],
   "source": [
    "def validate(model, dataloader=valid_dataloader):\n",
    "    with torch.no_grad():\n",
    "        model.eval()\n",
    "        valid_loss = 0\n",
    "        y_true = []\n",
    "        y_pred = []\n",
    "        for features, labels in dataloader:\n",
    "            prediction = model(features)\n",
    "            \n",
    "            prediction = prediction.view(-1,2)\n",
    "            labels = labels.view(-1)\n",
    "            valid_loss += criterion(prediction, labels)\n",
    "\n",
    "            prediction = torch.softmax(prediction, dim=1)\n",
    "            _, prediction = prediction.topk(1, dim=1)\n",
    "            prediction = prediction.squeeze()\n",
    "\n",
    "            y_pred.extend(prediction.view(-1))\n",
    "            y_true.extend(labels.view(-1))\n",
    "\n",
    "        # normalize the loss\n",
    "        valid_loss /= len(dataloader)\n",
    "        valid_loss = valid_loss.item()\n",
    "\n",
    "        # Calculate the metrics\n",
    "        accuracy = accuracy_score(y_true, y_pred)\n",
    "        f1 = f1_score(y_true, y_pred, pos_label=1, average='binary')\n",
    "        precision = precision_score(y_true, y_pred, pos_label=1, average='binary')\n",
    "        recall = recall_score(y_true, y_pred, pos_label=1, average='binary')\n",
    "        recall0 = recall_score(y_true, y_pred, pos_label=0, average='binary')\n",
    "        recall_avg= recall_score(y_true, y_pred,  average='micro')\n",
    "        con_mat = confusion_matrix(y_true, y_pred)\n",
    "#        fpr, tpr, thresholds_keras = roc_curve(y_true, y_pred)\n",
    "#        auc_ = auc(fpr, tpr)\n",
    "        roc_auc=roc_auc_score(y_true, y_pred)\n",
    "        \n",
    "\n",
    "        model.train()\n",
    "\n",
    "        return valid_loss, f1, accuracy, precision, recall, recall0, recall_avg, roc_auc, con_mat\n",
    "    \n",
    "  \n",
    "  #  print(\"auc_keras:\" + str(auc_))"
   ]
  },
  {
   "cell_type": "code",
   "execution_count": 26,
   "metadata": {},
   "outputs": [],
   "source": [
    "def train(model, model_name='classifier',\n",
    "          dataloader=train_dataloader, epochs=5000):\n",
    "    train_loss = []\n",
    "    valid_loss = []\n",
    "    min_valid_loss = np.inf\n",
    "    ## Perform N epochs of training\n",
    "    for epoch in range(1, epochs+1):\n",
    "        epoch_loss = 0\n",
    "        for batch, (features, labels) in enumerate(dataloader):\n",
    "            ## Train the network\n",
    "            optimizer.zero_grad()\n",
    "            prediction = model(features)\n",
    "            prediction = prediction.view(-1,2)\n",
    "            labels = labels.view(-1)\n",
    "            loss = criterion(prediction, labels)\n",
    "            loss.backward()\n",
    "            optimizer.step()\n",
    "            epoch_loss += loss.item()\n",
    "\n",
    "        # Normalize the training loss\n",
    "        epoch_loss /= len(dataloader)\n",
    "        train_loss.append(epoch_loss)\n",
    "        \n",
    "        # LR scheduler step\n",
    "        lr_scheduler.step(train_loss[-1])\n",
    "\n",
    "        # Validate\n",
    "        metrics = validate(model)\n",
    "        valid_loss.append(metrics[0])\n",
    "        print('Epoch {:4d}\\ttrain loss: {:7.4f}\\tvalidation loss: {:7.4f}' \\\n",
    "              .format(epoch, train_loss[-1], valid_loss[-1]))\n",
    "\n",
    "        # Save the model if valid_loss has decreased\n",
    "        if valid_loss[-1] < min_valid_loss:\n",
    "            min_valid_loss = valid_loss[-1]\n",
    "            torch.save(model.state_dict(), model_name+'.pt')\n",
    "\n",
    "    return train_loss, valid_loss"
   ]
  },
  {
   "cell_type": "code",
   "execution_count": 27,
   "metadata": {},
   "outputs": [],
   "source": [
    "#30457 / 57.25%\tPositive Class: 22743 "
   ]
  },
  {
   "cell_type": "code",
   "execution_count": 28,
   "metadata": {},
   "outputs": [],
   "source": [
    "linear_classifier = LinearNN(\n",
    "    input_size=18, output_size=2, hidden_layers=[128,128,128])\n",
    "criterion = nn.CrossEntropyLoss(\n",
    "    torch.tensor([(30431. / 22769.), 2])) #change this 2nd variable to change precision/recall threshold\n",
    "optimizer = torch.optim.Adam(\n",
    "    linear_classifier.parameters(), lr=0.0001, weight_decay=0.0001)\n",
    "lr_scheduler = torch.optim.lr_scheduler.ReduceLROnPlateau(\n",
    "    optimizer, factor=0.2, patience=15, verbose=True)"
   ]
  },
  {
   "cell_type": "code",
   "execution_count": 29,
   "metadata": {},
   "outputs": [
    {
     "name": "stdout",
     "output_type": "stream",
     "text": [
      "Epoch    1\ttrain loss:  0.6792\tvalidation loss:  0.6335\n",
      "Epoch    2\ttrain loss:  0.6357\tvalidation loss:  0.6181\n",
      "Epoch    3\ttrain loss:  0.6232\tvalidation loss:  0.6118\n",
      "Epoch    4\ttrain loss:  0.6141\tvalidation loss:  0.6039\n",
      "Epoch    5\ttrain loss:  0.6089\tvalidation loss:  0.5966\n",
      "Epoch    6\ttrain loss:  0.6031\tvalidation loss:  0.5925\n",
      "Epoch    7\ttrain loss:  0.5993\tvalidation loss:  0.5914\n",
      "Epoch    8\ttrain loss:  0.5950\tvalidation loss:  0.5843\n",
      "Epoch    9\ttrain loss:  0.5907\tvalidation loss:  0.5839\n",
      "Epoch   10\ttrain loss:  0.5880\tvalidation loss:  0.5810\n",
      "CPU times: user 2min 17s, sys: 137 ms, total: 2min 18s\n",
      "Wall time: 44.1 s\n"
     ]
    }
   ],
   "source": [
    "%%time \n",
    "#200 takes 15min 20s\n",
    "\n",
    "linear_loss = train(linear_classifier,\n",
    "                    model_name='linear_classifier',\n",
    "                    epochs=10)"
   ]
  },
  {
   "cell_type": "code",
   "execution_count": 34,
   "metadata": {},
   "outputs": [],
   "source": [
    "\n",
    "## Test models\n",
    "\n",
    "loss, f1, acc, prec, recall, recall0, recall_avg, roc_auc, con_mat =  validate(linear_classifier, test_dataloader)"
   ]
  },
  {
   "cell_type": "code",
   "execution_count": 36,
   "metadata": {},
   "outputs": [
    {
     "name": "stdout",
     "output_type": "stream",
     "text": [
      "the loss function is: 0.5839\n",
      "the f1 score is: 0.6656\n",
      "the accuracy is: 0.6639\n",
      "the precision is: 0.5842\n",
      "the recall is: 0.7733\n",
      "the recall for negs is: 0.5806\n",
      "the recall average is: 0.6639\n",
      "the roc_auc is: 0.6769\n"
     ]
    }
   ],
   "source": [
    "print(\"the loss function is: {:0.4f}\".format(loss))\n",
    "print(\"the f1 score is: {:0.4f}\".format(f1))\n",
    "print(\"the accuracy is: {:0.4f}\".format(acc))\n",
    "print(\"the precision is: {:0.4f}\".format(prec))\n",
    "print(\"the recall is: {:0.4f}\".format(recall))\n",
    "print(\"the recall for negs is: {:0.4f}\".format(recall0))\n",
    "print(\"the recall average is: {:0.4f}\".format(recall_avg))\n",
    "print(\"the roc_auc is: {:0.4f}\".format(roc_auc))\n",
    "\n",
    "#0.5521186590194702"
   ]
  },
  {
   "cell_type": "code",
   "execution_count": 37,
   "metadata": {},
   "outputs": [
    {
     "data": {
      "text/plain": [
       "<AxesSubplot:>"
      ]
     },
     "execution_count": 37,
     "metadata": {},
     "output_type": "execute_result"
    },
    {
     "data": {
      "image/png": "[encoded data removed]",
      "text/plain": [
       "<Figure size 432x288 with 2 Axes>"
      ]
     },
     "metadata": {
      "needs_background": "light"
     },
     "output_type": "display_data"
    }
   ],
   "source": [
    "sn.heatmap(con_mat, annot=True,cmap='YlOrBr',fmt='g')"
   ]
  },
  {
   "cell_type": "code",
   "execution_count": 98,
   "metadata": {},
   "outputs": [
    {
     "data": {
      "text/plain": [
       "<AxesSubplot:>"
      ]
     },
     "execution_count": 98,
     "metadata": {},
     "output_type": "execute_result"
    },
    {
     "data": {
      "image/png": "[encoded data removed]",
      "text/plain": [
       "<Figure size 288x288 with 2 Axes>"
      ]
     },
     "metadata": {
      "needs_background": "light"
     },
     "output_type": "display_data"
    }
   ],
   "source": [
    "plt.figure(figsize = (4,4))\n",
    "sn.heatmap(con_mat, annot=True,cmap='YlOrBr',fmt='g')"
   ]
  },
  {
   "cell_type": "code",
   "execution_count": null,
   "metadata": {},
   "outputs": [],
   "source": []
  },
  {
   "cell_type": "code",
   "execution_count": null,
   "metadata": {},
   "outputs": [],
   "source": []
  }
 ],
 "metadata": {
  "kernelspec": {
   "display_name": "Python 3",
   "language": "python",
   "name": "python3"
  },
  "language_info": {
   "codemirror_mode": {
    "name": "ipython",
    "version": 3
   },
   "file_extension": ".py",
   "mimetype": "text/x-python",
   "name": "python",
   "nbconvert_exporter": "python",
   "pygments_lexer": "ipython3",
   "version": "3.8.5"
  }
 },
 "nbformat": 4,
 "nbformat_minor": 4
}
