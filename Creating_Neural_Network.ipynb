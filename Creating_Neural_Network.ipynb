{
 "cells": [
  {
   "cell_type": "code",
   "execution_count": 1,
   "metadata": {},
   "outputs": [],
   "source": [
    "import pandas as pd\n",
    "import numpy as np\n",
    "import seaborn as sn\n",
    "import matplotlib.pyplot as plt\n",
    "import torch\n",
    "import torch.nn as nn\n",
    "from torch.utils.data import DataLoader, TensorDataset\n",
    "from sklearn.preprocessing import quantile_transform\n",
    "from sklearn.metrics import accuracy_score, precision_score, recall_score, f1_score, classification_report, confusion_matrix\n"
   ]
  },
  {
   "cell_type": "code",
   "execution_count": 2,
   "metadata": {},
   "outputs": [],
   "source": [
    "offers_classed=pd.read_pickle(\"final_table_nf.pkl\")"
   ]
  },
  {
   "cell_type": "code",
   "execution_count": 3,
   "metadata": {},
   "outputs": [
    {
     "name": "stdout",
     "output_type": "stream",
     "text": [
      "66501\n"
     ]
    }
   ],
   "source": [
    "labels=offers_classed['successful_offer'].values\n",
    "print(len(labels))"
   ]
  },
  {
   "cell_type": "code",
   "execution_count": 4,
   "metadata": {},
   "outputs": [
    {
     "name": "stdout",
     "output_type": "stream",
     "text": [
      "66501\n"
     ]
    }
   ],
   "source": [
    "features = offers_classed.filter(['reward', 'difficulty', 'duration','mobile', 'social', 'web', 'bogo', 'discount',\n",
    "                 'informational', 'age', 'became_member_on', 'income', 'female', 'male', 'other','total_spend','transaction','viewed'])\n",
    "print(len(features))"
   ]
  },
  {
   "cell_type": "code",
   "execution_count": 5,
   "metadata": {},
   "outputs": [],
   "source": [
    "def quantileScale (df,col):\n",
    "    col=df.filter(col)\n",
    "    col_scaled=quantile_transform(col, copy=False)\n",
    "    col=pd.DataFrame(col_scaled, columns=col.columns, index=col.index)\n",
    "    df.update(col)\n",
    "    return (df)"
   ]
  },
  {
   "cell_type": "code",
   "execution_count": 6,
   "metadata": {
    "scrolled": false
   },
   "outputs": [
    {
     "data": {
      "text/plain": [
       "Index(['reward', 'difficulty', 'duration', 'mobile', 'social', 'web', 'bogo',\n",
       "       'discount', 'informational', 'age', 'became_member_on', 'income',\n",
       "       'female', 'male', 'other', 'total_spend', 'transaction', 'viewed'],\n",
       "      dtype='object')"
      ]
     },
     "execution_count": 6,
     "metadata": {},
     "output_type": "execute_result"
    }
   ],
   "source": [
    "features.columns"
   ]
  },
  {
   "cell_type": "markdown",
   "metadata": {},
   "source": [
    "Scale all features using the quantile transformation (including the new features added during the benchmark refinement phase)"
   ]
  },
  {
   "cell_type": "code",
   "execution_count": 7,
   "metadata": {},
   "outputs": [],
   "source": [
    "features=quantileScale(features, ['reward', 'difficulty', 'duration', 'mobile', 'social', 'web', 'bogo',\n",
    "       'discount', 'informational', 'age', 'became_member_on', 'income',\n",
    "       'female', 'male', 'other', 'total_spend', 'transaction', 'viewed'])\n",
    "\n",
    "features=features.values\n"
   ]
  },
  {
   "cell_type": "code",
   "execution_count": 8,
   "metadata": {},
   "outputs": [],
   "source": [
    "#Convert features and labels to tensors\n",
    "features = torch.as_tensor(features, dtype=torch.float)\n",
    "labels = torch.as_tensor(labels, dtype=torch.long)"
   ]
  },
  {
   "cell_type": "code",
   "execution_count": 9,
   "metadata": {},
   "outputs": [],
   "source": [
    "## Split data into three random datasets \n",
    "\n",
    "# Generate randomic indices\n",
    "len_dataset = len(features)\n",
    "random_idx = np.random.choice(len_dataset, len_dataset, replace=False)\n",
    "\n",
    "# Use the proportions: train: 70%, valid: 15%, test: 15%\n",
    "train_idx = random_idx[:int(len_dataset*0.70)]\n",
    "valid_idx = random_idx[-int(len_dataset*0.15):]\n",
    "test_idx = random_idx[int(len_dataset*0.70):-int(len_dataset*0.15)]\n",
    "\n",
    "# Create datasets\n",
    "train_dataset = TensorDataset(features[train_idx], labels[train_idx])\n",
    "valid_dataset = TensorDataset(features[valid_idx], labels[valid_idx])\n",
    "test_dataset = TensorDataset(features[test_idx], labels[test_idx])\n",
    "\n",
    "# Create dataloaders\n",
    "train_dataloader = DataLoader(train_dataset, batch_size=32, shuffle=True)\n",
    "valid_dataloader = DataLoader(valid_dataset, batch_size=32, shuffle=True)\n",
    "test_dataloader = DataLoader(test_dataset, batch_size=32, shuffle=False)"
   ]
  },
  {
   "cell_type": "markdown",
   "metadata": {},
   "source": [
    "Making sure the split has maintained balanced classes"
   ]
  },
  {
   "cell_type": "code",
   "execution_count": 10,
   "metadata": {},
   "outputs": [
    {
     "name": "stdout",
     "output_type": "stream",
     "text": [
      "Training data has 26615 unsuccessful events and 19935 successful events \n",
      "The ratio between classes is:\t 0.57 : 0.43\n",
      "\n",
      "Validation data has 5772 unsuccessful events and 4203 successful events \n",
      "The ratio between classes is:\t 0.58 : 0.42\n",
      "\n",
      "Testing data has 5676 unsuccessful events and 4300 successful events \n",
      "The ratio between classes is:\t 0.57 : 0.43\n",
      "\n"
     ]
    }
   ],
   "source": [
    "#Counting the training labels\n",
    "train_neg = (labels[train_idx] == 0).sum()\n",
    "train_pos = (labels[train_idx] == 1).sum()\n",
    "train_total=len(train_idx)\n",
    "print('Training data has {} unsuccessful events and {} successful events \\nThe ratio between classes is:\\t {:0.2f} : {:0.2f}\\n'.format(train_neg, train_pos, train_neg/train_total, train_pos/train_total))\n",
    "\n",
    "#Counting the validating labels\n",
    "valid_neg = (labels[valid_idx] == 0).sum()\n",
    "valid_pos = (labels[valid_idx] == 1).sum()\n",
    "valid_total =len(valid_idx)\n",
    "print('Validation data has {} unsuccessful events and {} successful events \\nThe ratio between classes is:\\t {:0.2f} : {:0.2f}\\n'.format(valid_neg, valid_pos, valid_neg/valid_total, valid_pos/valid_total))\n",
    "\n",
    "#Counting the testing labels\n",
    "test_neg = (labels[test_idx] == 0).sum()\n",
    "test_pos = (labels[test_idx] == 1).sum()\n",
    "test_total =len(test_idx)\n",
    "print('Testing data has {} unsuccessful events and {} successful events \\nThe ratio between classes is:\\t {:0.2f} : {:0.2f}\\n'.format(test_neg, test_pos, test_neg/test_total, test_pos/test_total))\n"
   ]
  },
  {
   "cell_type": "code",
   "execution_count": 11,
   "metadata": {},
   "outputs": [],
   "source": [
    "class LinearNN(nn.Module):\n",
    "    def __init__(self, input_size, hidden_layers=[128,128],\n",
    "                 output_size=2, dropout=0.2):\n",
    "        super(LinearNN, self).__init__()\n",
    "        self.input_size = input_size\n",
    "\n",
    "        nodes = []\n",
    "        nodes.append(input_size)\n",
    "        nodes.extend(hidden_layers)\n",
    "        nodes.append(output_size)\n",
    "\n",
    "        self.module_list = nn.ModuleList()\n",
    "        for nodes_in, nodes_out in zip(nodes[:-1], nodes[1:]):\n",
    "            layer = nn.Linear(nodes_in, nodes_out)\n",
    "            self.module_list.append(layer)\n",
    "\n",
    "        self.activation = nn.ReLU()\n",
    "        self.dropout = nn.Dropout(dropout)\n",
    "\n",
    "    def forward(self, x):\n",
    "        x = x.view(-1, self.input_size)\n",
    "        for layer in self.module_list[:-1]:\n",
    "            x = layer(x)\n",
    "            x = self.activation(x)\n",
    "            x = self.dropout(x)\n",
    "        x = self.module_list[-1](x)\n",
    "\n",
    "        return x"
   ]
  },
  {
   "cell_type": "code",
   "execution_count": 12,
   "metadata": {},
   "outputs": [],
   "source": [
    "def validate(model, dataloader=valid_dataloader):\n",
    "    with torch.no_grad():\n",
    "        model.eval()\n",
    "        valid_loss = 0\n",
    "        y_true = []\n",
    "        y_pred = []\n",
    "        for features, labels in dataloader:\n",
    "            prediction = model(features)\n",
    "            \n",
    "            prediction = prediction.view(-1,2)\n",
    "            labels = labels.view(-1)\n",
    "            valid_loss += criterion(prediction, labels)\n",
    "\n",
    "            prediction = torch.softmax(prediction, dim=1)\n",
    "            _, prediction = prediction.topk(1, dim=1)\n",
    "            prediction = prediction.squeeze()\n",
    "\n",
    "            y_pred.extend(prediction.view(-1))\n",
    "            y_true.extend(labels.view(-1))\n",
    "\n",
    "        # normalize the loss\n",
    "        valid_loss /= len(dataloader)\n",
    "        valid_loss = valid_loss.item()\n",
    "\n",
    "        con_mat = confusion_matrix(y_true, y_pred)\n",
    "        class_report=classification_report(y_true, y_pred, digits=4, target_names=['unsuccessful','successful'],output_dict=False)\n",
    "        \n",
    "        model.train()\n",
    "\n",
    "        return valid_loss, con_mat, class_report\n",
    "    \n"
   ]
  },
  {
   "cell_type": "code",
   "execution_count": 13,
   "metadata": {},
   "outputs": [],
   "source": [
    "def train(model, model_name='classifier',\n",
    "          dataloader=train_dataloader, epochs=200):\n",
    "    train_loss = []\n",
    "    valid_loss = []\n",
    "    min_valid_loss = np.inf\n",
    "    \n",
    "    for epoch in range(1, epochs+1):\n",
    "        epoch_loss = 0\n",
    "        for batch, (features, labels) in enumerate(dataloader):\n",
    "            ## Train the network\n",
    "            optimizer.zero_grad()\n",
    "            prediction = model(features)\n",
    "            prediction = prediction.view(-1,2)\n",
    "            labels = labels.view(-1)\n",
    "            loss = criterion(prediction, labels)\n",
    "            loss.backward()\n",
    "            optimizer.step()\n",
    "            epoch_loss += loss.item()\n",
    "\n",
    "        # Normalize the training loss\n",
    "        epoch_loss /= len(dataloader)\n",
    "        train_loss.append(epoch_loss)\n",
    "        \n",
    "        # LR scheduler step\n",
    "        lr_scheduler.step(train_loss[-1])\n",
    "\n",
    "        # Validate\n",
    "        metrics = validate(model)\n",
    "        valid_loss.append(metrics[0])\n",
    "        print('Epoch {:4d}\\ttrain loss: {:7.4f}\\tvalidation loss: {:7.4f}' \\\n",
    "              .format(epoch, train_loss[-1], valid_loss[-1]))\n",
    "\n",
    "        # Only save the model if valid_loss has decreased\n",
    "        if valid_loss[-1] < min_valid_loss:\n",
    "            min_valid_loss = valid_loss[-1]\n",
    "            torch.save(model.state_dict(), model_name+'.pt')\n",
    "\n",
    "    return train_loss, valid_loss"
   ]
  },
  {
   "cell_type": "code",
   "execution_count": 14,
   "metadata": {},
   "outputs": [],
   "source": [
    "NNclassifier = LinearNN(input_size=18, output_size=2, hidden_layers=[256,256,256])\n",
    "\n",
    "criterion = nn.CrossEntropyLoss(torch.tensor([(float(train_neg) / float(train_pos)), 1])) \n",
    "\n",
    "optimizer = torch.optim.Adam(NNclassifier.parameters(), lr=0.0001, weight_decay=0.0001)\n",
    "\n",
    "lr_scheduler = torch.optim.lr_scheduler.ReduceLROnPlateau(optimizer, factor=.1, patience=15, verbose=True)"
   ]
  },
  {
   "cell_type": "code",
   "execution_count": 15,
   "metadata": {},
   "outputs": [
    {
     "name": "stdout",
     "output_type": "stream",
     "text": [
      "Epoch    1\ttrain loss:  0.5915\tvalidation loss:  0.5649\n",
      "Epoch    2\ttrain loss:  0.5697\tvalidation loss:  0.5550\n",
      "Epoch    3\ttrain loss:  0.5624\tvalidation loss:  0.5503\n",
      "Epoch    4\ttrain loss:  0.5578\tvalidation loss:  0.5476\n",
      "Epoch    5\ttrain loss:  0.5552\tvalidation loss:  0.5500\n",
      "Epoch    6\ttrain loss:  0.5520\tvalidation loss:  0.5443\n",
      "Epoch    7\ttrain loss:  0.5505\tvalidation loss:  0.5443\n",
      "Epoch    8\ttrain loss:  0.5489\tvalidation loss:  0.5465\n",
      "Epoch    9\ttrain loss:  0.5474\tvalidation loss:  0.5422\n",
      "Epoch   10\ttrain loss:  0.5466\tvalidation loss:  0.5401\n",
      "Epoch   11\ttrain loss:  0.5445\tvalidation loss:  0.5398\n",
      "Epoch   12\ttrain loss:  0.5440\tvalidation loss:  0.5371\n",
      "Epoch   13\ttrain loss:  0.5419\tvalidation loss:  0.5392\n",
      "Epoch   14\ttrain loss:  0.5418\tvalidation loss:  0.5363\n",
      "Epoch   15\ttrain loss:  0.5412\tvalidation loss:  0.5361\n",
      "Epoch   16\ttrain loss:  0.5411\tvalidation loss:  0.5362\n",
      "Epoch   17\ttrain loss:  0.5392\tvalidation loss:  0.5363\n",
      "Epoch   18\ttrain loss:  0.5397\tvalidation loss:  0.5357\n",
      "Epoch   19\ttrain loss:  0.5381\tvalidation loss:  0.5351\n",
      "Epoch   20\ttrain loss:  0.5386\tvalidation loss:  0.5344\n",
      "Epoch   21\ttrain loss:  0.5370\tvalidation loss:  0.5333\n",
      "Epoch   22\ttrain loss:  0.5365\tvalidation loss:  0.5320\n",
      "Epoch   23\ttrain loss:  0.5367\tvalidation loss:  0.5340\n",
      "Epoch   24\ttrain loss:  0.5358\tvalidation loss:  0.5339\n",
      "Epoch   25\ttrain loss:  0.5358\tvalidation loss:  0.5322\n",
      "Epoch   26\ttrain loss:  0.5348\tvalidation loss:  0.5341\n",
      "Epoch   27\ttrain loss:  0.5344\tvalidation loss:  0.5312\n",
      "Epoch   28\ttrain loss:  0.5347\tvalidation loss:  0.5321\n",
      "Epoch   29\ttrain loss:  0.5341\tvalidation loss:  0.5320\n",
      "Epoch   30\ttrain loss:  0.5322\tvalidation loss:  0.5316\n",
      "Epoch   31\ttrain loss:  0.5326\tvalidation loss:  0.5355\n",
      "Epoch   32\ttrain loss:  0.5329\tvalidation loss:  0.5313\n",
      "Epoch   33\ttrain loss:  0.5316\tvalidation loss:  0.5304\n",
      "Epoch   34\ttrain loss:  0.5312\tvalidation loss:  0.5314\n",
      "Epoch   35\ttrain loss:  0.5309\tvalidation loss:  0.5302\n",
      "Epoch   36\ttrain loss:  0.5309\tvalidation loss:  0.5317\n",
      "Epoch   37\ttrain loss:  0.5308\tvalidation loss:  0.5301\n",
      "Epoch   38\ttrain loss:  0.5305\tvalidation loss:  0.5341\n",
      "Epoch   39\ttrain loss:  0.5297\tvalidation loss:  0.5315\n",
      "Epoch   40\ttrain loss:  0.5296\tvalidation loss:  0.5296\n",
      "Epoch   41\ttrain loss:  0.5291\tvalidation loss:  0.5297\n",
      "Epoch   42\ttrain loss:  0.5289\tvalidation loss:  0.5328\n",
      "Epoch   43\ttrain loss:  0.5284\tvalidation loss:  0.5290\n",
      "Epoch   44\ttrain loss:  0.5286\tvalidation loss:  0.5303\n",
      "Epoch   45\ttrain loss:  0.5285\tvalidation loss:  0.5291\n",
      "Epoch   46\ttrain loss:  0.5284\tvalidation loss:  0.5312\n",
      "Epoch   47\ttrain loss:  0.5279\tvalidation loss:  0.5301\n",
      "Epoch   48\ttrain loss:  0.5267\tvalidation loss:  0.5295\n",
      "Epoch   49\ttrain loss:  0.5268\tvalidation loss:  0.5296\n",
      "Epoch   50\ttrain loss:  0.5274\tvalidation loss:  0.5291\n",
      "Epoch   51\ttrain loss:  0.5267\tvalidation loss:  0.5283\n",
      "Epoch   52\ttrain loss:  0.5265\tvalidation loss:  0.5291\n",
      "Epoch   53\ttrain loss:  0.5262\tvalidation loss:  0.5293\n",
      "Epoch   54\ttrain loss:  0.5266\tvalidation loss:  0.5283\n",
      "Epoch   55\ttrain loss:  0.5262\tvalidation loss:  0.5296\n",
      "Epoch   56\ttrain loss:  0.5238\tvalidation loss:  0.5289\n",
      "Epoch   57\ttrain loss:  0.5252\tvalidation loss:  0.5303\n",
      "Epoch   58\ttrain loss:  0.5246\tvalidation loss:  0.5297\n",
      "Epoch   59\ttrain loss:  0.5255\tvalidation loss:  0.5287\n",
      "Epoch   60\ttrain loss:  0.5239\tvalidation loss:  0.5292\n",
      "CPU times: user 27min 1s, sys: 2.12 s, total: 27min 4s\n",
      "Wall time: 6min 57s\n"
     ]
    }
   ],
   "source": [
    "%%time \n",
    "#100 takes 12min 8s\n",
    "#200 takes 27min 9s\n",
    "\n",
    "linear_loss = train(NNclassifier, model_name='NN_classifier', epochs=60)"
   ]
  },
  {
   "cell_type": "code",
   "execution_count": 16,
   "metadata": {},
   "outputs": [],
   "source": [
    "#evaluation metrics\n",
    "loss, con_mat, class_report=  validate(NNclassifier, test_dataloader)"
   ]
  },
  {
   "cell_type": "code",
   "execution_count": 17,
   "metadata": {
    "scrolled": true
   },
   "outputs": [
    {
     "name": "stdout",
     "output_type": "stream",
     "text": [
      "              precision    recall  f1-score   support\n",
      "\n",
      "unsuccessful     0.7085    0.8474    0.7718      5676\n",
      "  successful     0.7283    0.5398    0.6200      4300\n",
      "\n",
      "    accuracy                         0.7148      9976\n",
      "   macro avg     0.7184    0.6936    0.6959      9976\n",
      "weighted avg     0.7170    0.7148    0.7064      9976\n",
      "\n"
     ]
    }
   ],
   "source": [
    "print(class_report)"
   ]
  },
  {
   "cell_type": "code",
   "execution_count": 18,
   "metadata": {},
   "outputs": [
    {
     "data": {
      "text/plain": [
       "<AxesSubplot:>"
      ]
     },
     "execution_count": 18,
     "metadata": {},
     "output_type": "execute_result"
    },
    {
     "data": {
      "image/png": "[encoded data removed]",
      "text/plain": [
       "<Figure size 360x288 with 2 Axes>"
      ]
     },
     "metadata": {
      "needs_background": "light"
     },
     "output_type": "display_data"
    }
   ],
   "source": [
    "plt.figure(figsize = (5,4))\n",
    "sn.heatmap(con_mat, annot=True,cmap='YlOrBr',fmt='g')"
   ]
  },
  {
   "cell_type": "markdown",
   "metadata": {},
   "source": [
    "<font size=4>Refinement and Optimising for Recall<font/>"
   ]
  },
  {
   "cell_type": "code",
   "execution_count": 19,
   "metadata": {},
   "outputs": [],
   "source": [
    "NNclassifier = LinearNN(input_size=18, output_size=2, hidden_layers=[256,256,256])\n",
    "\n",
    "criterion = nn.CrossEntropyLoss(torch.tensor([(float(train_neg) / float(1.35*train_pos)), 1])) \n",
    "\n",
    "optimizer = torch.optim.Adam(NNclassifier.parameters(), lr=0.0001, weight_decay=0.0001)\n",
    "\n",
    "lr_scheduler = torch.optim.lr_scheduler.ReduceLROnPlateau(optimizer, factor=.1, patience=15, verbose=True)"
   ]
  },
  {
   "cell_type": "code",
   "execution_count": 20,
   "metadata": {},
   "outputs": [
    {
     "name": "stdout",
     "output_type": "stream",
     "text": [
      "Epoch    1\ttrain loss:  0.6155\tvalidation loss:  0.5880\n",
      "Epoch    2\ttrain loss:  0.5935\tvalidation loss:  0.5798\n",
      "Epoch    3\ttrain loss:  0.5867\tvalidation loss:  0.5758\n",
      "Epoch    4\ttrain loss:  0.5835\tvalidation loss:  0.5720\n",
      "Epoch    5\ttrain loss:  0.5792\tvalidation loss:  0.5677\n",
      "Epoch    6\ttrain loss:  0.5759\tvalidation loss:  0.5665\n",
      "Epoch    7\ttrain loss:  0.5748\tvalidation loss:  0.5692\n",
      "Epoch    8\ttrain loss:  0.5726\tvalidation loss:  0.5653\n",
      "Epoch    9\ttrain loss:  0.5701\tvalidation loss:  0.5644\n",
      "Epoch   10\ttrain loss:  0.5699\tvalidation loss:  0.5624\n",
      "Epoch   11\ttrain loss:  0.5678\tvalidation loss:  0.5629\n",
      "Epoch   12\ttrain loss:  0.5661\tvalidation loss:  0.5604\n",
      "Epoch   13\ttrain loss:  0.5660\tvalidation loss:  0.5608\n",
      "Epoch   14\ttrain loss:  0.5652\tvalidation loss:  0.5598\n",
      "Epoch   15\ttrain loss:  0.5642\tvalidation loss:  0.5589\n",
      "Epoch   16\ttrain loss:  0.5635\tvalidation loss:  0.5603\n",
      "Epoch   17\ttrain loss:  0.5626\tvalidation loss:  0.5585\n",
      "Epoch   18\ttrain loss:  0.5623\tvalidation loss:  0.5592\n",
      "Epoch   19\ttrain loss:  0.5611\tvalidation loss:  0.5600\n",
      "Epoch   20\ttrain loss:  0.5609\tvalidation loss:  0.5586\n",
      "Epoch   21\ttrain loss:  0.5605\tvalidation loss:  0.5587\n",
      "Epoch   22\ttrain loss:  0.5587\tvalidation loss:  0.5570\n",
      "Epoch   23\ttrain loss:  0.5582\tvalidation loss:  0.5573\n",
      "Epoch   24\ttrain loss:  0.5581\tvalidation loss:  0.5577\n",
      "Epoch   25\ttrain loss:  0.5580\tvalidation loss:  0.5559\n",
      "Epoch   26\ttrain loss:  0.5575\tvalidation loss:  0.5566\n",
      "Epoch   27\ttrain loss:  0.5561\tvalidation loss:  0.5554\n",
      "Epoch   28\ttrain loss:  0.5569\tvalidation loss:  0.5545\n",
      "Epoch   29\ttrain loss:  0.5555\tvalidation loss:  0.5540\n",
      "Epoch   30\ttrain loss:  0.5555\tvalidation loss:  0.5543\n",
      "Epoch   31\ttrain loss:  0.5548\tvalidation loss:  0.5543\n",
      "Epoch   32\ttrain loss:  0.5546\tvalidation loss:  0.5535\n",
      "Epoch   33\ttrain loss:  0.5540\tvalidation loss:  0.5535\n",
      "Epoch   34\ttrain loss:  0.5539\tvalidation loss:  0.5532\n",
      "Epoch   35\ttrain loss:  0.5532\tvalidation loss:  0.5570\n",
      "Epoch   36\ttrain loss:  0.5528\tvalidation loss:  0.5534\n",
      "Epoch   37\ttrain loss:  0.5527\tvalidation loss:  0.5534\n",
      "Epoch   38\ttrain loss:  0.5523\tvalidation loss:  0.5525\n",
      "Epoch   39\ttrain loss:  0.5513\tvalidation loss:  0.5528\n",
      "Epoch   40\ttrain loss:  0.5507\tvalidation loss:  0.5522\n",
      "Epoch   41\ttrain loss:  0.5509\tvalidation loss:  0.5532\n",
      "Epoch   42\ttrain loss:  0.5506\tvalidation loss:  0.5530\n",
      "Epoch   43\ttrain loss:  0.5503\tvalidation loss:  0.5532\n",
      "Epoch   44\ttrain loss:  0.5502\tvalidation loss:  0.5534\n",
      "Epoch   45\ttrain loss:  0.5498\tvalidation loss:  0.5535\n",
      "Epoch   46\ttrain loss:  0.5490\tvalidation loss:  0.5525\n",
      "Epoch   47\ttrain loss:  0.5490\tvalidation loss:  0.5526\n",
      "Epoch   48\ttrain loss:  0.5495\tvalidation loss:  0.5526\n",
      "Epoch   49\ttrain loss:  0.5487\tvalidation loss:  0.5528\n",
      "Epoch   50\ttrain loss:  0.5478\tvalidation loss:  0.5533\n",
      "Epoch   51\ttrain loss:  0.5481\tvalidation loss:  0.5520\n",
      "Epoch   52\ttrain loss:  0.5476\tvalidation loss:  0.5516\n",
      "Epoch   53\ttrain loss:  0.5475\tvalidation loss:  0.5526\n",
      "Epoch   54\ttrain loss:  0.5467\tvalidation loss:  0.5517\n",
      "Epoch   55\ttrain loss:  0.5462\tvalidation loss:  0.5531\n",
      "Epoch   56\ttrain loss:  0.5470\tvalidation loss:  0.5523\n",
      "Epoch   57\ttrain loss:  0.5460\tvalidation loss:  0.5523\n",
      "Epoch   58\ttrain loss:  0.5460\tvalidation loss:  0.5508\n",
      "Epoch   59\ttrain loss:  0.5451\tvalidation loss:  0.5508\n",
      "Epoch   60\ttrain loss:  0.5451\tvalidation loss:  0.5509\n",
      "CPU times: user 31min 2s, sys: 2.46 s, total: 31min 4s\n",
      "Wall time: 7min 59s\n"
     ]
    }
   ],
   "source": [
    "%%time \n",
    "#200 takes 16min 35s\n",
    "\n",
    "linear_loss = train(NNclassifier, model_name='NNclassifier', epochs=60)"
   ]
  },
  {
   "cell_type": "code",
   "execution_count": 21,
   "metadata": {},
   "outputs": [],
   "source": [
    "#evaluation metrics\n",
    "loss, con_mat, class_report=  validate(NNclassifier, test_dataloader)"
   ]
  },
  {
   "cell_type": "code",
   "execution_count": 22,
   "metadata": {
    "scrolled": true
   },
   "outputs": [
    {
     "name": "stdout",
     "output_type": "stream",
     "text": [
      "              precision    recall  f1-score   support\n",
      "\n",
      "unsuccessful     0.7390    0.7881    0.7627      5676\n",
      "  successful     0.6933    0.6326    0.6616      4300\n",
      "\n",
      "    accuracy                         0.7210      9976\n",
      "   macro avg     0.7162    0.7103    0.7121      9976\n",
      "weighted avg     0.7193    0.7210    0.7191      9976\n",
      "\n"
     ]
    }
   ],
   "source": [
    "print(class_report)"
   ]
  },
  {
   "cell_type": "code",
   "execution_count": 23,
   "metadata": {
    "scrolled": true
   },
   "outputs": [
    {
     "data": {
      "text/plain": [
       "<AxesSubplot:>"
      ]
     },
     "execution_count": 23,
     "metadata": {},
     "output_type": "execute_result"
    },
    {
     "data": {
      "image/png": "[encoded data removed]",
      "text/plain": [
       "<Figure size 360x288 with 2 Axes>"
      ]
     },
     "metadata": {
      "needs_background": "light"
     },
     "output_type": "display_data"
    }
   ],
   "source": [
    "plt.figure(figsize = (5,4))\n",
    "sn.heatmap(con_mat, annot=True,cmap='YlOrBr',fmt='g')"
   ]
  },
  {
   "cell_type": "code",
   "execution_count": null,
   "metadata": {},
   "outputs": [],
   "source": [
    "# Benchmark \n",
    "#Best parameters for recall found on training set are:\n",
    "#{'max_depth': 20, 'min_samples_leaf': 1, 'min_samples_split': 2, 'n_estimators': 300}\n",
    "#\n",
    "#precision    recall  f1-score   support\n",
    "\n",
    "#unsuccessful     0.7303    0.7918    0.7598      5677\n",
    "#  successful     0.6907    0.6139    0.6500      4299\n",
    "\n",
    "#    accuracy                         0.7151      9976\n",
    "#   macro avg     0.7105    0.7028    0.7049      9976\n",
    "#weighted avg     0.7132    0.7151    0.7125      9976"
   ]
  }
 ],
 "metadata": {
  "kernelspec": {
   "display_name": "Python 3",
   "language": "python",
   "name": "python3"
  },
  "language_info": {
   "codemirror_mode": {
    "name": "ipython",
    "version": 3
   },
   "file_extension": ".py",
   "mimetype": "text/x-python",
   "name": "python",
   "nbconvert_exporter": "python",
   "pygments_lexer": "ipython3",
   "version": "3.8.5"
  }
 },
 "nbformat": 4,
 "nbformat_minor": 4
}
