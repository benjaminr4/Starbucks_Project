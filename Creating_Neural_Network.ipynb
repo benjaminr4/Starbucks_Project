{
 "cells": [
  {
   "cell_type": "code",
   "execution_count": 1,
   "metadata": {},
   "outputs": [],
   "source": [
    "import pandas as pd\n",
    "import numpy as np\n",
    "#import math\n",
    "import seaborn as sn\n",
    "import matplotlib.pyplot as plt\n",
    "import torch\n",
    "from torch.utils.data import DataLoader, TensorDataset\n",
    "from sklearn.preprocessing import quantile_transform\n",
    "\n"
   ]
  },
  {
   "cell_type": "code",
   "execution_count": 2,
   "metadata": {},
   "outputs": [],
   "source": [
    "from sklearn.metrics import accuracy_score, precision_score, recall_score, f1_score, roc_curve, auc, roc_auc_score, classification_report, confusion_matrix"
   ]
  },
  {
   "cell_type": "code",
   "execution_count": 3,
   "metadata": {},
   "outputs": [],
   "source": [
    "offers_classed=pd.read_pickle(\"final_table_nf.pkl\")"
   ]
  },
  {
   "cell_type": "code",
   "execution_count": 4,
   "metadata": {},
   "outputs": [
    {
     "name": "stdout",
     "output_type": "stream",
     "text": [
      "66501\n"
     ]
    }
   ],
   "source": [
    "labels=offers_classed['successful_offer'].values\n",
    "print(len(labels))"
   ]
  },
  {
   "cell_type": "code",
   "execution_count": 5,
   "metadata": {},
   "outputs": [
    {
     "name": "stdout",
     "output_type": "stream",
     "text": [
      "66501\n"
     ]
    }
   ],
   "source": [
    "features = offers_classed.filter(['reward', 'difficulty', 'duration','mobile', 'social', 'web', 'bogo', 'discount',\n",
    "                 'informational', 'age', 'became_member_on', 'income', 'female', 'male', 'other','total_spend','transaction','viewed'])\n",
    "print(len(features))"
   ]
  },
  {
   "cell_type": "code",
   "execution_count": null,
   "metadata": {},
   "outputs": [],
   "source": []
  },
  {
   "cell_type": "code",
   "execution_count": 6,
   "metadata": {},
   "outputs": [],
   "source": [
    "def quantileScale (df,col):\n",
    "    col=df.filter(col)\n",
    "    col_scaled=quantile_transform(col, copy=False)\n",
    "    col=pd.DataFrame(col_scaled, columns=col.columns, index=col.index)\n",
    "    df.update(col)\n",
    "    return (df)"
   ]
  },
  {
   "cell_type": "code",
   "execution_count": 7,
   "metadata": {
    "scrolled": false
   },
   "outputs": [
    {
     "data": {
      "text/plain": [
       "Index(['reward', 'difficulty', 'duration', 'mobile', 'social', 'web', 'bogo',\n",
       "       'discount', 'informational', 'age', 'became_member_on', 'income',\n",
       "       'female', 'male', 'other', 'total_spend', 'transaction', 'viewed'],\n",
       "      dtype='object')"
      ]
     },
     "execution_count": 7,
     "metadata": {},
     "output_type": "execute_result"
    }
   ],
   "source": [
    "features.columns"
   ]
  },
  {
   "cell_type": "code",
   "execution_count": 8,
   "metadata": {},
   "outputs": [],
   "source": [
    "features=quantileScale(features,['reward', 'difficulty', 'duration', 'mobile', 'social', 'web', 'bogo',\n",
    "       'discount', 'informational', 'age', 'became_member_on', 'income',\n",
    "       'female', 'male', 'other'])\n",
    "\n",
    "features=features.values\n"
   ]
  },
  {
   "cell_type": "code",
   "execution_count": null,
   "metadata": {},
   "outputs": [],
   "source": []
  },
  {
   "cell_type": "code",
   "execution_count": 9,
   "metadata": {},
   "outputs": [],
   "source": [
    "#Convert features and labels to tensors\n",
    "features = torch.as_tensor(features, dtype=torch.float)\n",
    "labels = torch.as_tensor(labels, dtype=torch.long)"
   ]
  },
  {
   "cell_type": "code",
   "execution_count": null,
   "metadata": {},
   "outputs": [],
   "source": []
  },
  {
   "cell_type": "code",
   "execution_count": 30,
   "metadata": {},
   "outputs": [],
   "source": [
    "## Split data into three random datasets \n",
    "\n",
    "# Generate randomic indices\n",
    "len_dataset = len(features)\n",
    "random_idx = np.random.choice(len_dataset, len_dataset, replace=False)\n",
    "\n",
    "# Use the proportions: train: 70%, valid: 15%, test: 15%\n",
    "train_idx = random_idx[:int(len_dataset*0.70)]\n",
    "valid_idx = random_idx[-int(len_dataset*0.15):]\n",
    "test_idx = random_idx[int(len_dataset*0.70):-int(len_dataset*0.15)]\n",
    "\n",
    "# Create datasets\n",
    "train_dataset = TensorDataset(features[train_idx], labels[train_idx])\n",
    "valid_dataset = TensorDataset(features[valid_idx], labels[valid_idx])\n",
    "test_dataset = TensorDataset(features[test_idx], labels[test_idx])\n",
    "\n",
    "# Create dataloaders\n",
    "train_dataloader = DataLoader(train_dataset, batch_size=32, shuffle=True)\n",
    "valid_dataloader = DataLoader(valid_dataset, batch_size=32, shuffle=True)\n",
    "test_dataloader = DataLoader(test_dataset, batch_size=32, shuffle=False)"
   ]
  },
  {
   "cell_type": "code",
   "execution_count": null,
   "metadata": {},
   "outputs": [],
   "source": []
  },
  {
   "cell_type": "code",
   "execution_count": 31,
   "metadata": {},
   "outputs": [],
   "source": [
    "#temp=[]\n",
    "\n",
    "#for features, labels in test_dataloader:\n",
    "#    print(features)\n",
    "#    llist.append(features)"
   ]
  },
  {
   "cell_type": "markdown",
   "metadata": {},
   "source": [
    "Making sure the split has maintained balanced classes"
   ]
  },
  {
   "cell_type": "code",
   "execution_count": 32,
   "metadata": {},
   "outputs": [
    {
     "name": "stdout",
     "output_type": "stream",
     "text": [
      "Training data has 26644 unsuccessful events and 19906 successful events \n",
      "The ratio between classes is:\t 0.57 : 0.43\n",
      "\n",
      "Training data has 5677 unsuccessful events and 4298 successful events \n",
      "The ratio between classes is:\t 0.57 : 0.43\n",
      "\n",
      "Training data has 5742 unsuccessful events and 4234 successful events \n",
      "The ratio between classes is:\t 0.58 : 0.42\n",
      "\n"
     ]
    }
   ],
   "source": [
    "#Counting the training labels\n",
    "train_neg = (labels[train_idx] == 0).sum()\n",
    "train_pos = (labels[train_idx] == 1).sum()\n",
    "train_total=len(train_idx)\n",
    "print('Training data has {} unsuccessful events and {} successful events \\nThe ratio between classes is:\\t {:0.2f} : {:0.2f}\\n'.format(train_neg, train_pos, train_neg/train_total, train_pos/train_total))\n",
    "\n",
    "#Counting the validating labels\n",
    "valid_neg = (labels[valid_idx] == 0).sum()\n",
    "valid_pos = (labels[valid_idx] == 1).sum()\n",
    "valid_total =len(valid_idx)\n",
    "print('Training data has {} unsuccessful events and {} successful events \\nThe ratio between classes is:\\t {:0.2f} : {:0.2f}\\n'.format(valid_neg, valid_pos, valid_neg/valid_total, valid_pos/valid_total))\n",
    "\n",
    "#Counting the testing labels\n",
    "test_neg = (labels[test_idx] == 0).sum()\n",
    "test_pos = (labels[test_idx] == 1).sum()\n",
    "test_total =len(test_idx)\n",
    "print('Training data has {} unsuccessful events and {} successful events \\nThe ratio between classes is:\\t {:0.2f} : {:0.2f}\\n'.format(test_neg, test_pos, test_neg/test_total, test_pos/test_total))\n"
   ]
  },
  {
   "cell_type": "code",
   "execution_count": null,
   "metadata": {},
   "outputs": [],
   "source": []
  },
  {
   "cell_type": "code",
   "execution_count": 33,
   "metadata": {},
   "outputs": [],
   "source": [
    "#import torch\n",
    "import torch.nn as nn\n",
    "\n",
    "\n",
    "class LinearNN(nn.Module):\n",
    "    def __init__(self, input_size, hidden_layers=[128,128],\n",
    "                 output_size=2, dropout=0.2):\n",
    "        super(LinearNN, self).__init__()\n",
    "        self.input_size = input_size\n",
    "\n",
    "        nodes = []\n",
    "        nodes.append(input_size)\n",
    "        nodes.extend(hidden_layers)\n",
    "        nodes.append(output_size)\n",
    "\n",
    "        self.module_list = nn.ModuleList()\n",
    "        for nodes_in, nodes_out in zip(nodes[:-1], nodes[1:]):\n",
    "            layer = nn.Linear(nodes_in, nodes_out)\n",
    "            self.module_list.append(layer)\n",
    "\n",
    "        self.activation = nn.ReLU()\n",
    "        self.dropout = nn.Dropout(dropout)\n",
    "\n",
    "    def forward(self, x):\n",
    "        x = x.view(-1, self.input_size)\n",
    "        for layer in self.module_list[:-1]:\n",
    "            x = layer(x)\n",
    "            x = self.activation(x)\n",
    "            x = self.dropout(x)\n",
    "        x = self.module_list[-1](x)\n",
    "\n",
    "        return x"
   ]
  },
  {
   "cell_type": "code",
   "execution_count": 34,
   "metadata": {},
   "outputs": [],
   "source": [
    "def validate(model, dataloader=valid_dataloader):\n",
    "    with torch.no_grad():\n",
    "        model.eval()\n",
    "        valid_loss = 0\n",
    "        y_true = []\n",
    "        y_pred = []\n",
    "        for features, labels in dataloader:\n",
    "            prediction = model(features)\n",
    "            \n",
    "            prediction = prediction.view(-1,2)\n",
    "            labels = labels.view(-1)\n",
    "            valid_loss += criterion(prediction, labels)\n",
    "\n",
    "            prediction = torch.softmax(prediction, dim=1)\n",
    "            _, prediction = prediction.topk(1, dim=1)\n",
    "            prediction = prediction.squeeze()\n",
    "\n",
    "            y_pred.extend(prediction.view(-1))\n",
    "            y_true.extend(labels.view(-1))\n",
    "\n",
    "        # normalize the loss\n",
    "        valid_loss /= len(dataloader)\n",
    "        valid_loss = valid_loss.item()\n",
    "\n",
    "        # Calculate the metrics\n",
    "\n",
    "#        recall = recall_score(y_true, y_pred, pos_label=1, average='binary')\n",
    "#        recall0 = recall_score(y_true, y_pred, pos_label=0, average='binary')\n",
    "\n",
    "#        fpr, tpr, thresholds_keras = roc_curve(y_true, y_pred)\n",
    "#        auc_ = auc(fpr, tpr)\n",
    "\n",
    "        con_mat = confusion_matrix(y_true, y_pred)\n",
    "        class_report=classification_report(y_true, y_pred, digits=4, target_names=['unsuccessful','successful'],output_dict=False)\n",
    "        roc_auc=roc_auc_score(y_true, y_pred)\n",
    "        \n",
    "        \n",
    "\n",
    "        model.train()\n",
    "\n",
    "        return valid_loss, con_mat, class_report, roc_auc\n",
    "    \n",
    "  \n",
    "  #  print(\"auc_keras:\" + str(auc_))"
   ]
  },
  {
   "cell_type": "code",
   "execution_count": 35,
   "metadata": {},
   "outputs": [],
   "source": [
    "def train(model, model_name='classifier',\n",
    "          dataloader=train_dataloader, epochs=5000):\n",
    "    train_loss = []\n",
    "    valid_loss = []\n",
    "    min_valid_loss = np.inf\n",
    "    ## Perform N epochs of training\n",
    "    for epoch in range(1, epochs+1):\n",
    "        epoch_loss = 0\n",
    "        for batch, (features, labels) in enumerate(dataloader):\n",
    "            ## Train the network\n",
    "            optimizer.zero_grad()\n",
    "            prediction = model(features)\n",
    "            prediction = prediction.view(-1,2)\n",
    "            labels = labels.view(-1)\n",
    "            loss = criterion(prediction, labels)\n",
    "            loss.backward()\n",
    "            optimizer.step()\n",
    "            epoch_loss += loss.item()\n",
    "\n",
    "        # Normalize the training loss\n",
    "        epoch_loss /= len(dataloader)\n",
    "        train_loss.append(epoch_loss)\n",
    "        \n",
    "        # LR scheduler step\n",
    "        lr_scheduler.step(train_loss[-1])\n",
    "\n",
    "        # Validate\n",
    "        metrics = validate(model)\n",
    "        valid_loss.append(metrics[0])\n",
    "        print('Epoch {:4d}\\ttrain loss: {:7.4f}\\tvalidation loss: {:7.4f}' \\\n",
    "              .format(epoch, train_loss[-1], valid_loss[-1]))\n",
    "\n",
    "        # Save the model if valid_loss has decreased\n",
    "        if valid_loss[-1] < min_valid_loss:\n",
    "            min_valid_loss = valid_loss[-1]\n",
    "            torch.save(model.state_dict(), model_name+'.pt')\n",
    "\n",
    "    return train_loss, valid_loss"
   ]
  },
  {
   "cell_type": "code",
   "execution_count": 36,
   "metadata": {},
   "outputs": [],
   "source": [
    "linear_classifier = LinearNN(input_size=18, output_size=2, hidden_layers=[128,128,128])\n",
    "\n",
    "criterion = nn.CrossEntropyLoss(torch.tensor([(float(train_neg) / float(train_pos)), 1])) #change this 2nd variable to change precision/recall threshold\n",
    "\n",
    "optimizer = torch.optim.Adam(linear_classifier.parameters(), lr=0.0001, weight_decay=0.0001)\n",
    "\n",
    "lr_scheduler = torch.optim.lr_scheduler.ReduceLROnPlateau(optimizer, factor=.2, patience=15, verbose=True)"
   ]
  },
  {
   "cell_type": "code",
   "execution_count": 38,
   "metadata": {},
   "outputs": [
    {
     "name": "stdout",
     "output_type": "stream",
     "text": [
      "Epoch    1\ttrain loss:  0.6619\tvalidation loss:  0.6144\n",
      "Epoch    2\ttrain loss:  0.6114\tvalidation loss:  0.5988\n",
      "Epoch    3\ttrain loss:  0.5994\tvalidation loss:  0.5929\n",
      "Epoch    4\ttrain loss:  0.5915\tvalidation loss:  0.5893\n",
      "Epoch    5\ttrain loss:  0.5876\tvalidation loss:  0.5808\n",
      "Epoch    6\ttrain loss:  0.5835\tvalidation loss:  0.5798\n",
      "Epoch    7\ttrain loss:  0.5819\tvalidation loss:  0.5750\n",
      "Epoch    8\ttrain loss:  0.5795\tvalidation loss:  0.5765\n",
      "Epoch    9\ttrain loss:  0.5768\tvalidation loss:  0.5743\n",
      "Epoch   10\ttrain loss:  0.5745\tvalidation loss:  0.5707\n",
      "CPU times: user 4min 54s, sys: 1.22 s, total: 4min 55s\n",
      "Wall time: 2min 36s\n"
     ]
    }
   ],
   "source": [
    "%%time \n",
    "#200 takes 16min 35s\n",
    "\n",
    "linear_loss = train(linear_classifier,\n",
    "                    model_name='linear_classifier',\n",
    "                    epochs=10)"
   ]
  },
  {
   "cell_type": "code",
   "execution_count": 39,
   "metadata": {},
   "outputs": [],
   "source": [
    "#evaluate\n",
    "loss, con_mat, class_report, roc_auc=  validate(linear_classifier, test_dataloader)"
   ]
  },
  {
   "cell_type": "code",
   "execution_count": 40,
   "metadata": {
    "scrolled": true
   },
   "outputs": [
    {
     "name": "stdout",
     "output_type": "stream",
     "text": [
      "              precision    recall  f1-score   support\n",
      "\n",
      "unsuccessful     0.7038    0.7407    0.7218      5742\n",
      "  successful     0.6214    0.5772    0.5985      4234\n",
      "\n",
      "    accuracy                         0.6713      9976\n",
      "   macro avg     0.6626    0.6590    0.6601      9976\n",
      "weighted avg     0.6688    0.6713    0.6695      9976\n",
      "\n"
     ]
    }
   ],
   "source": [
    "print(class_report)"
   ]
  },
  {
   "cell_type": "code",
   "execution_count": null,
   "metadata": {},
   "outputs": [],
   "source": [
    "200 epochs of neural network\n",
    "\n",
    "precision    recall  f1-score   support\n",
    "\n",
    "unsuccessful     0.6988    0.8450    0.7650      5698\n",
    "  successful     0.7138    0.5148    0.5982      4277\n",
    "\n",
    "    accuracy                         0.7035      9975\n",
    "   macro avg     0.7063    0.6799    0.6816      9975\n",
    "weighted avg     0.7052    0.7035    0.6935      9975\n"
   ]
  },
  {
   "cell_type": "code",
   "execution_count": null,
   "metadata": {},
   "outputs": [],
   "source": [
    "{'max_depth': 20, 'max_features': 'auto', 'min_samples_leaf': 2, 'n_estimators': 100}\n",
    "\n",
    "Classification report when hyper-params are optimised for :f1\n",
    "              precision    recall  f1-score   support\n",
    "\n",
    "unsuccessful     0.7212    0.7830    0.7508      5677\n",
    "  successful     0.6769    0.6004    0.6363      4299\n",
    "\n",
    "    accuracy                         0.7043      9976\n",
    "   macro avg     0.6991    0.6917    0.6936      9976\n",
    "weighted avg     0.7021    0.7043    0.7015      9976"
   ]
  },
  {
   "cell_type": "code",
   "execution_count": 29,
   "metadata": {},
   "outputs": [
    {
     "data": {
      "text/plain": [
       "<AxesSubplot:>"
      ]
     },
     "execution_count": 29,
     "metadata": {},
     "output_type": "execute_result"
    },
    {
     "data": {
      "image/png": "[encoded data removed]",
      "text/plain": [
       "<Figure size 360x288 with 2 Axes>"
      ]
     },
     "metadata": {
      "needs_background": "light"
     },
     "output_type": "display_data"
    }
   ],
   "source": [
    "plt.figure(figsize = (5,4))\n",
    "sn.heatmap(con_mat, annot=True,cmap='YlOrBr',fmt='g')"
   ]
  },
  {
   "cell_type": "code",
   "execution_count": 37,
   "metadata": {},
   "outputs": [
    {
     "data": {
      "text/plain": [
       "<AxesSubplot:>"
      ]
     },
     "execution_count": 37,
     "metadata": {},
     "output_type": "execute_result"
    },
    {
     "data": {
      "image/png": "[encoded data removed]",
      "text/plain": [
       "<Figure size 360x288 with 2 Axes>"
      ]
     },
     "metadata": {
      "needs_background": "light"
     },
     "output_type": "display_data"
    }
   ],
   "source": [
    "#200 epochs\n",
    "\n",
    "plt.figure(figsize = (5,4))\n",
    "sn.heatmap(con_mat, annot=True,cmap='YlOrBr',fmt='g')"
   ]
  },
  {
   "cell_type": "code",
   "execution_count": null,
   "metadata": {},
   "outputs": [],
   "source": []
  }
 ],
 "metadata": {
  "kernelspec": {
   "display_name": "Python 3",
   "language": "python",
   "name": "python3"
  },
  "language_info": {
   "codemirror_mode": {
    "name": "ipython",
    "version": 3
   },
   "file_extension": ".py",
   "mimetype": "text/x-python",
   "name": "python",
   "nbconvert_exporter": "python",
   "pygments_lexer": "ipython3",
   "version": "3.8.5"
  }
 },
 "nbformat": 4,
 "nbformat_minor": 4
}
