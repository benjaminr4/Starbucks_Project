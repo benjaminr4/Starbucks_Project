{
 "cells": [
  {
   "cell_type": "markdown",
   "metadata": {},
   "source": [
    "# Data Sets\n",
    "\n",
    "The data is contained in three files:\n",
    "\n",
    "* portfolio.json - containing offer ids and meta data about each offer (duration, type, etc.)\n",
    "* profile.json - demographic data for each customer\n",
    "* transcript.json - records for transactions, offers received, offers viewed, and offers completed\n",
    "\n",
    "Here is the schema and explanation of each variable in the files:\n",
    "\n",
    "\n",
    "\n",
    "**profile.json**\n",
    "* age (int) - age of the customer \n",
    "* became_member_on (int) - date when customer created an app account\n",
    "* gender (str) - gender of the customer (note some entries contain 'O' for other rather than M or F)\n",
    "* id (str) - customer id\n",
    "* income (float) - customer's income\n",
    "\n"
   ]
  },
  {
   "cell_type": "code",
   "execution_count": 1,
   "metadata": {},
   "outputs": [],
   "source": [
    "import pandas as pd\n",
    "import numpy as np\n",
    "import math\n",
    "import json\n",
    "import matplotlib.pyplot as plt\n",
    "#from matplotlib import pyplot as plt\n",
    "from scipy import stats\n",
    "%matplotlib inline"
   ]
  },
  {
   "cell_type": "code",
   "execution_count": 2,
   "metadata": {},
   "outputs": [],
   "source": [
    "# read in the json files\n",
    "portfolio = pd.read_json('data/portfolio.json', orient='records', lines=True)\n",
    "profile = pd.read_json('data/profile.json', orient='records', lines=True)\n",
    "transcript = pd.read_json('data/transcript.json', orient='records', lines=True)"
   ]
  },
  {
   "cell_type": "code",
   "execution_count": 3,
   "metadata": {},
   "outputs": [
    {
     "data": {
      "text/html": [
       "<div>\n",
       "<style scoped>\n",
       "    .dataframe tbody tr th:only-of-type {\n",
       "        vertical-align: middle;\n",
       "    }\n",
       "\n",
       "    .dataframe tbody tr th {\n",
       "        vertical-align: top;\n",
       "    }\n",
       "\n",
       "    .dataframe thead th {\n",
       "        text-align: right;\n",
       "    }\n",
       "</style>\n",
       "<table border=\"1\" class=\"dataframe\">\n",
       "  <thead>\n",
       "    <tr style=\"text-align: right;\">\n",
       "      <th></th>\n",
       "      <th>reward</th>\n",
       "      <th>channels</th>\n",
       "      <th>difficulty</th>\n",
       "      <th>duration</th>\n",
       "      <th>offer_type</th>\n",
       "      <th>id</th>\n",
       "    </tr>\n",
       "  </thead>\n",
       "  <tbody>\n",
       "    <tr>\n",
       "      <th>0</th>\n",
       "      <td>10</td>\n",
       "      <td>[email, mobile, social]</td>\n",
       "      <td>10</td>\n",
       "      <td>7</td>\n",
       "      <td>bogo</td>\n",
       "      <td>ae264e3637204a6fb9bb56bc8210ddfd</td>\n",
       "    </tr>\n",
       "    <tr>\n",
       "      <th>1</th>\n",
       "      <td>10</td>\n",
       "      <td>[web, email, mobile, social]</td>\n",
       "      <td>10</td>\n",
       "      <td>5</td>\n",
       "      <td>bogo</td>\n",
       "      <td>4d5c57ea9a6940dd891ad53e9dbe8da0</td>\n",
       "    </tr>\n",
       "    <tr>\n",
       "      <th>2</th>\n",
       "      <td>0</td>\n",
       "      <td>[web, email, mobile]</td>\n",
       "      <td>0</td>\n",
       "      <td>4</td>\n",
       "      <td>informational</td>\n",
       "      <td>3f207df678b143eea3cee63160fa8bed</td>\n",
       "    </tr>\n",
       "    <tr>\n",
       "      <th>3</th>\n",
       "      <td>5</td>\n",
       "      <td>[web, email, mobile]</td>\n",
       "      <td>5</td>\n",
       "      <td>7</td>\n",
       "      <td>bogo</td>\n",
       "      <td>9b98b8c7a33c4b65b9aebfe6a799e6d9</td>\n",
       "    </tr>\n",
       "    <tr>\n",
       "      <th>4</th>\n",
       "      <td>5</td>\n",
       "      <td>[web, email]</td>\n",
       "      <td>20</td>\n",
       "      <td>10</td>\n",
       "      <td>discount</td>\n",
       "      <td>0b1e1539f2cc45b7b9fa7c272da2e1d7</td>\n",
       "    </tr>\n",
       "    <tr>\n",
       "      <th>5</th>\n",
       "      <td>3</td>\n",
       "      <td>[web, email, mobile, social]</td>\n",
       "      <td>7</td>\n",
       "      <td>7</td>\n",
       "      <td>discount</td>\n",
       "      <td>2298d6c36e964ae4a3e7e9706d1fb8c2</td>\n",
       "    </tr>\n",
       "    <tr>\n",
       "      <th>6</th>\n",
       "      <td>2</td>\n",
       "      <td>[web, email, mobile, social]</td>\n",
       "      <td>10</td>\n",
       "      <td>10</td>\n",
       "      <td>discount</td>\n",
       "      <td>fafdcd668e3743c1bb461111dcafc2a4</td>\n",
       "    </tr>\n",
       "    <tr>\n",
       "      <th>7</th>\n",
       "      <td>0</td>\n",
       "      <td>[email, mobile, social]</td>\n",
       "      <td>0</td>\n",
       "      <td>3</td>\n",
       "      <td>informational</td>\n",
       "      <td>5a8bc65990b245e5a138643cd4eb9837</td>\n",
       "    </tr>\n",
       "    <tr>\n",
       "      <th>8</th>\n",
       "      <td>5</td>\n",
       "      <td>[web, email, mobile, social]</td>\n",
       "      <td>5</td>\n",
       "      <td>5</td>\n",
       "      <td>bogo</td>\n",
       "      <td>f19421c1d4aa40978ebb69ca19b0e20d</td>\n",
       "    </tr>\n",
       "    <tr>\n",
       "      <th>9</th>\n",
       "      <td>2</td>\n",
       "      <td>[web, email, mobile]</td>\n",
       "      <td>10</td>\n",
       "      <td>7</td>\n",
       "      <td>discount</td>\n",
       "      <td>2906b810c7d4411798c6938adc9daaa5</td>\n",
       "    </tr>\n",
       "  </tbody>\n",
       "</table>\n",
       "</div>"
      ],
      "text/plain": [
       "   reward                      channels  difficulty  duration     offer_type  \\\n",
       "0      10       [email, mobile, social]          10         7           bogo   \n",
       "1      10  [web, email, mobile, social]          10         5           bogo   \n",
       "2       0          [web, email, mobile]           0         4  informational   \n",
       "3       5          [web, email, mobile]           5         7           bogo   \n",
       "4       5                  [web, email]          20        10       discount   \n",
       "5       3  [web, email, mobile, social]           7         7       discount   \n",
       "6       2  [web, email, mobile, social]          10        10       discount   \n",
       "7       0       [email, mobile, social]           0         3  informational   \n",
       "8       5  [web, email, mobile, social]           5         5           bogo   \n",
       "9       2          [web, email, mobile]          10         7       discount   \n",
       "\n",
       "                                 id  \n",
       "0  ae264e3637204a6fb9bb56bc8210ddfd  \n",
       "1  4d5c57ea9a6940dd891ad53e9dbe8da0  \n",
       "2  3f207df678b143eea3cee63160fa8bed  \n",
       "3  9b98b8c7a33c4b65b9aebfe6a799e6d9  \n",
       "4  0b1e1539f2cc45b7b9fa7c272da2e1d7  \n",
       "5  2298d6c36e964ae4a3e7e9706d1fb8c2  \n",
       "6  fafdcd668e3743c1bb461111dcafc2a4  \n",
       "7  5a8bc65990b245e5a138643cd4eb9837  \n",
       "8  f19421c1d4aa40978ebb69ca19b0e20d  \n",
       "9  2906b810c7d4411798c6938adc9daaa5  "
      ]
     },
     "execution_count": 3,
     "metadata": {},
     "output_type": "execute_result"
    }
   ],
   "source": [
    "portfolio"
   ]
  },
  {
   "cell_type": "code",
   "execution_count": 4,
   "metadata": {},
   "outputs": [],
   "source": [
    "#reversing a table\n",
    "#portfolio.iloc[::-1]"
   ]
  },
  {
   "cell_type": "markdown",
   "metadata": {},
   "source": [
    "Examining portfolio table"
   ]
  },
  {
   "cell_type": "markdown",
   "metadata": {},
   "source": [
    "**portfolio.json**\n",
    "\n",
    "It contains 10 rows and 6 columns.\n",
    "* id (string) - offer id\n",
    "* offer_type (string) - type of offer ie BOGO (buy one get one free), discount, informational (no monetary reward)\n",
    "* difficulty (int) - minimum required spend to complete an offer, in dollars\n",
    "* reward (int) - reward given for completing an offer, in dollars\n",
    "* duration (int) - time for offer to be open, in days\n",
    "* channels (list of strings) - how the offer is communicated (email, mobile, social, web)\n",
    "\n",
    "\n"
   ]
  },
  {
   "cell_type": "code",
   "execution_count": 5,
   "metadata": {},
   "outputs": [
    {
     "data": {
      "text/plain": [
       "(10, 6)"
      ]
     },
     "execution_count": 5,
     "metadata": {},
     "output_type": "execute_result"
    }
   ],
   "source": [
    "portfolio.shape"
   ]
  },
  {
   "cell_type": "code",
   "execution_count": 6,
   "metadata": {},
   "outputs": [
    {
     "data": {
      "text/html": [
       "<div>\n",
       "<style scoped>\n",
       "    .dataframe tbody tr th:only-of-type {\n",
       "        vertical-align: middle;\n",
       "    }\n",
       "\n",
       "    .dataframe tbody tr th {\n",
       "        vertical-align: top;\n",
       "    }\n",
       "\n",
       "    .dataframe thead th {\n",
       "        text-align: right;\n",
       "    }\n",
       "</style>\n",
       "<table border=\"1\" class=\"dataframe\">\n",
       "  <thead>\n",
       "    <tr style=\"text-align: right;\">\n",
       "      <th></th>\n",
       "      <th>reward</th>\n",
       "      <th>difficulty</th>\n",
       "      <th>duration</th>\n",
       "    </tr>\n",
       "  </thead>\n",
       "  <tbody>\n",
       "    <tr>\n",
       "      <th>count</th>\n",
       "      <td>10.000000</td>\n",
       "      <td>10.000000</td>\n",
       "      <td>10.000000</td>\n",
       "    </tr>\n",
       "    <tr>\n",
       "      <th>mean</th>\n",
       "      <td>4.200000</td>\n",
       "      <td>7.700000</td>\n",
       "      <td>6.500000</td>\n",
       "    </tr>\n",
       "    <tr>\n",
       "      <th>std</th>\n",
       "      <td>3.583915</td>\n",
       "      <td>5.831905</td>\n",
       "      <td>2.321398</td>\n",
       "    </tr>\n",
       "    <tr>\n",
       "      <th>min</th>\n",
       "      <td>0.000000</td>\n",
       "      <td>0.000000</td>\n",
       "      <td>3.000000</td>\n",
       "    </tr>\n",
       "    <tr>\n",
       "      <th>25%</th>\n",
       "      <td>2.000000</td>\n",
       "      <td>5.000000</td>\n",
       "      <td>5.000000</td>\n",
       "    </tr>\n",
       "    <tr>\n",
       "      <th>50%</th>\n",
       "      <td>4.000000</td>\n",
       "      <td>8.500000</td>\n",
       "      <td>7.000000</td>\n",
       "    </tr>\n",
       "    <tr>\n",
       "      <th>75%</th>\n",
       "      <td>5.000000</td>\n",
       "      <td>10.000000</td>\n",
       "      <td>7.000000</td>\n",
       "    </tr>\n",
       "    <tr>\n",
       "      <th>max</th>\n",
       "      <td>10.000000</td>\n",
       "      <td>20.000000</td>\n",
       "      <td>10.000000</td>\n",
       "    </tr>\n",
       "  </tbody>\n",
       "</table>\n",
       "</div>"
      ],
      "text/plain": [
       "          reward  difficulty   duration\n",
       "count  10.000000   10.000000  10.000000\n",
       "mean    4.200000    7.700000   6.500000\n",
       "std     3.583915    5.831905   2.321398\n",
       "min     0.000000    0.000000   3.000000\n",
       "25%     2.000000    5.000000   5.000000\n",
       "50%     4.000000    8.500000   7.000000\n",
       "75%     5.000000   10.000000   7.000000\n",
       "max    10.000000   20.000000  10.000000"
      ]
     },
     "execution_count": 6,
     "metadata": {},
     "output_type": "execute_result"
    }
   ],
   "source": [
    "portfolio.describe()"
   ]
  },
  {
   "cell_type": "code",
   "execution_count": 7,
   "metadata": {},
   "outputs": [
    {
     "name": "stdout",
     "output_type": "stream",
     "text": [
      "<class 'pandas.core.frame.DataFrame'>\n",
      "RangeIndex: 10 entries, 0 to 9\n",
      "Data columns (total 6 columns):\n",
      " #   Column      Non-Null Count  Dtype \n",
      "---  ------      --------------  ----- \n",
      " 0   reward      10 non-null     int64 \n",
      " 1   channels    10 non-null     object\n",
      " 2   difficulty  10 non-null     int64 \n",
      " 3   duration    10 non-null     int64 \n",
      " 4   offer_type  10 non-null     object\n",
      " 5   id          10 non-null     object\n",
      "dtypes: int64(3), object(3)\n",
      "memory usage: 608.0+ bytes\n"
     ]
    }
   ],
   "source": [
    "portfolio.info(verbose=True)"
   ]
  },
  {
   "cell_type": "code",
   "execution_count": 8,
   "metadata": {},
   "outputs": [
    {
     "data": {
      "text/html": [
       "<div>\n",
       "<style scoped>\n",
       "    .dataframe tbody tr th:only-of-type {\n",
       "        vertical-align: middle;\n",
       "    }\n",
       "\n",
       "    .dataframe tbody tr th {\n",
       "        vertical-align: top;\n",
       "    }\n",
       "\n",
       "    .dataframe thead th {\n",
       "        text-align: right;\n",
       "    }\n",
       "</style>\n",
       "<table border=\"1\" class=\"dataframe\">\n",
       "  <thead>\n",
       "    <tr style=\"text-align: right;\">\n",
       "      <th></th>\n",
       "      <th>reward</th>\n",
       "      <th>channels</th>\n",
       "      <th>difficulty</th>\n",
       "      <th>duration</th>\n",
       "      <th>offer_type</th>\n",
       "      <th>id</th>\n",
       "    </tr>\n",
       "  </thead>\n",
       "  <tbody>\n",
       "    <tr>\n",
       "      <th>0</th>\n",
       "      <td>10</td>\n",
       "      <td>[email, mobile, social]</td>\n",
       "      <td>10</td>\n",
       "      <td>7</td>\n",
       "      <td>bogo</td>\n",
       "      <td>ae264e3637204a6fb9bb56bc8210ddfd</td>\n",
       "    </tr>\n",
       "    <tr>\n",
       "      <th>1</th>\n",
       "      <td>10</td>\n",
       "      <td>[web, email, mobile, social]</td>\n",
       "      <td>10</td>\n",
       "      <td>5</td>\n",
       "      <td>bogo</td>\n",
       "      <td>4d5c57ea9a6940dd891ad53e9dbe8da0</td>\n",
       "    </tr>\n",
       "    <tr>\n",
       "      <th>2</th>\n",
       "      <td>0</td>\n",
       "      <td>[web, email, mobile]</td>\n",
       "      <td>0</td>\n",
       "      <td>4</td>\n",
       "      <td>informational</td>\n",
       "      <td>3f207df678b143eea3cee63160fa8bed</td>\n",
       "    </tr>\n",
       "    <tr>\n",
       "      <th>3</th>\n",
       "      <td>5</td>\n",
       "      <td>[web, email, mobile]</td>\n",
       "      <td>5</td>\n",
       "      <td>7</td>\n",
       "      <td>bogo</td>\n",
       "      <td>9b98b8c7a33c4b65b9aebfe6a799e6d9</td>\n",
       "    </tr>\n",
       "    <tr>\n",
       "      <th>4</th>\n",
       "      <td>5</td>\n",
       "      <td>[web, email]</td>\n",
       "      <td>20</td>\n",
       "      <td>10</td>\n",
       "      <td>discount</td>\n",
       "      <td>0b1e1539f2cc45b7b9fa7c272da2e1d7</td>\n",
       "    </tr>\n",
       "    <tr>\n",
       "      <th>5</th>\n",
       "      <td>3</td>\n",
       "      <td>[web, email, mobile, social]</td>\n",
       "      <td>7</td>\n",
       "      <td>7</td>\n",
       "      <td>discount</td>\n",
       "      <td>2298d6c36e964ae4a3e7e9706d1fb8c2</td>\n",
       "    </tr>\n",
       "    <tr>\n",
       "      <th>6</th>\n",
       "      <td>2</td>\n",
       "      <td>[web, email, mobile, social]</td>\n",
       "      <td>10</td>\n",
       "      <td>10</td>\n",
       "      <td>discount</td>\n",
       "      <td>fafdcd668e3743c1bb461111dcafc2a4</td>\n",
       "    </tr>\n",
       "    <tr>\n",
       "      <th>7</th>\n",
       "      <td>0</td>\n",
       "      <td>[email, mobile, social]</td>\n",
       "      <td>0</td>\n",
       "      <td>3</td>\n",
       "      <td>informational</td>\n",
       "      <td>5a8bc65990b245e5a138643cd4eb9837</td>\n",
       "    </tr>\n",
       "    <tr>\n",
       "      <th>8</th>\n",
       "      <td>5</td>\n",
       "      <td>[web, email, mobile, social]</td>\n",
       "      <td>5</td>\n",
       "      <td>5</td>\n",
       "      <td>bogo</td>\n",
       "      <td>f19421c1d4aa40978ebb69ca19b0e20d</td>\n",
       "    </tr>\n",
       "    <tr>\n",
       "      <th>9</th>\n",
       "      <td>2</td>\n",
       "      <td>[web, email, mobile]</td>\n",
       "      <td>10</td>\n",
       "      <td>7</td>\n",
       "      <td>discount</td>\n",
       "      <td>2906b810c7d4411798c6938adc9daaa5</td>\n",
       "    </tr>\n",
       "  </tbody>\n",
       "</table>\n",
       "</div>"
      ],
      "text/plain": [
       "   reward                      channels  difficulty  duration     offer_type  \\\n",
       "0      10       [email, mobile, social]          10         7           bogo   \n",
       "1      10  [web, email, mobile, social]          10         5           bogo   \n",
       "2       0          [web, email, mobile]           0         4  informational   \n",
       "3       5          [web, email, mobile]           5         7           bogo   \n",
       "4       5                  [web, email]          20        10       discount   \n",
       "5       3  [web, email, mobile, social]           7         7       discount   \n",
       "6       2  [web, email, mobile, social]          10        10       discount   \n",
       "7       0       [email, mobile, social]           0         3  informational   \n",
       "8       5  [web, email, mobile, social]           5         5           bogo   \n",
       "9       2          [web, email, mobile]          10         7       discount   \n",
       "\n",
       "                                 id  \n",
       "0  ae264e3637204a6fb9bb56bc8210ddfd  \n",
       "1  4d5c57ea9a6940dd891ad53e9dbe8da0  \n",
       "2  3f207df678b143eea3cee63160fa8bed  \n",
       "3  9b98b8c7a33c4b65b9aebfe6a799e6d9  \n",
       "4  0b1e1539f2cc45b7b9fa7c272da2e1d7  \n",
       "5  2298d6c36e964ae4a3e7e9706d1fb8c2  \n",
       "6  fafdcd668e3743c1bb461111dcafc2a4  \n",
       "7  5a8bc65990b245e5a138643cd4eb9837  \n",
       "8  f19421c1d4aa40978ebb69ca19b0e20d  \n",
       "9  2906b810c7d4411798c6938adc9daaa5  "
      ]
     },
     "execution_count": 8,
     "metadata": {},
     "output_type": "execute_result"
    }
   ],
   "source": [
    "portfolio"
   ]
  },
  {
   "cell_type": "markdown",
   "metadata": {},
   "source": [
    "I note that every single channel includes 'email'. So we wont be able to analyse the impact of sending an email."
   ]
  },
  {
   "cell_type": "code",
   "execution_count": 9,
   "metadata": {},
   "outputs": [
    {
     "data": {
      "text/plain": [
       "0    True\n",
       "1    True\n",
       "2    True\n",
       "3    True\n",
       "4    True\n",
       "5    True\n",
       "6    True\n",
       "7    True\n",
       "8    True\n",
       "9    True\n",
       "Name: channels, dtype: bool"
      ]
     },
     "execution_count": 9,
     "metadata": {},
     "output_type": "execute_result"
    }
   ],
   "source": [
    "portfolio.channels.str.join(\" \").str.contains(\"email\")"
   ]
  },
  {
   "cell_type": "code",
   "execution_count": 10,
   "metadata": {},
   "outputs": [],
   "source": [
    "#for row in portfolio.channels:\n",
    "#    row.remove('email')"
   ]
  },
  {
   "cell_type": "markdown",
   "metadata": {},
   "source": [
    "All id's are unique"
   ]
  },
  {
   "cell_type": "code",
   "execution_count": 11,
   "metadata": {},
   "outputs": [
    {
     "data": {
      "text/plain": [
       "10"
      ]
     },
     "execution_count": 11,
     "metadata": {},
     "output_type": "execute_result"
    }
   ],
   "source": [
    "portfolio.groupby(['id']).size()\n",
    "portfolio.id.nunique()\n"
   ]
  },
  {
   "cell_type": "markdown",
   "metadata": {},
   "source": [
    "There are 4 bogo types of offer, 4 discounts and 2 infomational."
   ]
  },
  {
   "cell_type": "code",
   "execution_count": 12,
   "metadata": {},
   "outputs": [
    {
     "data": {
      "text/plain": [
       "offer_type\n",
       "bogo             4\n",
       "discount         4\n",
       "informational    2\n",
       "dtype: int64"
      ]
     },
     "execution_count": 12,
     "metadata": {},
     "output_type": "execute_result"
    }
   ],
   "source": [
    "portfolio.groupby(['offer_type']).size()"
   ]
  },
  {
   "cell_type": "markdown",
   "metadata": {},
   "source": [
    "Below is the breakdown when reward size is included"
   ]
  },
  {
   "cell_type": "code",
   "execution_count": 13,
   "metadata": {
    "scrolled": true
   },
   "outputs": [
    {
     "data": {
      "text/plain": [
       "offer_type     reward\n",
       "bogo           5         2\n",
       "               10        2\n",
       "discount       2         2\n",
       "               3         1\n",
       "               5         1\n",
       "informational  0         2\n",
       "dtype: int64"
      ]
     },
     "execution_count": 13,
     "metadata": {},
     "output_type": "execute_result"
    }
   ],
   "source": [
    "portfolio.groupby(['offer_type','reward']).size()"
   ]
  },
  {
   "cell_type": "markdown",
   "metadata": {},
   "source": [
    "Below is the breakdown when difficulty is added"
   ]
  },
  {
   "cell_type": "code",
   "execution_count": 14,
   "metadata": {
    "scrolled": true
   },
   "outputs": [
    {
     "data": {
      "text/plain": [
       "offer_type     reward  difficulty\n",
       "bogo           5       5             2\n",
       "               10      10            2\n",
       "discount       2       10            2\n",
       "               3       7             1\n",
       "               5       20            1\n",
       "informational  0       0             2\n",
       "dtype: int64"
      ]
     },
     "execution_count": 14,
     "metadata": {},
     "output_type": "execute_result"
    }
   ],
   "source": [
    "portfolio.groupby(['offer_type','reward','difficulty']).size()"
   ]
  },
  {
   "cell_type": "markdown",
   "metadata": {},
   "source": [
    "Below is the breakdown when duration is added"
   ]
  },
  {
   "cell_type": "code",
   "execution_count": 15,
   "metadata": {
    "scrolled": true
   },
   "outputs": [
    {
     "data": {
      "text/plain": [
       "offer_type     reward  difficulty  duration\n",
       "bogo           5       5           5           1\n",
       "                                   7           1\n",
       "               10      10          5           1\n",
       "                                   7           1\n",
       "discount       2       10          7           1\n",
       "                                   10          1\n",
       "               3       7           7           1\n",
       "               5       20          10          1\n",
       "informational  0       0           3           1\n",
       "                                   4           1\n",
       "dtype: int64"
      ]
     },
     "execution_count": 15,
     "metadata": {},
     "output_type": "execute_result"
    }
   ],
   "source": [
    "portfolio.groupby(['offer_type','reward','difficulty','duration']).size()"
   ]
  },
  {
   "cell_type": "markdown",
   "metadata": {},
   "source": [
    "That is a simple to read breakdown of the 10 offer types. Each have a distinct id.\n",
    "\n",
    "The channel type is a nested column. So I can expand this field out if I want to try to determine the influence each media channel has within an offer. Although I will need to add a tag to the id field or have a have a way of tracking this for later analysis"
   ]
  },
  {
   "cell_type": "markdown",
   "metadata": {},
   "source": [
    "**profile.json**\n",
    "\n",
    "It contains 17000 rows and 5 columns\n",
    "* age (int) - age of the customer \n",
    "* became_member_on (int) - date when customer created an app account\n",
    "* gender (str) - gender of the customer (note some entries contain 'O' for other rather than M or F)\n",
    "* id (str) - customer id\n",
    "* income (float) - customer's income"
   ]
  },
  {
   "cell_type": "markdown",
   "metadata": {},
   "source": [
    " Although 2175 rows have age with value set to 118 which represents a missing value. The gender and income fields are also missing values on the rows where age is 118. I suspect these will not be useful during the analysis and will need to be filtered out."
   ]
  },
  {
   "cell_type": "code",
   "execution_count": 16,
   "metadata": {},
   "outputs": [
    {
     "name": "stdout",
     "output_type": "stream",
     "text": [
      "<class 'pandas.core.frame.DataFrame'>\n",
      "RangeIndex: 17000 entries, 0 to 16999\n",
      "Data columns (total 5 columns):\n",
      " #   Column            Non-Null Count  Dtype  \n",
      "---  ------            --------------  -----  \n",
      " 0   gender            14825 non-null  object \n",
      " 1   age               17000 non-null  int64  \n",
      " 2   id                17000 non-null  object \n",
      " 3   became_member_on  17000 non-null  int64  \n",
      " 4   income            14825 non-null  float64\n",
      "dtypes: float64(1), int64(2), object(2)\n",
      "memory usage: 664.2+ KB\n"
     ]
    }
   ],
   "source": [
    "profile.info()"
   ]
  },
  {
   "cell_type": "code",
   "execution_count": 17,
   "metadata": {
    "scrolled": true
   },
   "outputs": [
    {
     "data": {
      "text/html": [
       "<div>\n",
       "<style scoped>\n",
       "    .dataframe tbody tr th:only-of-type {\n",
       "        vertical-align: middle;\n",
       "    }\n",
       "\n",
       "    .dataframe tbody tr th {\n",
       "        vertical-align: top;\n",
       "    }\n",
       "\n",
       "    .dataframe thead th {\n",
       "        text-align: right;\n",
       "    }\n",
       "</style>\n",
       "<table border=\"1\" class=\"dataframe\">\n",
       "  <thead>\n",
       "    <tr style=\"text-align: right;\">\n",
       "      <th></th>\n",
       "      <th>gender</th>\n",
       "      <th>age</th>\n",
       "      <th>id</th>\n",
       "      <th>became_member_on</th>\n",
       "      <th>income</th>\n",
       "    </tr>\n",
       "  </thead>\n",
       "  <tbody>\n",
       "    <tr>\n",
       "      <th>0</th>\n",
       "      <td>None</td>\n",
       "      <td>118</td>\n",
       "      <td>68be06ca386d4c31939f3a4f0e3dd783</td>\n",
       "      <td>20170212</td>\n",
       "      <td>NaN</td>\n",
       "    </tr>\n",
       "    <tr>\n",
       "      <th>1</th>\n",
       "      <td>F</td>\n",
       "      <td>55</td>\n",
       "      <td>0610b486422d4921ae7d2bf64640c50b</td>\n",
       "      <td>20170715</td>\n",
       "      <td>112000.0</td>\n",
       "    </tr>\n",
       "    <tr>\n",
       "      <th>2</th>\n",
       "      <td>None</td>\n",
       "      <td>118</td>\n",
       "      <td>38fe809add3b4fcf9315a9694bb96ff5</td>\n",
       "      <td>20180712</td>\n",
       "      <td>NaN</td>\n",
       "    </tr>\n",
       "    <tr>\n",
       "      <th>3</th>\n",
       "      <td>F</td>\n",
       "      <td>75</td>\n",
       "      <td>78afa995795e4d85b5d9ceeca43f5fef</td>\n",
       "      <td>20170509</td>\n",
       "      <td>100000.0</td>\n",
       "    </tr>\n",
       "    <tr>\n",
       "      <th>4</th>\n",
       "      <td>None</td>\n",
       "      <td>118</td>\n",
       "      <td>a03223e636434f42ac4c3df47e8bac43</td>\n",
       "      <td>20170804</td>\n",
       "      <td>NaN</td>\n",
       "    </tr>\n",
       "    <tr>\n",
       "      <th>5</th>\n",
       "      <td>M</td>\n",
       "      <td>68</td>\n",
       "      <td>e2127556f4f64592b11af22de27a7932</td>\n",
       "      <td>20180426</td>\n",
       "      <td>70000.0</td>\n",
       "    </tr>\n",
       "    <tr>\n",
       "      <th>6</th>\n",
       "      <td>None</td>\n",
       "      <td>118</td>\n",
       "      <td>8ec6ce2a7e7949b1bf142def7d0e0586</td>\n",
       "      <td>20170925</td>\n",
       "      <td>NaN</td>\n",
       "    </tr>\n",
       "    <tr>\n",
       "      <th>7</th>\n",
       "      <td>None</td>\n",
       "      <td>118</td>\n",
       "      <td>68617ca6246f4fbc85e91a2a49552598</td>\n",
       "      <td>20171002</td>\n",
       "      <td>NaN</td>\n",
       "    </tr>\n",
       "    <tr>\n",
       "      <th>8</th>\n",
       "      <td>M</td>\n",
       "      <td>65</td>\n",
       "      <td>389bc3fa690240e798340f5a15918d5c</td>\n",
       "      <td>20180209</td>\n",
       "      <td>53000.0</td>\n",
       "    </tr>\n",
       "    <tr>\n",
       "      <th>9</th>\n",
       "      <td>None</td>\n",
       "      <td>118</td>\n",
       "      <td>8974fc5686fe429db53ddde067b88302</td>\n",
       "      <td>20161122</td>\n",
       "      <td>NaN</td>\n",
       "    </tr>\n",
       "  </tbody>\n",
       "</table>\n",
       "</div>"
      ],
      "text/plain": [
       "  gender  age                                id  became_member_on    income\n",
       "0   None  118  68be06ca386d4c31939f3a4f0e3dd783          20170212       NaN\n",
       "1      F   55  0610b486422d4921ae7d2bf64640c50b          20170715  112000.0\n",
       "2   None  118  38fe809add3b4fcf9315a9694bb96ff5          20180712       NaN\n",
       "3      F   75  78afa995795e4d85b5d9ceeca43f5fef          20170509  100000.0\n",
       "4   None  118  a03223e636434f42ac4c3df47e8bac43          20170804       NaN\n",
       "5      M   68  e2127556f4f64592b11af22de27a7932          20180426   70000.0\n",
       "6   None  118  8ec6ce2a7e7949b1bf142def7d0e0586          20170925       NaN\n",
       "7   None  118  68617ca6246f4fbc85e91a2a49552598          20171002       NaN\n",
       "8      M   65  389bc3fa690240e798340f5a15918d5c          20180209   53000.0\n",
       "9   None  118  8974fc5686fe429db53ddde067b88302          20161122       NaN"
      ]
     },
     "execution_count": 17,
     "metadata": {},
     "output_type": "execute_result"
    }
   ],
   "source": [
    "profile.head(10)"
   ]
  },
  {
   "cell_type": "markdown",
   "metadata": {},
   "source": [
    "All ids are unique"
   ]
  },
  {
   "cell_type": "code",
   "execution_count": 18,
   "metadata": {},
   "outputs": [
    {
     "data": {
      "text/plain": [
       "True"
      ]
     },
     "execution_count": 18,
     "metadata": {},
     "output_type": "execute_result"
    }
   ],
   "source": [
    "profile.id.nunique() == len(profile)"
   ]
  },
  {
   "cell_type": "markdown",
   "metadata": {},
   "source": [
    "I can see there is some missing data for gender and income. Also there seems to be lots of ages=118. \n",
    "\n",
    "There is the exact same number of gender and income nulls. Which leads me to think (and hope) they are directly related"
   ]
  },
  {
   "cell_type": "code",
   "execution_count": 19,
   "metadata": {
    "scrolled": true
   },
   "outputs": [
    {
     "data": {
      "text/plain": [
       "gender              2175\n",
       "age                    0\n",
       "id                     0\n",
       "became_member_on       0\n",
       "income              2175\n",
       "dtype: int64"
      ]
     },
     "execution_count": 19,
     "metadata": {},
     "output_type": "execute_result"
    }
   ],
   "source": [
    "profile.isnull().sum()"
   ]
  },
  {
   "cell_type": "markdown",
   "metadata": {},
   "source": [
    "There is also the 2175 values where age is 118. This leads me to believe that 118 is a filler value for a null age value."
   ]
  },
  {
   "cell_type": "code",
   "execution_count": 20,
   "metadata": {
    "scrolled": true
   },
   "outputs": [
    {
     "data": {
      "text/plain": [
       "2175"
      ]
     },
     "execution_count": 20,
     "metadata": {},
     "output_type": "execute_result"
    }
   ],
   "source": [
    "len(profile.loc[profile['age'] == 118])"
   ]
  },
  {
   "cell_type": "markdown",
   "metadata": {},
   "source": [
    "I will confirm that the nulls in gender and income and the 118 value for age all occur for the same values. And as shown below all null values do indeed occur when age is 118."
   ]
  },
  {
   "cell_type": "code",
   "execution_count": 21,
   "metadata": {},
   "outputs": [
    {
     "data": {
      "text/plain": [
       "gender              2175\n",
       "age                    0\n",
       "id                     0\n",
       "became_member_on       0\n",
       "income              2175\n",
       "dtype: int64"
      ]
     },
     "execution_count": 21,
     "metadata": {},
     "output_type": "execute_result"
    }
   ],
   "source": [
    "(profile.loc[profile['age'] == 118]).isnull().sum()"
   ]
  },
  {
   "cell_type": "markdown",
   "metadata": {},
   "source": [
    "A more effecient way of checking all null values are on the same rows"
   ]
  },
  {
   "cell_type": "code",
   "execution_count": 22,
   "metadata": {},
   "outputs": [
    {
     "data": {
      "text/plain": [
       "True"
      ]
     },
     "execution_count": 22,
     "metadata": {},
     "output_type": "execute_result"
    }
   ],
   "source": [
    "\n",
    "(profile.gender.isna()==(profile.income.isna())).all()"
   ]
  },
  {
   "cell_type": "code",
   "execution_count": 23,
   "metadata": {},
   "outputs": [
    {
     "data": {
      "text/plain": [
       "True"
      ]
     },
     "execution_count": 23,
     "metadata": {},
     "output_type": "execute_result"
    }
   ],
   "source": [
    "##This also works\n",
    "##profile.gender.isna().isin(profile.age == 118).all()\n",
    "\n",
    "(profile.gender.isna()==(profile.age == 118)).all()"
   ]
  },
  {
   "cell_type": "markdown",
   "metadata": {},
   "source": [
    "The only information left in the rows with the nulls is the id and the date they became a member. I will filter these values out for now. Perhaps later I can imput this data by comparing to the transcript table and seeing if the id's appear there."
   ]
  },
  {
   "cell_type": "markdown",
   "metadata": {},
   "source": [
    "The highest age remaining is 101 which is a more believable maximum age."
   ]
  },
  {
   "cell_type": "code",
   "execution_count": 24,
   "metadata": {},
   "outputs": [
    {
     "data": {
      "text/plain": [
       "101"
      ]
     },
     "execution_count": 24,
     "metadata": {},
     "output_type": "execute_result"
    }
   ],
   "source": [
    "profile.loc[profile['age'] != 118].age.max()"
   ]
  },
  {
   "cell_type": "markdown",
   "metadata": {},
   "source": [
    "A minimum age of 18 is also believable."
   ]
  },
  {
   "cell_type": "code",
   "execution_count": 25,
   "metadata": {},
   "outputs": [
    {
     "data": {
      "text/plain": [
       "18"
      ]
     },
     "execution_count": 25,
     "metadata": {},
     "output_type": "execute_result"
    }
   ],
   "source": [
    "profile.loc[profile['age'] != 118].age.min()"
   ]
  },
  {
   "cell_type": "markdown",
   "metadata": {},
   "source": [
    "Creating a histogram of age to check it looks reasonable"
   ]
  },
  {
   "cell_type": "code",
   "execution_count": 26,
   "metadata": {},
   "outputs": [
    {
     "data": {
      "text/plain": [
       "<AxesSubplot:>"
      ]
     },
     "execution_count": 26,
     "metadata": {},
     "output_type": "execute_result"
    },
    {
     "data": {
      "image/png": "[encoded data removed]",
      "text/plain": [
       "<Figure size 432x288 with 1 Axes>"
      ]
     },
     "metadata": {
      "needs_background": "light"
     },
     "output_type": "display_data"
    }
   ],
   "source": [
    "profile.age.hist()"
   ]
  },
  {
   "cell_type": "code",
   "execution_count": 27,
   "metadata": {},
   "outputs": [
    {
     "data": {
      "text/plain": [
       "0        118\n",
       "1         55\n",
       "2        118\n",
       "3         75\n",
       "4        118\n",
       "        ... \n",
       "16995     45\n",
       "16996     61\n",
       "16997     49\n",
       "16998     83\n",
       "16999     62\n",
       "Name: age, Length: 17000, dtype: int64"
      ]
     },
     "execution_count": 27,
     "metadata": {},
     "output_type": "execute_result"
    }
   ],
   "source": [
    "profile.age"
   ]
  },
  {
   "cell_type": "code",
   "execution_count": 28,
   "metadata": {},
   "outputs": [
    {
     "data": {
      "image/png": "[encoded data removed]",
      "text/plain": [
       "<Figure size 432x288 with 1 Axes>"
      ]
     },
     "metadata": {
      "needs_background": "light"
     },
     "output_type": "display_data"
    }
   ],
   "source": [
    "figs, axs = plt.subplots(nrows=1, ncols=1, figsize=(6, 4))\n",
    "\n",
    "##suitable number of bins is max age minus min age (age range)\n",
    "bins=profile.age.max()-profile.age.min()\n",
    "profile.age.hist(bins=bins)\n",
    "\n",
    "axs.set_ylabel('Customers')\n",
    "axs.set_xlabel('Age\\n(year)')\n",
    "axs.grid(False)"
   ]
  },
  {
   "cell_type": "code",
   "execution_count": 29,
   "metadata": {},
   "outputs": [
    {
     "data": {
      "image/png": "[encoded data removed]",
      "text/plain": [
       "<Figure size 432x288 with 1 Axes>"
      ]
     },
     "metadata": {
      "needs_background": "light"
     },
     "output_type": "display_data"
    }
   ],
   "source": [
    "figs, axs = plt.subplots(nrows=1, ncols=1, figsize=(6, 4))\n",
    "\n",
    "##suitable number of bins is max age minus min age (age range)\n",
    "is_good_age = profile.age != 118\n",
    "bins=profile.loc[is_good_age ].age.max()-profile.loc[is_good_age ].age.min()\n",
    "profile.loc[is_good_age ].age.hist(bins=bins)\n",
    "\n",
    "axs.set_ylabel('Customers')\n",
    "axs.set_xlabel('Age\\n(year)')\n",
    "axs.grid(False)"
   ]
  },
  {
   "cell_type": "code",
   "execution_count": 30,
   "metadata": {},
   "outputs": [
    {
     "data": {
      "text/plain": [
       "0.1279"
      ]
     },
     "execution_count": 30,
     "metadata": {},
     "output_type": "execute_result"
    }
   ],
   "source": [
    "val=len(profile.loc[profile['age'] == 118])/len(profile['age'])\n",
    "round(val,4)"
   ]
  },
  {
   "cell_type": "markdown",
   "metadata": {},
   "source": [
    "max and min incomes are within a reasonable range"
   ]
  },
  {
   "cell_type": "code",
   "execution_count": 31,
   "metadata": {},
   "outputs": [
    {
     "data": {
      "text/plain": [
       "120000.0"
      ]
     },
     "execution_count": 31,
     "metadata": {},
     "output_type": "execute_result"
    }
   ],
   "source": [
    "profile.income.max()"
   ]
  },
  {
   "cell_type": "code",
   "execution_count": 32,
   "metadata": {},
   "outputs": [
    {
     "data": {
      "text/plain": [
       "30000.0"
      ]
     },
     "execution_count": 32,
     "metadata": {},
     "output_type": "execute_result"
    }
   ],
   "source": [
    "profile.income.min()"
   ]
  },
  {
   "cell_type": "markdown",
   "metadata": {},
   "source": [
    "Creating a histogram of income to check it looks reasonable"
   ]
  },
  {
   "cell_type": "code",
   "execution_count": 33,
   "metadata": {},
   "outputs": [
    {
     "data": {
      "text/plain": [
       "<AxesSubplot:>"
      ]
     },
     "execution_count": 33,
     "metadata": {},
     "output_type": "execute_result"
    },
    {
     "data": {
      "image/png": "[encoded data removed]",
      "text/plain": [
       "<Figure size 432x288 with 1 Axes>"
      ]
     },
     "metadata": {
      "needs_background": "light"
     },
     "output_type": "display_data"
    }
   ],
   "source": [
    "profile.income.hist(bins=90)"
   ]
  },
  {
   "cell_type": "markdown",
   "metadata": {},
   "source": [
    "There is plenty more men than female in this study. But that is not an issue. There are a few non male nor female genders too."
   ]
  },
  {
   "cell_type": "code",
   "execution_count": 34,
   "metadata": {},
   "outputs": [
    {
     "data": {
      "text/plain": [
       "<AxesSubplot:ylabel='gender'>"
      ]
     },
     "execution_count": 34,
     "metadata": {},
     "output_type": "execute_result"
    },
    {
     "data": {
      "image/png": "[encoded data removed]",
      "text/plain": [
       "<Figure size 288x288 with 1 Axes>"
      ]
     },
     "metadata": {},
     "output_type": "display_data"
    }
   ],
   "source": [
    "profile.groupby(['gender']).size().plot.pie( shadow=False, autopct=\"%.2f\", figsize=(4, 4), ylabel='gender')"
   ]
  },
  {
   "cell_type": "code",
   "execution_count": 35,
   "metadata": {},
   "outputs": [
    {
     "data": {
      "text/plain": [
       "<AxesSubplot:ylabel='person'>"
      ]
     },
     "execution_count": 35,
     "metadata": {},
     "output_type": "execute_result"
    },
    {
     "data": {
      "image/png": "[encoded data removed]",
      "text/plain": [
       "<Figure size 504x504 with 1 Axes>"
      ]
     },
     "metadata": {},
     "output_type": "display_data"
    }
   ],
   "source": [
    "transcript.groupby(['event']).count().person.plot.pie( figsize=(7, 7))"
   ]
  },
  {
   "cell_type": "markdown",
   "metadata": {},
   "source": [
    "Plot age for each gender"
   ]
  },
  {
   "cell_type": "code",
   "execution_count": 36,
   "metadata": {},
   "outputs": [
    {
     "data": {
      "text/html": [
       "<div>\n",
       "<style scoped>\n",
       "    .dataframe tbody tr th:only-of-type {\n",
       "        vertical-align: middle;\n",
       "    }\n",
       "\n",
       "    .dataframe tbody tr th {\n",
       "        vertical-align: top;\n",
       "    }\n",
       "\n",
       "    .dataframe thead th {\n",
       "        text-align: right;\n",
       "    }\n",
       "</style>\n",
       "<table border=\"1\" class=\"dataframe\">\n",
       "  <thead>\n",
       "    <tr style=\"text-align: right;\">\n",
       "      <th></th>\n",
       "      <th>gender</th>\n",
       "      <th>age</th>\n",
       "      <th>id</th>\n",
       "      <th>became_member_on</th>\n",
       "      <th>income</th>\n",
       "    </tr>\n",
       "  </thead>\n",
       "  <tbody>\n",
       "    <tr>\n",
       "      <th>0</th>\n",
       "      <td>None</td>\n",
       "      <td>118</td>\n",
       "      <td>68be06ca386d4c31939f3a4f0e3dd783</td>\n",
       "      <td>20170212</td>\n",
       "      <td>NaN</td>\n",
       "    </tr>\n",
       "    <tr>\n",
       "      <th>1</th>\n",
       "      <td>F</td>\n",
       "      <td>55</td>\n",
       "      <td>0610b486422d4921ae7d2bf64640c50b</td>\n",
       "      <td>20170715</td>\n",
       "      <td>112000.0</td>\n",
       "    </tr>\n",
       "    <tr>\n",
       "      <th>2</th>\n",
       "      <td>None</td>\n",
       "      <td>118</td>\n",
       "      <td>38fe809add3b4fcf9315a9694bb96ff5</td>\n",
       "      <td>20180712</td>\n",
       "      <td>NaN</td>\n",
       "    </tr>\n",
       "    <tr>\n",
       "      <th>3</th>\n",
       "      <td>F</td>\n",
       "      <td>75</td>\n",
       "      <td>78afa995795e4d85b5d9ceeca43f5fef</td>\n",
       "      <td>20170509</td>\n",
       "      <td>100000.0</td>\n",
       "    </tr>\n",
       "    <tr>\n",
       "      <th>4</th>\n",
       "      <td>None</td>\n",
       "      <td>118</td>\n",
       "      <td>a03223e636434f42ac4c3df47e8bac43</td>\n",
       "      <td>20170804</td>\n",
       "      <td>NaN</td>\n",
       "    </tr>\n",
       "    <tr>\n",
       "      <th>...</th>\n",
       "      <td>...</td>\n",
       "      <td>...</td>\n",
       "      <td>...</td>\n",
       "      <td>...</td>\n",
       "      <td>...</td>\n",
       "    </tr>\n",
       "    <tr>\n",
       "      <th>16995</th>\n",
       "      <td>F</td>\n",
       "      <td>45</td>\n",
       "      <td>6d5f3a774f3d4714ab0c092238f3a1d7</td>\n",
       "      <td>20180604</td>\n",
       "      <td>54000.0</td>\n",
       "    </tr>\n",
       "    <tr>\n",
       "      <th>16996</th>\n",
       "      <td>M</td>\n",
       "      <td>61</td>\n",
       "      <td>2cb4f97358b841b9a9773a7aa05a9d77</td>\n",
       "      <td>20180713</td>\n",
       "      <td>72000.0</td>\n",
       "    </tr>\n",
       "    <tr>\n",
       "      <th>16997</th>\n",
       "      <td>M</td>\n",
       "      <td>49</td>\n",
       "      <td>01d26f638c274aa0b965d24cefe3183f</td>\n",
       "      <td>20170126</td>\n",
       "      <td>73000.0</td>\n",
       "    </tr>\n",
       "    <tr>\n",
       "      <th>16998</th>\n",
       "      <td>F</td>\n",
       "      <td>83</td>\n",
       "      <td>9dc1421481194dcd9400aec7c9ae6366</td>\n",
       "      <td>20160307</td>\n",
       "      <td>50000.0</td>\n",
       "    </tr>\n",
       "    <tr>\n",
       "      <th>16999</th>\n",
       "      <td>F</td>\n",
       "      <td>62</td>\n",
       "      <td>e4052622e5ba45a8b96b59aba68cf068</td>\n",
       "      <td>20170722</td>\n",
       "      <td>82000.0</td>\n",
       "    </tr>\n",
       "  </tbody>\n",
       "</table>\n",
       "<p>17000 rows × 5 columns</p>\n",
       "</div>"
      ],
      "text/plain": [
       "      gender  age                                id  became_member_on  \\\n",
       "0       None  118  68be06ca386d4c31939f3a4f0e3dd783          20170212   \n",
       "1          F   55  0610b486422d4921ae7d2bf64640c50b          20170715   \n",
       "2       None  118  38fe809add3b4fcf9315a9694bb96ff5          20180712   \n",
       "3          F   75  78afa995795e4d85b5d9ceeca43f5fef          20170509   \n",
       "4       None  118  a03223e636434f42ac4c3df47e8bac43          20170804   \n",
       "...      ...  ...                               ...               ...   \n",
       "16995      F   45  6d5f3a774f3d4714ab0c092238f3a1d7          20180604   \n",
       "16996      M   61  2cb4f97358b841b9a9773a7aa05a9d77          20180713   \n",
       "16997      M   49  01d26f638c274aa0b965d24cefe3183f          20170126   \n",
       "16998      F   83  9dc1421481194dcd9400aec7c9ae6366          20160307   \n",
       "16999      F   62  e4052622e5ba45a8b96b59aba68cf068          20170722   \n",
       "\n",
       "         income  \n",
       "0           NaN  \n",
       "1      112000.0  \n",
       "2           NaN  \n",
       "3      100000.0  \n",
       "4           NaN  \n",
       "...         ...  \n",
       "16995   54000.0  \n",
       "16996   72000.0  \n",
       "16997   73000.0  \n",
       "16998   50000.0  \n",
       "16999   82000.0  \n",
       "\n",
       "[17000 rows x 5 columns]"
      ]
     },
     "execution_count": 36,
     "metadata": {},
     "output_type": "execute_result"
    }
   ],
   "source": [
    "profile"
   ]
  },
  {
   "cell_type": "code",
   "execution_count": null,
   "metadata": {},
   "outputs": [],
   "source": []
  },
  {
   "cell_type": "code",
   "execution_count": 37,
   "metadata": {},
   "outputs": [
    {
     "data": {
      "text/plain": [
       "array([[<AxesSubplot:title={'center':'F'}>,\n",
       "        <AxesSubplot:title={'center':'M'}>],\n",
       "       [<AxesSubplot:title={'center':'O'}>, <AxesSubplot:>]], dtype=object)"
      ]
     },
     "execution_count": 37,
     "metadata": {},
     "output_type": "execute_result"
    },
    {
     "data": {
      "image/png": "[encoded data removed]",
      "text/plain": [
       "<Figure size 576x432 with 4 Axes>"
      ]
     },
     "metadata": {
      "needs_background": "light"
     },
     "output_type": "display_data"
    }
   ],
   "source": [
    "profile['income'].hist(bins=90,by=profile['gender'],figsize=(8,6))\n"
   ]
  },
  {
   "cell_type": "code",
   "execution_count": null,
   "metadata": {},
   "outputs": [],
   "source": []
  },
  {
   "cell_type": "markdown",
   "metadata": {},
   "source": [
    "Became member on"
   ]
  },
  {
   "cell_type": "code",
   "execution_count": 38,
   "metadata": {},
   "outputs": [
    {
     "data": {
      "text/plain": [
       "20180726"
      ]
     },
     "execution_count": 38,
     "metadata": {},
     "output_type": "execute_result"
    }
   ],
   "source": [
    "profile.became_member_on.max()"
   ]
  },
  {
   "cell_type": "code",
   "execution_count": 39,
   "metadata": {},
   "outputs": [
    {
     "data": {
      "text/plain": [
       "20130729"
      ]
     },
     "execution_count": 39,
     "metadata": {},
     "output_type": "execute_result"
    }
   ],
   "source": [
    "profile.became_member_on.min()"
   ]
  },
  {
   "cell_type": "markdown",
   "metadata": {},
   "source": [
    "Examining the dates that users became a member to make sure they seem to fall in a reasonable time range"
   ]
  },
  {
   "cell_type": "markdown",
   "metadata": {},
   "source": [
    "Converting each value that a user became a member to a 6 figure int holding the year and month they joined."
   ]
  },
  {
   "cell_type": "code",
   "execution_count": 40,
   "metadata": {},
   "outputs": [],
   "source": [
    "dates=profile.became_member_on.astype(str)\n",
    "\n",
    "months=[]\n",
    "\n",
    "for date in dates:\n",
    "    month = date[:6] \n",
    "    month=int(month)\n",
    "    months.append(month)\n"
   ]
  },
  {
   "cell_type": "code",
   "execution_count": 41,
   "metadata": {},
   "outputs": [
    {
     "data": {
      "text/plain": [
       "201307      5\n",
       "201308     68\n",
       "201309     57\n",
       "201310     56\n",
       "201311     48\n",
       "         ... \n",
       "201803    618\n",
       "201804    585\n",
       "201805    601\n",
       "201806    562\n",
       "201807    506\n",
       "Length: 61, dtype: int64"
      ]
     },
     "execution_count": 41,
     "metadata": {},
     "output_type": "execute_result"
    }
   ],
   "source": [
    "from collections import Counter\n",
    "\n",
    "pd.Series(Counter(sorted(months)))"
   ]
  },
  {
   "cell_type": "markdown",
   "metadata": {},
   "source": [
    "The Spread of the joiners seem reasonable to me with no suspicious outliers"
   ]
  },
  {
   "cell_type": "code",
   "execution_count": 42,
   "metadata": {},
   "outputs": [
    {
     "data": {
      "text/plain": [
       "<AxesSubplot:>"
      ]
     },
     "execution_count": 42,
     "metadata": {},
     "output_type": "execute_result"
    },
    {
     "data": {
      "image/png": "[encoded data removed]",
      "text/plain": [
       "<Figure size 432x288 with 1 Axes>"
      ]
     },
     "metadata": {
      "needs_background": "light"
     },
     "output_type": "display_data"
    }
   ],
   "source": [
    "pd.Series(months).hist()"
   ]
  },
  {
   "cell_type": "markdown",
   "metadata": {},
   "source": [
    "Tidier way of getting the dates converted to dates for graphing"
   ]
  },
  {
   "cell_type": "code",
   "execution_count": 43,
   "metadata": {
    "scrolled": true
   },
   "outputs": [
    {
     "data": {
      "text/plain": [
       "0       2017-02-12\n",
       "1       2017-07-15\n",
       "2       2018-07-12\n",
       "3       2017-05-09\n",
       "4       2017-08-04\n",
       "           ...    \n",
       "16995   2018-06-04\n",
       "16996   2018-07-13\n",
       "16997   2017-01-26\n",
       "16998   2016-03-07\n",
       "16999   2017-07-22\n",
       "Name: became_member_on, Length: 17000, dtype: datetime64[ns]"
      ]
     },
     "execution_count": 43,
     "metadata": {},
     "output_type": "execute_result"
    }
   ],
   "source": [
    "member_dates=pd.to_datetime(profile.became_member_on, format='%Y%m%d')\n",
    "member_dates"
   ]
  },
  {
   "cell_type": "code",
   "execution_count": 397,
   "metadata": {},
   "outputs": [
    {
     "data": {
      "text/plain": [
       "0        1.486858e+09\n",
       "1        1.500077e+09\n",
       "2        1.531354e+09\n",
       "3        1.494288e+09\n",
       "4        1.501805e+09\n",
       "             ...     \n",
       "16995    1.528070e+09\n",
       "16996    1.531440e+09\n",
       "16997    1.485389e+09\n",
       "16998    1.457309e+09\n",
       "16999    1.500682e+09\n",
       "Name: became_member_on, Length: 17000, dtype: float64"
      ]
     },
     "execution_count": 397,
     "metadata": {},
     "output_type": "execute_result"
    }
   ],
   "source": [
    "pd.to_datetime(member_dates).view(int)/ 10**9"
   ]
  },
  {
   "cell_type": "code",
   "execution_count": 45,
   "metadata": {},
   "outputs": [
    {
     "data": {
      "text/plain": [
       "<AxesSubplot:>"
      ]
     },
     "execution_count": 45,
     "metadata": {},
     "output_type": "execute_result"
    },
    {
     "data": {
      "image/png": "[encoded data removed]",
      "text/plain": [
       "<Figure size 432x288 with 1 Axes>"
      ]
     },
     "metadata": {
      "needs_background": "light"
     },
     "output_type": "display_data"
    }
   ],
   "source": [
    "member_dates.hist()"
   ]
  },
  {
   "cell_type": "code",
   "execution_count": 46,
   "metadata": {},
   "outputs": [
    {
     "data": {
      "text/plain": [
       "0        2017\n",
       "1        2017\n",
       "2        2018\n",
       "3        2017\n",
       "4        2017\n",
       "         ... \n",
       "16995    2018\n",
       "16996    2018\n",
       "16997    2017\n",
       "16998    2016\n",
       "16999    2017\n",
       "Name: became_member_on, Length: 17000, dtype: int64"
      ]
     },
     "execution_count": 46,
     "metadata": {},
     "output_type": "execute_result"
    }
   ],
   "source": [
    "member_dates.dt.year"
   ]
  },
  {
   "cell_type": "code",
   "execution_count": 47,
   "metadata": {
    "scrolled": true
   },
   "outputs": [
    {
     "data": {
      "image/png": "[encoded data removed]",
      "text/plain": [
       "<Figure size 432x288 with 1 Axes>"
      ]
     },
     "metadata": {
      "needs_background": "light"
     },
     "output_type": "display_data"
    }
   ],
   "source": [
    "## Generate histograms\n",
    "bins = 12\n",
    "fig2, axs = plt.subplots(nrows=1, ncols=1, figsize=(6, 4))\n",
    "\n",
    "member_dates.groupby(member_dates.dt.year) .hist(bins=12)\n",
    "axs.set_ylabel('Customer')\n",
    "axs.set_xlabel('Year')\n",
    "axs.grid(False)"
   ]
  },
  {
   "cell_type": "code",
   "execution_count": 48,
   "metadata": {},
   "outputs": [
    {
     "data": {
      "text/html": [
       "<div>\n",
       "<style scoped>\n",
       "    .dataframe tbody tr th:only-of-type {\n",
       "        vertical-align: middle;\n",
       "    }\n",
       "\n",
       "    .dataframe tbody tr th {\n",
       "        vertical-align: top;\n",
       "    }\n",
       "\n",
       "    .dataframe thead th {\n",
       "        text-align: right;\n",
       "    }\n",
       "</style>\n",
       "<table border=\"1\" class=\"dataframe\">\n",
       "  <thead>\n",
       "    <tr style=\"text-align: right;\">\n",
       "      <th></th>\n",
       "      <th>gender</th>\n",
       "      <th>age</th>\n",
       "      <th>id</th>\n",
       "      <th>became_member_on</th>\n",
       "      <th>income</th>\n",
       "    </tr>\n",
       "  </thead>\n",
       "  <tbody>\n",
       "    <tr>\n",
       "      <th>0</th>\n",
       "      <td>None</td>\n",
       "      <td>118</td>\n",
       "      <td>68be06ca386d4c31939f3a4f0e3dd783</td>\n",
       "      <td>20170212</td>\n",
       "      <td>NaN</td>\n",
       "    </tr>\n",
       "    <tr>\n",
       "      <th>1</th>\n",
       "      <td>F</td>\n",
       "      <td>55</td>\n",
       "      <td>0610b486422d4921ae7d2bf64640c50b</td>\n",
       "      <td>20170715</td>\n",
       "      <td>112000.0</td>\n",
       "    </tr>\n",
       "    <tr>\n",
       "      <th>2</th>\n",
       "      <td>None</td>\n",
       "      <td>118</td>\n",
       "      <td>38fe809add3b4fcf9315a9694bb96ff5</td>\n",
       "      <td>20180712</td>\n",
       "      <td>NaN</td>\n",
       "    </tr>\n",
       "    <tr>\n",
       "      <th>3</th>\n",
       "      <td>F</td>\n",
       "      <td>75</td>\n",
       "      <td>78afa995795e4d85b5d9ceeca43f5fef</td>\n",
       "      <td>20170509</td>\n",
       "      <td>100000.0</td>\n",
       "    </tr>\n",
       "    <tr>\n",
       "      <th>4</th>\n",
       "      <td>None</td>\n",
       "      <td>118</td>\n",
       "      <td>a03223e636434f42ac4c3df47e8bac43</td>\n",
       "      <td>20170804</td>\n",
       "      <td>NaN</td>\n",
       "    </tr>\n",
       "  </tbody>\n",
       "</table>\n",
       "</div>"
      ],
      "text/plain": [
       "  gender  age                                id  became_member_on    income\n",
       "0   None  118  68be06ca386d4c31939f3a4f0e3dd783          20170212       NaN\n",
       "1      F   55  0610b486422d4921ae7d2bf64640c50b          20170715  112000.0\n",
       "2   None  118  38fe809add3b4fcf9315a9694bb96ff5          20180712       NaN\n",
       "3      F   75  78afa995795e4d85b5d9ceeca43f5fef          20170509  100000.0\n",
       "4   None  118  a03223e636434f42ac4c3df47e8bac43          20170804       NaN"
      ]
     },
     "execution_count": 48,
     "metadata": {},
     "output_type": "execute_result"
    }
   ],
   "source": [
    "profile.head()"
   ]
  },
  {
   "cell_type": "markdown",
   "metadata": {},
   "source": [
    "I would have expected a smoother relationship between age and average income"
   ]
  },
  {
   "cell_type": "code",
   "execution_count": 49,
   "metadata": {},
   "outputs": [],
   "source": [
    "import matplotlib.pyplot as plt"
   ]
  },
  {
   "cell_type": "code",
   "execution_count": 50,
   "metadata": {
    "scrolled": true
   },
   "outputs": [
    {
     "data": {
      "text/plain": [
       "Text(0, 0.5, 'Average Income')"
      ]
     },
     "execution_count": 50,
     "metadata": {},
     "output_type": "execute_result"
    },
    {
     "data": {
      "image/png": "[encoded data removed]",
      "text/plain": [
       "<Figure size 432x288 with 1 Axes>"
      ]
     },
     "metadata": {
      "needs_background": "light"
     },
     "output_type": "display_data"
    }
   ],
   "source": [
    "plt.plot(profile.loc[is_good_age].groupby(['age']).income.mean(),color='#B23AEE',linestyle='-')\n",
    "plt.title('test')\n",
    "plt.xlabel(\"Age\")\n",
    "plt.ylabel(\"Average Income\")"
   ]
  },
  {
   "cell_type": "code",
   "execution_count": 51,
   "metadata": {},
   "outputs": [
    {
     "data": {
      "text/plain": [
       "age\n",
       "18     50228.571429\n",
       "19     50622.222222\n",
       "20     50414.814815\n",
       "21     50285.714286\n",
       "22     49877.862595\n",
       "           ...     \n",
       "98     61800.000000\n",
       "99     90600.000000\n",
       "100    77583.333333\n",
       "101    67800.000000\n",
       "118             NaN\n",
       "Name: income, Length: 85, dtype: float64"
      ]
     },
     "execution_count": 51,
     "metadata": {},
     "output_type": "execute_result"
    }
   ],
   "source": [
    "profile.groupby(['age']).income.mean()"
   ]
  },
  {
   "cell_type": "code",
   "execution_count": null,
   "metadata": {},
   "outputs": [],
   "source": []
  },
  {
   "cell_type": "markdown",
   "metadata": {},
   "source": [
    "**transcript.json**\n",
    "\n",
    "It contains 306534 rows and 4 columns.\n",
    "* event (str) - record description (ie transaction, offer received, offer viewed, etc.)\n",
    "* person (str) - customer id\n",
    "* time (int) - time in hours since start of test.\n",
    "* value - (dict of strings) - either an offer id or transaction amount depending on the record\n"
   ]
  },
  {
   "cell_type": "markdown",
   "metadata": {},
   "source": []
  },
  {
   "cell_type": "code",
   "execution_count": 52,
   "metadata": {},
   "outputs": [
    {
     "name": "stdout",
     "output_type": "stream",
     "text": [
      "<class 'pandas.core.frame.DataFrame'>\n",
      "RangeIndex: 306534 entries, 0 to 306533\n",
      "Data columns (total 4 columns):\n",
      " #   Column  Non-Null Count   Dtype \n",
      "---  ------  --------------   ----- \n",
      " 0   person  306534 non-null  object\n",
      " 1   event   306534 non-null  object\n",
      " 2   value   306534 non-null  object\n",
      " 3   time    306534 non-null  int64 \n",
      "dtypes: int64(1), object(3)\n",
      "memory usage: 9.4+ MB\n"
     ]
    }
   ],
   "source": [
    "transcript.info()"
   ]
  },
  {
   "cell_type": "code",
   "execution_count": 53,
   "metadata": {},
   "outputs": [
    {
     "data": {
      "text/html": [
       "<div>\n",
       "<style scoped>\n",
       "    .dataframe tbody tr th:only-of-type {\n",
       "        vertical-align: middle;\n",
       "    }\n",
       "\n",
       "    .dataframe tbody tr th {\n",
       "        vertical-align: top;\n",
       "    }\n",
       "\n",
       "    .dataframe thead th {\n",
       "        text-align: right;\n",
       "    }\n",
       "</style>\n",
       "<table border=\"1\" class=\"dataframe\">\n",
       "  <thead>\n",
       "    <tr style=\"text-align: right;\">\n",
       "      <th></th>\n",
       "      <th>time</th>\n",
       "    </tr>\n",
       "  </thead>\n",
       "  <tbody>\n",
       "    <tr>\n",
       "      <th>count</th>\n",
       "      <td>306534.000000</td>\n",
       "    </tr>\n",
       "    <tr>\n",
       "      <th>mean</th>\n",
       "      <td>366.382940</td>\n",
       "    </tr>\n",
       "    <tr>\n",
       "      <th>std</th>\n",
       "      <td>200.326314</td>\n",
       "    </tr>\n",
       "    <tr>\n",
       "      <th>min</th>\n",
       "      <td>0.000000</td>\n",
       "    </tr>\n",
       "    <tr>\n",
       "      <th>25%</th>\n",
       "      <td>186.000000</td>\n",
       "    </tr>\n",
       "    <tr>\n",
       "      <th>50%</th>\n",
       "      <td>408.000000</td>\n",
       "    </tr>\n",
       "    <tr>\n",
       "      <th>75%</th>\n",
       "      <td>528.000000</td>\n",
       "    </tr>\n",
       "    <tr>\n",
       "      <th>max</th>\n",
       "      <td>714.000000</td>\n",
       "    </tr>\n",
       "  </tbody>\n",
       "</table>\n",
       "</div>"
      ],
      "text/plain": [
       "                time\n",
       "count  306534.000000\n",
       "mean      366.382940\n",
       "std       200.326314\n",
       "min         0.000000\n",
       "25%       186.000000\n",
       "50%       408.000000\n",
       "75%       528.000000\n",
       "max       714.000000"
      ]
     },
     "execution_count": 53,
     "metadata": {},
     "output_type": "execute_result"
    }
   ],
   "source": [
    "transcript.describe()"
   ]
  },
  {
   "cell_type": "markdown",
   "metadata": {},
   "source": [
    "There are no null values."
   ]
  },
  {
   "cell_type": "code",
   "execution_count": null,
   "metadata": {},
   "outputs": [],
   "source": []
  },
  {
   "cell_type": "code",
   "execution_count": 54,
   "metadata": {},
   "outputs": [
    {
     "data": {
      "text/html": [
       "<div>\n",
       "<style scoped>\n",
       "    .dataframe tbody tr th:only-of-type {\n",
       "        vertical-align: middle;\n",
       "    }\n",
       "\n",
       "    .dataframe tbody tr th {\n",
       "        vertical-align: top;\n",
       "    }\n",
       "\n",
       "    .dataframe thead th {\n",
       "        text-align: right;\n",
       "    }\n",
       "</style>\n",
       "<table border=\"1\" class=\"dataframe\">\n",
       "  <thead>\n",
       "    <tr style=\"text-align: right;\">\n",
       "      <th></th>\n",
       "      <th>person</th>\n",
       "      <th>event</th>\n",
       "      <th>value</th>\n",
       "      <th>time</th>\n",
       "    </tr>\n",
       "  </thead>\n",
       "  <tbody>\n",
       "    <tr>\n",
       "      <th>0</th>\n",
       "      <td>78afa995795e4d85b5d9ceeca43f5fef</td>\n",
       "      <td>offer received</td>\n",
       "      <td>{'offer id': '9b98b8c7a33c4b65b9aebfe6a799e6d9'}</td>\n",
       "      <td>0</td>\n",
       "    </tr>\n",
       "    <tr>\n",
       "      <th>1</th>\n",
       "      <td>a03223e636434f42ac4c3df47e8bac43</td>\n",
       "      <td>offer received</td>\n",
       "      <td>{'offer id': '0b1e1539f2cc45b7b9fa7c272da2e1d7'}</td>\n",
       "      <td>0</td>\n",
       "    </tr>\n",
       "    <tr>\n",
       "      <th>2</th>\n",
       "      <td>e2127556f4f64592b11af22de27a7932</td>\n",
       "      <td>offer received</td>\n",
       "      <td>{'offer id': '2906b810c7d4411798c6938adc9daaa5'}</td>\n",
       "      <td>0</td>\n",
       "    </tr>\n",
       "    <tr>\n",
       "      <th>3</th>\n",
       "      <td>8ec6ce2a7e7949b1bf142def7d0e0586</td>\n",
       "      <td>offer received</td>\n",
       "      <td>{'offer id': 'fafdcd668e3743c1bb461111dcafc2a4'}</td>\n",
       "      <td>0</td>\n",
       "    </tr>\n",
       "    <tr>\n",
       "      <th>4</th>\n",
       "      <td>68617ca6246f4fbc85e91a2a49552598</td>\n",
       "      <td>offer received</td>\n",
       "      <td>{'offer id': '4d5c57ea9a6940dd891ad53e9dbe8da0'}</td>\n",
       "      <td>0</td>\n",
       "    </tr>\n",
       "    <tr>\n",
       "      <th>5</th>\n",
       "      <td>389bc3fa690240e798340f5a15918d5c</td>\n",
       "      <td>offer received</td>\n",
       "      <td>{'offer id': 'f19421c1d4aa40978ebb69ca19b0e20d'}</td>\n",
       "      <td>0</td>\n",
       "    </tr>\n",
       "    <tr>\n",
       "      <th>6</th>\n",
       "      <td>c4863c7985cf408faee930f111475da3</td>\n",
       "      <td>offer received</td>\n",
       "      <td>{'offer id': '2298d6c36e964ae4a3e7e9706d1fb8c2'}</td>\n",
       "      <td>0</td>\n",
       "    </tr>\n",
       "    <tr>\n",
       "      <th>7</th>\n",
       "      <td>2eeac8d8feae4a8cad5a6af0499a211d</td>\n",
       "      <td>offer received</td>\n",
       "      <td>{'offer id': '3f207df678b143eea3cee63160fa8bed'}</td>\n",
       "      <td>0</td>\n",
       "    </tr>\n",
       "    <tr>\n",
       "      <th>8</th>\n",
       "      <td>aa4862eba776480b8bb9c68455b8c2e1</td>\n",
       "      <td>offer received</td>\n",
       "      <td>{'offer id': '0b1e1539f2cc45b7b9fa7c272da2e1d7'}</td>\n",
       "      <td>0</td>\n",
       "    </tr>\n",
       "    <tr>\n",
       "      <th>9</th>\n",
       "      <td>31dda685af34476cad5bc968bdb01c53</td>\n",
       "      <td>offer received</td>\n",
       "      <td>{'offer id': '0b1e1539f2cc45b7b9fa7c272da2e1d7'}</td>\n",
       "      <td>0</td>\n",
       "    </tr>\n",
       "  </tbody>\n",
       "</table>\n",
       "</div>"
      ],
      "text/plain": [
       "                             person           event  \\\n",
       "0  78afa995795e4d85b5d9ceeca43f5fef  offer received   \n",
       "1  a03223e636434f42ac4c3df47e8bac43  offer received   \n",
       "2  e2127556f4f64592b11af22de27a7932  offer received   \n",
       "3  8ec6ce2a7e7949b1bf142def7d0e0586  offer received   \n",
       "4  68617ca6246f4fbc85e91a2a49552598  offer received   \n",
       "5  389bc3fa690240e798340f5a15918d5c  offer received   \n",
       "6  c4863c7985cf408faee930f111475da3  offer received   \n",
       "7  2eeac8d8feae4a8cad5a6af0499a211d  offer received   \n",
       "8  aa4862eba776480b8bb9c68455b8c2e1  offer received   \n",
       "9  31dda685af34476cad5bc968bdb01c53  offer received   \n",
       "\n",
       "                                              value  time  \n",
       "0  {'offer id': '9b98b8c7a33c4b65b9aebfe6a799e6d9'}     0  \n",
       "1  {'offer id': '0b1e1539f2cc45b7b9fa7c272da2e1d7'}     0  \n",
       "2  {'offer id': '2906b810c7d4411798c6938adc9daaa5'}     0  \n",
       "3  {'offer id': 'fafdcd668e3743c1bb461111dcafc2a4'}     0  \n",
       "4  {'offer id': '4d5c57ea9a6940dd891ad53e9dbe8da0'}     0  \n",
       "5  {'offer id': 'f19421c1d4aa40978ebb69ca19b0e20d'}     0  \n",
       "6  {'offer id': '2298d6c36e964ae4a3e7e9706d1fb8c2'}     0  \n",
       "7  {'offer id': '3f207df678b143eea3cee63160fa8bed'}     0  \n",
       "8  {'offer id': '0b1e1539f2cc45b7b9fa7c272da2e1d7'}     0  \n",
       "9  {'offer id': '0b1e1539f2cc45b7b9fa7c272da2e1d7'}     0  "
      ]
     },
     "execution_count": 54,
     "metadata": {},
     "output_type": "execute_result"
    }
   ],
   "source": [
    "transcript.head(10)"
   ]
  },
  {
   "cell_type": "markdown",
   "metadata": {},
   "source": [
    "Inspecting the person column in transcript. I can see the average person has multiple occurances in the dataset."
   ]
  },
  {
   "cell_type": "code",
   "execution_count": 55,
   "metadata": {
    "scrolled": true
   },
   "outputs": [
    {
     "data": {
      "text/html": [
       "<div>\n",
       "<style scoped>\n",
       "    .dataframe tbody tr th:only-of-type {\n",
       "        vertical-align: middle;\n",
       "    }\n",
       "\n",
       "    .dataframe tbody tr th {\n",
       "        vertical-align: top;\n",
       "    }\n",
       "\n",
       "    .dataframe thead th {\n",
       "        text-align: right;\n",
       "    }\n",
       "</style>\n",
       "<table border=\"1\" class=\"dataframe\">\n",
       "  <thead>\n",
       "    <tr style=\"text-align: right;\">\n",
       "      <th></th>\n",
       "      <th>event</th>\n",
       "      <th>value</th>\n",
       "      <th>time</th>\n",
       "    </tr>\n",
       "    <tr>\n",
       "      <th>person</th>\n",
       "      <th></th>\n",
       "      <th></th>\n",
       "      <th></th>\n",
       "    </tr>\n",
       "  </thead>\n",
       "  <tbody>\n",
       "    <tr>\n",
       "      <th>0009655768c64bdeb2e877511632db8f</th>\n",
       "      <td>20</td>\n",
       "      <td>20</td>\n",
       "      <td>20</td>\n",
       "    </tr>\n",
       "    <tr>\n",
       "      <th>00116118485d4dfda04fdbaba9a87b5c</th>\n",
       "      <td>7</td>\n",
       "      <td>7</td>\n",
       "      <td>7</td>\n",
       "    </tr>\n",
       "    <tr>\n",
       "      <th>0011e0d4e6b944f998e987f904e8c1e5</th>\n",
       "      <td>18</td>\n",
       "      <td>18</td>\n",
       "      <td>18</td>\n",
       "    </tr>\n",
       "    <tr>\n",
       "      <th>0020c2b971eb4e9188eac86d93036a77</th>\n",
       "      <td>19</td>\n",
       "      <td>19</td>\n",
       "      <td>19</td>\n",
       "    </tr>\n",
       "    <tr>\n",
       "      <th>0020ccbbb6d84e358d3414a3ff76cffd</th>\n",
       "      <td>23</td>\n",
       "      <td>23</td>\n",
       "      <td>23</td>\n",
       "    </tr>\n",
       "    <tr>\n",
       "      <th>...</th>\n",
       "      <td>...</td>\n",
       "      <td>...</td>\n",
       "      <td>...</td>\n",
       "    </tr>\n",
       "    <tr>\n",
       "      <th>fff3ba4757bd42088c044ca26d73817a</th>\n",
       "      <td>23</td>\n",
       "      <td>23</td>\n",
       "      <td>23</td>\n",
       "    </tr>\n",
       "    <tr>\n",
       "      <th>fff7576017104bcc8677a8d63322b5e1</th>\n",
       "      <td>18</td>\n",
       "      <td>18</td>\n",
       "      <td>18</td>\n",
       "    </tr>\n",
       "    <tr>\n",
       "      <th>fff8957ea8b240a6b5e634b6ee8eafcf</th>\n",
       "      <td>10</td>\n",
       "      <td>10</td>\n",
       "      <td>10</td>\n",
       "    </tr>\n",
       "    <tr>\n",
       "      <th>fffad4f4828548d1b5583907f2e9906b</th>\n",
       "      <td>23</td>\n",
       "      <td>23</td>\n",
       "      <td>23</td>\n",
       "    </tr>\n",
       "    <tr>\n",
       "      <th>ffff82501cea40309d5fdd7edcca4a07</th>\n",
       "      <td>33</td>\n",
       "      <td>33</td>\n",
       "      <td>33</td>\n",
       "    </tr>\n",
       "  </tbody>\n",
       "</table>\n",
       "<p>17000 rows × 3 columns</p>\n",
       "</div>"
      ],
      "text/plain": [
       "                                  event  value  time\n",
       "person                                              \n",
       "0009655768c64bdeb2e877511632db8f     20     20    20\n",
       "00116118485d4dfda04fdbaba9a87b5c      7      7     7\n",
       "0011e0d4e6b944f998e987f904e8c1e5     18     18    18\n",
       "0020c2b971eb4e9188eac86d93036a77     19     19    19\n",
       "0020ccbbb6d84e358d3414a3ff76cffd     23     23    23\n",
       "...                                 ...    ...   ...\n",
       "fff3ba4757bd42088c044ca26d73817a     23     23    23\n",
       "fff7576017104bcc8677a8d63322b5e1     18     18    18\n",
       "fff8957ea8b240a6b5e634b6ee8eafcf     10     10    10\n",
       "fffad4f4828548d1b5583907f2e9906b     23     23    23\n",
       "ffff82501cea40309d5fdd7edcca4a07     33     33    33\n",
       "\n",
       "[17000 rows x 3 columns]"
      ]
     },
     "execution_count": 55,
     "metadata": {},
     "output_type": "execute_result"
    }
   ],
   "source": [
    "(transcript.groupby('person').count())"
   ]
  },
  {
   "cell_type": "markdown",
   "metadata": {},
   "source": [
    "The average person occurs over 18 times"
   ]
  },
  {
   "cell_type": "code",
   "execution_count": 56,
   "metadata": {},
   "outputs": [
    {
     "data": {
      "text/plain": [
       "event    18.031412\n",
       "value    18.031412\n",
       "time     18.031412\n",
       "dtype: float64"
      ]
     },
     "execution_count": 56,
     "metadata": {},
     "output_type": "execute_result"
    }
   ],
   "source": [
    "(transcript.groupby('person').count()).mean()"
   ]
  },
  {
   "cell_type": "markdown",
   "metadata": {},
   "source": [
    "This is the same length of the profile table. So I suspect all ids in the profile table occur in transcript. "
   ]
  },
  {
   "cell_type": "code",
   "execution_count": 57,
   "metadata": {},
   "outputs": [
    {
     "data": {
      "text/plain": [
       "17000"
      ]
     },
     "execution_count": 57,
     "metadata": {},
     "output_type": "execute_result"
    }
   ],
   "source": [
    "len(transcript.groupby('person').count())"
   ]
  },
  {
   "cell_type": "markdown",
   "metadata": {},
   "source": [
    "Can confirm the transcript.person and profile.id contain identical ids"
   ]
  },
  {
   "cell_type": "code",
   "execution_count": 58,
   "metadata": {},
   "outputs": [
    {
     "data": {
      "text/plain": [
       "17000"
      ]
     },
     "execution_count": 58,
     "metadata": {},
     "output_type": "execute_result"
    }
   ],
   "source": [
    "len( list(set(transcript['person']) & set(profile['id'])))"
   ]
  },
  {
   "cell_type": "markdown",
   "metadata": {},
   "source": [
    "Spot checking one value. I can see it has multiple different events."
   ]
  },
  {
   "cell_type": "code",
   "execution_count": 59,
   "metadata": {},
   "outputs": [
    {
     "data": {
      "text/html": [
       "<div>\n",
       "<style scoped>\n",
       "    .dataframe tbody tr th:only-of-type {\n",
       "        vertical-align: middle;\n",
       "    }\n",
       "\n",
       "    .dataframe tbody tr th {\n",
       "        vertical-align: top;\n",
       "    }\n",
       "\n",
       "    .dataframe thead th {\n",
       "        text-align: right;\n",
       "    }\n",
       "</style>\n",
       "<table border=\"1\" class=\"dataframe\">\n",
       "  <thead>\n",
       "    <tr style=\"text-align: right;\">\n",
       "      <th></th>\n",
       "      <th>person</th>\n",
       "      <th>event</th>\n",
       "      <th>value</th>\n",
       "      <th>time</th>\n",
       "    </tr>\n",
       "  </thead>\n",
       "  <tbody>\n",
       "    <tr>\n",
       "      <th>56475</th>\n",
       "      <td>00116118485d4dfda04fdbaba9a87b5c</td>\n",
       "      <td>offer received</td>\n",
       "      <td>{'offer id': 'f19421c1d4aa40978ebb69ca19b0e20d'}</td>\n",
       "      <td>168</td>\n",
       "    </tr>\n",
       "    <tr>\n",
       "      <th>85769</th>\n",
       "      <td>00116118485d4dfda04fdbaba9a87b5c</td>\n",
       "      <td>offer viewed</td>\n",
       "      <td>{'offer id': 'f19421c1d4aa40978ebb69ca19b0e20d'}</td>\n",
       "      <td>216</td>\n",
       "    </tr>\n",
       "    <tr>\n",
       "      <th>104088</th>\n",
       "      <td>00116118485d4dfda04fdbaba9a87b5c</td>\n",
       "      <td>transaction</td>\n",
       "      <td>{'amount': 0.7000000000000001}</td>\n",
       "      <td>294</td>\n",
       "    </tr>\n",
       "    <tr>\n",
       "      <th>187632</th>\n",
       "      <td>00116118485d4dfda04fdbaba9a87b5c</td>\n",
       "      <td>transaction</td>\n",
       "      <td>{'amount': 0.2}</td>\n",
       "      <td>456</td>\n",
       "    </tr>\n",
       "    <tr>\n",
       "      <th>193680</th>\n",
       "      <td>00116118485d4dfda04fdbaba9a87b5c</td>\n",
       "      <td>transaction</td>\n",
       "      <td>{'amount': 3.19}</td>\n",
       "      <td>474</td>\n",
       "    </tr>\n",
       "    <tr>\n",
       "      <th>248359</th>\n",
       "      <td>00116118485d4dfda04fdbaba9a87b5c</td>\n",
       "      <td>offer received</td>\n",
       "      <td>{'offer id': 'f19421c1d4aa40978ebb69ca19b0e20d'}</td>\n",
       "      <td>576</td>\n",
       "    </tr>\n",
       "    <tr>\n",
       "      <th>284472</th>\n",
       "      <td>00116118485d4dfda04fdbaba9a87b5c</td>\n",
       "      <td>offer viewed</td>\n",
       "      <td>{'offer id': 'f19421c1d4aa40978ebb69ca19b0e20d'}</td>\n",
       "      <td>630</td>\n",
       "    </tr>\n",
       "  </tbody>\n",
       "</table>\n",
       "</div>"
      ],
      "text/plain": [
       "                                  person           event  \\\n",
       "56475   00116118485d4dfda04fdbaba9a87b5c  offer received   \n",
       "85769   00116118485d4dfda04fdbaba9a87b5c    offer viewed   \n",
       "104088  00116118485d4dfda04fdbaba9a87b5c     transaction   \n",
       "187632  00116118485d4dfda04fdbaba9a87b5c     transaction   \n",
       "193680  00116118485d4dfda04fdbaba9a87b5c     transaction   \n",
       "248359  00116118485d4dfda04fdbaba9a87b5c  offer received   \n",
       "284472  00116118485d4dfda04fdbaba9a87b5c    offer viewed   \n",
       "\n",
       "                                                   value  time  \n",
       "56475   {'offer id': 'f19421c1d4aa40978ebb69ca19b0e20d'}   168  \n",
       "85769   {'offer id': 'f19421c1d4aa40978ebb69ca19b0e20d'}   216  \n",
       "104088                    {'amount': 0.7000000000000001}   294  \n",
       "187632                                   {'amount': 0.2}   456  \n",
       "193680                                  {'amount': 3.19}   474  \n",
       "248359  {'offer id': 'f19421c1d4aa40978ebb69ca19b0e20d'}   576  \n",
       "284472  {'offer id': 'f19421c1d4aa40978ebb69ca19b0e20d'}   630  "
      ]
     },
     "execution_count": 59,
     "metadata": {},
     "output_type": "execute_result"
    }
   ],
   "source": [
    "\n",
    "transcript.loc[transcript['person']=='00116118485d4dfda04fdbaba9a87b5c']\n"
   ]
  },
  {
   "cell_type": "markdown",
   "metadata": {},
   "source": [
    "Although this is one of the values I intend to filter out. But perhaps I could use random forest algorithm to estimate the missing data"
   ]
  },
  {
   "cell_type": "code",
   "execution_count": 60,
   "metadata": {},
   "outputs": [
    {
     "data": {
      "text/html": [
       "<div>\n",
       "<style scoped>\n",
       "    .dataframe tbody tr th:only-of-type {\n",
       "        vertical-align: middle;\n",
       "    }\n",
       "\n",
       "    .dataframe tbody tr th {\n",
       "        vertical-align: top;\n",
       "    }\n",
       "\n",
       "    .dataframe thead th {\n",
       "        text-align: right;\n",
       "    }\n",
       "</style>\n",
       "<table border=\"1\" class=\"dataframe\">\n",
       "  <thead>\n",
       "    <tr style=\"text-align: right;\">\n",
       "      <th></th>\n",
       "      <th>gender</th>\n",
       "      <th>age</th>\n",
       "      <th>id</th>\n",
       "      <th>became_member_on</th>\n",
       "      <th>income</th>\n",
       "    </tr>\n",
       "  </thead>\n",
       "  <tbody>\n",
       "    <tr>\n",
       "      <th>4434</th>\n",
       "      <td>None</td>\n",
       "      <td>118</td>\n",
       "      <td>00116118485d4dfda04fdbaba9a87b5c</td>\n",
       "      <td>20180425</td>\n",
       "      <td>NaN</td>\n",
       "    </tr>\n",
       "  </tbody>\n",
       "</table>\n",
       "</div>"
      ],
      "text/plain": [
       "     gender  age                                id  became_member_on  income\n",
       "4434   None  118  00116118485d4dfda04fdbaba9a87b5c          20180425     NaN"
      ]
     },
     "execution_count": 60,
     "metadata": {},
     "output_type": "execute_result"
    }
   ],
   "source": [
    "profile.loc[profile['id']=='00116118485d4dfda04fdbaba9a87b5c']"
   ]
  },
  {
   "cell_type": "markdown",
   "metadata": {},
   "source": [
    "The below example does have good data in the profile table and will be used during training/test. They have plenty of solid data explaining offers they recieved or viewed or completed. And of the transactions they made."
   ]
  },
  {
   "cell_type": "code",
   "execution_count": 61,
   "metadata": {
    "scrolled": true
   },
   "outputs": [
    {
     "data": {
      "text/html": [
       "<div>\n",
       "<style scoped>\n",
       "    .dataframe tbody tr th:only-of-type {\n",
       "        vertical-align: middle;\n",
       "    }\n",
       "\n",
       "    .dataframe tbody tr th {\n",
       "        vertical-align: top;\n",
       "    }\n",
       "\n",
       "    .dataframe thead th {\n",
       "        text-align: right;\n",
       "    }\n",
       "</style>\n",
       "<table border=\"1\" class=\"dataframe\">\n",
       "  <thead>\n",
       "    <tr style=\"text-align: right;\">\n",
       "      <th></th>\n",
       "      <th>person</th>\n",
       "      <th>event</th>\n",
       "      <th>value</th>\n",
       "      <th>time</th>\n",
       "    </tr>\n",
       "  </thead>\n",
       "  <tbody>\n",
       "    <tr>\n",
       "      <th>55972</th>\n",
       "      <td>0009655768c64bdeb2e877511632db8f</td>\n",
       "      <td>offer received</td>\n",
       "      <td>{'offer id': '5a8bc65990b245e5a138643cd4eb9837'}</td>\n",
       "      <td>168</td>\n",
       "    </tr>\n",
       "    <tr>\n",
       "      <th>77705</th>\n",
       "      <td>0009655768c64bdeb2e877511632db8f</td>\n",
       "      <td>offer viewed</td>\n",
       "      <td>{'offer id': '5a8bc65990b245e5a138643cd4eb9837'}</td>\n",
       "      <td>192</td>\n",
       "    </tr>\n",
       "    <tr>\n",
       "      <th>89291</th>\n",
       "      <td>0009655768c64bdeb2e877511632db8f</td>\n",
       "      <td>transaction</td>\n",
       "      <td>{'amount': 22.16}</td>\n",
       "      <td>228</td>\n",
       "    </tr>\n",
       "    <tr>\n",
       "      <th>113605</th>\n",
       "      <td>0009655768c64bdeb2e877511632db8f</td>\n",
       "      <td>offer received</td>\n",
       "      <td>{'offer id': '3f207df678b143eea3cee63160fa8bed'}</td>\n",
       "      <td>336</td>\n",
       "    </tr>\n",
       "    <tr>\n",
       "      <th>139992</th>\n",
       "      <td>0009655768c64bdeb2e877511632db8f</td>\n",
       "      <td>offer viewed</td>\n",
       "      <td>{'offer id': '3f207df678b143eea3cee63160fa8bed'}</td>\n",
       "      <td>372</td>\n",
       "    </tr>\n",
       "    <tr>\n",
       "      <th>153401</th>\n",
       "      <td>0009655768c64bdeb2e877511632db8f</td>\n",
       "      <td>offer received</td>\n",
       "      <td>{'offer id': 'f19421c1d4aa40978ebb69ca19b0e20d'}</td>\n",
       "      <td>408</td>\n",
       "    </tr>\n",
       "    <tr>\n",
       "      <th>168412</th>\n",
       "      <td>0009655768c64bdeb2e877511632db8f</td>\n",
       "      <td>transaction</td>\n",
       "      <td>{'amount': 8.57}</td>\n",
       "      <td>414</td>\n",
       "    </tr>\n",
       "    <tr>\n",
       "      <th>168413</th>\n",
       "      <td>0009655768c64bdeb2e877511632db8f</td>\n",
       "      <td>offer completed</td>\n",
       "      <td>{'offer_id': 'f19421c1d4aa40978ebb69ca19b0e20d...</td>\n",
       "      <td>414</td>\n",
       "    </tr>\n",
       "    <tr>\n",
       "      <th>187554</th>\n",
       "      <td>0009655768c64bdeb2e877511632db8f</td>\n",
       "      <td>offer viewed</td>\n",
       "      <td>{'offer id': 'f19421c1d4aa40978ebb69ca19b0e20d'}</td>\n",
       "      <td>456</td>\n",
       "    </tr>\n",
       "    <tr>\n",
       "      <th>204340</th>\n",
       "      <td>0009655768c64bdeb2e877511632db8f</td>\n",
       "      <td>offer received</td>\n",
       "      <td>{'offer id': 'fafdcd668e3743c1bb461111dcafc2a4'}</td>\n",
       "      <td>504</td>\n",
       "    </tr>\n",
       "    <tr>\n",
       "      <th>228422</th>\n",
       "      <td>0009655768c64bdeb2e877511632db8f</td>\n",
       "      <td>transaction</td>\n",
       "      <td>{'amount': 14.11}</td>\n",
       "      <td>528</td>\n",
       "    </tr>\n",
       "    <tr>\n",
       "      <th>228423</th>\n",
       "      <td>0009655768c64bdeb2e877511632db8f</td>\n",
       "      <td>offer completed</td>\n",
       "      <td>{'offer_id': 'fafdcd668e3743c1bb461111dcafc2a4...</td>\n",
       "      <td>528</td>\n",
       "    </tr>\n",
       "    <tr>\n",
       "      <th>233413</th>\n",
       "      <td>0009655768c64bdeb2e877511632db8f</td>\n",
       "      <td>offer viewed</td>\n",
       "      <td>{'offer id': 'fafdcd668e3743c1bb461111dcafc2a4'}</td>\n",
       "      <td>540</td>\n",
       "    </tr>\n",
       "    <tr>\n",
       "      <th>237784</th>\n",
       "      <td>0009655768c64bdeb2e877511632db8f</td>\n",
       "      <td>transaction</td>\n",
       "      <td>{'amount': 13.56}</td>\n",
       "      <td>552</td>\n",
       "    </tr>\n",
       "    <tr>\n",
       "      <th>247879</th>\n",
       "      <td>0009655768c64bdeb2e877511632db8f</td>\n",
       "      <td>offer received</td>\n",
       "      <td>{'offer id': '2906b810c7d4411798c6938adc9daaa5'}</td>\n",
       "      <td>576</td>\n",
       "    </tr>\n",
       "    <tr>\n",
       "      <th>258883</th>\n",
       "      <td>0009655768c64bdeb2e877511632db8f</td>\n",
       "      <td>transaction</td>\n",
       "      <td>{'amount': 10.27}</td>\n",
       "      <td>576</td>\n",
       "    </tr>\n",
       "    <tr>\n",
       "      <th>258884</th>\n",
       "      <td>0009655768c64bdeb2e877511632db8f</td>\n",
       "      <td>offer completed</td>\n",
       "      <td>{'offer_id': '2906b810c7d4411798c6938adc9daaa5...</td>\n",
       "      <td>576</td>\n",
       "    </tr>\n",
       "    <tr>\n",
       "      <th>293497</th>\n",
       "      <td>0009655768c64bdeb2e877511632db8f</td>\n",
       "      <td>transaction</td>\n",
       "      <td>{'amount': 12.36}</td>\n",
       "      <td>660</td>\n",
       "    </tr>\n",
       "    <tr>\n",
       "      <th>300930</th>\n",
       "      <td>0009655768c64bdeb2e877511632db8f</td>\n",
       "      <td>transaction</td>\n",
       "      <td>{'amount': 28.16}</td>\n",
       "      <td>690</td>\n",
       "    </tr>\n",
       "    <tr>\n",
       "      <th>302205</th>\n",
       "      <td>0009655768c64bdeb2e877511632db8f</td>\n",
       "      <td>transaction</td>\n",
       "      <td>{'amount': 18.41}</td>\n",
       "      <td>696</td>\n",
       "    </tr>\n",
       "  </tbody>\n",
       "</table>\n",
       "</div>"
      ],
      "text/plain": [
       "                                  person            event  \\\n",
       "55972   0009655768c64bdeb2e877511632db8f   offer received   \n",
       "77705   0009655768c64bdeb2e877511632db8f     offer viewed   \n",
       "89291   0009655768c64bdeb2e877511632db8f      transaction   \n",
       "113605  0009655768c64bdeb2e877511632db8f   offer received   \n",
       "139992  0009655768c64bdeb2e877511632db8f     offer viewed   \n",
       "153401  0009655768c64bdeb2e877511632db8f   offer received   \n",
       "168412  0009655768c64bdeb2e877511632db8f      transaction   \n",
       "168413  0009655768c64bdeb2e877511632db8f  offer completed   \n",
       "187554  0009655768c64bdeb2e877511632db8f     offer viewed   \n",
       "204340  0009655768c64bdeb2e877511632db8f   offer received   \n",
       "228422  0009655768c64bdeb2e877511632db8f      transaction   \n",
       "228423  0009655768c64bdeb2e877511632db8f  offer completed   \n",
       "233413  0009655768c64bdeb2e877511632db8f     offer viewed   \n",
       "237784  0009655768c64bdeb2e877511632db8f      transaction   \n",
       "247879  0009655768c64bdeb2e877511632db8f   offer received   \n",
       "258883  0009655768c64bdeb2e877511632db8f      transaction   \n",
       "258884  0009655768c64bdeb2e877511632db8f  offer completed   \n",
       "293497  0009655768c64bdeb2e877511632db8f      transaction   \n",
       "300930  0009655768c64bdeb2e877511632db8f      transaction   \n",
       "302205  0009655768c64bdeb2e877511632db8f      transaction   \n",
       "\n",
       "                                                    value  time  \n",
       "55972    {'offer id': '5a8bc65990b245e5a138643cd4eb9837'}   168  \n",
       "77705    {'offer id': '5a8bc65990b245e5a138643cd4eb9837'}   192  \n",
       "89291                                   {'amount': 22.16}   228  \n",
       "113605   {'offer id': '3f207df678b143eea3cee63160fa8bed'}   336  \n",
       "139992   {'offer id': '3f207df678b143eea3cee63160fa8bed'}   372  \n",
       "153401   {'offer id': 'f19421c1d4aa40978ebb69ca19b0e20d'}   408  \n",
       "168412                                   {'amount': 8.57}   414  \n",
       "168413  {'offer_id': 'f19421c1d4aa40978ebb69ca19b0e20d...   414  \n",
       "187554   {'offer id': 'f19421c1d4aa40978ebb69ca19b0e20d'}   456  \n",
       "204340   {'offer id': 'fafdcd668e3743c1bb461111dcafc2a4'}   504  \n",
       "228422                                  {'amount': 14.11}   528  \n",
       "228423  {'offer_id': 'fafdcd668e3743c1bb461111dcafc2a4...   528  \n",
       "233413   {'offer id': 'fafdcd668e3743c1bb461111dcafc2a4'}   540  \n",
       "237784                                  {'amount': 13.56}   552  \n",
       "247879   {'offer id': '2906b810c7d4411798c6938adc9daaa5'}   576  \n",
       "258883                                  {'amount': 10.27}   576  \n",
       "258884  {'offer_id': '2906b810c7d4411798c6938adc9daaa5...   576  \n",
       "293497                                  {'amount': 12.36}   660  \n",
       "300930                                  {'amount': 28.16}   690  \n",
       "302205                                  {'amount': 18.41}   696  "
      ]
     },
     "execution_count": 61,
     "metadata": {},
     "output_type": "execute_result"
    }
   ],
   "source": [
    "\n",
    "transcript.loc[transcript['person']=='0009655768c64bdeb2e877511632db8f']"
   ]
  },
  {
   "cell_type": "code",
   "execution_count": 62,
   "metadata": {},
   "outputs": [
    {
     "data": {
      "text/html": [
       "<div>\n",
       "<style scoped>\n",
       "    .dataframe tbody tr th:only-of-type {\n",
       "        vertical-align: middle;\n",
       "    }\n",
       "\n",
       "    .dataframe tbody tr th {\n",
       "        vertical-align: top;\n",
       "    }\n",
       "\n",
       "    .dataframe thead th {\n",
       "        text-align: right;\n",
       "    }\n",
       "</style>\n",
       "<table border=\"1\" class=\"dataframe\">\n",
       "  <thead>\n",
       "    <tr style=\"text-align: right;\">\n",
       "      <th></th>\n",
       "      <th>gender</th>\n",
       "      <th>age</th>\n",
       "      <th>id</th>\n",
       "      <th>became_member_on</th>\n",
       "      <th>income</th>\n",
       "    </tr>\n",
       "  </thead>\n",
       "  <tbody>\n",
       "    <tr>\n",
       "      <th>3793</th>\n",
       "      <td>M</td>\n",
       "      <td>33</td>\n",
       "      <td>0009655768c64bdeb2e877511632db8f</td>\n",
       "      <td>20170421</td>\n",
       "      <td>72000.0</td>\n",
       "    </tr>\n",
       "  </tbody>\n",
       "</table>\n",
       "</div>"
      ],
      "text/plain": [
       "     gender  age                                id  became_member_on   income\n",
       "3793      M   33  0009655768c64bdeb2e877511632db8f          20170421  72000.0"
      ]
     },
     "execution_count": 62,
     "metadata": {},
     "output_type": "execute_result"
    }
   ],
   "source": [
    "profile.loc[profile['id']=='0009655768c64bdeb2e877511632db8f']"
   ]
  },
  {
   "cell_type": "markdown",
   "metadata": {},
   "source": [
    "The time column isnt as uniform as I expected. But I dont see it as an obvious issue. "
   ]
  },
  {
   "cell_type": "code",
   "execution_count": 63,
   "metadata": {},
   "outputs": [
    {
     "data": {
      "text/html": [
       "<div>\n",
       "<style scoped>\n",
       "    .dataframe tbody tr th:only-of-type {\n",
       "        vertical-align: middle;\n",
       "    }\n",
       "\n",
       "    .dataframe tbody tr th {\n",
       "        vertical-align: top;\n",
       "    }\n",
       "\n",
       "    .dataframe thead th {\n",
       "        text-align: right;\n",
       "    }\n",
       "</style>\n",
       "<table border=\"1\" class=\"dataframe\">\n",
       "  <thead>\n",
       "    <tr style=\"text-align: right;\">\n",
       "      <th></th>\n",
       "      <th>person</th>\n",
       "      <th>event</th>\n",
       "      <th>value</th>\n",
       "    </tr>\n",
       "    <tr>\n",
       "      <th>time</th>\n",
       "      <th></th>\n",
       "      <th></th>\n",
       "      <th></th>\n",
       "    </tr>\n",
       "  </thead>\n",
       "  <tbody>\n",
       "    <tr>\n",
       "      <th>150</th>\n",
       "      <td>894</td>\n",
       "      <td>894</td>\n",
       "      <td>894</td>\n",
       "    </tr>\n",
       "    <tr>\n",
       "      <th>162</th>\n",
       "      <td>910</td>\n",
       "      <td>910</td>\n",
       "      <td>910</td>\n",
       "    </tr>\n",
       "    <tr>\n",
       "      <th>156</th>\n",
       "      <td>914</td>\n",
       "      <td>914</td>\n",
       "      <td>914</td>\n",
       "    </tr>\n",
       "    <tr>\n",
       "      <th>330</th>\n",
       "      <td>938</td>\n",
       "      <td>938</td>\n",
       "      <td>938</td>\n",
       "    </tr>\n",
       "    <tr>\n",
       "      <th>318</th>\n",
       "      <td>940</td>\n",
       "      <td>940</td>\n",
       "      <td>940</td>\n",
       "    </tr>\n",
       "    <tr>\n",
       "      <th>...</th>\n",
       "      <td>...</td>\n",
       "      <td>...</td>\n",
       "      <td>...</td>\n",
       "    </tr>\n",
       "    <tr>\n",
       "      <th>168</th>\n",
       "      <td>16150</td>\n",
       "      <td>16150</td>\n",
       "      <td>16150</td>\n",
       "    </tr>\n",
       "    <tr>\n",
       "      <th>336</th>\n",
       "      <td>16302</td>\n",
       "      <td>16302</td>\n",
       "      <td>16302</td>\n",
       "    </tr>\n",
       "    <tr>\n",
       "      <th>504</th>\n",
       "      <td>16822</td>\n",
       "      <td>16822</td>\n",
       "      <td>16822</td>\n",
       "    </tr>\n",
       "    <tr>\n",
       "      <th>576</th>\n",
       "      <td>17015</td>\n",
       "      <td>17015</td>\n",
       "      <td>17015</td>\n",
       "    </tr>\n",
       "    <tr>\n",
       "      <th>408</th>\n",
       "      <td>17030</td>\n",
       "      <td>17030</td>\n",
       "      <td>17030</td>\n",
       "    </tr>\n",
       "  </tbody>\n",
       "</table>\n",
       "<p>120 rows × 3 columns</p>\n",
       "</div>"
      ],
      "text/plain": [
       "      person  event  value\n",
       "time                      \n",
       "150      894    894    894\n",
       "162      910    910    910\n",
       "156      914    914    914\n",
       "330      938    938    938\n",
       "318      940    940    940\n",
       "...      ...    ...    ...\n",
       "168    16150  16150  16150\n",
       "336    16302  16302  16302\n",
       "504    16822  16822  16822\n",
       "576    17015  17015  17015\n",
       "408    17030  17030  17030\n",
       "\n",
       "[120 rows x 3 columns]"
      ]
     },
     "execution_count": 63,
     "metadata": {},
     "output_type": "execute_result"
    }
   ],
   "source": [
    "transcript.groupby('time').count().sort_values(by=['value'])"
   ]
  },
  {
   "cell_type": "markdown",
   "metadata": {},
   "source": [
    "The max time is 714 hours. So indicates that the timespan of the data is about a month."
   ]
  },
  {
   "cell_type": "code",
   "execution_count": 64,
   "metadata": {},
   "outputs": [
    {
     "data": {
      "text/plain": [
       "0"
      ]
     },
     "metadata": {},
     "output_type": "display_data"
    },
    {
     "data": {
      "text/plain": [
       "714"
      ]
     },
     "metadata": {},
     "output_type": "display_data"
    }
   ],
   "source": [
    "display(transcript.time.min())\n",
    "display(transcript.time.max())"
   ]
  },
  {
   "cell_type": "markdown",
   "metadata": {},
   "source": [
    "There are 6 very distinct peaks that appear quite odd. And the data seems to tail off after each peak until the next peak is hit. I dont think these peaks are natural. It could be possible that the transactions have a lag before being processed. But if that is the case then it becomes a lot of difficult to predict the customer behaviour over time. So I suspect that this data is just an anomoly of how the sample data was generated. In a real world scenario I would contact the collector of the data and ask if these peaks can be explained."
   ]
  },
  {
   "cell_type": "markdown",
   "metadata": {},
   "source": [
    "Can ignore the section above. Will rewrite that analysis."
   ]
  },
  {
   "cell_type": "code",
   "execution_count": 65,
   "metadata": {
    "scrolled": true
   },
   "outputs": [
    {
     "data": {
      "text/plain": [
       "Text(0, 0.5, 'Time')"
      ]
     },
     "execution_count": 65,
     "metadata": {},
     "output_type": "execute_result"
    },
    {
     "data": {
      "image/png": "[encoded data removed]",
      "text/plain": [
       "<Figure size 432x288 with 1 Axes>"
      ]
     },
     "metadata": {
      "needs_background": "light"
     },
     "output_type": "display_data"
    }
   ],
   "source": [
    "transcript.time.hist(bins=120)\n",
    "#plt.title('Test')\n",
    "plt.xlabel(\"Count\")\n",
    "plt.ylabel(\"Time\")"
   ]
  },
  {
   "cell_type": "code",
   "execution_count": 66,
   "metadata": {},
   "outputs": [
    {
     "data": {
      "text/plain": [
       "<AxesSubplot:>"
      ]
     },
     "execution_count": 66,
     "metadata": {},
     "output_type": "execute_result"
    },
    {
     "data": {
      "image/png": "[encoded data removed]",
      "text/plain": [
       "<Figure size 432x288 with 1 Axes>"
      ]
     },
     "metadata": {
      "needs_background": "light"
     },
     "output_type": "display_data"
    }
   ],
   "source": [
    "transcript[transcript.event==\"offer received\"].time.hist(bins=120)"
   ]
  },
  {
   "cell_type": "code",
   "execution_count": 67,
   "metadata": {},
   "outputs": [
    {
     "data": {
      "text/plain": [
       "<AxesSubplot:>"
      ]
     },
     "execution_count": 67,
     "metadata": {},
     "output_type": "execute_result"
    },
    {
     "data": {
      "image/png": "[encoded data removed]",
      "text/plain": [
       "<Figure size 432x288 with 1 Axes>"
      ]
     },
     "metadata": {
      "needs_background": "light"
     },
     "output_type": "display_data"
    }
   ],
   "source": [
    "transcript[transcript.event==\"transaction\"].time.hist(bins=120)"
   ]
  },
  {
   "cell_type": "code",
   "execution_count": 68,
   "metadata": {},
   "outputs": [
    {
     "data": {
      "text/plain": [
       "Text(0, 0.5, 'Count')"
      ]
     },
     "execution_count": 68,
     "metadata": {},
     "output_type": "execute_result"
    },
    {
     "data": {
      "image/png": "[encoded data removed]",
      "text/plain": [
       "<Figure size 432x288 with 1 Axes>"
      ]
     },
     "metadata": {
      "needs_background": "light"
     },
     "output_type": "display_data"
    }
   ],
   "source": [
    "transcript[transcript.event==\"transaction\"].time.hist(bins=120)\n",
    "transcript[transcript.event==\"offer received\"].time.hist(bins=120)\n",
    "transcript[transcript.event==\"offer viewed\"].time.hist(bins=120)\n",
    "transcript[transcript.event==\"offer completed\"].time.hist(bins=120)\n",
    "plt.xlabel(\"Time\")\n",
    "plt.ylabel(\"Count\")"
   ]
  },
  {
   "cell_type": "markdown",
   "metadata": {},
   "source": [
    "Less than 11% of the rows are classified as “offer completed”. This may affect how I prepare the data or how I evaluate the model."
   ]
  },
  {
   "cell_type": "code",
   "execution_count": 69,
   "metadata": {
    "scrolled": false
   },
   "outputs": [
    {
     "data": {
      "text/html": [
       "<div>\n",
       "<style scoped>\n",
       "    .dataframe tbody tr th:only-of-type {\n",
       "        vertical-align: middle;\n",
       "    }\n",
       "\n",
       "    .dataframe tbody tr th {\n",
       "        vertical-align: top;\n",
       "    }\n",
       "\n",
       "    .dataframe thead th {\n",
       "        text-align: right;\n",
       "    }\n",
       "</style>\n",
       "<table border=\"1\" class=\"dataframe\">\n",
       "  <thead>\n",
       "    <tr style=\"text-align: right;\">\n",
       "      <th></th>\n",
       "      <th>person</th>\n",
       "      <th>value</th>\n",
       "      <th>time</th>\n",
       "    </tr>\n",
       "    <tr>\n",
       "      <th>event</th>\n",
       "      <th></th>\n",
       "      <th></th>\n",
       "      <th></th>\n",
       "    </tr>\n",
       "  </thead>\n",
       "  <tbody>\n",
       "    <tr>\n",
       "      <th>offer completed</th>\n",
       "      <td>33579</td>\n",
       "      <td>33579</td>\n",
       "      <td>33579</td>\n",
       "    </tr>\n",
       "    <tr>\n",
       "      <th>offer received</th>\n",
       "      <td>76277</td>\n",
       "      <td>76277</td>\n",
       "      <td>76277</td>\n",
       "    </tr>\n",
       "    <tr>\n",
       "      <th>offer viewed</th>\n",
       "      <td>57725</td>\n",
       "      <td>57725</td>\n",
       "      <td>57725</td>\n",
       "    </tr>\n",
       "    <tr>\n",
       "      <th>transaction</th>\n",
       "      <td>138953</td>\n",
       "      <td>138953</td>\n",
       "      <td>138953</td>\n",
       "    </tr>\n",
       "  </tbody>\n",
       "</table>\n",
       "</div>"
      ],
      "text/plain": [
       "                 person   value    time\n",
       "event                                  \n",
       "offer completed   33579   33579   33579\n",
       "offer received    76277   76277   76277\n",
       "offer viewed      57725   57725   57725\n",
       "transaction      138953  138953  138953"
      ]
     },
     "execution_count": 69,
     "metadata": {},
     "output_type": "execute_result"
    }
   ],
   "source": [
    "#transcript.groupby(['event']).agg('count')\n",
    "(transcript.groupby(['event']).count())"
   ]
  },
  {
   "cell_type": "code",
   "execution_count": 70,
   "metadata": {},
   "outputs": [
    {
     "data": {
      "text/plain": [
       "<AxesSubplot:>"
      ]
     },
     "execution_count": 70,
     "metadata": {},
     "output_type": "execute_result"
    },
    {
     "data": {
      "image/png": "[encoded data removed]",
      "text/plain": [
       "<Figure size 432x288 with 1 Axes>"
      ]
     },
     "metadata": {
      "needs_background": "light"
     },
     "output_type": "display_data"
    }
   ],
   "source": [
    "transcript.event.hist()"
   ]
  },
  {
   "cell_type": "code",
   "execution_count": 71,
   "metadata": {},
   "outputs": [
    {
     "data": {
      "text/plain": [
       "<AxesSubplot:ylabel='event'>"
      ]
     },
     "execution_count": 71,
     "metadata": {},
     "output_type": "execute_result"
    },
    {
     "data": {
      "image/png": "[encoded data removed]",
      "text/plain": [
       "<Figure size 432x432 with 1 Axes>"
      ]
     },
     "metadata": {},
     "output_type": "display_data"
    }
   ],
   "source": [
    "#plt.pie(transcript.event, labels = ['offer recieved','offer viewed','transaction','offer completed'])\n",
    "\n",
    "transcript.groupby(['event']).count().person.plot.pie( autopct=\"%.2f\", figsize=(6, 6), ylabel='event')"
   ]
  },
  {
   "cell_type": "code",
   "execution_count": 72,
   "metadata": {
    "scrolled": true
   },
   "outputs": [
    {
     "data": {
      "text/html": [
       "<div>\n",
       "<style scoped>\n",
       "    .dataframe tbody tr th:only-of-type {\n",
       "        vertical-align: middle;\n",
       "    }\n",
       "\n",
       "    .dataframe tbody tr th {\n",
       "        vertical-align: top;\n",
       "    }\n",
       "\n",
       "    .dataframe thead th {\n",
       "        text-align: right;\n",
       "    }\n",
       "</style>\n",
       "<table border=\"1\" class=\"dataframe\">\n",
       "  <thead>\n",
       "    <tr style=\"text-align: right;\">\n",
       "      <th></th>\n",
       "      <th>person</th>\n",
       "      <th>event</th>\n",
       "      <th>value</th>\n",
       "      <th>time</th>\n",
       "    </tr>\n",
       "  </thead>\n",
       "  <tbody>\n",
       "    <tr>\n",
       "      <th>0</th>\n",
       "      <td>78afa995795e4d85b5d9ceeca43f5fef</td>\n",
       "      <td>offer received</td>\n",
       "      <td>{'offer id': '9b98b8c7a33c4b65b9aebfe6a799e6d9'}</td>\n",
       "      <td>0</td>\n",
       "    </tr>\n",
       "    <tr>\n",
       "      <th>1</th>\n",
       "      <td>a03223e636434f42ac4c3df47e8bac43</td>\n",
       "      <td>offer received</td>\n",
       "      <td>{'offer id': '0b1e1539f2cc45b7b9fa7c272da2e1d7'}</td>\n",
       "      <td>0</td>\n",
       "    </tr>\n",
       "    <tr>\n",
       "      <th>2</th>\n",
       "      <td>e2127556f4f64592b11af22de27a7932</td>\n",
       "      <td>offer received</td>\n",
       "      <td>{'offer id': '2906b810c7d4411798c6938adc9daaa5'}</td>\n",
       "      <td>0</td>\n",
       "    </tr>\n",
       "    <tr>\n",
       "      <th>3</th>\n",
       "      <td>8ec6ce2a7e7949b1bf142def7d0e0586</td>\n",
       "      <td>offer received</td>\n",
       "      <td>{'offer id': 'fafdcd668e3743c1bb461111dcafc2a4'}</td>\n",
       "      <td>0</td>\n",
       "    </tr>\n",
       "    <tr>\n",
       "      <th>4</th>\n",
       "      <td>68617ca6246f4fbc85e91a2a49552598</td>\n",
       "      <td>offer received</td>\n",
       "      <td>{'offer id': '4d5c57ea9a6940dd891ad53e9dbe8da0'}</td>\n",
       "      <td>0</td>\n",
       "    </tr>\n",
       "  </tbody>\n",
       "</table>\n",
       "</div>"
      ],
      "text/plain": [
       "                             person           event  \\\n",
       "0  78afa995795e4d85b5d9ceeca43f5fef  offer received   \n",
       "1  a03223e636434f42ac4c3df47e8bac43  offer received   \n",
       "2  e2127556f4f64592b11af22de27a7932  offer received   \n",
       "3  8ec6ce2a7e7949b1bf142def7d0e0586  offer received   \n",
       "4  68617ca6246f4fbc85e91a2a49552598  offer received   \n",
       "\n",
       "                                              value  time  \n",
       "0  {'offer id': '9b98b8c7a33c4b65b9aebfe6a799e6d9'}     0  \n",
       "1  {'offer id': '0b1e1539f2cc45b7b9fa7c272da2e1d7'}     0  \n",
       "2  {'offer id': '2906b810c7d4411798c6938adc9daaa5'}     0  \n",
       "3  {'offer id': 'fafdcd668e3743c1bb461111dcafc2a4'}     0  \n",
       "4  {'offer id': '4d5c57ea9a6940dd891ad53e9dbe8da0'}     0  "
      ]
     },
     "execution_count": 72,
     "metadata": {},
     "output_type": "execute_result"
    }
   ],
   "source": [
    "transcript.head()"
   ]
  },
  {
   "cell_type": "markdown",
   "metadata": {},
   "source": [
    "The value column does not always have the same dictionary key. It can be 'amount' or 'offer_id'. It can also have a second nested dictionary in the case that a an offer is completed and a reward given."
   ]
  },
  {
   "cell_type": "code",
   "execution_count": 73,
   "metadata": {
    "scrolled": true
   },
   "outputs": [
    {
     "data": {
      "text/html": [
       "<div>\n",
       "<style scoped>\n",
       "    .dataframe tbody tr th:only-of-type {\n",
       "        vertical-align: middle;\n",
       "    }\n",
       "\n",
       "    .dataframe tbody tr th {\n",
       "        vertical-align: top;\n",
       "    }\n",
       "\n",
       "    .dataframe thead th {\n",
       "        text-align: right;\n",
       "    }\n",
       "</style>\n",
       "<table border=\"1\" class=\"dataframe\">\n",
       "  <thead>\n",
       "    <tr style=\"text-align: right;\">\n",
       "      <th></th>\n",
       "      <th>person</th>\n",
       "      <th>event</th>\n",
       "      <th>value</th>\n",
       "      <th>time</th>\n",
       "    </tr>\n",
       "  </thead>\n",
       "  <tbody>\n",
       "    <tr>\n",
       "      <th>12654</th>\n",
       "      <td>02c083884c7d45b39cc68e1314fec56c</td>\n",
       "      <td>transaction</td>\n",
       "      <td>{'amount': 0.8300000000000001}</td>\n",
       "      <td>0</td>\n",
       "    </tr>\n",
       "    <tr>\n",
       "      <th>12657</th>\n",
       "      <td>9fa9ae8f57894cc9a3b8a9bbe0fc1b2f</td>\n",
       "      <td>transaction</td>\n",
       "      <td>{'amount': 34.56}</td>\n",
       "      <td>0</td>\n",
       "    </tr>\n",
       "    <tr>\n",
       "      <th>12659</th>\n",
       "      <td>54890f68699049c2a04d415abc25e717</td>\n",
       "      <td>transaction</td>\n",
       "      <td>{'amount': 13.23}</td>\n",
       "      <td>0</td>\n",
       "    </tr>\n",
       "    <tr>\n",
       "      <th>12670</th>\n",
       "      <td>b2f1cd155b864803ad8334cdf13c4bd2</td>\n",
       "      <td>transaction</td>\n",
       "      <td>{'amount': 19.51}</td>\n",
       "      <td>0</td>\n",
       "    </tr>\n",
       "    <tr>\n",
       "      <th>12671</th>\n",
       "      <td>fe97aa22dd3e48c8b143116a8403dd52</td>\n",
       "      <td>transaction</td>\n",
       "      <td>{'amount': 18.97}</td>\n",
       "      <td>0</td>\n",
       "    </tr>\n",
       "    <tr>\n",
       "      <th>...</th>\n",
       "      <td>...</td>\n",
       "      <td>...</td>\n",
       "      <td>...</td>\n",
       "      <td>...</td>\n",
       "    </tr>\n",
       "    <tr>\n",
       "      <th>306529</th>\n",
       "      <td>b3a1272bc9904337b331bf348c3e8c17</td>\n",
       "      <td>transaction</td>\n",
       "      <td>{'amount': 1.5899999999999999}</td>\n",
       "      <td>714</td>\n",
       "    </tr>\n",
       "    <tr>\n",
       "      <th>306530</th>\n",
       "      <td>68213b08d99a4ae1b0dcb72aebd9aa35</td>\n",
       "      <td>transaction</td>\n",
       "      <td>{'amount': 9.53}</td>\n",
       "      <td>714</td>\n",
       "    </tr>\n",
       "    <tr>\n",
       "      <th>306531</th>\n",
       "      <td>a00058cf10334a308c68e7631c529907</td>\n",
       "      <td>transaction</td>\n",
       "      <td>{'amount': 3.61}</td>\n",
       "      <td>714</td>\n",
       "    </tr>\n",
       "    <tr>\n",
       "      <th>306532</th>\n",
       "      <td>76ddbd6576844afe811f1a3c0fbb5bec</td>\n",
       "      <td>transaction</td>\n",
       "      <td>{'amount': 3.5300000000000002}</td>\n",
       "      <td>714</td>\n",
       "    </tr>\n",
       "    <tr>\n",
       "      <th>306533</th>\n",
       "      <td>c02b10e8752c4d8e9b73f918558531f7</td>\n",
       "      <td>transaction</td>\n",
       "      <td>{'amount': 4.05}</td>\n",
       "      <td>714</td>\n",
       "    </tr>\n",
       "  </tbody>\n",
       "</table>\n",
       "<p>138953 rows × 4 columns</p>\n",
       "</div>"
      ],
      "text/plain": [
       "                                  person        event  \\\n",
       "12654   02c083884c7d45b39cc68e1314fec56c  transaction   \n",
       "12657   9fa9ae8f57894cc9a3b8a9bbe0fc1b2f  transaction   \n",
       "12659   54890f68699049c2a04d415abc25e717  transaction   \n",
       "12670   b2f1cd155b864803ad8334cdf13c4bd2  transaction   \n",
       "12671   fe97aa22dd3e48c8b143116a8403dd52  transaction   \n",
       "...                                  ...          ...   \n",
       "306529  b3a1272bc9904337b331bf348c3e8c17  transaction   \n",
       "306530  68213b08d99a4ae1b0dcb72aebd9aa35  transaction   \n",
       "306531  a00058cf10334a308c68e7631c529907  transaction   \n",
       "306532  76ddbd6576844afe811f1a3c0fbb5bec  transaction   \n",
       "306533  c02b10e8752c4d8e9b73f918558531f7  transaction   \n",
       "\n",
       "                                 value  time  \n",
       "12654   {'amount': 0.8300000000000001}     0  \n",
       "12657                {'amount': 34.56}     0  \n",
       "12659                {'amount': 13.23}     0  \n",
       "12670                {'amount': 19.51}     0  \n",
       "12671                {'amount': 18.97}     0  \n",
       "...                                ...   ...  \n",
       "306529  {'amount': 1.5899999999999999}   714  \n",
       "306530                {'amount': 9.53}   714  \n",
       "306531                {'amount': 3.61}   714  \n",
       "306532  {'amount': 3.5300000000000002}   714  \n",
       "306533                {'amount': 4.05}   714  \n",
       "\n",
       "[138953 rows x 4 columns]"
      ]
     },
     "execution_count": 73,
     "metadata": {},
     "output_type": "execute_result"
    }
   ],
   "source": [
    "transcript.loc[transcript['event']=='transaction']"
   ]
  },
  {
   "cell_type": "code",
   "execution_count": 74,
   "metadata": {},
   "outputs": [
    {
     "data": {
      "text/plain": [
       "{'offer_id': '2906b810c7d4411798c6938adc9daaa5', 'reward': 2}"
      ]
     },
     "execution_count": 74,
     "metadata": {},
     "output_type": "execute_result"
    }
   ],
   "source": [
    "transcript.loc[transcript['event']=='offer completed'].value[12658]"
   ]
  },
  {
   "cell_type": "markdown",
   "metadata": {},
   "source": [
    "https://pandas.pydata.org/docs/reference/api/pandas.DataFrame.from_records.html\n",
    "\n",
    "https://pandas.pydata.org/docs/reference/api/pandas.DataFrame.pop.html"
   ]
  },
  {
   "cell_type": "code",
   "execution_count": 75,
   "metadata": {},
   "outputs": [],
   "source": [
    "#resetting transcript\n",
    "transcript = pd.read_json('data/transcript.json', orient='records', lines=True)"
   ]
  },
  {
   "cell_type": "code",
   "execution_count": 76,
   "metadata": {
    "scrolled": true
   },
   "outputs": [
    {
     "data": {
      "text/html": [
       "<div>\n",
       "<style scoped>\n",
       "    .dataframe tbody tr th:only-of-type {\n",
       "        vertical-align: middle;\n",
       "    }\n",
       "\n",
       "    .dataframe tbody tr th {\n",
       "        vertical-align: top;\n",
       "    }\n",
       "\n",
       "    .dataframe thead th {\n",
       "        text-align: right;\n",
       "    }\n",
       "</style>\n",
       "<table border=\"1\" class=\"dataframe\">\n",
       "  <thead>\n",
       "    <tr style=\"text-align: right;\">\n",
       "      <th></th>\n",
       "      <th>person</th>\n",
       "      <th>event</th>\n",
       "      <th>value</th>\n",
       "      <th>time</th>\n",
       "    </tr>\n",
       "  </thead>\n",
       "  <tbody>\n",
       "    <tr>\n",
       "      <th>0</th>\n",
       "      <td>78afa995795e4d85b5d9ceeca43f5fef</td>\n",
       "      <td>offer received</td>\n",
       "      <td>{'offer id': '9b98b8c7a33c4b65b9aebfe6a799e6d9'}</td>\n",
       "      <td>0</td>\n",
       "    </tr>\n",
       "    <tr>\n",
       "      <th>1</th>\n",
       "      <td>a03223e636434f42ac4c3df47e8bac43</td>\n",
       "      <td>offer received</td>\n",
       "      <td>{'offer id': '0b1e1539f2cc45b7b9fa7c272da2e1d7'}</td>\n",
       "      <td>0</td>\n",
       "    </tr>\n",
       "    <tr>\n",
       "      <th>2</th>\n",
       "      <td>e2127556f4f64592b11af22de27a7932</td>\n",
       "      <td>offer received</td>\n",
       "      <td>{'offer id': '2906b810c7d4411798c6938adc9daaa5'}</td>\n",
       "      <td>0</td>\n",
       "    </tr>\n",
       "    <tr>\n",
       "      <th>3</th>\n",
       "      <td>8ec6ce2a7e7949b1bf142def7d0e0586</td>\n",
       "      <td>offer received</td>\n",
       "      <td>{'offer id': 'fafdcd668e3743c1bb461111dcafc2a4'}</td>\n",
       "      <td>0</td>\n",
       "    </tr>\n",
       "    <tr>\n",
       "      <th>4</th>\n",
       "      <td>68617ca6246f4fbc85e91a2a49552598</td>\n",
       "      <td>offer received</td>\n",
       "      <td>{'offer id': '4d5c57ea9a6940dd891ad53e9dbe8da0'}</td>\n",
       "      <td>0</td>\n",
       "    </tr>\n",
       "  </tbody>\n",
       "</table>\n",
       "</div>"
      ],
      "text/plain": [
       "                             person           event  \\\n",
       "0  78afa995795e4d85b5d9ceeca43f5fef  offer received   \n",
       "1  a03223e636434f42ac4c3df47e8bac43  offer received   \n",
       "2  e2127556f4f64592b11af22de27a7932  offer received   \n",
       "3  8ec6ce2a7e7949b1bf142def7d0e0586  offer received   \n",
       "4  68617ca6246f4fbc85e91a2a49552598  offer received   \n",
       "\n",
       "                                              value  time  \n",
       "0  {'offer id': '9b98b8c7a33c4b65b9aebfe6a799e6d9'}     0  \n",
       "1  {'offer id': '0b1e1539f2cc45b7b9fa7c272da2e1d7'}     0  \n",
       "2  {'offer id': '2906b810c7d4411798c6938adc9daaa5'}     0  \n",
       "3  {'offer id': 'fafdcd668e3743c1bb461111dcafc2a4'}     0  \n",
       "4  {'offer id': '4d5c57ea9a6940dd891ad53e9dbe8da0'}     0  "
      ]
     },
     "execution_count": 76,
     "metadata": {},
     "output_type": "execute_result"
    }
   ],
   "source": [
    "transcript.head()"
   ]
  },
  {
   "cell_type": "code",
   "execution_count": 77,
   "metadata": {},
   "outputs": [
    {
     "data": {
      "text/html": [
       "<div>\n",
       "<style scoped>\n",
       "    .dataframe tbody tr th:only-of-type {\n",
       "        vertical-align: middle;\n",
       "    }\n",
       "\n",
       "    .dataframe tbody tr th {\n",
       "        vertical-align: top;\n",
       "    }\n",
       "\n",
       "    .dataframe thead th {\n",
       "        text-align: right;\n",
       "    }\n",
       "</style>\n",
       "<table border=\"1\" class=\"dataframe\">\n",
       "  <thead>\n",
       "    <tr style=\"text-align: right;\">\n",
       "      <th></th>\n",
       "      <th>person</th>\n",
       "      <th>value</th>\n",
       "      <th>time</th>\n",
       "    </tr>\n",
       "    <tr>\n",
       "      <th>event</th>\n",
       "      <th></th>\n",
       "      <th></th>\n",
       "      <th></th>\n",
       "    </tr>\n",
       "  </thead>\n",
       "  <tbody>\n",
       "    <tr>\n",
       "      <th>offer completed</th>\n",
       "      <td>33579</td>\n",
       "      <td>33579</td>\n",
       "      <td>33579</td>\n",
       "    </tr>\n",
       "    <tr>\n",
       "      <th>offer received</th>\n",
       "      <td>76277</td>\n",
       "      <td>76277</td>\n",
       "      <td>76277</td>\n",
       "    </tr>\n",
       "    <tr>\n",
       "      <th>offer viewed</th>\n",
       "      <td>57725</td>\n",
       "      <td>57725</td>\n",
       "      <td>57725</td>\n",
       "    </tr>\n",
       "    <tr>\n",
       "      <th>transaction</th>\n",
       "      <td>138953</td>\n",
       "      <td>138953</td>\n",
       "      <td>138953</td>\n",
       "    </tr>\n",
       "  </tbody>\n",
       "</table>\n",
       "</div>"
      ],
      "text/plain": [
       "                 person   value    time\n",
       "event                                  \n",
       "offer completed   33579   33579   33579\n",
       "offer received    76277   76277   76277\n",
       "offer viewed      57725   57725   57725\n",
       "transaction      138953  138953  138953"
      ]
     },
     "execution_count": 77,
     "metadata": {},
     "output_type": "execute_result"
    }
   ],
   "source": [
    "old_transcript=transcript.groupby('event').count()\n",
    "old_transcript"
   ]
  },
  {
   "cell_type": "code",
   "execution_count": 78,
   "metadata": {},
   "outputs": [
    {
     "data": {
      "text/html": [
       "<div>\n",
       "<style scoped>\n",
       "    .dataframe tbody tr th:only-of-type {\n",
       "        vertical-align: middle;\n",
       "    }\n",
       "\n",
       "    .dataframe tbody tr th {\n",
       "        vertical-align: top;\n",
       "    }\n",
       "\n",
       "    .dataframe thead th {\n",
       "        text-align: right;\n",
       "    }\n",
       "</style>\n",
       "<table border=\"1\" class=\"dataframe\">\n",
       "  <thead>\n",
       "    <tr style=\"text-align: right;\">\n",
       "      <th></th>\n",
       "      <th>person</th>\n",
       "      <th>event</th>\n",
       "      <th>value</th>\n",
       "      <th>time</th>\n",
       "    </tr>\n",
       "  </thead>\n",
       "  <tbody>\n",
       "    <tr>\n",
       "      <th>0</th>\n",
       "      <td>78afa995795e4d85b5d9ceeca43f5fef</td>\n",
       "      <td>offer received</td>\n",
       "      <td>{'offer id': '9b98b8c7a33c4b65b9aebfe6a799e6d9'}</td>\n",
       "      <td>0</td>\n",
       "    </tr>\n",
       "    <tr>\n",
       "      <th>1</th>\n",
       "      <td>a03223e636434f42ac4c3df47e8bac43</td>\n",
       "      <td>offer received</td>\n",
       "      <td>{'offer id': '0b1e1539f2cc45b7b9fa7c272da2e1d7'}</td>\n",
       "      <td>0</td>\n",
       "    </tr>\n",
       "  </tbody>\n",
       "</table>\n",
       "</div>"
      ],
      "text/plain": [
       "                             person           event  \\\n",
       "0  78afa995795e4d85b5d9ceeca43f5fef  offer received   \n",
       "1  a03223e636434f42ac4c3df47e8bac43  offer received   \n",
       "\n",
       "                                              value  time  \n",
       "0  {'offer id': '9b98b8c7a33c4b65b9aebfe6a799e6d9'}     0  \n",
       "1  {'offer id': '0b1e1539f2cc45b7b9fa7c272da2e1d7'}     0  "
      ]
     },
     "metadata": {},
     "output_type": "display_data"
    },
    {
     "data": {
      "text/html": [
       "<div>\n",
       "<style scoped>\n",
       "    .dataframe tbody tr th:only-of-type {\n",
       "        vertical-align: middle;\n",
       "    }\n",
       "\n",
       "    .dataframe tbody tr th {\n",
       "        vertical-align: top;\n",
       "    }\n",
       "\n",
       "    .dataframe thead th {\n",
       "        text-align: right;\n",
       "    }\n",
       "</style>\n",
       "<table border=\"1\" class=\"dataframe\">\n",
       "  <thead>\n",
       "    <tr style=\"text-align: right;\">\n",
       "      <th></th>\n",
       "      <th>person</th>\n",
       "      <th>event</th>\n",
       "      <th>value</th>\n",
       "      <th>time</th>\n",
       "    </tr>\n",
       "  </thead>\n",
       "  <tbody>\n",
       "    <tr>\n",
       "      <th>12650</th>\n",
       "      <td>389bc3fa690240e798340f5a15918d5c</td>\n",
       "      <td>offer viewed</td>\n",
       "      <td>{'offer id': 'f19421c1d4aa40978ebb69ca19b0e20d'}</td>\n",
       "      <td>0</td>\n",
       "    </tr>\n",
       "    <tr>\n",
       "      <th>12651</th>\n",
       "      <td>d1ede868e29245ea91818a903fec04c6</td>\n",
       "      <td>offer viewed</td>\n",
       "      <td>{'offer id': '5a8bc65990b245e5a138643cd4eb9837'}</td>\n",
       "      <td>0</td>\n",
       "    </tr>\n",
       "  </tbody>\n",
       "</table>\n",
       "</div>"
      ],
      "text/plain": [
       "                                 person         event  \\\n",
       "12650  389bc3fa690240e798340f5a15918d5c  offer viewed   \n",
       "12651  d1ede868e29245ea91818a903fec04c6  offer viewed   \n",
       "\n",
       "                                                  value  time  \n",
       "12650  {'offer id': 'f19421c1d4aa40978ebb69ca19b0e20d'}     0  \n",
       "12651  {'offer id': '5a8bc65990b245e5a138643cd4eb9837'}     0  "
      ]
     },
     "metadata": {},
     "output_type": "display_data"
    },
    {
     "data": {
      "text/html": [
       "<div>\n",
       "<style scoped>\n",
       "    .dataframe tbody tr th:only-of-type {\n",
       "        vertical-align: middle;\n",
       "    }\n",
       "\n",
       "    .dataframe tbody tr th {\n",
       "        vertical-align: top;\n",
       "    }\n",
       "\n",
       "    .dataframe thead th {\n",
       "        text-align: right;\n",
       "    }\n",
       "</style>\n",
       "<table border=\"1\" class=\"dataframe\">\n",
       "  <thead>\n",
       "    <tr style=\"text-align: right;\">\n",
       "      <th></th>\n",
       "      <th>person</th>\n",
       "      <th>event</th>\n",
       "      <th>value</th>\n",
       "      <th>time</th>\n",
       "    </tr>\n",
       "  </thead>\n",
       "  <tbody>\n",
       "    <tr>\n",
       "      <th>12658</th>\n",
       "      <td>9fa9ae8f57894cc9a3b8a9bbe0fc1b2f</td>\n",
       "      <td>offer completed</td>\n",
       "      <td>{'offer_id': '2906b810c7d4411798c6938adc9daaa5...</td>\n",
       "      <td>0</td>\n",
       "    </tr>\n",
       "    <tr>\n",
       "      <th>12672</th>\n",
       "      <td>fe97aa22dd3e48c8b143116a8403dd52</td>\n",
       "      <td>offer completed</td>\n",
       "      <td>{'offer_id': 'fafdcd668e3743c1bb461111dcafc2a4...</td>\n",
       "      <td>0</td>\n",
       "    </tr>\n",
       "  </tbody>\n",
       "</table>\n",
       "</div>"
      ],
      "text/plain": [
       "                                 person            event  \\\n",
       "12658  9fa9ae8f57894cc9a3b8a9bbe0fc1b2f  offer completed   \n",
       "12672  fe97aa22dd3e48c8b143116a8403dd52  offer completed   \n",
       "\n",
       "                                                   value  time  \n",
       "12658  {'offer_id': '2906b810c7d4411798c6938adc9daaa5...     0  \n",
       "12672  {'offer_id': 'fafdcd668e3743c1bb461111dcafc2a4...     0  "
      ]
     },
     "metadata": {},
     "output_type": "display_data"
    },
    {
     "data": {
      "text/html": [
       "<div>\n",
       "<style scoped>\n",
       "    .dataframe tbody tr th:only-of-type {\n",
       "        vertical-align: middle;\n",
       "    }\n",
       "\n",
       "    .dataframe tbody tr th {\n",
       "        vertical-align: top;\n",
       "    }\n",
       "\n",
       "    .dataframe thead th {\n",
       "        text-align: right;\n",
       "    }\n",
       "</style>\n",
       "<table border=\"1\" class=\"dataframe\">\n",
       "  <thead>\n",
       "    <tr style=\"text-align: right;\">\n",
       "      <th></th>\n",
       "      <th>person</th>\n",
       "      <th>event</th>\n",
       "      <th>value</th>\n",
       "      <th>time</th>\n",
       "    </tr>\n",
       "  </thead>\n",
       "  <tbody>\n",
       "    <tr>\n",
       "      <th>12654</th>\n",
       "      <td>02c083884c7d45b39cc68e1314fec56c</td>\n",
       "      <td>transaction</td>\n",
       "      <td>{'amount': 0.8300000000000001}</td>\n",
       "      <td>0</td>\n",
       "    </tr>\n",
       "    <tr>\n",
       "      <th>12657</th>\n",
       "      <td>9fa9ae8f57894cc9a3b8a9bbe0fc1b2f</td>\n",
       "      <td>transaction</td>\n",
       "      <td>{'amount': 34.56}</td>\n",
       "      <td>0</td>\n",
       "    </tr>\n",
       "  </tbody>\n",
       "</table>\n",
       "</div>"
      ],
      "text/plain": [
       "                                 person        event  \\\n",
       "12654  02c083884c7d45b39cc68e1314fec56c  transaction   \n",
       "12657  9fa9ae8f57894cc9a3b8a9bbe0fc1b2f  transaction   \n",
       "\n",
       "                                value  time  \n",
       "12654  {'amount': 0.8300000000000001}     0  \n",
       "12657               {'amount': 34.56}     0  "
      ]
     },
     "metadata": {},
     "output_type": "display_data"
    }
   ],
   "source": [
    "display(transcript[transcript.event=='offer received'].head(2))\n",
    "display(transcript[transcript.event=='offer viewed'].head(2))\n",
    "display(transcript[transcript.event=='offer completed'].head(2))\n",
    "display(transcript[transcript.event=='transaction'].head(2))"
   ]
  },
  {
   "cell_type": "markdown",
   "metadata": {},
   "source": [
    "offer completed events have offer_id and reward information. It has an underscore so it is different to offer received and offer viewed. Will need to merge these values later."
   ]
  },
  {
   "cell_type": "code",
   "execution_count": 79,
   "metadata": {},
   "outputs": [
    {
     "data": {
      "text/plain": [
       "{'offer_id': '2906b810c7d4411798c6938adc9daaa5', 'reward': 2}"
      ]
     },
     "execution_count": 79,
     "metadata": {},
     "output_type": "execute_result"
    }
   ],
   "source": [
    "transcript.iloc[12658].value"
   ]
  },
  {
   "cell_type": "markdown",
   "metadata": {},
   "source": [
    "So the value column needs to be popped out and manipulated to pull out it's nested dictionaries."
   ]
  },
  {
   "cell_type": "code",
   "execution_count": 80,
   "metadata": {},
   "outputs": [],
   "source": [
    "value_col=transcript.pop('value')"
   ]
  },
  {
   "cell_type": "code",
   "execution_count": 81,
   "metadata": {},
   "outputs": [
    {
     "data": {
      "text/plain": [
       "{'offer_id': '2906b810c7d4411798c6938adc9daaa5', 'reward': 2}"
      ]
     },
     "execution_count": 81,
     "metadata": {},
     "output_type": "execute_result"
    }
   ],
   "source": [
    "value_col.head(10)\n",
    "value_col.iloc[12658]\n"
   ]
  },
  {
   "cell_type": "markdown",
   "metadata": {},
   "source": [
    "from_records is a tidy way of converting several dictionaries to a table as shown in the quick example below"
   ]
  },
  {
   "cell_type": "code",
   "execution_count": 82,
   "metadata": {},
   "outputs": [
    {
     "data": {
      "text/plain": [
       "[{'col_1': 3, 'col_2': 'a'},\n",
       " {'col_1': 2, 'col_3': 'b'},\n",
       " {'col_1': 1, 'col_2': 'c'},\n",
       " {'col_1': 0, 'col_2': 'd'}]"
      ]
     },
     "execution_count": 82,
     "metadata": {},
     "output_type": "execute_result"
    }
   ],
   "source": [
    "data = [{'col_1': 3, 'col_2': 'a'},\n",
    "        {'col_1': 2, 'col_3': 'b'},\n",
    "        {'col_1': 1, 'col_2': 'c'},\n",
    "        {'col_1': 0, 'col_2': 'd'}]\n",
    "\n",
    "data"
   ]
  },
  {
   "cell_type": "code",
   "execution_count": 83,
   "metadata": {},
   "outputs": [
    {
     "data": {
      "text/html": [
       "<div>\n",
       "<style scoped>\n",
       "    .dataframe tbody tr th:only-of-type {\n",
       "        vertical-align: middle;\n",
       "    }\n",
       "\n",
       "    .dataframe tbody tr th {\n",
       "        vertical-align: top;\n",
       "    }\n",
       "\n",
       "    .dataframe thead th {\n",
       "        text-align: right;\n",
       "    }\n",
       "</style>\n",
       "<table border=\"1\" class=\"dataframe\">\n",
       "  <thead>\n",
       "    <tr style=\"text-align: right;\">\n",
       "      <th></th>\n",
       "      <th>col_1</th>\n",
       "      <th>col_2</th>\n",
       "      <th>col_3</th>\n",
       "    </tr>\n",
       "  </thead>\n",
       "  <tbody>\n",
       "    <tr>\n",
       "      <th>0</th>\n",
       "      <td>3</td>\n",
       "      <td>a</td>\n",
       "      <td>NaN</td>\n",
       "    </tr>\n",
       "    <tr>\n",
       "      <th>1</th>\n",
       "      <td>2</td>\n",
       "      <td>NaN</td>\n",
       "      <td>b</td>\n",
       "    </tr>\n",
       "    <tr>\n",
       "      <th>2</th>\n",
       "      <td>1</td>\n",
       "      <td>c</td>\n",
       "      <td>NaN</td>\n",
       "    </tr>\n",
       "    <tr>\n",
       "      <th>3</th>\n",
       "      <td>0</td>\n",
       "      <td>d</td>\n",
       "      <td>NaN</td>\n",
       "    </tr>\n",
       "  </tbody>\n",
       "</table>\n",
       "</div>"
      ],
      "text/plain": [
       "   col_1 col_2 col_3\n",
       "0      3     a   NaN\n",
       "1      2   NaN     b\n",
       "2      1     c   NaN\n",
       "3      0     d   NaN"
      ]
     },
     "execution_count": 83,
     "metadata": {},
     "output_type": "execute_result"
    }
   ],
   "source": [
    "pd.DataFrame.from_records(data)\n"
   ]
  },
  {
   "cell_type": "code",
   "execution_count": 84,
   "metadata": {},
   "outputs": [
    {
     "data": {
      "text/plain": [
       "offer id                                 NaN\n",
       "offer_id    2906b810c7d4411798c6938adc9daaa5\n",
       "amount                                   NaN\n",
       "reward                                   2.0\n",
       "Name: 12658, dtype: object"
      ]
     },
     "execution_count": 84,
     "metadata": {},
     "output_type": "execute_result"
    }
   ],
   "source": [
    "#value_col=pd.DataFrame.from_records(value_col)\n",
    "value_col=pd.DataFrame.from_records(data=value_col,columns=['offer id','offer_id','amount','reward'])\n",
    "\n",
    "value_col.iloc[12658]"
   ]
  },
  {
   "cell_type": "code",
   "execution_count": 85,
   "metadata": {},
   "outputs": [
    {
     "data": {
      "text/html": [
       "<div>\n",
       "<style scoped>\n",
       "    .dataframe tbody tr th:only-of-type {\n",
       "        vertical-align: middle;\n",
       "    }\n",
       "\n",
       "    .dataframe tbody tr th {\n",
       "        vertical-align: top;\n",
       "    }\n",
       "\n",
       "    .dataframe thead th {\n",
       "        text-align: right;\n",
       "    }\n",
       "</style>\n",
       "<table border=\"1\" class=\"dataframe\">\n",
       "  <thead>\n",
       "    <tr style=\"text-align: right;\">\n",
       "      <th></th>\n",
       "      <th>offer id</th>\n",
       "      <th>offer_id</th>\n",
       "      <th>amount</th>\n",
       "      <th>reward</th>\n",
       "    </tr>\n",
       "  </thead>\n",
       "  <tbody>\n",
       "    <tr>\n",
       "      <th>0</th>\n",
       "      <td>9b98b8c7a33c4b65b9aebfe6a799e6d9</td>\n",
       "      <td>NaN</td>\n",
       "      <td>NaN</td>\n",
       "      <td>NaN</td>\n",
       "    </tr>\n",
       "    <tr>\n",
       "      <th>1</th>\n",
       "      <td>0b1e1539f2cc45b7b9fa7c272da2e1d7</td>\n",
       "      <td>NaN</td>\n",
       "      <td>NaN</td>\n",
       "      <td>NaN</td>\n",
       "    </tr>\n",
       "    <tr>\n",
       "      <th>2</th>\n",
       "      <td>2906b810c7d4411798c6938adc9daaa5</td>\n",
       "      <td>NaN</td>\n",
       "      <td>NaN</td>\n",
       "      <td>NaN</td>\n",
       "    </tr>\n",
       "    <tr>\n",
       "      <th>3</th>\n",
       "      <td>fafdcd668e3743c1bb461111dcafc2a4</td>\n",
       "      <td>NaN</td>\n",
       "      <td>NaN</td>\n",
       "      <td>NaN</td>\n",
       "    </tr>\n",
       "    <tr>\n",
       "      <th>4</th>\n",
       "      <td>4d5c57ea9a6940dd891ad53e9dbe8da0</td>\n",
       "      <td>NaN</td>\n",
       "      <td>NaN</td>\n",
       "      <td>NaN</td>\n",
       "    </tr>\n",
       "  </tbody>\n",
       "</table>\n",
       "</div>"
      ],
      "text/plain": [
       "                           offer id offer_id  amount  reward\n",
       "0  9b98b8c7a33c4b65b9aebfe6a799e6d9      NaN     NaN     NaN\n",
       "1  0b1e1539f2cc45b7b9fa7c272da2e1d7      NaN     NaN     NaN\n",
       "2  2906b810c7d4411798c6938adc9daaa5      NaN     NaN     NaN\n",
       "3  fafdcd668e3743c1bb461111dcafc2a4      NaN     NaN     NaN\n",
       "4  4d5c57ea9a6940dd891ad53e9dbe8da0      NaN     NaN     NaN"
      ]
     },
     "execution_count": 85,
     "metadata": {},
     "output_type": "execute_result"
    }
   ],
   "source": [
    "value_col.head()"
   ]
  },
  {
   "cell_type": "markdown",
   "metadata": {},
   "source": [
    "https://pandas.pydata.org/pandas-docs/stable/reference/api/pandas.DataFrame.update.html  \n",
    "Modify in place using non-NA values from another DataFrame.\n",
    "        \n",
    "combining the offer completed id's (underscore) into the offer received and viewed id's (no underscore)"
   ]
  },
  {
   "cell_type": "code",
   "execution_count": 86,
   "metadata": {},
   "outputs": [],
   "source": [
    "value_col['offer id'].update(value_col.pop('offer_id'))\n"
   ]
  },
  {
   "cell_type": "code",
   "execution_count": null,
   "metadata": {},
   "outputs": [],
   "source": []
  },
  {
   "cell_type": "markdown",
   "metadata": {},
   "source": [
    "Join the transcript table (with the value popped out) with the value field converted into a table."
   ]
  },
  {
   "cell_type": "code",
   "execution_count": 87,
   "metadata": {},
   "outputs": [],
   "source": [
    "transcript= transcript.join(value_col)"
   ]
  },
  {
   "cell_type": "code",
   "execution_count": 88,
   "metadata": {},
   "outputs": [
    {
     "data": {
      "text/html": [
       "<div>\n",
       "<style scoped>\n",
       "    .dataframe tbody tr th:only-of-type {\n",
       "        vertical-align: middle;\n",
       "    }\n",
       "\n",
       "    .dataframe tbody tr th {\n",
       "        vertical-align: top;\n",
       "    }\n",
       "\n",
       "    .dataframe thead th {\n",
       "        text-align: right;\n",
       "    }\n",
       "</style>\n",
       "<table border=\"1\" class=\"dataframe\">\n",
       "  <thead>\n",
       "    <tr style=\"text-align: right;\">\n",
       "      <th></th>\n",
       "      <th>person</th>\n",
       "      <th>event</th>\n",
       "      <th>time</th>\n",
       "      <th>offer id</th>\n",
       "      <th>amount</th>\n",
       "      <th>reward</th>\n",
       "    </tr>\n",
       "  </thead>\n",
       "  <tbody>\n",
       "    <tr>\n",
       "      <th>12658</th>\n",
       "      <td>9fa9ae8f57894cc9a3b8a9bbe0fc1b2f</td>\n",
       "      <td>offer completed</td>\n",
       "      <td>0</td>\n",
       "      <td>2906b810c7d4411798c6938adc9daaa5</td>\n",
       "      <td>NaN</td>\n",
       "      <td>2.0</td>\n",
       "    </tr>\n",
       "    <tr>\n",
       "      <th>12672</th>\n",
       "      <td>fe97aa22dd3e48c8b143116a8403dd52</td>\n",
       "      <td>offer completed</td>\n",
       "      <td>0</td>\n",
       "      <td>fafdcd668e3743c1bb461111dcafc2a4</td>\n",
       "      <td>NaN</td>\n",
       "      <td>2.0</td>\n",
       "    </tr>\n",
       "    <tr>\n",
       "      <th>12679</th>\n",
       "      <td>629fc02d56414d91bca360decdfa9288</td>\n",
       "      <td>offer completed</td>\n",
       "      <td>0</td>\n",
       "      <td>9b98b8c7a33c4b65b9aebfe6a799e6d9</td>\n",
       "      <td>NaN</td>\n",
       "      <td>5.0</td>\n",
       "    </tr>\n",
       "    <tr>\n",
       "      <th>12692</th>\n",
       "      <td>676506bad68e4161b9bbaffeb039626b</td>\n",
       "      <td>offer completed</td>\n",
       "      <td>0</td>\n",
       "      <td>ae264e3637204a6fb9bb56bc8210ddfd</td>\n",
       "      <td>NaN</td>\n",
       "      <td>10.0</td>\n",
       "    </tr>\n",
       "    <tr>\n",
       "      <th>12697</th>\n",
       "      <td>8f7dd3b2afe14c078eb4f6e6fe4ba97d</td>\n",
       "      <td>offer completed</td>\n",
       "      <td>0</td>\n",
       "      <td>4d5c57ea9a6940dd891ad53e9dbe8da0</td>\n",
       "      <td>NaN</td>\n",
       "      <td>10.0</td>\n",
       "    </tr>\n",
       "    <tr>\n",
       "      <th>...</th>\n",
       "      <td>...</td>\n",
       "      <td>...</td>\n",
       "      <td>...</td>\n",
       "      <td>...</td>\n",
       "      <td>...</td>\n",
       "      <td>...</td>\n",
       "    </tr>\n",
       "    <tr>\n",
       "      <th>306475</th>\n",
       "      <td>0c027f5f34dd4b9eba0a25785c611273</td>\n",
       "      <td>offer completed</td>\n",
       "      <td>714</td>\n",
       "      <td>2298d6c36e964ae4a3e7e9706d1fb8c2</td>\n",
       "      <td>NaN</td>\n",
       "      <td>3.0</td>\n",
       "    </tr>\n",
       "    <tr>\n",
       "      <th>306497</th>\n",
       "      <td>a6f84f4e976f44508c358cc9aba6d2b3</td>\n",
       "      <td>offer completed</td>\n",
       "      <td>714</td>\n",
       "      <td>2298d6c36e964ae4a3e7e9706d1fb8c2</td>\n",
       "      <td>NaN</td>\n",
       "      <td>3.0</td>\n",
       "    </tr>\n",
       "    <tr>\n",
       "      <th>306506</th>\n",
       "      <td>b895c57e8cd047a8872ce02aa54759d6</td>\n",
       "      <td>offer completed</td>\n",
       "      <td>714</td>\n",
       "      <td>fafdcd668e3743c1bb461111dcafc2a4</td>\n",
       "      <td>NaN</td>\n",
       "      <td>2.0</td>\n",
       "    </tr>\n",
       "    <tr>\n",
       "      <th>306509</th>\n",
       "      <td>8431c16f8e1d440880db371a68f82dd0</td>\n",
       "      <td>offer completed</td>\n",
       "      <td>714</td>\n",
       "      <td>fafdcd668e3743c1bb461111dcafc2a4</td>\n",
       "      <td>NaN</td>\n",
       "      <td>2.0</td>\n",
       "    </tr>\n",
       "    <tr>\n",
       "      <th>306527</th>\n",
       "      <td>24f56b5e1849462093931b164eb803b5</td>\n",
       "      <td>offer completed</td>\n",
       "      <td>714</td>\n",
       "      <td>fafdcd668e3743c1bb461111dcafc2a4</td>\n",
       "      <td>NaN</td>\n",
       "      <td>2.0</td>\n",
       "    </tr>\n",
       "  </tbody>\n",
       "</table>\n",
       "<p>33579 rows × 6 columns</p>\n",
       "</div>"
      ],
      "text/plain": [
       "                                  person            event  time  \\\n",
       "12658   9fa9ae8f57894cc9a3b8a9bbe0fc1b2f  offer completed     0   \n",
       "12672   fe97aa22dd3e48c8b143116a8403dd52  offer completed     0   \n",
       "12679   629fc02d56414d91bca360decdfa9288  offer completed     0   \n",
       "12692   676506bad68e4161b9bbaffeb039626b  offer completed     0   \n",
       "12697   8f7dd3b2afe14c078eb4f6e6fe4ba97d  offer completed     0   \n",
       "...                                  ...              ...   ...   \n",
       "306475  0c027f5f34dd4b9eba0a25785c611273  offer completed   714   \n",
       "306497  a6f84f4e976f44508c358cc9aba6d2b3  offer completed   714   \n",
       "306506  b895c57e8cd047a8872ce02aa54759d6  offer completed   714   \n",
       "306509  8431c16f8e1d440880db371a68f82dd0  offer completed   714   \n",
       "306527  24f56b5e1849462093931b164eb803b5  offer completed   714   \n",
       "\n",
       "                                offer id  amount  reward  \n",
       "12658   2906b810c7d4411798c6938adc9daaa5     NaN     2.0  \n",
       "12672   fafdcd668e3743c1bb461111dcafc2a4     NaN     2.0  \n",
       "12679   9b98b8c7a33c4b65b9aebfe6a799e6d9     NaN     5.0  \n",
       "12692   ae264e3637204a6fb9bb56bc8210ddfd     NaN    10.0  \n",
       "12697   4d5c57ea9a6940dd891ad53e9dbe8da0     NaN    10.0  \n",
       "...                                  ...     ...     ...  \n",
       "306475  2298d6c36e964ae4a3e7e9706d1fb8c2     NaN     3.0  \n",
       "306497  2298d6c36e964ae4a3e7e9706d1fb8c2     NaN     3.0  \n",
       "306506  fafdcd668e3743c1bb461111dcafc2a4     NaN     2.0  \n",
       "306509  fafdcd668e3743c1bb461111dcafc2a4     NaN     2.0  \n",
       "306527  fafdcd668e3743c1bb461111dcafc2a4     NaN     2.0  \n",
       "\n",
       "[33579 rows x 6 columns]"
      ]
     },
     "execution_count": 88,
     "metadata": {},
     "output_type": "execute_result"
    }
   ],
   "source": [
    "transcript[transcript.event=='offer completed']"
   ]
  },
  {
   "cell_type": "markdown",
   "metadata": {},
   "source": [
    "I dont want spaces in my column names"
   ]
  },
  {
   "cell_type": "code",
   "execution_count": 89,
   "metadata": {},
   "outputs": [],
   "source": [
    "transcript.rename(columns={\"offer id\": \"offer_id\"},inplace=True)\n"
   ]
  },
  {
   "cell_type": "code",
   "execution_count": 90,
   "metadata": {},
   "outputs": [
    {
     "data": {
      "text/html": [
       "<div>\n",
       "<style scoped>\n",
       "    .dataframe tbody tr th:only-of-type {\n",
       "        vertical-align: middle;\n",
       "    }\n",
       "\n",
       "    .dataframe tbody tr th {\n",
       "        vertical-align: top;\n",
       "    }\n",
       "\n",
       "    .dataframe thead th {\n",
       "        text-align: right;\n",
       "    }\n",
       "</style>\n",
       "<table border=\"1\" class=\"dataframe\">\n",
       "  <thead>\n",
       "    <tr style=\"text-align: right;\">\n",
       "      <th></th>\n",
       "      <th>person</th>\n",
       "      <th>event</th>\n",
       "      <th>time</th>\n",
       "      <th>offer_id</th>\n",
       "      <th>amount</th>\n",
       "      <th>reward</th>\n",
       "    </tr>\n",
       "  </thead>\n",
       "  <tbody>\n",
       "    <tr>\n",
       "      <th>0</th>\n",
       "      <td>78afa995795e4d85b5d9ceeca43f5fef</td>\n",
       "      <td>offer received</td>\n",
       "      <td>0</td>\n",
       "      <td>9b98b8c7a33c4b65b9aebfe6a799e6d9</td>\n",
       "      <td>NaN</td>\n",
       "      <td>NaN</td>\n",
       "    </tr>\n",
       "    <tr>\n",
       "      <th>1</th>\n",
       "      <td>a03223e636434f42ac4c3df47e8bac43</td>\n",
       "      <td>offer received</td>\n",
       "      <td>0</td>\n",
       "      <td>0b1e1539f2cc45b7b9fa7c272da2e1d7</td>\n",
       "      <td>NaN</td>\n",
       "      <td>NaN</td>\n",
       "    </tr>\n",
       "  </tbody>\n",
       "</table>\n",
       "</div>"
      ],
      "text/plain": [
       "                             person           event  time  \\\n",
       "0  78afa995795e4d85b5d9ceeca43f5fef  offer received     0   \n",
       "1  a03223e636434f42ac4c3df47e8bac43  offer received     0   \n",
       "\n",
       "                           offer_id  amount  reward  \n",
       "0  9b98b8c7a33c4b65b9aebfe6a799e6d9     NaN     NaN  \n",
       "1  0b1e1539f2cc45b7b9fa7c272da2e1d7     NaN     NaN  "
      ]
     },
     "metadata": {},
     "output_type": "display_data"
    },
    {
     "data": {
      "text/html": [
       "<div>\n",
       "<style scoped>\n",
       "    .dataframe tbody tr th:only-of-type {\n",
       "        vertical-align: middle;\n",
       "    }\n",
       "\n",
       "    .dataframe tbody tr th {\n",
       "        vertical-align: top;\n",
       "    }\n",
       "\n",
       "    .dataframe thead th {\n",
       "        text-align: right;\n",
       "    }\n",
       "</style>\n",
       "<table border=\"1\" class=\"dataframe\">\n",
       "  <thead>\n",
       "    <tr style=\"text-align: right;\">\n",
       "      <th></th>\n",
       "      <th>person</th>\n",
       "      <th>event</th>\n",
       "      <th>time</th>\n",
       "      <th>offer_id</th>\n",
       "      <th>amount</th>\n",
       "      <th>reward</th>\n",
       "    </tr>\n",
       "  </thead>\n",
       "  <tbody>\n",
       "    <tr>\n",
       "      <th>12650</th>\n",
       "      <td>389bc3fa690240e798340f5a15918d5c</td>\n",
       "      <td>offer viewed</td>\n",
       "      <td>0</td>\n",
       "      <td>f19421c1d4aa40978ebb69ca19b0e20d</td>\n",
       "      <td>NaN</td>\n",
       "      <td>NaN</td>\n",
       "    </tr>\n",
       "    <tr>\n",
       "      <th>12651</th>\n",
       "      <td>d1ede868e29245ea91818a903fec04c6</td>\n",
       "      <td>offer viewed</td>\n",
       "      <td>0</td>\n",
       "      <td>5a8bc65990b245e5a138643cd4eb9837</td>\n",
       "      <td>NaN</td>\n",
       "      <td>NaN</td>\n",
       "    </tr>\n",
       "  </tbody>\n",
       "</table>\n",
       "</div>"
      ],
      "text/plain": [
       "                                 person         event  time  \\\n",
       "12650  389bc3fa690240e798340f5a15918d5c  offer viewed     0   \n",
       "12651  d1ede868e29245ea91818a903fec04c6  offer viewed     0   \n",
       "\n",
       "                               offer_id  amount  reward  \n",
       "12650  f19421c1d4aa40978ebb69ca19b0e20d     NaN     NaN  \n",
       "12651  5a8bc65990b245e5a138643cd4eb9837     NaN     NaN  "
      ]
     },
     "metadata": {},
     "output_type": "display_data"
    },
    {
     "data": {
      "text/html": [
       "<div>\n",
       "<style scoped>\n",
       "    .dataframe tbody tr th:only-of-type {\n",
       "        vertical-align: middle;\n",
       "    }\n",
       "\n",
       "    .dataframe tbody tr th {\n",
       "        vertical-align: top;\n",
       "    }\n",
       "\n",
       "    .dataframe thead th {\n",
       "        text-align: right;\n",
       "    }\n",
       "</style>\n",
       "<table border=\"1\" class=\"dataframe\">\n",
       "  <thead>\n",
       "    <tr style=\"text-align: right;\">\n",
       "      <th></th>\n",
       "      <th>person</th>\n",
       "      <th>event</th>\n",
       "      <th>time</th>\n",
       "      <th>offer_id</th>\n",
       "      <th>amount</th>\n",
       "      <th>reward</th>\n",
       "    </tr>\n",
       "  </thead>\n",
       "  <tbody>\n",
       "    <tr>\n",
       "      <th>12658</th>\n",
       "      <td>9fa9ae8f57894cc9a3b8a9bbe0fc1b2f</td>\n",
       "      <td>offer completed</td>\n",
       "      <td>0</td>\n",
       "      <td>2906b810c7d4411798c6938adc9daaa5</td>\n",
       "      <td>NaN</td>\n",
       "      <td>2.0</td>\n",
       "    </tr>\n",
       "    <tr>\n",
       "      <th>12672</th>\n",
       "      <td>fe97aa22dd3e48c8b143116a8403dd52</td>\n",
       "      <td>offer completed</td>\n",
       "      <td>0</td>\n",
       "      <td>fafdcd668e3743c1bb461111dcafc2a4</td>\n",
       "      <td>NaN</td>\n",
       "      <td>2.0</td>\n",
       "    </tr>\n",
       "  </tbody>\n",
       "</table>\n",
       "</div>"
      ],
      "text/plain": [
       "                                 person            event  time  \\\n",
       "12658  9fa9ae8f57894cc9a3b8a9bbe0fc1b2f  offer completed     0   \n",
       "12672  fe97aa22dd3e48c8b143116a8403dd52  offer completed     0   \n",
       "\n",
       "                               offer_id  amount  reward  \n",
       "12658  2906b810c7d4411798c6938adc9daaa5     NaN     2.0  \n",
       "12672  fafdcd668e3743c1bb461111dcafc2a4     NaN     2.0  "
      ]
     },
     "metadata": {},
     "output_type": "display_data"
    },
    {
     "data": {
      "text/html": [
       "<div>\n",
       "<style scoped>\n",
       "    .dataframe tbody tr th:only-of-type {\n",
       "        vertical-align: middle;\n",
       "    }\n",
       "\n",
       "    .dataframe tbody tr th {\n",
       "        vertical-align: top;\n",
       "    }\n",
       "\n",
       "    .dataframe thead th {\n",
       "        text-align: right;\n",
       "    }\n",
       "</style>\n",
       "<table border=\"1\" class=\"dataframe\">\n",
       "  <thead>\n",
       "    <tr style=\"text-align: right;\">\n",
       "      <th></th>\n",
       "      <th>person</th>\n",
       "      <th>event</th>\n",
       "      <th>time</th>\n",
       "      <th>offer_id</th>\n",
       "      <th>amount</th>\n",
       "      <th>reward</th>\n",
       "    </tr>\n",
       "  </thead>\n",
       "  <tbody>\n",
       "    <tr>\n",
       "      <th>12654</th>\n",
       "      <td>02c083884c7d45b39cc68e1314fec56c</td>\n",
       "      <td>transaction</td>\n",
       "      <td>0</td>\n",
       "      <td>NaN</td>\n",
       "      <td>0.83</td>\n",
       "      <td>NaN</td>\n",
       "    </tr>\n",
       "    <tr>\n",
       "      <th>12657</th>\n",
       "      <td>9fa9ae8f57894cc9a3b8a9bbe0fc1b2f</td>\n",
       "      <td>transaction</td>\n",
       "      <td>0</td>\n",
       "      <td>NaN</td>\n",
       "      <td>34.56</td>\n",
       "      <td>NaN</td>\n",
       "    </tr>\n",
       "  </tbody>\n",
       "</table>\n",
       "</div>"
      ],
      "text/plain": [
       "                                 person        event  time offer_id  amount  \\\n",
       "12654  02c083884c7d45b39cc68e1314fec56c  transaction     0      NaN    0.83   \n",
       "12657  9fa9ae8f57894cc9a3b8a9bbe0fc1b2f  transaction     0      NaN   34.56   \n",
       "\n",
       "       reward  \n",
       "12654     NaN  \n",
       "12657     NaN  "
      ]
     },
     "metadata": {},
     "output_type": "display_data"
    }
   ],
   "source": [
    "display(transcript[transcript.event=='offer received'].head(2))\n",
    "display(transcript[transcript.event=='offer viewed'].head(2))\n",
    "display(transcript[transcript.event=='offer completed'].head(2))\n",
    "display(transcript[transcript.event=='transaction'].head(2))"
   ]
  },
  {
   "cell_type": "markdown",
   "metadata": {},
   "source": [
    "Comparing the new transcript table to the old confirms it was parsed out correctly"
   ]
  },
  {
   "cell_type": "code",
   "execution_count": 91,
   "metadata": {},
   "outputs": [
    {
     "data": {
      "text/html": [
       "<div>\n",
       "<style scoped>\n",
       "    .dataframe tbody tr th:only-of-type {\n",
       "        vertical-align: middle;\n",
       "    }\n",
       "\n",
       "    .dataframe tbody tr th {\n",
       "        vertical-align: top;\n",
       "    }\n",
       "\n",
       "    .dataframe thead th {\n",
       "        text-align: right;\n",
       "    }\n",
       "</style>\n",
       "<table border=\"1\" class=\"dataframe\">\n",
       "  <thead>\n",
       "    <tr style=\"text-align: right;\">\n",
       "      <th></th>\n",
       "      <th>person</th>\n",
       "      <th>value</th>\n",
       "      <th>time</th>\n",
       "    </tr>\n",
       "    <tr>\n",
       "      <th>event</th>\n",
       "      <th></th>\n",
       "      <th></th>\n",
       "      <th></th>\n",
       "    </tr>\n",
       "  </thead>\n",
       "  <tbody>\n",
       "    <tr>\n",
       "      <th>offer completed</th>\n",
       "      <td>33579</td>\n",
       "      <td>33579</td>\n",
       "      <td>33579</td>\n",
       "    </tr>\n",
       "    <tr>\n",
       "      <th>offer received</th>\n",
       "      <td>76277</td>\n",
       "      <td>76277</td>\n",
       "      <td>76277</td>\n",
       "    </tr>\n",
       "    <tr>\n",
       "      <th>offer viewed</th>\n",
       "      <td>57725</td>\n",
       "      <td>57725</td>\n",
       "      <td>57725</td>\n",
       "    </tr>\n",
       "    <tr>\n",
       "      <th>transaction</th>\n",
       "      <td>138953</td>\n",
       "      <td>138953</td>\n",
       "      <td>138953</td>\n",
       "    </tr>\n",
       "  </tbody>\n",
       "</table>\n",
       "</div>"
      ],
      "text/plain": [
       "                 person   value    time\n",
       "event                                  \n",
       "offer completed   33579   33579   33579\n",
       "offer received    76277   76277   76277\n",
       "offer viewed      57725   57725   57725\n",
       "transaction      138953  138953  138953"
      ]
     },
     "metadata": {},
     "output_type": "display_data"
    },
    {
     "data": {
      "text/html": [
       "<div>\n",
       "<style scoped>\n",
       "    .dataframe tbody tr th:only-of-type {\n",
       "        vertical-align: middle;\n",
       "    }\n",
       "\n",
       "    .dataframe tbody tr th {\n",
       "        vertical-align: top;\n",
       "    }\n",
       "\n",
       "    .dataframe thead th {\n",
       "        text-align: right;\n",
       "    }\n",
       "</style>\n",
       "<table border=\"1\" class=\"dataframe\">\n",
       "  <thead>\n",
       "    <tr style=\"text-align: right;\">\n",
       "      <th></th>\n",
       "      <th>person</th>\n",
       "      <th>time</th>\n",
       "      <th>offer_id</th>\n",
       "      <th>amount</th>\n",
       "      <th>reward</th>\n",
       "    </tr>\n",
       "    <tr>\n",
       "      <th>event</th>\n",
       "      <th></th>\n",
       "      <th></th>\n",
       "      <th></th>\n",
       "      <th></th>\n",
       "      <th></th>\n",
       "    </tr>\n",
       "  </thead>\n",
       "  <tbody>\n",
       "    <tr>\n",
       "      <th>offer completed</th>\n",
       "      <td>33579</td>\n",
       "      <td>33579</td>\n",
       "      <td>33579</td>\n",
       "      <td>0</td>\n",
       "      <td>33579</td>\n",
       "    </tr>\n",
       "    <tr>\n",
       "      <th>offer received</th>\n",
       "      <td>76277</td>\n",
       "      <td>76277</td>\n",
       "      <td>76277</td>\n",
       "      <td>0</td>\n",
       "      <td>0</td>\n",
       "    </tr>\n",
       "    <tr>\n",
       "      <th>offer viewed</th>\n",
       "      <td>57725</td>\n",
       "      <td>57725</td>\n",
       "      <td>57725</td>\n",
       "      <td>0</td>\n",
       "      <td>0</td>\n",
       "    </tr>\n",
       "    <tr>\n",
       "      <th>transaction</th>\n",
       "      <td>138953</td>\n",
       "      <td>138953</td>\n",
       "      <td>0</td>\n",
       "      <td>138953</td>\n",
       "      <td>0</td>\n",
       "    </tr>\n",
       "  </tbody>\n",
       "</table>\n",
       "</div>"
      ],
      "text/plain": [
       "                 person    time  offer_id  amount  reward\n",
       "event                                                    \n",
       "offer completed   33579   33579     33579       0   33579\n",
       "offer received    76277   76277     76277       0       0\n",
       "offer viewed      57725   57725     57725       0       0\n",
       "transaction      138953  138953         0  138953       0"
      ]
     },
     "metadata": {},
     "output_type": "display_data"
    }
   ],
   "source": [
    "display(old_transcript)\n",
    "display(transcript.groupby(['event']).count())\n"
   ]
  },
  {
   "cell_type": "markdown",
   "metadata": {},
   "source": [
    "'offer completed' events have 'reward' values  \n",
    "'offer received' events have 'offer_id' values  \n",
    "'offer viewed' events have 'offer_id' values  \n",
    "'transaction' events have 'amount' values"
   ]
  },
  {
   "cell_type": "code",
   "execution_count": null,
   "metadata": {},
   "outputs": [],
   "source": []
  },
  {
   "cell_type": "markdown",
   "metadata": {},
   "source": [
    "I can see all values have at least a person, event and time value."
   ]
  },
  {
   "cell_type": "code",
   "execution_count": 92,
   "metadata": {
    "scrolled": false
   },
   "outputs": [
    {
     "data": {
      "text/plain": [
       "person           0\n",
       "event            0\n",
       "time             0\n",
       "offer_id    138953\n",
       "amount      167581\n",
       "reward      272955\n",
       "dtype: int64"
      ]
     },
     "execution_count": 92,
     "metadata": {},
     "output_type": "execute_result"
    }
   ],
   "source": [
    "transcript.isnull().sum()"
   ]
  },
  {
   "cell_type": "markdown",
   "metadata": {},
   "source": [
    "Examining the transaction amounts in the transcript table. I can see in the histogram that the data is heavily skewed. Possibly by an outliers close to a value of 1000"
   ]
  },
  {
   "cell_type": "code",
   "execution_count": 93,
   "metadata": {
    "scrolled": false
   },
   "outputs": [
    {
     "data": {
      "text/plain": [
       "<AxesSubplot:>"
      ]
     },
     "execution_count": 93,
     "metadata": {},
     "output_type": "execute_result"
    },
    {
     "data": {
      "image/png": "[encoded data removed]",
      "text/plain": [
       "<Figure size 432x288 with 1 Axes>"
      ]
     },
     "metadata": {
      "needs_background": "light"
     },
     "output_type": "display_data"
    }
   ],
   "source": [
    "#transcript.amount.dropna.hist(bins=50)\n",
    "transcript.amount.dropna().hist(bins=30)"
   ]
  },
  {
   "cell_type": "code",
   "execution_count": 94,
   "metadata": {},
   "outputs": [
    {
     "data": {
      "text/plain": [
       "(-1.012, 21.295]     114621\n",
       "(21.295, 42.539]      23278\n",
       "(42.539, 63.784]        433\n",
       "(63.784, 85.028]         95\n",
       "(85.028, 106.273]        71\n",
       "Name: amount, dtype: int64"
      ]
     },
     "execution_count": 94,
     "metadata": {},
     "output_type": "execute_result"
    }
   ],
   "source": [
    "pd.cut(transcript.amount.dropna(), 50).value_counts().head()"
   ]
  },
  {
   "cell_type": "code",
   "execution_count": 95,
   "metadata": {},
   "outputs": [
    {
     "data": {
      "text/plain": [
       "284273    1062.28\n",
       "301790    1015.73\n",
       "42253     1001.85\n",
       "140346     989.34\n",
       "302951     977.78\n",
       "           ...   \n",
       "298170       0.05\n",
       "108305       0.05\n",
       "108315       0.05\n",
       "108489       0.05\n",
       "109307       0.05\n",
       "Name: amount, Length: 138953, dtype: float64"
      ]
     },
     "execution_count": 95,
     "metadata": {},
     "output_type": "execute_result"
    }
   ],
   "source": [
    "(transcript.amount).sort_values(ascending=False).dropna()"
   ]
  },
  {
   "cell_type": "code",
   "execution_count": 96,
   "metadata": {},
   "outputs": [
    {
     "data": {
      "text/html": [
       "<div>\n",
       "<style scoped>\n",
       "    .dataframe tbody tr th:only-of-type {\n",
       "        vertical-align: middle;\n",
       "    }\n",
       "\n",
       "    .dataframe tbody tr th {\n",
       "        vertical-align: top;\n",
       "    }\n",
       "\n",
       "    .dataframe thead th {\n",
       "        text-align: right;\n",
       "    }\n",
       "</style>\n",
       "<table border=\"1\" class=\"dataframe\">\n",
       "  <thead>\n",
       "    <tr style=\"text-align: right;\">\n",
       "      <th></th>\n",
       "      <th>person</th>\n",
       "      <th>event</th>\n",
       "      <th>time</th>\n",
       "      <th>offer_id</th>\n",
       "      <th>amount</th>\n",
       "      <th>reward</th>\n",
       "    </tr>\n",
       "  </thead>\n",
       "  <tbody>\n",
       "    <tr>\n",
       "      <th>42253</th>\n",
       "      <td>5ecaea5c8bf44ae4a65838d9d066c909</td>\n",
       "      <td>transaction</td>\n",
       "      <td>102</td>\n",
       "      <td>NaN</td>\n",
       "      <td>1001.85</td>\n",
       "      <td>NaN</td>\n",
       "    </tr>\n",
       "    <tr>\n",
       "      <th>284273</th>\n",
       "      <td>6cf884a6c5ae4b2daccb6d3108028fef</td>\n",
       "      <td>transaction</td>\n",
       "      <td>630</td>\n",
       "      <td>NaN</td>\n",
       "      <td>1062.28</td>\n",
       "      <td>NaN</td>\n",
       "    </tr>\n",
       "    <tr>\n",
       "      <th>301790</th>\n",
       "      <td>454b00bdd77c4f588eb9f6cafd81dc5d</td>\n",
       "      <td>transaction</td>\n",
       "      <td>690</td>\n",
       "      <td>NaN</td>\n",
       "      <td>1015.73</td>\n",
       "      <td>NaN</td>\n",
       "    </tr>\n",
       "  </tbody>\n",
       "</table>\n",
       "</div>"
      ],
      "text/plain": [
       "                                  person        event  time offer_id   amount  \\\n",
       "42253   5ecaea5c8bf44ae4a65838d9d066c909  transaction   102      NaN  1001.85   \n",
       "284273  6cf884a6c5ae4b2daccb6d3108028fef  transaction   630      NaN  1062.28   \n",
       "301790  454b00bdd77c4f588eb9f6cafd81dc5d  transaction   690      NaN  1015.73   \n",
       "\n",
       "        reward  \n",
       "42253      NaN  \n",
       "284273     NaN  \n",
       "301790     NaN  "
      ]
     },
     "execution_count": 96,
     "metadata": {},
     "output_type": "execute_result"
    }
   ],
   "source": [
    "transcript.loc[transcript.amount >1000]"
   ]
  },
  {
   "cell_type": "code",
   "execution_count": 97,
   "metadata": {
    "scrolled": false
   },
   "outputs": [
    {
     "data": {
      "text/html": [
       "<div>\n",
       "<style scoped>\n",
       "    .dataframe tbody tr th:only-of-type {\n",
       "        vertical-align: middle;\n",
       "    }\n",
       "\n",
       "    .dataframe tbody tr th {\n",
       "        vertical-align: top;\n",
       "    }\n",
       "\n",
       "    .dataframe thead th {\n",
       "        text-align: right;\n",
       "    }\n",
       "</style>\n",
       "<table border=\"1\" class=\"dataframe\">\n",
       "  <thead>\n",
       "    <tr style=\"text-align: right;\">\n",
       "      <th></th>\n",
       "      <th>person</th>\n",
       "      <th>event</th>\n",
       "      <th>time</th>\n",
       "      <th>offer_id</th>\n",
       "      <th>amount</th>\n",
       "      <th>reward</th>\n",
       "    </tr>\n",
       "  </thead>\n",
       "  <tbody>\n",
       "    <tr>\n",
       "      <th>42253</th>\n",
       "      <td>5ecaea5c8bf44ae4a65838d9d066c909</td>\n",
       "      <td>transaction</td>\n",
       "      <td>102</td>\n",
       "      <td>NaN</td>\n",
       "      <td>1001.85</td>\n",
       "      <td>NaN</td>\n",
       "    </tr>\n",
       "    <tr>\n",
       "      <th>284273</th>\n",
       "      <td>6cf884a6c5ae4b2daccb6d3108028fef</td>\n",
       "      <td>transaction</td>\n",
       "      <td>630</td>\n",
       "      <td>NaN</td>\n",
       "      <td>1062.28</td>\n",
       "      <td>NaN</td>\n",
       "    </tr>\n",
       "    <tr>\n",
       "      <th>301790</th>\n",
       "      <td>454b00bdd77c4f588eb9f6cafd81dc5d</td>\n",
       "      <td>transaction</td>\n",
       "      <td>690</td>\n",
       "      <td>NaN</td>\n",
       "      <td>1015.73</td>\n",
       "      <td>NaN</td>\n",
       "    </tr>\n",
       "  </tbody>\n",
       "</table>\n",
       "</div>"
      ],
      "text/plain": [
       "                                  person        event  time offer_id   amount  \\\n",
       "42253   5ecaea5c8bf44ae4a65838d9d066c909  transaction   102      NaN  1001.85   \n",
       "284273  6cf884a6c5ae4b2daccb6d3108028fef  transaction   630      NaN  1062.28   \n",
       "301790  454b00bdd77c4f588eb9f6cafd81dc5d  transaction   690      NaN  1015.73   \n",
       "\n",
       "        reward  \n",
       "42253      NaN  \n",
       "284273     NaN  \n",
       "301790     NaN  "
      ]
     },
     "execution_count": 97,
     "metadata": {},
     "output_type": "execute_result"
    }
   ],
   "source": [
    "transcript.loc[transcript.amount >1000 ]"
   ]
  },
  {
   "cell_type": "code",
   "execution_count": 98,
   "metadata": {},
   "outputs": [
    {
     "data": {
      "text/html": [
       "<div>\n",
       "<style scoped>\n",
       "    .dataframe tbody tr th:only-of-type {\n",
       "        vertical-align: middle;\n",
       "    }\n",
       "\n",
       "    .dataframe tbody tr th {\n",
       "        vertical-align: top;\n",
       "    }\n",
       "\n",
       "    .dataframe thead th {\n",
       "        text-align: right;\n",
       "    }\n",
       "</style>\n",
       "<table border=\"1\" class=\"dataframe\">\n",
       "  <thead>\n",
       "    <tr style=\"text-align: right;\">\n",
       "      <th></th>\n",
       "      <th>event</th>\n",
       "      <th>time</th>\n",
       "      <th>offer_id</th>\n",
       "      <th>amount</th>\n",
       "      <th>reward</th>\n",
       "    </tr>\n",
       "    <tr>\n",
       "      <th>person</th>\n",
       "      <th></th>\n",
       "      <th></th>\n",
       "      <th></th>\n",
       "      <th></th>\n",
       "      <th></th>\n",
       "    </tr>\n",
       "  </thead>\n",
       "  <tbody>\n",
       "    <tr>\n",
       "      <th>5b705521de904d9488c950ef75392649</th>\n",
       "      <td>6</td>\n",
       "      <td>6</td>\n",
       "      <td>0</td>\n",
       "      <td>6</td>\n",
       "      <td>0</td>\n",
       "    </tr>\n",
       "    <tr>\n",
       "      <th>4e458fc73b004f6896bafd3f7265d0ce</th>\n",
       "      <td>5</td>\n",
       "      <td>5</td>\n",
       "      <td>0</td>\n",
       "      <td>5</td>\n",
       "      <td>0</td>\n",
       "    </tr>\n",
       "    <tr>\n",
       "      <th>e939b759b0fc46c5a10563315f01d91e</th>\n",
       "      <td>5</td>\n",
       "      <td>5</td>\n",
       "      <td>0</td>\n",
       "      <td>5</td>\n",
       "      <td>0</td>\n",
       "    </tr>\n",
       "    <tr>\n",
       "      <th>afd07f7a88424108bb0a30f66920eadc</th>\n",
       "      <td>5</td>\n",
       "      <td>5</td>\n",
       "      <td>0</td>\n",
       "      <td>5</td>\n",
       "      <td>0</td>\n",
       "    </tr>\n",
       "    <tr>\n",
       "      <th>df6fd073309e42ecb1ab53d3daa6e13b</th>\n",
       "      <td>5</td>\n",
       "      <td>5</td>\n",
       "      <td>0</td>\n",
       "      <td>5</td>\n",
       "      <td>0</td>\n",
       "    </tr>\n",
       "    <tr>\n",
       "      <th>...</th>\n",
       "      <td>...</td>\n",
       "      <td>...</td>\n",
       "      <td>...</td>\n",
       "      <td>...</td>\n",
       "      <td>...</td>\n",
       "    </tr>\n",
       "    <tr>\n",
       "      <th>5ccd41b525974b16aa806a4cb96f66f8</th>\n",
       "      <td>1</td>\n",
       "      <td>1</td>\n",
       "      <td>0</td>\n",
       "      <td>1</td>\n",
       "      <td>0</td>\n",
       "    </tr>\n",
       "    <tr>\n",
       "      <th>5ca2620962114246ab218fc648eb3934</th>\n",
       "      <td>1</td>\n",
       "      <td>1</td>\n",
       "      <td>0</td>\n",
       "      <td>1</td>\n",
       "      <td>0</td>\n",
       "    </tr>\n",
       "    <tr>\n",
       "      <th>5c77da0f5e12463aaff3215de53b711a</th>\n",
       "      <td>1</td>\n",
       "      <td>1</td>\n",
       "      <td>0</td>\n",
       "      <td>1</td>\n",
       "      <td>0</td>\n",
       "    </tr>\n",
       "    <tr>\n",
       "      <th>5c59075ce60b48029123d6a466604e44</th>\n",
       "      <td>1</td>\n",
       "      <td>1</td>\n",
       "      <td>0</td>\n",
       "      <td>1</td>\n",
       "      <td>0</td>\n",
       "    </tr>\n",
       "    <tr>\n",
       "      <th>ffede3b700ac41d6a266fa1ba74b4f16</th>\n",
       "      <td>1</td>\n",
       "      <td>1</td>\n",
       "      <td>0</td>\n",
       "      <td>1</td>\n",
       "      <td>0</td>\n",
       "    </tr>\n",
       "  </tbody>\n",
       "</table>\n",
       "<p>1851 rows × 5 columns</p>\n",
       "</div>"
      ],
      "text/plain": [
       "                                  event  time  offer_id  amount  reward\n",
       "person                                                                 \n",
       "5b705521de904d9488c950ef75392649      6     6         0       6       0\n",
       "4e458fc73b004f6896bafd3f7265d0ce      5     5         0       5       0\n",
       "e939b759b0fc46c5a10563315f01d91e      5     5         0       5       0\n",
       "afd07f7a88424108bb0a30f66920eadc      5     5         0       5       0\n",
       "df6fd073309e42ecb1ab53d3daa6e13b      5     5         0       5       0\n",
       "...                                 ...   ...       ...     ...     ...\n",
       "5ccd41b525974b16aa806a4cb96f66f8      1     1         0       1       0\n",
       "5ca2620962114246ab218fc648eb3934      1     1         0       1       0\n",
       "5c77da0f5e12463aaff3215de53b711a      1     1         0       1       0\n",
       "5c59075ce60b48029123d6a466604e44      1     1         0       1       0\n",
       "ffede3b700ac41d6a266fa1ba74b4f16      1     1         0       1       0\n",
       "\n",
       "[1851 rows x 5 columns]"
      ]
     },
     "execution_count": 98,
     "metadata": {},
     "output_type": "execute_result"
    }
   ],
   "source": [
    "transcript.loc[transcript.amount<=0.25].groupby(['person']).count().sort_values(by=['event'], axis=0, ascending=False)"
   ]
  },
  {
   "cell_type": "code",
   "execution_count": null,
   "metadata": {},
   "outputs": [],
   "source": []
  },
  {
   "cell_type": "code",
   "execution_count": 99,
   "metadata": {},
   "outputs": [
    {
     "data": {
      "text/html": [
       "<div>\n",
       "<style scoped>\n",
       "    .dataframe tbody tr th:only-of-type {\n",
       "        vertical-align: middle;\n",
       "    }\n",
       "\n",
       "    .dataframe tbody tr th {\n",
       "        vertical-align: top;\n",
       "    }\n",
       "\n",
       "    .dataframe thead th {\n",
       "        text-align: right;\n",
       "    }\n",
       "</style>\n",
       "<table border=\"1\" class=\"dataframe\">\n",
       "  <thead>\n",
       "    <tr style=\"text-align: right;\">\n",
       "      <th></th>\n",
       "      <th>person</th>\n",
       "      <th>event</th>\n",
       "      <th>time</th>\n",
       "      <th>offer_id</th>\n",
       "      <th>amount</th>\n",
       "      <th>reward</th>\n",
       "    </tr>\n",
       "  </thead>\n",
       "  <tbody>\n",
       "    <tr>\n",
       "      <th>28479</th>\n",
       "      <td>edbde592cd5e4cdea4af81a398866804</td>\n",
       "      <td>transaction</td>\n",
       "      <td>42</td>\n",
       "      <td>NaN</td>\n",
       "      <td>1.00</td>\n",
       "      <td>NaN</td>\n",
       "    </tr>\n",
       "    <tr>\n",
       "      <th>31653</th>\n",
       "      <td>edbde592cd5e4cdea4af81a398866804</td>\n",
       "      <td>transaction</td>\n",
       "      <td>54</td>\n",
       "      <td>NaN</td>\n",
       "      <td>7.01</td>\n",
       "      <td>NaN</td>\n",
       "    </tr>\n",
       "    <tr>\n",
       "      <th>37395</th>\n",
       "      <td>edbde592cd5e4cdea4af81a398866804</td>\n",
       "      <td>transaction</td>\n",
       "      <td>78</td>\n",
       "      <td>NaN</td>\n",
       "      <td>0.19</td>\n",
       "      <td>NaN</td>\n",
       "    </tr>\n",
       "    <tr>\n",
       "      <th>40001</th>\n",
       "      <td>edbde592cd5e4cdea4af81a398866804</td>\n",
       "      <td>transaction</td>\n",
       "      <td>90</td>\n",
       "      <td>NaN</td>\n",
       "      <td>2.20</td>\n",
       "      <td>NaN</td>\n",
       "    </tr>\n",
       "    <tr>\n",
       "      <th>44748</th>\n",
       "      <td>edbde592cd5e4cdea4af81a398866804</td>\n",
       "      <td>transaction</td>\n",
       "      <td>114</td>\n",
       "      <td>NaN</td>\n",
       "      <td>2.43</td>\n",
       "      <td>NaN</td>\n",
       "    </tr>\n",
       "    <tr>\n",
       "      <th>47950</th>\n",
       "      <td>edbde592cd5e4cdea4af81a398866804</td>\n",
       "      <td>transaction</td>\n",
       "      <td>132</td>\n",
       "      <td>NaN</td>\n",
       "      <td>3.95</td>\n",
       "      <td>NaN</td>\n",
       "    </tr>\n",
       "    <tr>\n",
       "      <th>67188</th>\n",
       "      <td>edbde592cd5e4cdea4af81a398866804</td>\n",
       "      <td>transaction</td>\n",
       "      <td>168</td>\n",
       "      <td>NaN</td>\n",
       "      <td>4.53</td>\n",
       "      <td>NaN</td>\n",
       "    </tr>\n",
       "    <tr>\n",
       "      <th>70352</th>\n",
       "      <td>edbde592cd5e4cdea4af81a398866804</td>\n",
       "      <td>transaction</td>\n",
       "      <td>174</td>\n",
       "      <td>NaN</td>\n",
       "      <td>3.97</td>\n",
       "      <td>NaN</td>\n",
       "    </tr>\n",
       "    <tr>\n",
       "      <th>108305</th>\n",
       "      <td>edbde592cd5e4cdea4af81a398866804</td>\n",
       "      <td>transaction</td>\n",
       "      <td>318</td>\n",
       "      <td>NaN</td>\n",
       "      <td>0.05</td>\n",
       "      <td>NaN</td>\n",
       "    </tr>\n",
       "    <tr>\n",
       "      <th>172377</th>\n",
       "      <td>edbde592cd5e4cdea4af81a398866804</td>\n",
       "      <td>transaction</td>\n",
       "      <td>420</td>\n",
       "      <td>NaN</td>\n",
       "      <td>3.74</td>\n",
       "      <td>NaN</td>\n",
       "    </tr>\n",
       "    <tr>\n",
       "      <th>185726</th>\n",
       "      <td>edbde592cd5e4cdea4af81a398866804</td>\n",
       "      <td>transaction</td>\n",
       "      <td>450</td>\n",
       "      <td>NaN</td>\n",
       "      <td>1.11</td>\n",
       "      <td>NaN</td>\n",
       "    </tr>\n",
       "    <tr>\n",
       "      <th>193878</th>\n",
       "      <td>edbde592cd5e4cdea4af81a398866804</td>\n",
       "      <td>transaction</td>\n",
       "      <td>474</td>\n",
       "      <td>NaN</td>\n",
       "      <td>0.18</td>\n",
       "      <td>NaN</td>\n",
       "    </tr>\n",
       "    <tr>\n",
       "      <th>259531</th>\n",
       "      <td>edbde592cd5e4cdea4af81a398866804</td>\n",
       "      <td>transaction</td>\n",
       "      <td>576</td>\n",
       "      <td>NaN</td>\n",
       "      <td>0.18</td>\n",
       "      <td>NaN</td>\n",
       "    </tr>\n",
       "    <tr>\n",
       "      <th>263347</th>\n",
       "      <td>edbde592cd5e4cdea4af81a398866804</td>\n",
       "      <td>transaction</td>\n",
       "      <td>582</td>\n",
       "      <td>NaN</td>\n",
       "      <td>0.08</td>\n",
       "      <td>NaN</td>\n",
       "    </tr>\n",
       "    <tr>\n",
       "      <th>266782</th>\n",
       "      <td>edbde592cd5e4cdea4af81a398866804</td>\n",
       "      <td>transaction</td>\n",
       "      <td>588</td>\n",
       "      <td>NaN</td>\n",
       "      <td>0.85</td>\n",
       "      <td>NaN</td>\n",
       "    </tr>\n",
       "    <tr>\n",
       "      <th>298432</th>\n",
       "      <td>edbde592cd5e4cdea4af81a398866804</td>\n",
       "      <td>transaction</td>\n",
       "      <td>678</td>\n",
       "      <td>NaN</td>\n",
       "      <td>1.05</td>\n",
       "      <td>NaN</td>\n",
       "    </tr>\n",
       "  </tbody>\n",
       "</table>\n",
       "</div>"
      ],
      "text/plain": [
       "                                  person        event  time offer_id  amount  \\\n",
       "28479   edbde592cd5e4cdea4af81a398866804  transaction    42      NaN    1.00   \n",
       "31653   edbde592cd5e4cdea4af81a398866804  transaction    54      NaN    7.01   \n",
       "37395   edbde592cd5e4cdea4af81a398866804  transaction    78      NaN    0.19   \n",
       "40001   edbde592cd5e4cdea4af81a398866804  transaction    90      NaN    2.20   \n",
       "44748   edbde592cd5e4cdea4af81a398866804  transaction   114      NaN    2.43   \n",
       "47950   edbde592cd5e4cdea4af81a398866804  transaction   132      NaN    3.95   \n",
       "67188   edbde592cd5e4cdea4af81a398866804  transaction   168      NaN    4.53   \n",
       "70352   edbde592cd5e4cdea4af81a398866804  transaction   174      NaN    3.97   \n",
       "108305  edbde592cd5e4cdea4af81a398866804  transaction   318      NaN    0.05   \n",
       "172377  edbde592cd5e4cdea4af81a398866804  transaction   420      NaN    3.74   \n",
       "185726  edbde592cd5e4cdea4af81a398866804  transaction   450      NaN    1.11   \n",
       "193878  edbde592cd5e4cdea4af81a398866804  transaction   474      NaN    0.18   \n",
       "259531  edbde592cd5e4cdea4af81a398866804  transaction   576      NaN    0.18   \n",
       "263347  edbde592cd5e4cdea4af81a398866804  transaction   582      NaN    0.08   \n",
       "266782  edbde592cd5e4cdea4af81a398866804  transaction   588      NaN    0.85   \n",
       "298432  edbde592cd5e4cdea4af81a398866804  transaction   678      NaN    1.05   \n",
       "\n",
       "        reward  \n",
       "28479      NaN  \n",
       "31653      NaN  \n",
       "37395      NaN  \n",
       "40001      NaN  \n",
       "44748      NaN  \n",
       "47950      NaN  \n",
       "67188      NaN  \n",
       "70352      NaN  \n",
       "108305     NaN  \n",
       "172377     NaN  \n",
       "185726     NaN  \n",
       "193878     NaN  \n",
       "259531     NaN  \n",
       "263347     NaN  \n",
       "266782     NaN  \n",
       "298432     NaN  "
      ]
     },
     "execution_count": 99,
     "metadata": {},
     "output_type": "execute_result"
    }
   ],
   "source": [
    "transcript.loc[(transcript.person=='edbde592cd5e4cdea4af81a398866804')&(transcript.event=='transaction')]"
   ]
  },
  {
   "cell_type": "code",
   "execution_count": 100,
   "metadata": {},
   "outputs": [
    {
     "data": {
      "text/plain": [
       "person\n",
       "5b705521de904d9488c950ef75392649    1.06\n",
       "640ba8b8068043abb9c6778f8c671950    0.92\n",
       "f9a4f190f06f47f0b7a581cbe18c0ff4    0.89\n",
       "82358d808d0d4f19b1d3dcbcb0c16cb1    0.86\n",
       "afd07f7a88424108bb0a30f66920eadc    0.83\n",
       "                                    ... \n",
       "2c810363d6e2458f82bf4c9030661aa6    0.05\n",
       "2d6157e5b11646968a5c5062f4fde730    0.05\n",
       "c2c72ce6038644c797208046d1e3498a    0.05\n",
       "c2938f6da5f047658f1a6500e86b20b4    0.05\n",
       "ffede3b700ac41d6a266fa1ba74b4f16    0.05\n",
       "Name: amount, Length: 1851, dtype: float64"
      ]
     },
     "execution_count": 100,
     "metadata": {},
     "output_type": "execute_result"
    }
   ],
   "source": [
    "transcript.loc[transcript.amount<=.25].groupby(['person']).amount.sum().sort_values( axis=0, ascending=False)"
   ]
  },
  {
   "cell_type": "markdown",
   "metadata": {},
   "source": [
    "I cant really tell what is causing the small transactions. They could be credit card fees that are processed a while after a valid transaction. They could be a small purchase like a packet of sugar. They could also simply be bad data that should not be in the data set.  \n",
    "\n",
    "Some starbucks shops do have items available for less than 50cents. But i do find credit card purchases of less than this value suspicious. When I added up the maximum total of purchases for less than 50cents a customer made I got \\\\$2.48. This is comfortably less than the lowest difficulty of any discount or bogo offer of \\\\$5. So I don't think they will have a significant impact of misclassifying offers if indeed these transactions are erroneous.  \n",
    "\n",
    "But if these transactions are not genuine transactions then they could have the unwanted affect of miss classifying informational offers. If they are delayed credit card fees or bad data that occur after a informational offer has been viewed then that informational offer will be classed as positive. So I think I will filter out these transactions from the data preparation phase. I will probably select a threshold of 20cents. I feel this is a safe clause to enter because 20 cents is such a low figure that Starbucks probably would not deem that a successful offer even if they were authentic transactions."
   ]
  },
  {
   "cell_type": "markdown",
   "metadata": {},
   "source": [
    "I am also considering cutting off the transactions that were in the hundreds or thousands of dollars. But I am finding this harder to justify. It is very possible that a customer has made a huge purchase like this for their family, friends, or colleagues. And while an offer of \\$5 might not seem like an incentive for such a big purchase, it is possible they simple notification or good gesture of an offer was enough for the customer to decide to go to Starbucks that day instead of another chain. For this reason I intend to keep these values in."
   ]
  },
  {
   "cell_type": "markdown",
   "metadata": {},
   "source": [
    "https://www.quora.com/What-is-the-least-expensive-thing-to-buy-at-Starbucks-Since-Starbucks-reward-program-gives-you-a-star-for-every-transaction-regardless-of-amount-this-seems-like-a-valuable-bit-of-knowledge"
   ]
  },
  {
   "cell_type": "markdown",
   "metadata": {},
   "source": [
    "Below is just some playing around with the data to try and get a feel for the distribution and to see if I am missing any other unusual trends in the data."
   ]
  },
  {
   "cell_type": "markdown",
   "metadata": {},
   "source": [
    "I see a big drop of around \\\\$40"
   ]
  },
  {
   "cell_type": "code",
   "execution_count": 101,
   "metadata": {},
   "outputs": [
    {
     "data": {
      "text/plain": [
       "(-1.012, 10.672]    76299\n",
       "(10.672, 21.295]    38322\n",
       "(21.295, 31.917]    19311\n",
       "(31.917, 42.539]     3967\n",
       "(42.539, 53.162]      384\n",
       "Name: amount, dtype: int64"
      ]
     },
     "execution_count": 101,
     "metadata": {},
     "output_type": "execute_result"
    }
   ],
   "source": [
    "pd.cut(transcript.amount.dropna(), 100).value_counts().head()"
   ]
  },
  {
   "cell_type": "code",
   "execution_count": 102,
   "metadata": {},
   "outputs": [
    {
     "data": {
      "text/html": [
       "<div>\n",
       "<style scoped>\n",
       "    .dataframe tbody tr th:only-of-type {\n",
       "        vertical-align: middle;\n",
       "    }\n",
       "\n",
       "    .dataframe tbody tr th {\n",
       "        vertical-align: top;\n",
       "    }\n",
       "\n",
       "    .dataframe thead th {\n",
       "        text-align: right;\n",
       "    }\n",
       "</style>\n",
       "<table border=\"1\" class=\"dataframe\">\n",
       "  <thead>\n",
       "    <tr style=\"text-align: right;\">\n",
       "      <th></th>\n",
       "      <th>person</th>\n",
       "      <th>event</th>\n",
       "      <th>time</th>\n",
       "      <th>offer_id</th>\n",
       "      <th>amount</th>\n",
       "      <th>reward</th>\n",
       "    </tr>\n",
       "  </thead>\n",
       "  <tbody>\n",
       "    <tr>\n",
       "      <th>12654</th>\n",
       "      <td>02c083884c7d45b39cc68e1314fec56c</td>\n",
       "      <td>transaction</td>\n",
       "      <td>0</td>\n",
       "      <td>NaN</td>\n",
       "      <td>0.83</td>\n",
       "      <td>NaN</td>\n",
       "    </tr>\n",
       "    <tr>\n",
       "      <th>12657</th>\n",
       "      <td>9fa9ae8f57894cc9a3b8a9bbe0fc1b2f</td>\n",
       "      <td>transaction</td>\n",
       "      <td>0</td>\n",
       "      <td>NaN</td>\n",
       "      <td>34.56</td>\n",
       "      <td>NaN</td>\n",
       "    </tr>\n",
       "    <tr>\n",
       "      <th>12659</th>\n",
       "      <td>54890f68699049c2a04d415abc25e717</td>\n",
       "      <td>transaction</td>\n",
       "      <td>0</td>\n",
       "      <td>NaN</td>\n",
       "      <td>13.23</td>\n",
       "      <td>NaN</td>\n",
       "    </tr>\n",
       "    <tr>\n",
       "      <th>12670</th>\n",
       "      <td>b2f1cd155b864803ad8334cdf13c4bd2</td>\n",
       "      <td>transaction</td>\n",
       "      <td>0</td>\n",
       "      <td>NaN</td>\n",
       "      <td>19.51</td>\n",
       "      <td>NaN</td>\n",
       "    </tr>\n",
       "    <tr>\n",
       "      <th>12671</th>\n",
       "      <td>fe97aa22dd3e48c8b143116a8403dd52</td>\n",
       "      <td>transaction</td>\n",
       "      <td>0</td>\n",
       "      <td>NaN</td>\n",
       "      <td>18.97</td>\n",
       "      <td>NaN</td>\n",
       "    </tr>\n",
       "    <tr>\n",
       "      <th>...</th>\n",
       "      <td>...</td>\n",
       "      <td>...</td>\n",
       "      <td>...</td>\n",
       "      <td>...</td>\n",
       "      <td>...</td>\n",
       "      <td>...</td>\n",
       "    </tr>\n",
       "    <tr>\n",
       "      <th>306529</th>\n",
       "      <td>b3a1272bc9904337b331bf348c3e8c17</td>\n",
       "      <td>transaction</td>\n",
       "      <td>714</td>\n",
       "      <td>NaN</td>\n",
       "      <td>1.59</td>\n",
       "      <td>NaN</td>\n",
       "    </tr>\n",
       "    <tr>\n",
       "      <th>306530</th>\n",
       "      <td>68213b08d99a4ae1b0dcb72aebd9aa35</td>\n",
       "      <td>transaction</td>\n",
       "      <td>714</td>\n",
       "      <td>NaN</td>\n",
       "      <td>9.53</td>\n",
       "      <td>NaN</td>\n",
       "    </tr>\n",
       "    <tr>\n",
       "      <th>306531</th>\n",
       "      <td>a00058cf10334a308c68e7631c529907</td>\n",
       "      <td>transaction</td>\n",
       "      <td>714</td>\n",
       "      <td>NaN</td>\n",
       "      <td>3.61</td>\n",
       "      <td>NaN</td>\n",
       "    </tr>\n",
       "    <tr>\n",
       "      <th>306532</th>\n",
       "      <td>76ddbd6576844afe811f1a3c0fbb5bec</td>\n",
       "      <td>transaction</td>\n",
       "      <td>714</td>\n",
       "      <td>NaN</td>\n",
       "      <td>3.53</td>\n",
       "      <td>NaN</td>\n",
       "    </tr>\n",
       "    <tr>\n",
       "      <th>306533</th>\n",
       "      <td>c02b10e8752c4d8e9b73f918558531f7</td>\n",
       "      <td>transaction</td>\n",
       "      <td>714</td>\n",
       "      <td>NaN</td>\n",
       "      <td>4.05</td>\n",
       "      <td>NaN</td>\n",
       "    </tr>\n",
       "  </tbody>\n",
       "</table>\n",
       "<p>137560 rows × 6 columns</p>\n",
       "</div>"
      ],
      "text/plain": [
       "                                  person        event  time offer_id  amount  \\\n",
       "12654   02c083884c7d45b39cc68e1314fec56c  transaction     0      NaN    0.83   \n",
       "12657   9fa9ae8f57894cc9a3b8a9bbe0fc1b2f  transaction     0      NaN   34.56   \n",
       "12659   54890f68699049c2a04d415abc25e717  transaction     0      NaN   13.23   \n",
       "12670   b2f1cd155b864803ad8334cdf13c4bd2  transaction     0      NaN   19.51   \n",
       "12671   fe97aa22dd3e48c8b143116a8403dd52  transaction     0      NaN   18.97   \n",
       "...                                  ...          ...   ...      ...     ...   \n",
       "306529  b3a1272bc9904337b331bf348c3e8c17  transaction   714      NaN    1.59   \n",
       "306530  68213b08d99a4ae1b0dcb72aebd9aa35  transaction   714      NaN    9.53   \n",
       "306531  a00058cf10334a308c68e7631c529907  transaction   714      NaN    3.61   \n",
       "306532  76ddbd6576844afe811f1a3c0fbb5bec  transaction   714      NaN    3.53   \n",
       "306533  c02b10e8752c4d8e9b73f918558531f7  transaction   714      NaN    4.05   \n",
       "\n",
       "        reward  \n",
       "12654      NaN  \n",
       "12657      NaN  \n",
       "12659      NaN  \n",
       "12670      NaN  \n",
       "12671      NaN  \n",
       "...        ...  \n",
       "306529     NaN  \n",
       "306530     NaN  \n",
       "306531     NaN  \n",
       "306532     NaN  \n",
       "306533     NaN  \n",
       "\n",
       "[137560 rows x 6 columns]"
      ]
     },
     "execution_count": 102,
     "metadata": {},
     "output_type": "execute_result"
    }
   ],
   "source": [
    "transcript.loc[transcript.amount <40 ]"
   ]
  },
  {
   "cell_type": "code",
   "execution_count": 103,
   "metadata": {},
   "outputs": [
    {
     "data": {
      "text/plain": [
       "<AxesSubplot:>"
      ]
     },
     "execution_count": 103,
     "metadata": {},
     "output_type": "execute_result"
    },
    {
     "data": {
      "image/png": "[encoded data removed]",
      "text/plain": [
       "<Figure size 432x288 with 1 Axes>"
      ]
     },
     "metadata": {
      "needs_background": "light"
     },
     "output_type": "display_data"
    }
   ],
   "source": [
    "transcript.loc[transcript.amount <40 ].amount.hist(bins=50)"
   ]
  },
  {
   "cell_type": "code",
   "execution_count": 104,
   "metadata": {},
   "outputs": [
    {
     "data": {
      "text/html": [
       "<div>\n",
       "<style scoped>\n",
       "    .dataframe tbody tr th:only-of-type {\n",
       "        vertical-align: middle;\n",
       "    }\n",
       "\n",
       "    .dataframe tbody tr th {\n",
       "        vertical-align: top;\n",
       "    }\n",
       "\n",
       "    .dataframe thead th {\n",
       "        text-align: right;\n",
       "    }\n",
       "</style>\n",
       "<table border=\"1\" class=\"dataframe\">\n",
       "  <thead>\n",
       "    <tr style=\"text-align: right;\">\n",
       "      <th></th>\n",
       "      <th>person</th>\n",
       "      <th>event</th>\n",
       "      <th>time</th>\n",
       "      <th>offer_id</th>\n",
       "      <th>reward</th>\n",
       "    </tr>\n",
       "    <tr>\n",
       "      <th>amount</th>\n",
       "      <th></th>\n",
       "      <th></th>\n",
       "      <th></th>\n",
       "      <th></th>\n",
       "      <th></th>\n",
       "    </tr>\n",
       "  </thead>\n",
       "  <tbody>\n",
       "    <tr>\n",
       "      <th>0.05</th>\n",
       "      <td>431</td>\n",
       "      <td>431</td>\n",
       "      <td>431</td>\n",
       "      <td>0</td>\n",
       "      <td>0</td>\n",
       "    </tr>\n",
       "    <tr>\n",
       "      <th>0.06</th>\n",
       "      <td>109</td>\n",
       "      <td>109</td>\n",
       "      <td>109</td>\n",
       "      <td>0</td>\n",
       "      <td>0</td>\n",
       "    </tr>\n",
       "    <tr>\n",
       "      <th>0.07</th>\n",
       "      <td>89</td>\n",
       "      <td>89</td>\n",
       "      <td>89</td>\n",
       "      <td>0</td>\n",
       "      <td>0</td>\n",
       "    </tr>\n",
       "    <tr>\n",
       "      <th>0.08</th>\n",
       "      <td>100</td>\n",
       "      <td>100</td>\n",
       "      <td>100</td>\n",
       "      <td>0</td>\n",
       "      <td>0</td>\n",
       "    </tr>\n",
       "    <tr>\n",
       "      <th>0.09</th>\n",
       "      <td>87</td>\n",
       "      <td>87</td>\n",
       "      <td>87</td>\n",
       "      <td>0</td>\n",
       "      <td>0</td>\n",
       "    </tr>\n",
       "    <tr>\n",
       "      <th>0.10</th>\n",
       "      <td>95</td>\n",
       "      <td>95</td>\n",
       "      <td>95</td>\n",
       "      <td>0</td>\n",
       "      <td>0</td>\n",
       "    </tr>\n",
       "    <tr>\n",
       "      <th>0.11</th>\n",
       "      <td>99</td>\n",
       "      <td>99</td>\n",
       "      <td>99</td>\n",
       "      <td>0</td>\n",
       "      <td>0</td>\n",
       "    </tr>\n",
       "    <tr>\n",
       "      <th>0.12</th>\n",
       "      <td>79</td>\n",
       "      <td>79</td>\n",
       "      <td>79</td>\n",
       "      <td>0</td>\n",
       "      <td>0</td>\n",
       "    </tr>\n",
       "    <tr>\n",
       "      <th>0.13</th>\n",
       "      <td>97</td>\n",
       "      <td>97</td>\n",
       "      <td>97</td>\n",
       "      <td>0</td>\n",
       "      <td>0</td>\n",
       "    </tr>\n",
       "    <tr>\n",
       "      <th>0.14</th>\n",
       "      <td>110</td>\n",
       "      <td>110</td>\n",
       "      <td>110</td>\n",
       "      <td>0</td>\n",
       "      <td>0</td>\n",
       "    </tr>\n",
       "  </tbody>\n",
       "</table>\n",
       "</div>"
      ],
      "text/plain": [
       "        person  event  time  offer_id  reward\n",
       "amount                                       \n",
       "0.05       431    431   431         0       0\n",
       "0.06       109    109   109         0       0\n",
       "0.07        89     89    89         0       0\n",
       "0.08       100    100   100         0       0\n",
       "0.09        87     87    87         0       0\n",
       "0.10        95     95    95         0       0\n",
       "0.11        99     99    99         0       0\n",
       "0.12        79     79    79         0       0\n",
       "0.13        97     97    97         0       0\n",
       "0.14       110    110   110         0       0"
      ]
     },
     "execution_count": 104,
     "metadata": {},
     "output_type": "execute_result"
    }
   ],
   "source": [
    "transcript.groupby('amount').count().head(10)"
   ]
  },
  {
   "cell_type": "code",
   "execution_count": 105,
   "metadata": {},
   "outputs": [
    {
     "data": {
      "text/html": [
       "<div>\n",
       "<style scoped>\n",
       "    .dataframe tbody tr th:only-of-type {\n",
       "        vertical-align: middle;\n",
       "    }\n",
       "\n",
       "    .dataframe tbody tr th {\n",
       "        vertical-align: top;\n",
       "    }\n",
       "\n",
       "    .dataframe thead th {\n",
       "        text-align: right;\n",
       "    }\n",
       "</style>\n",
       "<table border=\"1\" class=\"dataframe\">\n",
       "  <thead>\n",
       "    <tr style=\"text-align: right;\">\n",
       "      <th></th>\n",
       "      <th>person</th>\n",
       "      <th>event</th>\n",
       "      <th>time</th>\n",
       "      <th>offer_id</th>\n",
       "      <th>reward</th>\n",
       "    </tr>\n",
       "    <tr>\n",
       "      <th>amount</th>\n",
       "      <th></th>\n",
       "      <th></th>\n",
       "      <th></th>\n",
       "      <th></th>\n",
       "      <th></th>\n",
       "    </tr>\n",
       "  </thead>\n",
       "  <tbody>\n",
       "    <tr>\n",
       "      <th>947.43</th>\n",
       "      <td>1</td>\n",
       "      <td>1</td>\n",
       "      <td>1</td>\n",
       "      <td>0</td>\n",
       "      <td>0</td>\n",
       "    </tr>\n",
       "    <tr>\n",
       "      <th>957.15</th>\n",
       "      <td>1</td>\n",
       "      <td>1</td>\n",
       "      <td>1</td>\n",
       "      <td>0</td>\n",
       "      <td>0</td>\n",
       "    </tr>\n",
       "    <tr>\n",
       "      <th>961.21</th>\n",
       "      <td>1</td>\n",
       "      <td>1</td>\n",
       "      <td>1</td>\n",
       "      <td>0</td>\n",
       "      <td>0</td>\n",
       "    </tr>\n",
       "    <tr>\n",
       "      <th>962.10</th>\n",
       "      <td>1</td>\n",
       "      <td>1</td>\n",
       "      <td>1</td>\n",
       "      <td>0</td>\n",
       "      <td>0</td>\n",
       "    </tr>\n",
       "    <tr>\n",
       "      <th>966.24</th>\n",
       "      <td>1</td>\n",
       "      <td>1</td>\n",
       "      <td>1</td>\n",
       "      <td>0</td>\n",
       "      <td>0</td>\n",
       "    </tr>\n",
       "    <tr>\n",
       "      <th>977.78</th>\n",
       "      <td>1</td>\n",
       "      <td>1</td>\n",
       "      <td>1</td>\n",
       "      <td>0</td>\n",
       "      <td>0</td>\n",
       "    </tr>\n",
       "    <tr>\n",
       "      <th>989.34</th>\n",
       "      <td>1</td>\n",
       "      <td>1</td>\n",
       "      <td>1</td>\n",
       "      <td>0</td>\n",
       "      <td>0</td>\n",
       "    </tr>\n",
       "    <tr>\n",
       "      <th>1001.85</th>\n",
       "      <td>1</td>\n",
       "      <td>1</td>\n",
       "      <td>1</td>\n",
       "      <td>0</td>\n",
       "      <td>0</td>\n",
       "    </tr>\n",
       "    <tr>\n",
       "      <th>1015.73</th>\n",
       "      <td>1</td>\n",
       "      <td>1</td>\n",
       "      <td>1</td>\n",
       "      <td>0</td>\n",
       "      <td>0</td>\n",
       "    </tr>\n",
       "    <tr>\n",
       "      <th>1062.28</th>\n",
       "      <td>1</td>\n",
       "      <td>1</td>\n",
       "      <td>1</td>\n",
       "      <td>0</td>\n",
       "      <td>0</td>\n",
       "    </tr>\n",
       "  </tbody>\n",
       "</table>\n",
       "</div>"
      ],
      "text/plain": [
       "         person  event  time  offer_id  reward\n",
       "amount                                        \n",
       "947.43        1      1     1         0       0\n",
       "957.15        1      1     1         0       0\n",
       "961.21        1      1     1         0       0\n",
       "962.10        1      1     1         0       0\n",
       "966.24        1      1     1         0       0\n",
       "977.78        1      1     1         0       0\n",
       "989.34        1      1     1         0       0\n",
       "1001.85       1      1     1         0       0\n",
       "1015.73       1      1     1         0       0\n",
       "1062.28       1      1     1         0       0"
      ]
     },
     "execution_count": 105,
     "metadata": {},
     "output_type": "execute_result"
    }
   ],
   "source": [
    "transcript.groupby('amount').count().tail(10)"
   ]
  },
  {
   "cell_type": "code",
   "execution_count": 106,
   "metadata": {
    "scrolled": true
   },
   "outputs": [],
   "source": [
    "#z-scores only work on normal distributions\n",
    "#transcript.loc[np.abs(stats.zscore(transcript['amount'],nan_policy='omit'))<=1]\n"
   ]
  },
  {
   "cell_type": "code",
   "execution_count": null,
   "metadata": {},
   "outputs": [],
   "source": []
  },
  {
   "cell_type": "code",
   "execution_count": 107,
   "metadata": {},
   "outputs": [
    {
     "data": {
      "text/html": [
       "<div>\n",
       "<style scoped>\n",
       "    .dataframe tbody tr th:only-of-type {\n",
       "        vertical-align: middle;\n",
       "    }\n",
       "\n",
       "    .dataframe tbody tr th {\n",
       "        vertical-align: top;\n",
       "    }\n",
       "\n",
       "    .dataframe thead th {\n",
       "        text-align: right;\n",
       "    }\n",
       "</style>\n",
       "<table border=\"1\" class=\"dataframe\">\n",
       "  <thead>\n",
       "    <tr style=\"text-align: right;\">\n",
       "      <th></th>\n",
       "      <th>person</th>\n",
       "      <th>event</th>\n",
       "      <th>time</th>\n",
       "      <th>offer_id</th>\n",
       "      <th>amount</th>\n",
       "      <th>reward</th>\n",
       "    </tr>\n",
       "  </thead>\n",
       "  <tbody>\n",
       "    <tr>\n",
       "      <th>0</th>\n",
       "      <td>78afa995795e4d85b5d9ceeca43f5fef</td>\n",
       "      <td>offer received</td>\n",
       "      <td>0</td>\n",
       "      <td>9b98b8c7a33c4b65b9aebfe6a799e6d9</td>\n",
       "      <td>NaN</td>\n",
       "      <td>NaN</td>\n",
       "    </tr>\n",
       "    <tr>\n",
       "      <th>1</th>\n",
       "      <td>a03223e636434f42ac4c3df47e8bac43</td>\n",
       "      <td>offer received</td>\n",
       "      <td>0</td>\n",
       "      <td>0b1e1539f2cc45b7b9fa7c272da2e1d7</td>\n",
       "      <td>NaN</td>\n",
       "      <td>NaN</td>\n",
       "    </tr>\n",
       "    <tr>\n",
       "      <th>2</th>\n",
       "      <td>e2127556f4f64592b11af22de27a7932</td>\n",
       "      <td>offer received</td>\n",
       "      <td>0</td>\n",
       "      <td>2906b810c7d4411798c6938adc9daaa5</td>\n",
       "      <td>NaN</td>\n",
       "      <td>NaN</td>\n",
       "    </tr>\n",
       "    <tr>\n",
       "      <th>3</th>\n",
       "      <td>8ec6ce2a7e7949b1bf142def7d0e0586</td>\n",
       "      <td>offer received</td>\n",
       "      <td>0</td>\n",
       "      <td>fafdcd668e3743c1bb461111dcafc2a4</td>\n",
       "      <td>NaN</td>\n",
       "      <td>NaN</td>\n",
       "    </tr>\n",
       "    <tr>\n",
       "      <th>4</th>\n",
       "      <td>68617ca6246f4fbc85e91a2a49552598</td>\n",
       "      <td>offer received</td>\n",
       "      <td>0</td>\n",
       "      <td>4d5c57ea9a6940dd891ad53e9dbe8da0</td>\n",
       "      <td>NaN</td>\n",
       "      <td>NaN</td>\n",
       "    </tr>\n",
       "  </tbody>\n",
       "</table>\n",
       "</div>"
      ],
      "text/plain": [
       "                             person           event  time  \\\n",
       "0  78afa995795e4d85b5d9ceeca43f5fef  offer received     0   \n",
       "1  a03223e636434f42ac4c3df47e8bac43  offer received     0   \n",
       "2  e2127556f4f64592b11af22de27a7932  offer received     0   \n",
       "3  8ec6ce2a7e7949b1bf142def7d0e0586  offer received     0   \n",
       "4  68617ca6246f4fbc85e91a2a49552598  offer received     0   \n",
       "\n",
       "                           offer_id  amount  reward  \n",
       "0  9b98b8c7a33c4b65b9aebfe6a799e6d9     NaN     NaN  \n",
       "1  0b1e1539f2cc45b7b9fa7c272da2e1d7     NaN     NaN  \n",
       "2  2906b810c7d4411798c6938adc9daaa5     NaN     NaN  \n",
       "3  fafdcd668e3743c1bb461111dcafc2a4     NaN     NaN  \n",
       "4  4d5c57ea9a6940dd891ad53e9dbe8da0     NaN     NaN  "
      ]
     },
     "execution_count": 107,
     "metadata": {},
     "output_type": "execute_result"
    }
   ],
   "source": [
    "transcript.head()"
   ]
  },
  {
   "cell_type": "markdown",
   "metadata": {},
   "source": [
    "it is almost a log normal distribution"
   ]
  },
  {
   "cell_type": "code",
   "execution_count": 108,
   "metadata": {},
   "outputs": [
    {
     "data": {
      "text/plain": [
       "<AxesSubplot:>"
      ]
     },
     "execution_count": 108,
     "metadata": {},
     "output_type": "execute_result"
    },
    {
     "data": {
      "image/png": "[encoded data removed]",
      "text/plain": [
       "<Figure size 432x288 with 1 Axes>"
      ]
     },
     "metadata": {
      "needs_background": "light"
     },
     "output_type": "display_data"
    }
   ],
   "source": [
    "np.log(transcript[transcript['event']=='transaction'].amount).hist(bins=50)"
   ]
  },
  {
   "cell_type": "markdown",
   "metadata": {},
   "source": [
    "Clipping the data"
   ]
  },
  {
   "cell_type": "code",
   "execution_count": 109,
   "metadata": {},
   "outputs": [
    {
     "data": {
      "text/plain": [
       "array([[<AxesSubplot:title={'center':'amount'}>]], dtype=object)"
      ]
     },
     "execution_count": 109,
     "metadata": {},
     "output_type": "execute_result"
    },
    {
     "data": {
      "image/png": "[encoded data removed]",
      "text/plain": [
       "<Figure size 432x288 with 1 Axes>"
      ]
     },
     "metadata": {
      "needs_background": "light"
     },
     "output_type": "display_data"
    }
   ],
   "source": [
    "pd.DataFrame(transcript[transcript['event']=='transaction'].amount).clip(0.5, 40).hist(bins=50)"
   ]
  },
  {
   "cell_type": "code",
   "execution_count": 110,
   "metadata": {
    "scrolled": true
   },
   "outputs": [
    {
     "data": {
      "text/html": [
       "<div>\n",
       "<style scoped>\n",
       "    .dataframe tbody tr th:only-of-type {\n",
       "        vertical-align: middle;\n",
       "    }\n",
       "\n",
       "    .dataframe tbody tr th {\n",
       "        vertical-align: top;\n",
       "    }\n",
       "\n",
       "    .dataframe thead th {\n",
       "        text-align: right;\n",
       "    }\n",
       "</style>\n",
       "<table border=\"1\" class=\"dataframe\">\n",
       "  <thead>\n",
       "    <tr style=\"text-align: right;\">\n",
       "      <th></th>\n",
       "      <th>person</th>\n",
       "      <th>event</th>\n",
       "      <th>time</th>\n",
       "      <th>amount</th>\n",
       "      <th>reward</th>\n",
       "    </tr>\n",
       "    <tr>\n",
       "      <th>offer_id</th>\n",
       "      <th></th>\n",
       "      <th></th>\n",
       "      <th></th>\n",
       "      <th></th>\n",
       "      <th></th>\n",
       "    </tr>\n",
       "  </thead>\n",
       "  <tbody>\n",
       "    <tr>\n",
       "      <th>0b1e1539f2cc45b7b9fa7c272da2e1d7</th>\n",
       "      <td>13751</td>\n",
       "      <td>13751</td>\n",
       "      <td>13751</td>\n",
       "      <td>0</td>\n",
       "      <td>3420</td>\n",
       "    </tr>\n",
       "    <tr>\n",
       "      <th>2298d6c36e964ae4a3e7e9706d1fb8c2</th>\n",
       "      <td>20139</td>\n",
       "      <td>20139</td>\n",
       "      <td>20139</td>\n",
       "      <td>0</td>\n",
       "      <td>5156</td>\n",
       "    </tr>\n",
       "    <tr>\n",
       "      <th>2906b810c7d4411798c6938adc9daaa5</th>\n",
       "      <td>15767</td>\n",
       "      <td>15767</td>\n",
       "      <td>15767</td>\n",
       "      <td>0</td>\n",
       "      <td>4017</td>\n",
       "    </tr>\n",
       "    <tr>\n",
       "      <th>3f207df678b143eea3cee63160fa8bed</th>\n",
       "      <td>11761</td>\n",
       "      <td>11761</td>\n",
       "      <td>11761</td>\n",
       "      <td>0</td>\n",
       "      <td>0</td>\n",
       "    </tr>\n",
       "    <tr>\n",
       "      <th>4d5c57ea9a6940dd891ad53e9dbe8da0</th>\n",
       "      <td>18222</td>\n",
       "      <td>18222</td>\n",
       "      <td>18222</td>\n",
       "      <td>0</td>\n",
       "      <td>3331</td>\n",
       "    </tr>\n",
       "    <tr>\n",
       "      <th>5a8bc65990b245e5a138643cd4eb9837</th>\n",
       "      <td>14305</td>\n",
       "      <td>14305</td>\n",
       "      <td>14305</td>\n",
       "      <td>0</td>\n",
       "      <td>0</td>\n",
       "    </tr>\n",
       "    <tr>\n",
       "      <th>9b98b8c7a33c4b65b9aebfe6a799e6d9</th>\n",
       "      <td>16202</td>\n",
       "      <td>16202</td>\n",
       "      <td>16202</td>\n",
       "      <td>0</td>\n",
       "      <td>4354</td>\n",
       "    </tr>\n",
       "    <tr>\n",
       "      <th>ae264e3637204a6fb9bb56bc8210ddfd</th>\n",
       "      <td>18062</td>\n",
       "      <td>18062</td>\n",
       "      <td>18062</td>\n",
       "      <td>0</td>\n",
       "      <td>3688</td>\n",
       "    </tr>\n",
       "    <tr>\n",
       "      <th>f19421c1d4aa40978ebb69ca19b0e20d</th>\n",
       "      <td>19131</td>\n",
       "      <td>19131</td>\n",
       "      <td>19131</td>\n",
       "      <td>0</td>\n",
       "      <td>4296</td>\n",
       "    </tr>\n",
       "    <tr>\n",
       "      <th>fafdcd668e3743c1bb461111dcafc2a4</th>\n",
       "      <td>20241</td>\n",
       "      <td>20241</td>\n",
       "      <td>20241</td>\n",
       "      <td>0</td>\n",
       "      <td>5317</td>\n",
       "    </tr>\n",
       "  </tbody>\n",
       "</table>\n",
       "</div>"
      ],
      "text/plain": [
       "                                  person  event   time  amount  reward\n",
       "offer_id                                                              \n",
       "0b1e1539f2cc45b7b9fa7c272da2e1d7   13751  13751  13751       0    3420\n",
       "2298d6c36e964ae4a3e7e9706d1fb8c2   20139  20139  20139       0    5156\n",
       "2906b810c7d4411798c6938adc9daaa5   15767  15767  15767       0    4017\n",
       "3f207df678b143eea3cee63160fa8bed   11761  11761  11761       0       0\n",
       "4d5c57ea9a6940dd891ad53e9dbe8da0   18222  18222  18222       0    3331\n",
       "5a8bc65990b245e5a138643cd4eb9837   14305  14305  14305       0       0\n",
       "9b98b8c7a33c4b65b9aebfe6a799e6d9   16202  16202  16202       0    4354\n",
       "ae264e3637204a6fb9bb56bc8210ddfd   18062  18062  18062       0    3688\n",
       "f19421c1d4aa40978ebb69ca19b0e20d   19131  19131  19131       0    4296\n",
       "fafdcd668e3743c1bb461111dcafc2a4   20241  20241  20241       0    5317"
      ]
     },
     "execution_count": 110,
     "metadata": {},
     "output_type": "execute_result"
    }
   ],
   "source": [
    "transcript.groupby('offer_id').count()"
   ]
  },
  {
   "cell_type": "code",
   "execution_count": 111,
   "metadata": {
    "scrolled": true
   },
   "outputs": [],
   "source": [
    "#transcript.groupby('offer_id').count().plot(kind='pie', labels=['','','',''],  y='event',ax=axes[0], title='event', fontsize=10)"
   ]
  },
  {
   "cell_type": "markdown",
   "metadata": {},
   "source": [
    "Renaming id column in portfolio to match the offer_id column in transcript"
   ]
  },
  {
   "cell_type": "code",
   "execution_count": 112,
   "metadata": {},
   "outputs": [],
   "source": [
    "portfolio.rename(columns={\"id\": \"offer_id\"},inplace=True)"
   ]
  },
  {
   "cell_type": "code",
   "execution_count": 113,
   "metadata": {},
   "outputs": [
    {
     "data": {
      "text/html": [
       "<div>\n",
       "<style scoped>\n",
       "    .dataframe tbody tr th:only-of-type {\n",
       "        vertical-align: middle;\n",
       "    }\n",
       "\n",
       "    .dataframe tbody tr th {\n",
       "        vertical-align: top;\n",
       "    }\n",
       "\n",
       "    .dataframe thead th {\n",
       "        text-align: right;\n",
       "    }\n",
       "</style>\n",
       "<table border=\"1\" class=\"dataframe\">\n",
       "  <thead>\n",
       "    <tr style=\"text-align: right;\">\n",
       "      <th></th>\n",
       "      <th>reward</th>\n",
       "      <th>channels</th>\n",
       "      <th>difficulty</th>\n",
       "      <th>duration</th>\n",
       "      <th>offer_type</th>\n",
       "      <th>offer_id</th>\n",
       "    </tr>\n",
       "  </thead>\n",
       "  <tbody>\n",
       "    <tr>\n",
       "      <th>0</th>\n",
       "      <td>10</td>\n",
       "      <td>[email, mobile, social]</td>\n",
       "      <td>10</td>\n",
       "      <td>7</td>\n",
       "      <td>bogo</td>\n",
       "      <td>ae264e3637204a6fb9bb56bc8210ddfd</td>\n",
       "    </tr>\n",
       "    <tr>\n",
       "      <th>1</th>\n",
       "      <td>10</td>\n",
       "      <td>[web, email, mobile, social]</td>\n",
       "      <td>10</td>\n",
       "      <td>5</td>\n",
       "      <td>bogo</td>\n",
       "      <td>4d5c57ea9a6940dd891ad53e9dbe8da0</td>\n",
       "    </tr>\n",
       "    <tr>\n",
       "      <th>2</th>\n",
       "      <td>0</td>\n",
       "      <td>[web, email, mobile]</td>\n",
       "      <td>0</td>\n",
       "      <td>4</td>\n",
       "      <td>informational</td>\n",
       "      <td>3f207df678b143eea3cee63160fa8bed</td>\n",
       "    </tr>\n",
       "    <tr>\n",
       "      <th>3</th>\n",
       "      <td>5</td>\n",
       "      <td>[web, email, mobile]</td>\n",
       "      <td>5</td>\n",
       "      <td>7</td>\n",
       "      <td>bogo</td>\n",
       "      <td>9b98b8c7a33c4b65b9aebfe6a799e6d9</td>\n",
       "    </tr>\n",
       "    <tr>\n",
       "      <th>4</th>\n",
       "      <td>5</td>\n",
       "      <td>[web, email]</td>\n",
       "      <td>20</td>\n",
       "      <td>10</td>\n",
       "      <td>discount</td>\n",
       "      <td>0b1e1539f2cc45b7b9fa7c272da2e1d7</td>\n",
       "    </tr>\n",
       "    <tr>\n",
       "      <th>5</th>\n",
       "      <td>3</td>\n",
       "      <td>[web, email, mobile, social]</td>\n",
       "      <td>7</td>\n",
       "      <td>7</td>\n",
       "      <td>discount</td>\n",
       "      <td>2298d6c36e964ae4a3e7e9706d1fb8c2</td>\n",
       "    </tr>\n",
       "    <tr>\n",
       "      <th>6</th>\n",
       "      <td>2</td>\n",
       "      <td>[web, email, mobile, social]</td>\n",
       "      <td>10</td>\n",
       "      <td>10</td>\n",
       "      <td>discount</td>\n",
       "      <td>fafdcd668e3743c1bb461111dcafc2a4</td>\n",
       "    </tr>\n",
       "    <tr>\n",
       "      <th>7</th>\n",
       "      <td>0</td>\n",
       "      <td>[email, mobile, social]</td>\n",
       "      <td>0</td>\n",
       "      <td>3</td>\n",
       "      <td>informational</td>\n",
       "      <td>5a8bc65990b245e5a138643cd4eb9837</td>\n",
       "    </tr>\n",
       "    <tr>\n",
       "      <th>8</th>\n",
       "      <td>5</td>\n",
       "      <td>[web, email, mobile, social]</td>\n",
       "      <td>5</td>\n",
       "      <td>5</td>\n",
       "      <td>bogo</td>\n",
       "      <td>f19421c1d4aa40978ebb69ca19b0e20d</td>\n",
       "    </tr>\n",
       "    <tr>\n",
       "      <th>9</th>\n",
       "      <td>2</td>\n",
       "      <td>[web, email, mobile]</td>\n",
       "      <td>10</td>\n",
       "      <td>7</td>\n",
       "      <td>discount</td>\n",
       "      <td>2906b810c7d4411798c6938adc9daaa5</td>\n",
       "    </tr>\n",
       "  </tbody>\n",
       "</table>\n",
       "</div>"
      ],
      "text/plain": [
       "   reward                      channels  difficulty  duration     offer_type  \\\n",
       "0      10       [email, mobile, social]          10         7           bogo   \n",
       "1      10  [web, email, mobile, social]          10         5           bogo   \n",
       "2       0          [web, email, mobile]           0         4  informational   \n",
       "3       5          [web, email, mobile]           5         7           bogo   \n",
       "4       5                  [web, email]          20        10       discount   \n",
       "5       3  [web, email, mobile, social]           7         7       discount   \n",
       "6       2  [web, email, mobile, social]          10        10       discount   \n",
       "7       0       [email, mobile, social]           0         3  informational   \n",
       "8       5  [web, email, mobile, social]           5         5           bogo   \n",
       "9       2          [web, email, mobile]          10         7       discount   \n",
       "\n",
       "                           offer_id  \n",
       "0  ae264e3637204a6fb9bb56bc8210ddfd  \n",
       "1  4d5c57ea9a6940dd891ad53e9dbe8da0  \n",
       "2  3f207df678b143eea3cee63160fa8bed  \n",
       "3  9b98b8c7a33c4b65b9aebfe6a799e6d9  \n",
       "4  0b1e1539f2cc45b7b9fa7c272da2e1d7  \n",
       "5  2298d6c36e964ae4a3e7e9706d1fb8c2  \n",
       "6  fafdcd668e3743c1bb461111dcafc2a4  \n",
       "7  5a8bc65990b245e5a138643cd4eb9837  \n",
       "8  f19421c1d4aa40978ebb69ca19b0e20d  \n",
       "9  2906b810c7d4411798c6938adc9daaa5  "
      ]
     },
     "execution_count": 113,
     "metadata": {},
     "output_type": "execute_result"
    }
   ],
   "source": [
    "portfolio"
   ]
  },
  {
   "cell_type": "code",
   "execution_count": 114,
   "metadata": {
    "scrolled": true
   },
   "outputs": [
    {
     "data": {
      "text/html": [
       "<div>\n",
       "<style scoped>\n",
       "    .dataframe tbody tr th:only-of-type {\n",
       "        vertical-align: middle;\n",
       "    }\n",
       "\n",
       "    .dataframe tbody tr th {\n",
       "        vertical-align: top;\n",
       "    }\n",
       "\n",
       "    .dataframe thead th {\n",
       "        text-align: right;\n",
       "    }\n",
       "</style>\n",
       "<table border=\"1\" class=\"dataframe\">\n",
       "  <thead>\n",
       "    <tr style=\"text-align: right;\">\n",
       "      <th></th>\n",
       "      <th>person</th>\n",
       "      <th>event</th>\n",
       "      <th>time</th>\n",
       "      <th>amount</th>\n",
       "      <th>reward</th>\n",
       "    </tr>\n",
       "    <tr>\n",
       "      <th>offer_id</th>\n",
       "      <th></th>\n",
       "      <th></th>\n",
       "      <th></th>\n",
       "      <th></th>\n",
       "      <th></th>\n",
       "    </tr>\n",
       "  </thead>\n",
       "  <tbody>\n",
       "    <tr>\n",
       "      <th>0b1e1539f2cc45b7b9fa7c272da2e1d7</th>\n",
       "      <td>13751</td>\n",
       "      <td>13751</td>\n",
       "      <td>13751</td>\n",
       "      <td>0</td>\n",
       "      <td>3420</td>\n",
       "    </tr>\n",
       "    <tr>\n",
       "      <th>2298d6c36e964ae4a3e7e9706d1fb8c2</th>\n",
       "      <td>20139</td>\n",
       "      <td>20139</td>\n",
       "      <td>20139</td>\n",
       "      <td>0</td>\n",
       "      <td>5156</td>\n",
       "    </tr>\n",
       "    <tr>\n",
       "      <th>2906b810c7d4411798c6938adc9daaa5</th>\n",
       "      <td>15767</td>\n",
       "      <td>15767</td>\n",
       "      <td>15767</td>\n",
       "      <td>0</td>\n",
       "      <td>4017</td>\n",
       "    </tr>\n",
       "    <tr>\n",
       "      <th>3f207df678b143eea3cee63160fa8bed</th>\n",
       "      <td>11761</td>\n",
       "      <td>11761</td>\n",
       "      <td>11761</td>\n",
       "      <td>0</td>\n",
       "      <td>0</td>\n",
       "    </tr>\n",
       "    <tr>\n",
       "      <th>4d5c57ea9a6940dd891ad53e9dbe8da0</th>\n",
       "      <td>18222</td>\n",
       "      <td>18222</td>\n",
       "      <td>18222</td>\n",
       "      <td>0</td>\n",
       "      <td>3331</td>\n",
       "    </tr>\n",
       "    <tr>\n",
       "      <th>5a8bc65990b245e5a138643cd4eb9837</th>\n",
       "      <td>14305</td>\n",
       "      <td>14305</td>\n",
       "      <td>14305</td>\n",
       "      <td>0</td>\n",
       "      <td>0</td>\n",
       "    </tr>\n",
       "    <tr>\n",
       "      <th>9b98b8c7a33c4b65b9aebfe6a799e6d9</th>\n",
       "      <td>16202</td>\n",
       "      <td>16202</td>\n",
       "      <td>16202</td>\n",
       "      <td>0</td>\n",
       "      <td>4354</td>\n",
       "    </tr>\n",
       "    <tr>\n",
       "      <th>ae264e3637204a6fb9bb56bc8210ddfd</th>\n",
       "      <td>18062</td>\n",
       "      <td>18062</td>\n",
       "      <td>18062</td>\n",
       "      <td>0</td>\n",
       "      <td>3688</td>\n",
       "    </tr>\n",
       "    <tr>\n",
       "      <th>f19421c1d4aa40978ebb69ca19b0e20d</th>\n",
       "      <td>19131</td>\n",
       "      <td>19131</td>\n",
       "      <td>19131</td>\n",
       "      <td>0</td>\n",
       "      <td>4296</td>\n",
       "    </tr>\n",
       "    <tr>\n",
       "      <th>fafdcd668e3743c1bb461111dcafc2a4</th>\n",
       "      <td>20241</td>\n",
       "      <td>20241</td>\n",
       "      <td>20241</td>\n",
       "      <td>0</td>\n",
       "      <td>5317</td>\n",
       "    </tr>\n",
       "  </tbody>\n",
       "</table>\n",
       "</div>"
      ],
      "text/plain": [
       "                                  person  event   time  amount  reward\n",
       "offer_id                                                              \n",
       "0b1e1539f2cc45b7b9fa7c272da2e1d7   13751  13751  13751       0    3420\n",
       "2298d6c36e964ae4a3e7e9706d1fb8c2   20139  20139  20139       0    5156\n",
       "2906b810c7d4411798c6938adc9daaa5   15767  15767  15767       0    4017\n",
       "3f207df678b143eea3cee63160fa8bed   11761  11761  11761       0       0\n",
       "4d5c57ea9a6940dd891ad53e9dbe8da0   18222  18222  18222       0    3331\n",
       "5a8bc65990b245e5a138643cd4eb9837   14305  14305  14305       0       0\n",
       "9b98b8c7a33c4b65b9aebfe6a799e6d9   16202  16202  16202       0    4354\n",
       "ae264e3637204a6fb9bb56bc8210ddfd   18062  18062  18062       0    3688\n",
       "f19421c1d4aa40978ebb69ca19b0e20d   19131  19131  19131       0    4296\n",
       "fafdcd668e3743c1bb461111dcafc2a4   20241  20241  20241       0    5317"
      ]
     },
     "execution_count": 114,
     "metadata": {},
     "output_type": "execute_result"
    }
   ],
   "source": [
    "transcript.groupby('offer_id').count()"
   ]
  },
  {
   "cell_type": "code",
   "execution_count": 115,
   "metadata": {},
   "outputs": [
    {
     "data": {
      "text/plain": [
       "Text(0, 0.5, 'Average Income')"
      ]
     },
     "execution_count": 115,
     "metadata": {},
     "output_type": "execute_result"
    },
    {
     "data": {
      "image/png": "[encoded data removed]",
      "text/plain": [
       "<Figure size 432x288 with 1 Axes>"
      ]
     },
     "metadata": {
      "needs_background": "light"
     },
     "output_type": "display_data"
    }
   ],
   "source": [
    "plt.plot(profile.loc[profile['age'] != 118].groupby(['age']).income.mean(),color='#B23AEE',linestyle='-')\n",
    "plt.title('test')\n",
    "plt.xlabel(\"Age\")\n",
    "plt.ylabel(\"Average Income\")"
   ]
  },
  {
   "cell_type": "markdown",
   "metadata": {},
   "source": [
    "Trying to join"
   ]
  },
  {
   "cell_type": "code",
   "execution_count": 116,
   "metadata": {},
   "outputs": [
    {
     "data": {
      "text/plain": [
       "offer_id\n",
       "0b1e1539f2cc45b7b9fa7c272da2e1d7    13751\n",
       "2298d6c36e964ae4a3e7e9706d1fb8c2    20139\n",
       "2906b810c7d4411798c6938adc9daaa5    15767\n",
       "3f207df678b143eea3cee63160fa8bed    11761\n",
       "4d5c57ea9a6940dd891ad53e9dbe8da0    18222\n",
       "5a8bc65990b245e5a138643cd4eb9837    14305\n",
       "9b98b8c7a33c4b65b9aebfe6a799e6d9    16202\n",
       "ae264e3637204a6fb9bb56bc8210ddfd    18062\n",
       "f19421c1d4aa40978ebb69ca19b0e20d    19131\n",
       "fafdcd668e3743c1bb461111dcafc2a4    20241\n",
       "Name: event, dtype: int64"
      ]
     },
     "execution_count": 116,
     "metadata": {},
     "output_type": "execute_result"
    }
   ],
   "source": [
    "transcript.groupby('offer_id').event.count()"
   ]
  },
  {
   "cell_type": "code",
   "execution_count": 117,
   "metadata": {},
   "outputs": [
    {
     "data": {
      "text/plain": [
       "<AxesSubplot:ylabel='Offer Type'>"
      ]
     },
     "execution_count": 117,
     "metadata": {},
     "output_type": "execute_result"
    },
    {
     "data": {
      "image/png": "[encoded data removed]",
      "text/plain": [
       "<Figure size 360x360 with 1 Axes>"
      ]
     },
     "metadata": {},
     "output_type": "display_data"
    }
   ],
   "source": [
    "transcript.groupby('offer_id').count().event.plot.pie(ylabel='Offer Type',labels=None, autopct=\"%.2f\", figsize=(5, 5))"
   ]
  },
  {
   "cell_type": "code",
   "execution_count": 118,
   "metadata": {
    "scrolled": true
   },
   "outputs": [
    {
     "data": {
      "text/html": [
       "<div>\n",
       "<style scoped>\n",
       "    .dataframe tbody tr th:only-of-type {\n",
       "        vertical-align: middle;\n",
       "    }\n",
       "\n",
       "    .dataframe tbody tr th {\n",
       "        vertical-align: top;\n",
       "    }\n",
       "\n",
       "    .dataframe thead th {\n",
       "        text-align: right;\n",
       "    }\n",
       "</style>\n",
       "<table border=\"1\" class=\"dataframe\">\n",
       "  <thead>\n",
       "    <tr style=\"text-align: right;\">\n",
       "      <th></th>\n",
       "      <th>reward</th>\n",
       "      <th>channels</th>\n",
       "      <th>difficulty</th>\n",
       "      <th>duration</th>\n",
       "      <th>offer_type</th>\n",
       "      <th>offer_id</th>\n",
       "    </tr>\n",
       "  </thead>\n",
       "  <tbody>\n",
       "    <tr>\n",
       "      <th>0</th>\n",
       "      <td>10</td>\n",
       "      <td>[email, mobile, social]</td>\n",
       "      <td>10</td>\n",
       "      <td>7</td>\n",
       "      <td>bogo</td>\n",
       "      <td>ae264e3637204a6fb9bb56bc8210ddfd</td>\n",
       "    </tr>\n",
       "    <tr>\n",
       "      <th>1</th>\n",
       "      <td>10</td>\n",
       "      <td>[web, email, mobile, social]</td>\n",
       "      <td>10</td>\n",
       "      <td>5</td>\n",
       "      <td>bogo</td>\n",
       "      <td>4d5c57ea9a6940dd891ad53e9dbe8da0</td>\n",
       "    </tr>\n",
       "    <tr>\n",
       "      <th>2</th>\n",
       "      <td>0</td>\n",
       "      <td>[web, email, mobile]</td>\n",
       "      <td>0</td>\n",
       "      <td>4</td>\n",
       "      <td>informational</td>\n",
       "      <td>3f207df678b143eea3cee63160fa8bed</td>\n",
       "    </tr>\n",
       "    <tr>\n",
       "      <th>3</th>\n",
       "      <td>5</td>\n",
       "      <td>[web, email, mobile]</td>\n",
       "      <td>5</td>\n",
       "      <td>7</td>\n",
       "      <td>bogo</td>\n",
       "      <td>9b98b8c7a33c4b65b9aebfe6a799e6d9</td>\n",
       "    </tr>\n",
       "    <tr>\n",
       "      <th>4</th>\n",
       "      <td>5</td>\n",
       "      <td>[web, email]</td>\n",
       "      <td>20</td>\n",
       "      <td>10</td>\n",
       "      <td>discount</td>\n",
       "      <td>0b1e1539f2cc45b7b9fa7c272da2e1d7</td>\n",
       "    </tr>\n",
       "    <tr>\n",
       "      <th>5</th>\n",
       "      <td>3</td>\n",
       "      <td>[web, email, mobile, social]</td>\n",
       "      <td>7</td>\n",
       "      <td>7</td>\n",
       "      <td>discount</td>\n",
       "      <td>2298d6c36e964ae4a3e7e9706d1fb8c2</td>\n",
       "    </tr>\n",
       "    <tr>\n",
       "      <th>6</th>\n",
       "      <td>2</td>\n",
       "      <td>[web, email, mobile, social]</td>\n",
       "      <td>10</td>\n",
       "      <td>10</td>\n",
       "      <td>discount</td>\n",
       "      <td>fafdcd668e3743c1bb461111dcafc2a4</td>\n",
       "    </tr>\n",
       "    <tr>\n",
       "      <th>7</th>\n",
       "      <td>0</td>\n",
       "      <td>[email, mobile, social]</td>\n",
       "      <td>0</td>\n",
       "      <td>3</td>\n",
       "      <td>informational</td>\n",
       "      <td>5a8bc65990b245e5a138643cd4eb9837</td>\n",
       "    </tr>\n",
       "    <tr>\n",
       "      <th>8</th>\n",
       "      <td>5</td>\n",
       "      <td>[web, email, mobile, social]</td>\n",
       "      <td>5</td>\n",
       "      <td>5</td>\n",
       "      <td>bogo</td>\n",
       "      <td>f19421c1d4aa40978ebb69ca19b0e20d</td>\n",
       "    </tr>\n",
       "    <tr>\n",
       "      <th>9</th>\n",
       "      <td>2</td>\n",
       "      <td>[web, email, mobile]</td>\n",
       "      <td>10</td>\n",
       "      <td>7</td>\n",
       "      <td>discount</td>\n",
       "      <td>2906b810c7d4411798c6938adc9daaa5</td>\n",
       "    </tr>\n",
       "  </tbody>\n",
       "</table>\n",
       "</div>"
      ],
      "text/plain": [
       "   reward                      channels  difficulty  duration     offer_type  \\\n",
       "0      10       [email, mobile, social]          10         7           bogo   \n",
       "1      10  [web, email, mobile, social]          10         5           bogo   \n",
       "2       0          [web, email, mobile]           0         4  informational   \n",
       "3       5          [web, email, mobile]           5         7           bogo   \n",
       "4       5                  [web, email]          20        10       discount   \n",
       "5       3  [web, email, mobile, social]           7         7       discount   \n",
       "6       2  [web, email, mobile, social]          10        10       discount   \n",
       "7       0       [email, mobile, social]           0         3  informational   \n",
       "8       5  [web, email, mobile, social]           5         5           bogo   \n",
       "9       2          [web, email, mobile]          10         7       discount   \n",
       "\n",
       "                           offer_id  \n",
       "0  ae264e3637204a6fb9bb56bc8210ddfd  \n",
       "1  4d5c57ea9a6940dd891ad53e9dbe8da0  \n",
       "2  3f207df678b143eea3cee63160fa8bed  \n",
       "3  9b98b8c7a33c4b65b9aebfe6a799e6d9  \n",
       "4  0b1e1539f2cc45b7b9fa7c272da2e1d7  \n",
       "5  2298d6c36e964ae4a3e7e9706d1fb8c2  \n",
       "6  fafdcd668e3743c1bb461111dcafc2a4  \n",
       "7  5a8bc65990b245e5a138643cd4eb9837  \n",
       "8  f19421c1d4aa40978ebb69ca19b0e20d  \n",
       "9  2906b810c7d4411798c6938adc9daaa5  "
      ]
     },
     "execution_count": 118,
     "metadata": {},
     "output_type": "execute_result"
    }
   ],
   "source": [
    "portfolio"
   ]
  },
  {
   "cell_type": "code",
   "execution_count": 119,
   "metadata": {},
   "outputs": [
    {
     "data": {
      "text/html": [
       "<div>\n",
       "<style scoped>\n",
       "    .dataframe tbody tr th:only-of-type {\n",
       "        vertical-align: middle;\n",
       "    }\n",
       "\n",
       "    .dataframe tbody tr th {\n",
       "        vertical-align: top;\n",
       "    }\n",
       "\n",
       "    .dataframe thead th {\n",
       "        text-align: right;\n",
       "    }\n",
       "</style>\n",
       "<table border=\"1\" class=\"dataframe\">\n",
       "  <thead>\n",
       "    <tr style=\"text-align: right;\">\n",
       "      <th></th>\n",
       "      <th>person</th>\n",
       "      <th>event</th>\n",
       "      <th>time</th>\n",
       "      <th>offer_id</th>\n",
       "      <th>amount</th>\n",
       "      <th>reward</th>\n",
       "    </tr>\n",
       "  </thead>\n",
       "  <tbody>\n",
       "    <tr>\n",
       "      <th>0</th>\n",
       "      <td>78afa995795e4d85b5d9ceeca43f5fef</td>\n",
       "      <td>offer received</td>\n",
       "      <td>0</td>\n",
       "      <td>9b98b8c7a33c4b65b9aebfe6a799e6d9</td>\n",
       "      <td>NaN</td>\n",
       "      <td>NaN</td>\n",
       "    </tr>\n",
       "    <tr>\n",
       "      <th>1</th>\n",
       "      <td>a03223e636434f42ac4c3df47e8bac43</td>\n",
       "      <td>offer received</td>\n",
       "      <td>0</td>\n",
       "      <td>0b1e1539f2cc45b7b9fa7c272da2e1d7</td>\n",
       "      <td>NaN</td>\n",
       "      <td>NaN</td>\n",
       "    </tr>\n",
       "    <tr>\n",
       "      <th>2</th>\n",
       "      <td>e2127556f4f64592b11af22de27a7932</td>\n",
       "      <td>offer received</td>\n",
       "      <td>0</td>\n",
       "      <td>2906b810c7d4411798c6938adc9daaa5</td>\n",
       "      <td>NaN</td>\n",
       "      <td>NaN</td>\n",
       "    </tr>\n",
       "    <tr>\n",
       "      <th>3</th>\n",
       "      <td>8ec6ce2a7e7949b1bf142def7d0e0586</td>\n",
       "      <td>offer received</td>\n",
       "      <td>0</td>\n",
       "      <td>fafdcd668e3743c1bb461111dcafc2a4</td>\n",
       "      <td>NaN</td>\n",
       "      <td>NaN</td>\n",
       "    </tr>\n",
       "    <tr>\n",
       "      <th>4</th>\n",
       "      <td>68617ca6246f4fbc85e91a2a49552598</td>\n",
       "      <td>offer received</td>\n",
       "      <td>0</td>\n",
       "      <td>4d5c57ea9a6940dd891ad53e9dbe8da0</td>\n",
       "      <td>NaN</td>\n",
       "      <td>NaN</td>\n",
       "    </tr>\n",
       "    <tr>\n",
       "      <th>5</th>\n",
       "      <td>389bc3fa690240e798340f5a15918d5c</td>\n",
       "      <td>offer received</td>\n",
       "      <td>0</td>\n",
       "      <td>f19421c1d4aa40978ebb69ca19b0e20d</td>\n",
       "      <td>NaN</td>\n",
       "      <td>NaN</td>\n",
       "    </tr>\n",
       "    <tr>\n",
       "      <th>6</th>\n",
       "      <td>c4863c7985cf408faee930f111475da3</td>\n",
       "      <td>offer received</td>\n",
       "      <td>0</td>\n",
       "      <td>2298d6c36e964ae4a3e7e9706d1fb8c2</td>\n",
       "      <td>NaN</td>\n",
       "      <td>NaN</td>\n",
       "    </tr>\n",
       "    <tr>\n",
       "      <th>7</th>\n",
       "      <td>2eeac8d8feae4a8cad5a6af0499a211d</td>\n",
       "      <td>offer received</td>\n",
       "      <td>0</td>\n",
       "      <td>3f207df678b143eea3cee63160fa8bed</td>\n",
       "      <td>NaN</td>\n",
       "      <td>NaN</td>\n",
       "    </tr>\n",
       "    <tr>\n",
       "      <th>8</th>\n",
       "      <td>aa4862eba776480b8bb9c68455b8c2e1</td>\n",
       "      <td>offer received</td>\n",
       "      <td>0</td>\n",
       "      <td>0b1e1539f2cc45b7b9fa7c272da2e1d7</td>\n",
       "      <td>NaN</td>\n",
       "      <td>NaN</td>\n",
       "    </tr>\n",
       "    <tr>\n",
       "      <th>9</th>\n",
       "      <td>31dda685af34476cad5bc968bdb01c53</td>\n",
       "      <td>offer received</td>\n",
       "      <td>0</td>\n",
       "      <td>0b1e1539f2cc45b7b9fa7c272da2e1d7</td>\n",
       "      <td>NaN</td>\n",
       "      <td>NaN</td>\n",
       "    </tr>\n",
       "  </tbody>\n",
       "</table>\n",
       "</div>"
      ],
      "text/plain": [
       "                             person           event  time  \\\n",
       "0  78afa995795e4d85b5d9ceeca43f5fef  offer received     0   \n",
       "1  a03223e636434f42ac4c3df47e8bac43  offer received     0   \n",
       "2  e2127556f4f64592b11af22de27a7932  offer received     0   \n",
       "3  8ec6ce2a7e7949b1bf142def7d0e0586  offer received     0   \n",
       "4  68617ca6246f4fbc85e91a2a49552598  offer received     0   \n",
       "5  389bc3fa690240e798340f5a15918d5c  offer received     0   \n",
       "6  c4863c7985cf408faee930f111475da3  offer received     0   \n",
       "7  2eeac8d8feae4a8cad5a6af0499a211d  offer received     0   \n",
       "8  aa4862eba776480b8bb9c68455b8c2e1  offer received     0   \n",
       "9  31dda685af34476cad5bc968bdb01c53  offer received     0   \n",
       "\n",
       "                           offer_id  amount  reward  \n",
       "0  9b98b8c7a33c4b65b9aebfe6a799e6d9     NaN     NaN  \n",
       "1  0b1e1539f2cc45b7b9fa7c272da2e1d7     NaN     NaN  \n",
       "2  2906b810c7d4411798c6938adc9daaa5     NaN     NaN  \n",
       "3  fafdcd668e3743c1bb461111dcafc2a4     NaN     NaN  \n",
       "4  4d5c57ea9a6940dd891ad53e9dbe8da0     NaN     NaN  \n",
       "5  f19421c1d4aa40978ebb69ca19b0e20d     NaN     NaN  \n",
       "6  2298d6c36e964ae4a3e7e9706d1fb8c2     NaN     NaN  \n",
       "7  3f207df678b143eea3cee63160fa8bed     NaN     NaN  \n",
       "8  0b1e1539f2cc45b7b9fa7c272da2e1d7     NaN     NaN  \n",
       "9  0b1e1539f2cc45b7b9fa7c272da2e1d7     NaN     NaN  "
      ]
     },
     "execution_count": 119,
     "metadata": {},
     "output_type": "execute_result"
    }
   ],
   "source": [
    "transcript.head(10)"
   ]
  },
  {
   "cell_type": "markdown",
   "metadata": {},
   "source": [
    "JOINING TRANSCRIPT AND PORTFOLIO"
   ]
  },
  {
   "cell_type": "code",
   "execution_count": 120,
   "metadata": {},
   "outputs": [
    {
     "data": {
      "text/html": [
       "<div>\n",
       "<style scoped>\n",
       "    .dataframe tbody tr th:only-of-type {\n",
       "        vertical-align: middle;\n",
       "    }\n",
       "\n",
       "    .dataframe tbody tr th {\n",
       "        vertical-align: top;\n",
       "    }\n",
       "\n",
       "    .dataframe thead th {\n",
       "        text-align: right;\n",
       "    }\n",
       "</style>\n",
       "<table border=\"1\" class=\"dataframe\">\n",
       "  <thead>\n",
       "    <tr style=\"text-align: right;\">\n",
       "      <th></th>\n",
       "      <th>person</th>\n",
       "      <th>event</th>\n",
       "      <th>time</th>\n",
       "      <th>offer_id</th>\n",
       "      <th>amount</th>\n",
       "      <th>reward</th>\n",
       "    </tr>\n",
       "  </thead>\n",
       "  <tbody>\n",
       "    <tr>\n",
       "      <th>0</th>\n",
       "      <td>78afa995795e4d85b5d9ceeca43f5fef</td>\n",
       "      <td>offer received</td>\n",
       "      <td>0</td>\n",
       "      <td>9b98b8c7a33c4b65b9aebfe6a799e6d9</td>\n",
       "      <td>NaN</td>\n",
       "      <td>NaN</td>\n",
       "    </tr>\n",
       "    <tr>\n",
       "      <th>1</th>\n",
       "      <td>a03223e636434f42ac4c3df47e8bac43</td>\n",
       "      <td>offer received</td>\n",
       "      <td>0</td>\n",
       "      <td>0b1e1539f2cc45b7b9fa7c272da2e1d7</td>\n",
       "      <td>NaN</td>\n",
       "      <td>NaN</td>\n",
       "    </tr>\n",
       "    <tr>\n",
       "      <th>2</th>\n",
       "      <td>e2127556f4f64592b11af22de27a7932</td>\n",
       "      <td>offer received</td>\n",
       "      <td>0</td>\n",
       "      <td>2906b810c7d4411798c6938adc9daaa5</td>\n",
       "      <td>NaN</td>\n",
       "      <td>NaN</td>\n",
       "    </tr>\n",
       "    <tr>\n",
       "      <th>3</th>\n",
       "      <td>8ec6ce2a7e7949b1bf142def7d0e0586</td>\n",
       "      <td>offer received</td>\n",
       "      <td>0</td>\n",
       "      <td>fafdcd668e3743c1bb461111dcafc2a4</td>\n",
       "      <td>NaN</td>\n",
       "      <td>NaN</td>\n",
       "    </tr>\n",
       "    <tr>\n",
       "      <th>4</th>\n",
       "      <td>68617ca6246f4fbc85e91a2a49552598</td>\n",
       "      <td>offer received</td>\n",
       "      <td>0</td>\n",
       "      <td>4d5c57ea9a6940dd891ad53e9dbe8da0</td>\n",
       "      <td>NaN</td>\n",
       "      <td>NaN</td>\n",
       "    </tr>\n",
       "    <tr>\n",
       "      <th>...</th>\n",
       "      <td>...</td>\n",
       "      <td>...</td>\n",
       "      <td>...</td>\n",
       "      <td>...</td>\n",
       "      <td>...</td>\n",
       "      <td>...</td>\n",
       "    </tr>\n",
       "    <tr>\n",
       "      <th>306529</th>\n",
       "      <td>b3a1272bc9904337b331bf348c3e8c17</td>\n",
       "      <td>transaction</td>\n",
       "      <td>714</td>\n",
       "      <td>NaN</td>\n",
       "      <td>1.59</td>\n",
       "      <td>NaN</td>\n",
       "    </tr>\n",
       "    <tr>\n",
       "      <th>306530</th>\n",
       "      <td>68213b08d99a4ae1b0dcb72aebd9aa35</td>\n",
       "      <td>transaction</td>\n",
       "      <td>714</td>\n",
       "      <td>NaN</td>\n",
       "      <td>9.53</td>\n",
       "      <td>NaN</td>\n",
       "    </tr>\n",
       "    <tr>\n",
       "      <th>306531</th>\n",
       "      <td>a00058cf10334a308c68e7631c529907</td>\n",
       "      <td>transaction</td>\n",
       "      <td>714</td>\n",
       "      <td>NaN</td>\n",
       "      <td>3.61</td>\n",
       "      <td>NaN</td>\n",
       "    </tr>\n",
       "    <tr>\n",
       "      <th>306532</th>\n",
       "      <td>76ddbd6576844afe811f1a3c0fbb5bec</td>\n",
       "      <td>transaction</td>\n",
       "      <td>714</td>\n",
       "      <td>NaN</td>\n",
       "      <td>3.53</td>\n",
       "      <td>NaN</td>\n",
       "    </tr>\n",
       "    <tr>\n",
       "      <th>306533</th>\n",
       "      <td>c02b10e8752c4d8e9b73f918558531f7</td>\n",
       "      <td>transaction</td>\n",
       "      <td>714</td>\n",
       "      <td>NaN</td>\n",
       "      <td>4.05</td>\n",
       "      <td>NaN</td>\n",
       "    </tr>\n",
       "  </tbody>\n",
       "</table>\n",
       "<p>306534 rows × 6 columns</p>\n",
       "</div>"
      ],
      "text/plain": [
       "                                  person           event  time  \\\n",
       "0       78afa995795e4d85b5d9ceeca43f5fef  offer received     0   \n",
       "1       a03223e636434f42ac4c3df47e8bac43  offer received     0   \n",
       "2       e2127556f4f64592b11af22de27a7932  offer received     0   \n",
       "3       8ec6ce2a7e7949b1bf142def7d0e0586  offer received     0   \n",
       "4       68617ca6246f4fbc85e91a2a49552598  offer received     0   \n",
       "...                                  ...             ...   ...   \n",
       "306529  b3a1272bc9904337b331bf348c3e8c17     transaction   714   \n",
       "306530  68213b08d99a4ae1b0dcb72aebd9aa35     transaction   714   \n",
       "306531  a00058cf10334a308c68e7631c529907     transaction   714   \n",
       "306532  76ddbd6576844afe811f1a3c0fbb5bec     transaction   714   \n",
       "306533  c02b10e8752c4d8e9b73f918558531f7     transaction   714   \n",
       "\n",
       "                                offer_id  amount  reward  \n",
       "0       9b98b8c7a33c4b65b9aebfe6a799e6d9     NaN     NaN  \n",
       "1       0b1e1539f2cc45b7b9fa7c272da2e1d7     NaN     NaN  \n",
       "2       2906b810c7d4411798c6938adc9daaa5     NaN     NaN  \n",
       "3       fafdcd668e3743c1bb461111dcafc2a4     NaN     NaN  \n",
       "4       4d5c57ea9a6940dd891ad53e9dbe8da0     NaN     NaN  \n",
       "...                                  ...     ...     ...  \n",
       "306529                               NaN    1.59     NaN  \n",
       "306530                               NaN    9.53     NaN  \n",
       "306531                               NaN    3.61     NaN  \n",
       "306532                               NaN    3.53     NaN  \n",
       "306533                               NaN    4.05     NaN  \n",
       "\n",
       "[306534 rows x 6 columns]"
      ]
     },
     "execution_count": 120,
     "metadata": {},
     "output_type": "execute_result"
    }
   ],
   "source": [
    "transcript"
   ]
  },
  {
   "cell_type": "code",
   "execution_count": 121,
   "metadata": {},
   "outputs": [],
   "source": [
    "#renaming reward to reward_recieved in transcript so there isnt a conflict. I \n",
    "transcript.rename(columns={\"offer id\": \"offer_id\"},inplace=True)\n"
   ]
  },
  {
   "cell_type": "code",
   "execution_count": 122,
   "metadata": {},
   "outputs": [],
   "source": [
    "#think how i want to handle rewards in a moment\n",
    "#transcript_portfolio=transcript.merge(portfolio,left_on=('offer_id' ),right_on=('offer_id' ),how='left')\n",
    "\n",
    "transcript_portfolio=transcript.merge(portfolio,on=('offer_id' ),how='left')"
   ]
  },
  {
   "cell_type": "code",
   "execution_count": 123,
   "metadata": {},
   "outputs": [],
   "source": [
    "#Instead of removing one of the columns, I am keeping both for now\n",
    "#renaming reward to reward_recieved from transcript. and reward from portfolio will be kept as reward.\n",
    "transcript_portfolio.rename(columns={\"reward_x\": \"reward_recieved\",\"reward_y\": \"reward\"},inplace=True)\n"
   ]
  },
  {
   "cell_type": "code",
   "execution_count": 124,
   "metadata": {},
   "outputs": [
    {
     "data": {
      "text/html": [
       "<div>\n",
       "<style scoped>\n",
       "    .dataframe tbody tr th:only-of-type {\n",
       "        vertical-align: middle;\n",
       "    }\n",
       "\n",
       "    .dataframe tbody tr th {\n",
       "        vertical-align: top;\n",
       "    }\n",
       "\n",
       "    .dataframe thead th {\n",
       "        text-align: right;\n",
       "    }\n",
       "</style>\n",
       "<table border=\"1\" class=\"dataframe\">\n",
       "  <thead>\n",
       "    <tr style=\"text-align: right;\">\n",
       "      <th></th>\n",
       "      <th>person</th>\n",
       "      <th>event</th>\n",
       "      <th>time</th>\n",
       "      <th>offer_id</th>\n",
       "      <th>amount</th>\n",
       "      <th>reward_recieved</th>\n",
       "      <th>reward</th>\n",
       "      <th>channels</th>\n",
       "      <th>difficulty</th>\n",
       "      <th>duration</th>\n",
       "      <th>offer_type</th>\n",
       "    </tr>\n",
       "  </thead>\n",
       "  <tbody>\n",
       "    <tr>\n",
       "      <th>0</th>\n",
       "      <td>78afa995795e4d85b5d9ceeca43f5fef</td>\n",
       "      <td>offer received</td>\n",
       "      <td>0</td>\n",
       "      <td>9b98b8c7a33c4b65b9aebfe6a799e6d9</td>\n",
       "      <td>NaN</td>\n",
       "      <td>NaN</td>\n",
       "      <td>5.0</td>\n",
       "      <td>[web, email, mobile]</td>\n",
       "      <td>5.0</td>\n",
       "      <td>7.0</td>\n",
       "      <td>bogo</td>\n",
       "    </tr>\n",
       "    <tr>\n",
       "      <th>1</th>\n",
       "      <td>a03223e636434f42ac4c3df47e8bac43</td>\n",
       "      <td>offer received</td>\n",
       "      <td>0</td>\n",
       "      <td>0b1e1539f2cc45b7b9fa7c272da2e1d7</td>\n",
       "      <td>NaN</td>\n",
       "      <td>NaN</td>\n",
       "      <td>5.0</td>\n",
       "      <td>[web, email]</td>\n",
       "      <td>20.0</td>\n",
       "      <td>10.0</td>\n",
       "      <td>discount</td>\n",
       "    </tr>\n",
       "    <tr>\n",
       "      <th>2</th>\n",
       "      <td>e2127556f4f64592b11af22de27a7932</td>\n",
       "      <td>offer received</td>\n",
       "      <td>0</td>\n",
       "      <td>2906b810c7d4411798c6938adc9daaa5</td>\n",
       "      <td>NaN</td>\n",
       "      <td>NaN</td>\n",
       "      <td>2.0</td>\n",
       "      <td>[web, email, mobile]</td>\n",
       "      <td>10.0</td>\n",
       "      <td>7.0</td>\n",
       "      <td>discount</td>\n",
       "    </tr>\n",
       "    <tr>\n",
       "      <th>3</th>\n",
       "      <td>8ec6ce2a7e7949b1bf142def7d0e0586</td>\n",
       "      <td>offer received</td>\n",
       "      <td>0</td>\n",
       "      <td>fafdcd668e3743c1bb461111dcafc2a4</td>\n",
       "      <td>NaN</td>\n",
       "      <td>NaN</td>\n",
       "      <td>2.0</td>\n",
       "      <td>[web, email, mobile, social]</td>\n",
       "      <td>10.0</td>\n",
       "      <td>10.0</td>\n",
       "      <td>discount</td>\n",
       "    </tr>\n",
       "    <tr>\n",
       "      <th>4</th>\n",
       "      <td>68617ca6246f4fbc85e91a2a49552598</td>\n",
       "      <td>offer received</td>\n",
       "      <td>0</td>\n",
       "      <td>4d5c57ea9a6940dd891ad53e9dbe8da0</td>\n",
       "      <td>NaN</td>\n",
       "      <td>NaN</td>\n",
       "      <td>10.0</td>\n",
       "      <td>[web, email, mobile, social]</td>\n",
       "      <td>10.0</td>\n",
       "      <td>5.0</td>\n",
       "      <td>bogo</td>\n",
       "    </tr>\n",
       "    <tr>\n",
       "      <th>...</th>\n",
       "      <td>...</td>\n",
       "      <td>...</td>\n",
       "      <td>...</td>\n",
       "      <td>...</td>\n",
       "      <td>...</td>\n",
       "      <td>...</td>\n",
       "      <td>...</td>\n",
       "      <td>...</td>\n",
       "      <td>...</td>\n",
       "      <td>...</td>\n",
       "      <td>...</td>\n",
       "    </tr>\n",
       "    <tr>\n",
       "      <th>257882</th>\n",
       "      <td>d087c473b4d247ccb0abfef59ba12b0e</td>\n",
       "      <td>offer received</td>\n",
       "      <td>576</td>\n",
       "      <td>ae264e3637204a6fb9bb56bc8210ddfd</td>\n",
       "      <td>NaN</td>\n",
       "      <td>NaN</td>\n",
       "      <td>10.0</td>\n",
       "      <td>[email, mobile, social]</td>\n",
       "      <td>10.0</td>\n",
       "      <td>7.0</td>\n",
       "      <td>bogo</td>\n",
       "    </tr>\n",
       "    <tr>\n",
       "      <th>257883</th>\n",
       "      <td>cb23b66c56f64b109d673d5e56574529</td>\n",
       "      <td>offer received</td>\n",
       "      <td>576</td>\n",
       "      <td>2906b810c7d4411798c6938adc9daaa5</td>\n",
       "      <td>NaN</td>\n",
       "      <td>NaN</td>\n",
       "      <td>2.0</td>\n",
       "      <td>[web, email, mobile]</td>\n",
       "      <td>10.0</td>\n",
       "      <td>7.0</td>\n",
       "      <td>discount</td>\n",
       "    </tr>\n",
       "    <tr>\n",
       "      <th>257884</th>\n",
       "      <td>6d5f3a774f3d4714ab0c092238f3a1d7</td>\n",
       "      <td>offer received</td>\n",
       "      <td>576</td>\n",
       "      <td>2298d6c36e964ae4a3e7e9706d1fb8c2</td>\n",
       "      <td>NaN</td>\n",
       "      <td>NaN</td>\n",
       "      <td>3.0</td>\n",
       "      <td>[web, email, mobile, social]</td>\n",
       "      <td>7.0</td>\n",
       "      <td>7.0</td>\n",
       "      <td>discount</td>\n",
       "    </tr>\n",
       "    <tr>\n",
       "      <th>257885</th>\n",
       "      <td>9dc1421481194dcd9400aec7c9ae6366</td>\n",
       "      <td>offer received</td>\n",
       "      <td>576</td>\n",
       "      <td>ae264e3637204a6fb9bb56bc8210ddfd</td>\n",
       "      <td>NaN</td>\n",
       "      <td>NaN</td>\n",
       "      <td>10.0</td>\n",
       "      <td>[email, mobile, social]</td>\n",
       "      <td>10.0</td>\n",
       "      <td>7.0</td>\n",
       "      <td>bogo</td>\n",
       "    </tr>\n",
       "    <tr>\n",
       "      <th>257886</th>\n",
       "      <td>e4052622e5ba45a8b96b59aba68cf068</td>\n",
       "      <td>offer received</td>\n",
       "      <td>576</td>\n",
       "      <td>3f207df678b143eea3cee63160fa8bed</td>\n",
       "      <td>NaN</td>\n",
       "      <td>NaN</td>\n",
       "      <td>0.0</td>\n",
       "      <td>[web, email, mobile]</td>\n",
       "      <td>0.0</td>\n",
       "      <td>4.0</td>\n",
       "      <td>informational</td>\n",
       "    </tr>\n",
       "  </tbody>\n",
       "</table>\n",
       "<p>76277 rows × 11 columns</p>\n",
       "</div>"
      ],
      "text/plain": [
       "                                  person           event  time  \\\n",
       "0       78afa995795e4d85b5d9ceeca43f5fef  offer received     0   \n",
       "1       a03223e636434f42ac4c3df47e8bac43  offer received     0   \n",
       "2       e2127556f4f64592b11af22de27a7932  offer received     0   \n",
       "3       8ec6ce2a7e7949b1bf142def7d0e0586  offer received     0   \n",
       "4       68617ca6246f4fbc85e91a2a49552598  offer received     0   \n",
       "...                                  ...             ...   ...   \n",
       "257882  d087c473b4d247ccb0abfef59ba12b0e  offer received   576   \n",
       "257883  cb23b66c56f64b109d673d5e56574529  offer received   576   \n",
       "257884  6d5f3a774f3d4714ab0c092238f3a1d7  offer received   576   \n",
       "257885  9dc1421481194dcd9400aec7c9ae6366  offer received   576   \n",
       "257886  e4052622e5ba45a8b96b59aba68cf068  offer received   576   \n",
       "\n",
       "                                offer_id  amount  reward_recieved  reward  \\\n",
       "0       9b98b8c7a33c4b65b9aebfe6a799e6d9     NaN              NaN     5.0   \n",
       "1       0b1e1539f2cc45b7b9fa7c272da2e1d7     NaN              NaN     5.0   \n",
       "2       2906b810c7d4411798c6938adc9daaa5     NaN              NaN     2.0   \n",
       "3       fafdcd668e3743c1bb461111dcafc2a4     NaN              NaN     2.0   \n",
       "4       4d5c57ea9a6940dd891ad53e9dbe8da0     NaN              NaN    10.0   \n",
       "...                                  ...     ...              ...     ...   \n",
       "257882  ae264e3637204a6fb9bb56bc8210ddfd     NaN              NaN    10.0   \n",
       "257883  2906b810c7d4411798c6938adc9daaa5     NaN              NaN     2.0   \n",
       "257884  2298d6c36e964ae4a3e7e9706d1fb8c2     NaN              NaN     3.0   \n",
       "257885  ae264e3637204a6fb9bb56bc8210ddfd     NaN              NaN    10.0   \n",
       "257886  3f207df678b143eea3cee63160fa8bed     NaN              NaN     0.0   \n",
       "\n",
       "                            channels  difficulty  duration     offer_type  \n",
       "0               [web, email, mobile]         5.0       7.0           bogo  \n",
       "1                       [web, email]        20.0      10.0       discount  \n",
       "2               [web, email, mobile]        10.0       7.0       discount  \n",
       "3       [web, email, mobile, social]        10.0      10.0       discount  \n",
       "4       [web, email, mobile, social]        10.0       5.0           bogo  \n",
       "...                              ...         ...       ...            ...  \n",
       "257882       [email, mobile, social]        10.0       7.0           bogo  \n",
       "257883          [web, email, mobile]        10.0       7.0       discount  \n",
       "257884  [web, email, mobile, social]         7.0       7.0       discount  \n",
       "257885       [email, mobile, social]        10.0       7.0           bogo  \n",
       "257886          [web, email, mobile]         0.0       4.0  informational  \n",
       "\n",
       "[76277 rows x 11 columns]"
      ]
     },
     "execution_count": 124,
     "metadata": {},
     "output_type": "execute_result"
    }
   ],
   "source": [
    "transcript_portfolio.query('event == \"offer received\"')\n"
   ]
  },
  {
   "cell_type": "code",
   "execution_count": null,
   "metadata": {},
   "outputs": [],
   "source": []
  },
  {
   "cell_type": "code",
   "execution_count": 125,
   "metadata": {},
   "outputs": [
    {
     "data": {
      "text/plain": [
       "event            offer_id                        \n",
       "offer completed  0b1e1539f2cc45b7b9fa7c272da2e1d7    3420\n",
       "                 2298d6c36e964ae4a3e7e9706d1fb8c2    5156\n",
       "                 2906b810c7d4411798c6938adc9daaa5    4017\n",
       "                 4d5c57ea9a6940dd891ad53e9dbe8da0    3331\n",
       "                 9b98b8c7a33c4b65b9aebfe6a799e6d9    4354\n",
       "                 ae264e3637204a6fb9bb56bc8210ddfd    3688\n",
       "                 f19421c1d4aa40978ebb69ca19b0e20d    4296\n",
       "                 fafdcd668e3743c1bb461111dcafc2a4    5317\n",
       "offer received   0b1e1539f2cc45b7b9fa7c272da2e1d7    7668\n",
       "                 2298d6c36e964ae4a3e7e9706d1fb8c2    7646\n",
       "                 2906b810c7d4411798c6938adc9daaa5    7632\n",
       "                 3f207df678b143eea3cee63160fa8bed    7617\n",
       "                 4d5c57ea9a6940dd891ad53e9dbe8da0    7593\n",
       "                 5a8bc65990b245e5a138643cd4eb9837    7618\n",
       "                 9b98b8c7a33c4b65b9aebfe6a799e6d9    7677\n",
       "                 ae264e3637204a6fb9bb56bc8210ddfd    7658\n",
       "                 f19421c1d4aa40978ebb69ca19b0e20d    7571\n",
       "                 fafdcd668e3743c1bb461111dcafc2a4    7597\n",
       "offer viewed     0b1e1539f2cc45b7b9fa7c272da2e1d7    2663\n",
       "                 2298d6c36e964ae4a3e7e9706d1fb8c2    7337\n",
       "                 2906b810c7d4411798c6938adc9daaa5    4118\n",
       "                 3f207df678b143eea3cee63160fa8bed    4144\n",
       "                 4d5c57ea9a6940dd891ad53e9dbe8da0    7298\n",
       "                 5a8bc65990b245e5a138643cd4eb9837    6687\n",
       "                 9b98b8c7a33c4b65b9aebfe6a799e6d9    4171\n",
       "                 ae264e3637204a6fb9bb56bc8210ddfd    6716\n",
       "                 f19421c1d4aa40978ebb69ca19b0e20d    7264\n",
       "                 fafdcd668e3743c1bb461111dcafc2a4    7327\n",
       "Name: person, dtype: int64"
      ]
     },
     "execution_count": 125,
     "metadata": {},
     "output_type": "execute_result"
    }
   ],
   "source": [
    "transcript_portfolio.groupby(['event','offer_id']).person.count()"
   ]
  },
  {
   "cell_type": "code",
   "execution_count": 126,
   "metadata": {
    "scrolled": false
   },
   "outputs": [
    {
     "data": {
      "text/html": [
       "<div>\n",
       "<style scoped>\n",
       "    .dataframe tbody tr th:only-of-type {\n",
       "        vertical-align: middle;\n",
       "    }\n",
       "\n",
       "    .dataframe tbody tr th {\n",
       "        vertical-align: top;\n",
       "    }\n",
       "\n",
       "    .dataframe thead th {\n",
       "        text-align: right;\n",
       "    }\n",
       "</style>\n",
       "<table border=\"1\" class=\"dataframe\">\n",
       "  <thead>\n",
       "    <tr style=\"text-align: right;\">\n",
       "      <th>event</th>\n",
       "      <th>offer completed</th>\n",
       "      <th>offer received</th>\n",
       "      <th>offer viewed</th>\n",
       "    </tr>\n",
       "    <tr>\n",
       "      <th>offer_id</th>\n",
       "      <th></th>\n",
       "      <th></th>\n",
       "      <th></th>\n",
       "    </tr>\n",
       "  </thead>\n",
       "  <tbody>\n",
       "    <tr>\n",
       "      <th>0b1e1539f2cc45b7b9fa7c272da2e1d7</th>\n",
       "      <td>3420.0</td>\n",
       "      <td>7668.0</td>\n",
       "      <td>2663.0</td>\n",
       "    </tr>\n",
       "    <tr>\n",
       "      <th>2298d6c36e964ae4a3e7e9706d1fb8c2</th>\n",
       "      <td>5156.0</td>\n",
       "      <td>7646.0</td>\n",
       "      <td>7337.0</td>\n",
       "    </tr>\n",
       "    <tr>\n",
       "      <th>2906b810c7d4411798c6938adc9daaa5</th>\n",
       "      <td>4017.0</td>\n",
       "      <td>7632.0</td>\n",
       "      <td>4118.0</td>\n",
       "    </tr>\n",
       "    <tr>\n",
       "      <th>3f207df678b143eea3cee63160fa8bed</th>\n",
       "      <td>NaN</td>\n",
       "      <td>7617.0</td>\n",
       "      <td>4144.0</td>\n",
       "    </tr>\n",
       "    <tr>\n",
       "      <th>4d5c57ea9a6940dd891ad53e9dbe8da0</th>\n",
       "      <td>3331.0</td>\n",
       "      <td>7593.0</td>\n",
       "      <td>7298.0</td>\n",
       "    </tr>\n",
       "    <tr>\n",
       "      <th>5a8bc65990b245e5a138643cd4eb9837</th>\n",
       "      <td>NaN</td>\n",
       "      <td>7618.0</td>\n",
       "      <td>6687.0</td>\n",
       "    </tr>\n",
       "    <tr>\n",
       "      <th>9b98b8c7a33c4b65b9aebfe6a799e6d9</th>\n",
       "      <td>4354.0</td>\n",
       "      <td>7677.0</td>\n",
       "      <td>4171.0</td>\n",
       "    </tr>\n",
       "    <tr>\n",
       "      <th>ae264e3637204a6fb9bb56bc8210ddfd</th>\n",
       "      <td>3688.0</td>\n",
       "      <td>7658.0</td>\n",
       "      <td>6716.0</td>\n",
       "    </tr>\n",
       "    <tr>\n",
       "      <th>f19421c1d4aa40978ebb69ca19b0e20d</th>\n",
       "      <td>4296.0</td>\n",
       "      <td>7571.0</td>\n",
       "      <td>7264.0</td>\n",
       "    </tr>\n",
       "    <tr>\n",
       "      <th>fafdcd668e3743c1bb461111dcafc2a4</th>\n",
       "      <td>5317.0</td>\n",
       "      <td>7597.0</td>\n",
       "      <td>7327.0</td>\n",
       "    </tr>\n",
       "  </tbody>\n",
       "</table>\n",
       "</div>"
      ],
      "text/plain": [
       "event                             offer completed  offer received  \\\n",
       "offer_id                                                            \n",
       "0b1e1539f2cc45b7b9fa7c272da2e1d7           3420.0          7668.0   \n",
       "2298d6c36e964ae4a3e7e9706d1fb8c2           5156.0          7646.0   \n",
       "2906b810c7d4411798c6938adc9daaa5           4017.0          7632.0   \n",
       "3f207df678b143eea3cee63160fa8bed              NaN          7617.0   \n",
       "4d5c57ea9a6940dd891ad53e9dbe8da0           3331.0          7593.0   \n",
       "5a8bc65990b245e5a138643cd4eb9837              NaN          7618.0   \n",
       "9b98b8c7a33c4b65b9aebfe6a799e6d9           4354.0          7677.0   \n",
       "ae264e3637204a6fb9bb56bc8210ddfd           3688.0          7658.0   \n",
       "f19421c1d4aa40978ebb69ca19b0e20d           4296.0          7571.0   \n",
       "fafdcd668e3743c1bb461111dcafc2a4           5317.0          7597.0   \n",
       "\n",
       "event                             offer viewed  \n",
       "offer_id                                        \n",
       "0b1e1539f2cc45b7b9fa7c272da2e1d7        2663.0  \n",
       "2298d6c36e964ae4a3e7e9706d1fb8c2        7337.0  \n",
       "2906b810c7d4411798c6938adc9daaa5        4118.0  \n",
       "3f207df678b143eea3cee63160fa8bed        4144.0  \n",
       "4d5c57ea9a6940dd891ad53e9dbe8da0        7298.0  \n",
       "5a8bc65990b245e5a138643cd4eb9837        6687.0  \n",
       "9b98b8c7a33c4b65b9aebfe6a799e6d9        4171.0  \n",
       "ae264e3637204a6fb9bb56bc8210ddfd        6716.0  \n",
       "f19421c1d4aa40978ebb69ca19b0e20d        7264.0  \n",
       "fafdcd668e3743c1bb461111dcafc2a4        7327.0  "
      ]
     },
     "execution_count": 126,
     "metadata": {},
     "output_type": "execute_result"
    }
   ],
   "source": [
    "transcript_portfolio.groupby(['offer_id','event']).person.count().unstack()"
   ]
  },
  {
   "cell_type": "markdown",
   "metadata": {},
   "source": [
    "pie chart showing the share of each event each offer type has"
   ]
  },
  {
   "cell_type": "code",
   "execution_count": 127,
   "metadata": {
    "scrolled": true
   },
   "outputs": [
    {
     "name": "stderr",
     "output_type": "stream",
     "text": [
      "No handles with labels found to put in legend.\n",
      "No handles with labels found to put in legend.\n",
      "No handles with labels found to put in legend.\n"
     ]
    },
    {
     "data": {
      "text/plain": [
       "array([<AxesSubplot:ylabel='offer completed'>,\n",
       "       <AxesSubplot:ylabel='offer received'>,\n",
       "       <AxesSubplot:ylabel='offer viewed'>], dtype=object)"
      ]
     },
     "execution_count": 127,
     "metadata": {},
     "output_type": "execute_result"
    },
    {
     "data": {
      "image/png": "[encoded data removed]",
      "text/plain": [
       "<Figure size 792x432 with 3 Axes>"
      ]
     },
     "metadata": {},
     "output_type": "display_data"
    }
   ],
   "source": [
    "transcript_portfolio.groupby(['offer_id','event']).person.count().unstack().plot.pie(subplots=True, shadow=True, autopct=\"%.2f\",labels=None, figsize=(11, 6))"
   ]
  },
  {
   "cell_type": "code",
   "execution_count": 128,
   "metadata": {},
   "outputs": [
    {
     "data": {
      "text/plain": [
       "array([<AxesSubplot:>, <AxesSubplot:>, <AxesSubplot:>, <AxesSubplot:>,\n",
       "       <AxesSubplot:>, <AxesSubplot:>, <AxesSubplot:>, <AxesSubplot:>,\n",
       "       <AxesSubplot:>, <AxesSubplot:>], dtype=object)"
      ]
     },
     "execution_count": 128,
     "metadata": {},
     "output_type": "execute_result"
    },
    {
     "data": {
      "image/png": "[encoded data removed]",
      "text/plain": [
       "<Figure size 1584x864 with 10 Axes>"
      ]
     },
     "metadata": {},
     "output_type": "display_data"
    }
   ],
   "source": [
    "fig, axs = plt.subplots(figsize=(22,12),nrows=2, ncols=5)\n",
    "transcript_portfolio.groupby(['event','offer_id']).person.count().unstack().plot.pie(ax=axs,subplots=True,autopct=\"%.2f\",ylabel=\"\")\n",
    "\n"
   ]
  },
  {
   "cell_type": "code",
   "execution_count": 129,
   "metadata": {},
   "outputs": [
    {
     "data": {
      "text/html": [
       "<div>\n",
       "<style scoped>\n",
       "    .dataframe tbody tr th:only-of-type {\n",
       "        vertical-align: middle;\n",
       "    }\n",
       "\n",
       "    .dataframe tbody tr th {\n",
       "        vertical-align: top;\n",
       "    }\n",
       "\n",
       "    .dataframe thead th {\n",
       "        text-align: right;\n",
       "    }\n",
       "</style>\n",
       "<table border=\"1\" class=\"dataframe\">\n",
       "  <thead>\n",
       "    <tr style=\"text-align: right;\">\n",
       "      <th>event</th>\n",
       "      <th>offer completed</th>\n",
       "      <th>offer received</th>\n",
       "      <th>offer viewed</th>\n",
       "    </tr>\n",
       "    <tr>\n",
       "      <th>offer_id</th>\n",
       "      <th></th>\n",
       "      <th></th>\n",
       "      <th></th>\n",
       "    </tr>\n",
       "  </thead>\n",
       "  <tbody>\n",
       "    <tr>\n",
       "      <th>0b1e1539f2cc45b7b9fa7c272da2e1d7</th>\n",
       "      <td>3420.0</td>\n",
       "      <td>7668.0</td>\n",
       "      <td>2663.0</td>\n",
       "    </tr>\n",
       "    <tr>\n",
       "      <th>2298d6c36e964ae4a3e7e9706d1fb8c2</th>\n",
       "      <td>5156.0</td>\n",
       "      <td>7646.0</td>\n",
       "      <td>7337.0</td>\n",
       "    </tr>\n",
       "    <tr>\n",
       "      <th>2906b810c7d4411798c6938adc9daaa5</th>\n",
       "      <td>4017.0</td>\n",
       "      <td>7632.0</td>\n",
       "      <td>4118.0</td>\n",
       "    </tr>\n",
       "    <tr>\n",
       "      <th>3f207df678b143eea3cee63160fa8bed</th>\n",
       "      <td>NaN</td>\n",
       "      <td>7617.0</td>\n",
       "      <td>4144.0</td>\n",
       "    </tr>\n",
       "    <tr>\n",
       "      <th>4d5c57ea9a6940dd891ad53e9dbe8da0</th>\n",
       "      <td>3331.0</td>\n",
       "      <td>7593.0</td>\n",
       "      <td>7298.0</td>\n",
       "    </tr>\n",
       "    <tr>\n",
       "      <th>5a8bc65990b245e5a138643cd4eb9837</th>\n",
       "      <td>NaN</td>\n",
       "      <td>7618.0</td>\n",
       "      <td>6687.0</td>\n",
       "    </tr>\n",
       "    <tr>\n",
       "      <th>9b98b8c7a33c4b65b9aebfe6a799e6d9</th>\n",
       "      <td>4354.0</td>\n",
       "      <td>7677.0</td>\n",
       "      <td>4171.0</td>\n",
       "    </tr>\n",
       "    <tr>\n",
       "      <th>ae264e3637204a6fb9bb56bc8210ddfd</th>\n",
       "      <td>3688.0</td>\n",
       "      <td>7658.0</td>\n",
       "      <td>6716.0</td>\n",
       "    </tr>\n",
       "    <tr>\n",
       "      <th>f19421c1d4aa40978ebb69ca19b0e20d</th>\n",
       "      <td>4296.0</td>\n",
       "      <td>7571.0</td>\n",
       "      <td>7264.0</td>\n",
       "    </tr>\n",
       "    <tr>\n",
       "      <th>fafdcd668e3743c1bb461111dcafc2a4</th>\n",
       "      <td>5317.0</td>\n",
       "      <td>7597.0</td>\n",
       "      <td>7327.0</td>\n",
       "    </tr>\n",
       "  </tbody>\n",
       "</table>\n",
       "</div>"
      ],
      "text/plain": [
       "event                             offer completed  offer received  \\\n",
       "offer_id                                                            \n",
       "0b1e1539f2cc45b7b9fa7c272da2e1d7           3420.0          7668.0   \n",
       "2298d6c36e964ae4a3e7e9706d1fb8c2           5156.0          7646.0   \n",
       "2906b810c7d4411798c6938adc9daaa5           4017.0          7632.0   \n",
       "3f207df678b143eea3cee63160fa8bed              NaN          7617.0   \n",
       "4d5c57ea9a6940dd891ad53e9dbe8da0           3331.0          7593.0   \n",
       "5a8bc65990b245e5a138643cd4eb9837              NaN          7618.0   \n",
       "9b98b8c7a33c4b65b9aebfe6a799e6d9           4354.0          7677.0   \n",
       "ae264e3637204a6fb9bb56bc8210ddfd           3688.0          7658.0   \n",
       "f19421c1d4aa40978ebb69ca19b0e20d           4296.0          7571.0   \n",
       "fafdcd668e3743c1bb461111dcafc2a4           5317.0          7597.0   \n",
       "\n",
       "event                             offer viewed  \n",
       "offer_id                                        \n",
       "0b1e1539f2cc45b7b9fa7c272da2e1d7        2663.0  \n",
       "2298d6c36e964ae4a3e7e9706d1fb8c2        7337.0  \n",
       "2906b810c7d4411798c6938adc9daaa5        4118.0  \n",
       "3f207df678b143eea3cee63160fa8bed        4144.0  \n",
       "4d5c57ea9a6940dd891ad53e9dbe8da0        7298.0  \n",
       "5a8bc65990b245e5a138643cd4eb9837        6687.0  \n",
       "9b98b8c7a33c4b65b9aebfe6a799e6d9        4171.0  \n",
       "ae264e3637204a6fb9bb56bc8210ddfd        6716.0  \n",
       "f19421c1d4aa40978ebb69ca19b0e20d        7264.0  \n",
       "fafdcd668e3743c1bb461111dcafc2a4        7327.0  "
      ]
     },
     "execution_count": 129,
     "metadata": {},
     "output_type": "execute_result"
    }
   ],
   "source": [
    "#transcript_portfolio.groupby('offer_id').count()\n",
    "transcript_portfolio.groupby(['offer_id','event']).person.count().unstack()"
   ]
  },
  {
   "cell_type": "markdown",
   "metadata": {},
   "source": [
    "joining aggregated data to original portfolio data because I want to graph some correlations"
   ]
  },
  {
   "cell_type": "code",
   "execution_count": 130,
   "metadata": {},
   "outputs": [
    {
     "data": {
      "text/html": [
       "<div>\n",
       "<style scoped>\n",
       "    .dataframe tbody tr th:only-of-type {\n",
       "        vertical-align: middle;\n",
       "    }\n",
       "\n",
       "    .dataframe tbody tr th {\n",
       "        vertical-align: top;\n",
       "    }\n",
       "\n",
       "    .dataframe thead th {\n",
       "        text-align: right;\n",
       "    }\n",
       "</style>\n",
       "<table border=\"1\" class=\"dataframe\">\n",
       "  <thead>\n",
       "    <tr style=\"text-align: right;\">\n",
       "      <th></th>\n",
       "      <th>reward</th>\n",
       "      <th>channels</th>\n",
       "      <th>difficulty</th>\n",
       "      <th>duration</th>\n",
       "      <th>offer_type</th>\n",
       "      <th>offer_id</th>\n",
       "    </tr>\n",
       "  </thead>\n",
       "  <tbody>\n",
       "    <tr>\n",
       "      <th>0</th>\n",
       "      <td>10</td>\n",
       "      <td>[email, mobile, social]</td>\n",
       "      <td>10</td>\n",
       "      <td>7</td>\n",
       "      <td>bogo</td>\n",
       "      <td>ae264e3637204a6fb9bb56bc8210ddfd</td>\n",
       "    </tr>\n",
       "    <tr>\n",
       "      <th>1</th>\n",
       "      <td>10</td>\n",
       "      <td>[web, email, mobile, social]</td>\n",
       "      <td>10</td>\n",
       "      <td>5</td>\n",
       "      <td>bogo</td>\n",
       "      <td>4d5c57ea9a6940dd891ad53e9dbe8da0</td>\n",
       "    </tr>\n",
       "    <tr>\n",
       "      <th>2</th>\n",
       "      <td>0</td>\n",
       "      <td>[web, email, mobile]</td>\n",
       "      <td>0</td>\n",
       "      <td>4</td>\n",
       "      <td>informational</td>\n",
       "      <td>3f207df678b143eea3cee63160fa8bed</td>\n",
       "    </tr>\n",
       "    <tr>\n",
       "      <th>3</th>\n",
       "      <td>5</td>\n",
       "      <td>[web, email, mobile]</td>\n",
       "      <td>5</td>\n",
       "      <td>7</td>\n",
       "      <td>bogo</td>\n",
       "      <td>9b98b8c7a33c4b65b9aebfe6a799e6d9</td>\n",
       "    </tr>\n",
       "    <tr>\n",
       "      <th>4</th>\n",
       "      <td>5</td>\n",
       "      <td>[web, email]</td>\n",
       "      <td>20</td>\n",
       "      <td>10</td>\n",
       "      <td>discount</td>\n",
       "      <td>0b1e1539f2cc45b7b9fa7c272da2e1d7</td>\n",
       "    </tr>\n",
       "    <tr>\n",
       "      <th>5</th>\n",
       "      <td>3</td>\n",
       "      <td>[web, email, mobile, social]</td>\n",
       "      <td>7</td>\n",
       "      <td>7</td>\n",
       "      <td>discount</td>\n",
       "      <td>2298d6c36e964ae4a3e7e9706d1fb8c2</td>\n",
       "    </tr>\n",
       "    <tr>\n",
       "      <th>6</th>\n",
       "      <td>2</td>\n",
       "      <td>[web, email, mobile, social]</td>\n",
       "      <td>10</td>\n",
       "      <td>10</td>\n",
       "      <td>discount</td>\n",
       "      <td>fafdcd668e3743c1bb461111dcafc2a4</td>\n",
       "    </tr>\n",
       "    <tr>\n",
       "      <th>7</th>\n",
       "      <td>0</td>\n",
       "      <td>[email, mobile, social]</td>\n",
       "      <td>0</td>\n",
       "      <td>3</td>\n",
       "      <td>informational</td>\n",
       "      <td>5a8bc65990b245e5a138643cd4eb9837</td>\n",
       "    </tr>\n",
       "    <tr>\n",
       "      <th>8</th>\n",
       "      <td>5</td>\n",
       "      <td>[web, email, mobile, social]</td>\n",
       "      <td>5</td>\n",
       "      <td>5</td>\n",
       "      <td>bogo</td>\n",
       "      <td>f19421c1d4aa40978ebb69ca19b0e20d</td>\n",
       "    </tr>\n",
       "    <tr>\n",
       "      <th>9</th>\n",
       "      <td>2</td>\n",
       "      <td>[web, email, mobile]</td>\n",
       "      <td>10</td>\n",
       "      <td>7</td>\n",
       "      <td>discount</td>\n",
       "      <td>2906b810c7d4411798c6938adc9daaa5</td>\n",
       "    </tr>\n",
       "  </tbody>\n",
       "</table>\n",
       "</div>"
      ],
      "text/plain": [
       "   reward                      channels  difficulty  duration     offer_type  \\\n",
       "0      10       [email, mobile, social]          10         7           bogo   \n",
       "1      10  [web, email, mobile, social]          10         5           bogo   \n",
       "2       0          [web, email, mobile]           0         4  informational   \n",
       "3       5          [web, email, mobile]           5         7           bogo   \n",
       "4       5                  [web, email]          20        10       discount   \n",
       "5       3  [web, email, mobile, social]           7         7       discount   \n",
       "6       2  [web, email, mobile, social]          10        10       discount   \n",
       "7       0       [email, mobile, social]           0         3  informational   \n",
       "8       5  [web, email, mobile, social]           5         5           bogo   \n",
       "9       2          [web, email, mobile]          10         7       discount   \n",
       "\n",
       "                           offer_id  \n",
       "0  ae264e3637204a6fb9bb56bc8210ddfd  \n",
       "1  4d5c57ea9a6940dd891ad53e9dbe8da0  \n",
       "2  3f207df678b143eea3cee63160fa8bed  \n",
       "3  9b98b8c7a33c4b65b9aebfe6a799e6d9  \n",
       "4  0b1e1539f2cc45b7b9fa7c272da2e1d7  \n",
       "5  2298d6c36e964ae4a3e7e9706d1fb8c2  \n",
       "6  fafdcd668e3743c1bb461111dcafc2a4  \n",
       "7  5a8bc65990b245e5a138643cd4eb9837  \n",
       "8  f19421c1d4aa40978ebb69ca19b0e20d  \n",
       "9  2906b810c7d4411798c6938adc9daaa5  "
      ]
     },
     "execution_count": 130,
     "metadata": {},
     "output_type": "execute_result"
    }
   ],
   "source": [
    "portfolio"
   ]
  },
  {
   "cell_type": "code",
   "execution_count": 131,
   "metadata": {},
   "outputs": [
    {
     "data": {
      "text/html": [
       "<div>\n",
       "<style scoped>\n",
       "    .dataframe tbody tr th:only-of-type {\n",
       "        vertical-align: middle;\n",
       "    }\n",
       "\n",
       "    .dataframe tbody tr th {\n",
       "        vertical-align: top;\n",
       "    }\n",
       "\n",
       "    .dataframe thead th {\n",
       "        text-align: right;\n",
       "    }\n",
       "</style>\n",
       "<table border=\"1\" class=\"dataframe\">\n",
       "  <thead>\n",
       "    <tr style=\"text-align: right;\">\n",
       "      <th></th>\n",
       "      <th>reward</th>\n",
       "      <th>channels</th>\n",
       "      <th>difficulty</th>\n",
       "      <th>duration</th>\n",
       "      <th>offer_type</th>\n",
       "      <th>offer_id</th>\n",
       "      <th>offer completed</th>\n",
       "      <th>offer received</th>\n",
       "      <th>offer viewed</th>\n",
       "    </tr>\n",
       "  </thead>\n",
       "  <tbody>\n",
       "    <tr>\n",
       "      <th>0</th>\n",
       "      <td>10</td>\n",
       "      <td>[email, mobile, social]</td>\n",
       "      <td>10</td>\n",
       "      <td>7</td>\n",
       "      <td>bogo</td>\n",
       "      <td>ae264e3637204a6fb9bb56bc8210ddfd</td>\n",
       "      <td>3688.0</td>\n",
       "      <td>7658.0</td>\n",
       "      <td>6716.0</td>\n",
       "    </tr>\n",
       "    <tr>\n",
       "      <th>1</th>\n",
       "      <td>10</td>\n",
       "      <td>[web, email, mobile, social]</td>\n",
       "      <td>10</td>\n",
       "      <td>5</td>\n",
       "      <td>bogo</td>\n",
       "      <td>4d5c57ea9a6940dd891ad53e9dbe8da0</td>\n",
       "      <td>3331.0</td>\n",
       "      <td>7593.0</td>\n",
       "      <td>7298.0</td>\n",
       "    </tr>\n",
       "    <tr>\n",
       "      <th>2</th>\n",
       "      <td>0</td>\n",
       "      <td>[web, email, mobile]</td>\n",
       "      <td>0</td>\n",
       "      <td>4</td>\n",
       "      <td>informational</td>\n",
       "      <td>3f207df678b143eea3cee63160fa8bed</td>\n",
       "      <td>NaN</td>\n",
       "      <td>7617.0</td>\n",
       "      <td>4144.0</td>\n",
       "    </tr>\n",
       "    <tr>\n",
       "      <th>3</th>\n",
       "      <td>5</td>\n",
       "      <td>[web, email, mobile]</td>\n",
       "      <td>5</td>\n",
       "      <td>7</td>\n",
       "      <td>bogo</td>\n",
       "      <td>9b98b8c7a33c4b65b9aebfe6a799e6d9</td>\n",
       "      <td>4354.0</td>\n",
       "      <td>7677.0</td>\n",
       "      <td>4171.0</td>\n",
       "    </tr>\n",
       "    <tr>\n",
       "      <th>4</th>\n",
       "      <td>5</td>\n",
       "      <td>[web, email]</td>\n",
       "      <td>20</td>\n",
       "      <td>10</td>\n",
       "      <td>discount</td>\n",
       "      <td>0b1e1539f2cc45b7b9fa7c272da2e1d7</td>\n",
       "      <td>3420.0</td>\n",
       "      <td>7668.0</td>\n",
       "      <td>2663.0</td>\n",
       "    </tr>\n",
       "    <tr>\n",
       "      <th>5</th>\n",
       "      <td>3</td>\n",
       "      <td>[web, email, mobile, social]</td>\n",
       "      <td>7</td>\n",
       "      <td>7</td>\n",
       "      <td>discount</td>\n",
       "      <td>2298d6c36e964ae4a3e7e9706d1fb8c2</td>\n",
       "      <td>5156.0</td>\n",
       "      <td>7646.0</td>\n",
       "      <td>7337.0</td>\n",
       "    </tr>\n",
       "    <tr>\n",
       "      <th>6</th>\n",
       "      <td>2</td>\n",
       "      <td>[web, email, mobile, social]</td>\n",
       "      <td>10</td>\n",
       "      <td>10</td>\n",
       "      <td>discount</td>\n",
       "      <td>fafdcd668e3743c1bb461111dcafc2a4</td>\n",
       "      <td>5317.0</td>\n",
       "      <td>7597.0</td>\n",
       "      <td>7327.0</td>\n",
       "    </tr>\n",
       "    <tr>\n",
       "      <th>7</th>\n",
       "      <td>0</td>\n",
       "      <td>[email, mobile, social]</td>\n",
       "      <td>0</td>\n",
       "      <td>3</td>\n",
       "      <td>informational</td>\n",
       "      <td>5a8bc65990b245e5a138643cd4eb9837</td>\n",
       "      <td>NaN</td>\n",
       "      <td>7618.0</td>\n",
       "      <td>6687.0</td>\n",
       "    </tr>\n",
       "    <tr>\n",
       "      <th>8</th>\n",
       "      <td>5</td>\n",
       "      <td>[web, email, mobile, social]</td>\n",
       "      <td>5</td>\n",
       "      <td>5</td>\n",
       "      <td>bogo</td>\n",
       "      <td>f19421c1d4aa40978ebb69ca19b0e20d</td>\n",
       "      <td>4296.0</td>\n",
       "      <td>7571.0</td>\n",
       "      <td>7264.0</td>\n",
       "    </tr>\n",
       "    <tr>\n",
       "      <th>9</th>\n",
       "      <td>2</td>\n",
       "      <td>[web, email, mobile]</td>\n",
       "      <td>10</td>\n",
       "      <td>7</td>\n",
       "      <td>discount</td>\n",
       "      <td>2906b810c7d4411798c6938adc9daaa5</td>\n",
       "      <td>4017.0</td>\n",
       "      <td>7632.0</td>\n",
       "      <td>4118.0</td>\n",
       "    </tr>\n",
       "  </tbody>\n",
       "</table>\n",
       "</div>"
      ],
      "text/plain": [
       "   reward                      channels  difficulty  duration     offer_type  \\\n",
       "0      10       [email, mobile, social]          10         7           bogo   \n",
       "1      10  [web, email, mobile, social]          10         5           bogo   \n",
       "2       0          [web, email, mobile]           0         4  informational   \n",
       "3       5          [web, email, mobile]           5         7           bogo   \n",
       "4       5                  [web, email]          20        10       discount   \n",
       "5       3  [web, email, mobile, social]           7         7       discount   \n",
       "6       2  [web, email, mobile, social]          10        10       discount   \n",
       "7       0       [email, mobile, social]           0         3  informational   \n",
       "8       5  [web, email, mobile, social]           5         5           bogo   \n",
       "9       2          [web, email, mobile]          10         7       discount   \n",
       "\n",
       "                           offer_id  offer completed  offer received  \\\n",
       "0  ae264e3637204a6fb9bb56bc8210ddfd           3688.0          7658.0   \n",
       "1  4d5c57ea9a6940dd891ad53e9dbe8da0           3331.0          7593.0   \n",
       "2  3f207df678b143eea3cee63160fa8bed              NaN          7617.0   \n",
       "3  9b98b8c7a33c4b65b9aebfe6a799e6d9           4354.0          7677.0   \n",
       "4  0b1e1539f2cc45b7b9fa7c272da2e1d7           3420.0          7668.0   \n",
       "5  2298d6c36e964ae4a3e7e9706d1fb8c2           5156.0          7646.0   \n",
       "6  fafdcd668e3743c1bb461111dcafc2a4           5317.0          7597.0   \n",
       "7  5a8bc65990b245e5a138643cd4eb9837              NaN          7618.0   \n",
       "8  f19421c1d4aa40978ebb69ca19b0e20d           4296.0          7571.0   \n",
       "9  2906b810c7d4411798c6938adc9daaa5           4017.0          7632.0   \n",
       "\n",
       "   offer viewed  \n",
       "0        6716.0  \n",
       "1        7298.0  \n",
       "2        4144.0  \n",
       "3        4171.0  \n",
       "4        2663.0  \n",
       "5        7337.0  \n",
       "6        7327.0  \n",
       "7        6687.0  \n",
       "8        7264.0  \n",
       "9        4118.0  "
      ]
     },
     "execution_count": 131,
     "metadata": {},
     "output_type": "execute_result"
    }
   ],
   "source": [
    "#transcript_portfolio=transcript.merge(portfolio,on=('offer_id' ),how='left')\n",
    "event_totals=transcript_portfolio.groupby(['offer_id','event']).person.count().unstack()\n",
    "\n",
    "portfolio_totals=portfolio.merge(event_totals,how='left',left_on='offer_id',right_on='offer_id')\n",
    "portfolio_totals"
   ]
  },
  {
   "cell_type": "markdown",
   "metadata": {},
   "source": [
    "I want to have a column with the count of the number of channels per offer. \n",
    "\n",
    "Remember I removed email from each entry because it appeared in all entries. So that must be added to the count of each offer to get the true count. (i may have put them back in already, depends)"
   ]
  },
  {
   "cell_type": "code",
   "execution_count": 132,
   "metadata": {},
   "outputs": [],
   "source": [
    "#portfolio.channels.len()\n",
    "num_channels=[]\n",
    "\n",
    "for channel in portfolio.channels:\n",
    "    num_channels.append(len(channel))\n",
    "    "
   ]
  },
  {
   "cell_type": "code",
   "execution_count": 133,
   "metadata": {
    "scrolled": true
   },
   "outputs": [
    {
     "data": {
      "text/plain": [
       "0    3\n",
       "1    4\n",
       "2    3\n",
       "3    3\n",
       "4    2\n",
       "5    4\n",
       "6    4\n",
       "7    3\n",
       "8    4\n",
       "9    3\n",
       "Name: num_channels, dtype: int64"
      ]
     },
     "execution_count": 133,
     "metadata": {},
     "output_type": "execute_result"
    }
   ],
   "source": [
    "channels=pd.Series(num_channels,name='num_channels')\n",
    "channels"
   ]
  },
  {
   "cell_type": "code",
   "execution_count": null,
   "metadata": {},
   "outputs": [],
   "source": []
  },
  {
   "cell_type": "code",
   "execution_count": 134,
   "metadata": {},
   "outputs": [],
   "source": [
    "#portfolio_totals.concat(test, axis = 1)\n",
    "portfolio_totals=portfolio_totals.join(channels)"
   ]
  },
  {
   "cell_type": "code",
   "execution_count": 135,
   "metadata": {},
   "outputs": [
    {
     "data": {
      "text/plain": [
       "['reward',\n",
       " 'channels',\n",
       " 'difficulty',\n",
       " 'duration',\n",
       " 'offer_type',\n",
       " 'offer_id',\n",
       " 'offer completed',\n",
       " 'offer received',\n",
       " 'offer viewed',\n",
       " 'num_channels']"
      ]
     },
     "execution_count": 135,
     "metadata": {},
     "output_type": "execute_result"
    }
   ],
   "source": [
    "cols = list(portfolio_totals.columns.values)\n",
    "cols"
   ]
  },
  {
   "cell_type": "code",
   "execution_count": 136,
   "metadata": {
    "scrolled": true
   },
   "outputs": [],
   "source": [
    "portfolio_totals=portfolio_totals[['reward',\n",
    " 'channels',\n",
    " 'num_channels',\n",
    " 'difficulty',\n",
    " 'duration',\n",
    " 'offer_type',\n",
    " 'offer_id',\n",
    " 'offer completed',\n",
    " 'offer received',\n",
    " 'offer viewed']]\n",
    "    "
   ]
  },
  {
   "cell_type": "markdown",
   "metadata": {},
   "source": [
    "Getting some correlations and graphing"
   ]
  },
  {
   "cell_type": "code",
   "execution_count": 138,
   "metadata": {
    "scrolled": true
   },
   "outputs": [
    {
     "data": {
      "text/html": [
       "<div>\n",
       "<style scoped>\n",
       "    .dataframe tbody tr th:only-of-type {\n",
       "        vertical-align: middle;\n",
       "    }\n",
       "\n",
       "    .dataframe tbody tr th {\n",
       "        vertical-align: top;\n",
       "    }\n",
       "\n",
       "    .dataframe thead th {\n",
       "        text-align: right;\n",
       "    }\n",
       "</style>\n",
       "<table border=\"1\" class=\"dataframe\">\n",
       "  <thead>\n",
       "    <tr style=\"text-align: right;\">\n",
       "      <th></th>\n",
       "      <th>reward</th>\n",
       "      <th>channels</th>\n",
       "      <th>num_channels</th>\n",
       "      <th>difficulty</th>\n",
       "      <th>duration</th>\n",
       "      <th>offer_type</th>\n",
       "      <th>offer_id</th>\n",
       "      <th>offer completed</th>\n",
       "      <th>offer received</th>\n",
       "      <th>offer viewed</th>\n",
       "    </tr>\n",
       "  </thead>\n",
       "  <tbody>\n",
       "    <tr>\n",
       "      <th>0</th>\n",
       "      <td>10</td>\n",
       "      <td>[email, mobile, social]</td>\n",
       "      <td>3</td>\n",
       "      <td>10</td>\n",
       "      <td>7</td>\n",
       "      <td>bogo</td>\n",
       "      <td>ae264e3637204a6fb9bb56bc8210ddfd</td>\n",
       "      <td>3688.0</td>\n",
       "      <td>7658.0</td>\n",
       "      <td>6716.0</td>\n",
       "    </tr>\n",
       "    <tr>\n",
       "      <th>1</th>\n",
       "      <td>10</td>\n",
       "      <td>[web, email, mobile, social]</td>\n",
       "      <td>4</td>\n",
       "      <td>10</td>\n",
       "      <td>5</td>\n",
       "      <td>bogo</td>\n",
       "      <td>4d5c57ea9a6940dd891ad53e9dbe8da0</td>\n",
       "      <td>3331.0</td>\n",
       "      <td>7593.0</td>\n",
       "      <td>7298.0</td>\n",
       "    </tr>\n",
       "    <tr>\n",
       "      <th>2</th>\n",
       "      <td>0</td>\n",
       "      <td>[web, email, mobile]</td>\n",
       "      <td>3</td>\n",
       "      <td>0</td>\n",
       "      <td>4</td>\n",
       "      <td>informational</td>\n",
       "      <td>3f207df678b143eea3cee63160fa8bed</td>\n",
       "      <td>NaN</td>\n",
       "      <td>7617.0</td>\n",
       "      <td>4144.0</td>\n",
       "    </tr>\n",
       "    <tr>\n",
       "      <th>3</th>\n",
       "      <td>5</td>\n",
       "      <td>[web, email, mobile]</td>\n",
       "      <td>3</td>\n",
       "      <td>5</td>\n",
       "      <td>7</td>\n",
       "      <td>bogo</td>\n",
       "      <td>9b98b8c7a33c4b65b9aebfe6a799e6d9</td>\n",
       "      <td>4354.0</td>\n",
       "      <td>7677.0</td>\n",
       "      <td>4171.0</td>\n",
       "    </tr>\n",
       "    <tr>\n",
       "      <th>4</th>\n",
       "      <td>5</td>\n",
       "      <td>[web, email]</td>\n",
       "      <td>2</td>\n",
       "      <td>20</td>\n",
       "      <td>10</td>\n",
       "      <td>discount</td>\n",
       "      <td>0b1e1539f2cc45b7b9fa7c272da2e1d7</td>\n",
       "      <td>3420.0</td>\n",
       "      <td>7668.0</td>\n",
       "      <td>2663.0</td>\n",
       "    </tr>\n",
       "    <tr>\n",
       "      <th>5</th>\n",
       "      <td>3</td>\n",
       "      <td>[web, email, mobile, social]</td>\n",
       "      <td>4</td>\n",
       "      <td>7</td>\n",
       "      <td>7</td>\n",
       "      <td>discount</td>\n",
       "      <td>2298d6c36e964ae4a3e7e9706d1fb8c2</td>\n",
       "      <td>5156.0</td>\n",
       "      <td>7646.0</td>\n",
       "      <td>7337.0</td>\n",
       "    </tr>\n",
       "    <tr>\n",
       "      <th>6</th>\n",
       "      <td>2</td>\n",
       "      <td>[web, email, mobile, social]</td>\n",
       "      <td>4</td>\n",
       "      <td>10</td>\n",
       "      <td>10</td>\n",
       "      <td>discount</td>\n",
       "      <td>fafdcd668e3743c1bb461111dcafc2a4</td>\n",
       "      <td>5317.0</td>\n",
       "      <td>7597.0</td>\n",
       "      <td>7327.0</td>\n",
       "    </tr>\n",
       "    <tr>\n",
       "      <th>7</th>\n",
       "      <td>0</td>\n",
       "      <td>[email, mobile, social]</td>\n",
       "      <td>3</td>\n",
       "      <td>0</td>\n",
       "      <td>3</td>\n",
       "      <td>informational</td>\n",
       "      <td>5a8bc65990b245e5a138643cd4eb9837</td>\n",
       "      <td>NaN</td>\n",
       "      <td>7618.0</td>\n",
       "      <td>6687.0</td>\n",
       "    </tr>\n",
       "    <tr>\n",
       "      <th>8</th>\n",
       "      <td>5</td>\n",
       "      <td>[web, email, mobile, social]</td>\n",
       "      <td>4</td>\n",
       "      <td>5</td>\n",
       "      <td>5</td>\n",
       "      <td>bogo</td>\n",
       "      <td>f19421c1d4aa40978ebb69ca19b0e20d</td>\n",
       "      <td>4296.0</td>\n",
       "      <td>7571.0</td>\n",
       "      <td>7264.0</td>\n",
       "    </tr>\n",
       "    <tr>\n",
       "      <th>9</th>\n",
       "      <td>2</td>\n",
       "      <td>[web, email, mobile]</td>\n",
       "      <td>3</td>\n",
       "      <td>10</td>\n",
       "      <td>7</td>\n",
       "      <td>discount</td>\n",
       "      <td>2906b810c7d4411798c6938adc9daaa5</td>\n",
       "      <td>4017.0</td>\n",
       "      <td>7632.0</td>\n",
       "      <td>4118.0</td>\n",
       "    </tr>\n",
       "  </tbody>\n",
       "</table>\n",
       "</div>"
      ],
      "text/plain": [
       "   reward                      channels  num_channels  difficulty  duration  \\\n",
       "0      10       [email, mobile, social]             3          10         7   \n",
       "1      10  [web, email, mobile, social]             4          10         5   \n",
       "2       0          [web, email, mobile]             3           0         4   \n",
       "3       5          [web, email, mobile]             3           5         7   \n",
       "4       5                  [web, email]             2          20        10   \n",
       "5       3  [web, email, mobile, social]             4           7         7   \n",
       "6       2  [web, email, mobile, social]             4          10        10   \n",
       "7       0       [email, mobile, social]             3           0         3   \n",
       "8       5  [web, email, mobile, social]             4           5         5   \n",
       "9       2          [web, email, mobile]             3          10         7   \n",
       "\n",
       "      offer_type                          offer_id  offer completed  \\\n",
       "0           bogo  ae264e3637204a6fb9bb56bc8210ddfd           3688.0   \n",
       "1           bogo  4d5c57ea9a6940dd891ad53e9dbe8da0           3331.0   \n",
       "2  informational  3f207df678b143eea3cee63160fa8bed              NaN   \n",
       "3           bogo  9b98b8c7a33c4b65b9aebfe6a799e6d9           4354.0   \n",
       "4       discount  0b1e1539f2cc45b7b9fa7c272da2e1d7           3420.0   \n",
       "5       discount  2298d6c36e964ae4a3e7e9706d1fb8c2           5156.0   \n",
       "6       discount  fafdcd668e3743c1bb461111dcafc2a4           5317.0   \n",
       "7  informational  5a8bc65990b245e5a138643cd4eb9837              NaN   \n",
       "8           bogo  f19421c1d4aa40978ebb69ca19b0e20d           4296.0   \n",
       "9       discount  2906b810c7d4411798c6938adc9daaa5           4017.0   \n",
       "\n",
       "   offer received  offer viewed  \n",
       "0          7658.0        6716.0  \n",
       "1          7593.0        7298.0  \n",
       "2          7617.0        4144.0  \n",
       "3          7677.0        4171.0  \n",
       "4          7668.0        2663.0  \n",
       "5          7646.0        7337.0  \n",
       "6          7597.0        7327.0  \n",
       "7          7618.0        6687.0  \n",
       "8          7571.0        7264.0  \n",
       "9          7632.0        4118.0  "
      ]
     },
     "execution_count": 138,
     "metadata": {},
     "output_type": "execute_result"
    }
   ],
   "source": [
    "portfolio_totals"
   ]
  },
  {
   "cell_type": "markdown",
   "metadata": {},
   "source": [
    "I note that every single channel includes 'email'. So we wont be able to analyse the impact of sending an email."
   ]
  },
  {
   "cell_type": "code",
   "execution_count": null,
   "metadata": {},
   "outputs": [],
   "source": []
  },
  {
   "cell_type": "code",
   "execution_count": 139,
   "metadata": {
    "scrolled": true
   },
   "outputs": [
    {
     "data": {
      "text/plain": [
       "0    True\n",
       "1    True\n",
       "2    True\n",
       "3    True\n",
       "4    True\n",
       "5    True\n",
       "6    True\n",
       "7    True\n",
       "8    True\n",
       "9    True\n",
       "Name: channels, dtype: bool"
      ]
     },
     "execution_count": 139,
     "metadata": {},
     "output_type": "execute_result"
    }
   ],
   "source": [
    "portfolio_totals.channels.str.join(\" \").str.contains(\"email\")\n"
   ]
  },
  {
   "cell_type": "code",
   "execution_count": 140,
   "metadata": {},
   "outputs": [],
   "source": [
    "for row in portfolio_totals.channels:\n",
    "    row.remove('email')\n",
    "    "
   ]
  },
  {
   "cell_type": "code",
   "execution_count": 141,
   "metadata": {},
   "outputs": [],
   "source": [
    "for row in portfolio_totals.channels:\n",
    "    row.append('email')\n",
    "    "
   ]
  },
  {
   "cell_type": "code",
   "execution_count": 142,
   "metadata": {},
   "outputs": [
    {
     "data": {
      "text/html": [
       "<div>\n",
       "<style scoped>\n",
       "    .dataframe tbody tr th:only-of-type {\n",
       "        vertical-align: middle;\n",
       "    }\n",
       "\n",
       "    .dataframe tbody tr th {\n",
       "        vertical-align: top;\n",
       "    }\n",
       "\n",
       "    .dataframe thead th {\n",
       "        text-align: right;\n",
       "    }\n",
       "</style>\n",
       "<table border=\"1\" class=\"dataframe\">\n",
       "  <thead>\n",
       "    <tr style=\"text-align: right;\">\n",
       "      <th></th>\n",
       "      <th>reward</th>\n",
       "      <th>channels</th>\n",
       "      <th>num_channels</th>\n",
       "      <th>difficulty</th>\n",
       "      <th>duration</th>\n",
       "      <th>offer_type</th>\n",
       "      <th>offer_id</th>\n",
       "      <th>offer completed</th>\n",
       "      <th>offer received</th>\n",
       "      <th>offer viewed</th>\n",
       "    </tr>\n",
       "  </thead>\n",
       "  <tbody>\n",
       "    <tr>\n",
       "      <th>0</th>\n",
       "      <td>10</td>\n",
       "      <td>[mobile, social, email]</td>\n",
       "      <td>3</td>\n",
       "      <td>10</td>\n",
       "      <td>7</td>\n",
       "      <td>bogo</td>\n",
       "      <td>ae264e3637204a6fb9bb56bc8210ddfd</td>\n",
       "      <td>3688.0</td>\n",
       "      <td>7658.0</td>\n",
       "      <td>6716.0</td>\n",
       "    </tr>\n",
       "    <tr>\n",
       "      <th>1</th>\n",
       "      <td>10</td>\n",
       "      <td>[web, mobile, social, email]</td>\n",
       "      <td>4</td>\n",
       "      <td>10</td>\n",
       "      <td>5</td>\n",
       "      <td>bogo</td>\n",
       "      <td>4d5c57ea9a6940dd891ad53e9dbe8da0</td>\n",
       "      <td>3331.0</td>\n",
       "      <td>7593.0</td>\n",
       "      <td>7298.0</td>\n",
       "    </tr>\n",
       "    <tr>\n",
       "      <th>2</th>\n",
       "      <td>0</td>\n",
       "      <td>[web, mobile, email]</td>\n",
       "      <td>3</td>\n",
       "      <td>0</td>\n",
       "      <td>4</td>\n",
       "      <td>informational</td>\n",
       "      <td>3f207df678b143eea3cee63160fa8bed</td>\n",
       "      <td>NaN</td>\n",
       "      <td>7617.0</td>\n",
       "      <td>4144.0</td>\n",
       "    </tr>\n",
       "    <tr>\n",
       "      <th>3</th>\n",
       "      <td>5</td>\n",
       "      <td>[web, mobile, email]</td>\n",
       "      <td>3</td>\n",
       "      <td>5</td>\n",
       "      <td>7</td>\n",
       "      <td>bogo</td>\n",
       "      <td>9b98b8c7a33c4b65b9aebfe6a799e6d9</td>\n",
       "      <td>4354.0</td>\n",
       "      <td>7677.0</td>\n",
       "      <td>4171.0</td>\n",
       "    </tr>\n",
       "    <tr>\n",
       "      <th>4</th>\n",
       "      <td>5</td>\n",
       "      <td>[web, email]</td>\n",
       "      <td>2</td>\n",
       "      <td>20</td>\n",
       "      <td>10</td>\n",
       "      <td>discount</td>\n",
       "      <td>0b1e1539f2cc45b7b9fa7c272da2e1d7</td>\n",
       "      <td>3420.0</td>\n",
       "      <td>7668.0</td>\n",
       "      <td>2663.0</td>\n",
       "    </tr>\n",
       "    <tr>\n",
       "      <th>5</th>\n",
       "      <td>3</td>\n",
       "      <td>[web, mobile, social, email]</td>\n",
       "      <td>4</td>\n",
       "      <td>7</td>\n",
       "      <td>7</td>\n",
       "      <td>discount</td>\n",
       "      <td>2298d6c36e964ae4a3e7e9706d1fb8c2</td>\n",
       "      <td>5156.0</td>\n",
       "      <td>7646.0</td>\n",
       "      <td>7337.0</td>\n",
       "    </tr>\n",
       "    <tr>\n",
       "      <th>6</th>\n",
       "      <td>2</td>\n",
       "      <td>[web, mobile, social, email]</td>\n",
       "      <td>4</td>\n",
       "      <td>10</td>\n",
       "      <td>10</td>\n",
       "      <td>discount</td>\n",
       "      <td>fafdcd668e3743c1bb461111dcafc2a4</td>\n",
       "      <td>5317.0</td>\n",
       "      <td>7597.0</td>\n",
       "      <td>7327.0</td>\n",
       "    </tr>\n",
       "    <tr>\n",
       "      <th>7</th>\n",
       "      <td>0</td>\n",
       "      <td>[mobile, social, email]</td>\n",
       "      <td>3</td>\n",
       "      <td>0</td>\n",
       "      <td>3</td>\n",
       "      <td>informational</td>\n",
       "      <td>5a8bc65990b245e5a138643cd4eb9837</td>\n",
       "      <td>NaN</td>\n",
       "      <td>7618.0</td>\n",
       "      <td>6687.0</td>\n",
       "    </tr>\n",
       "    <tr>\n",
       "      <th>8</th>\n",
       "      <td>5</td>\n",
       "      <td>[web, mobile, social, email]</td>\n",
       "      <td>4</td>\n",
       "      <td>5</td>\n",
       "      <td>5</td>\n",
       "      <td>bogo</td>\n",
       "      <td>f19421c1d4aa40978ebb69ca19b0e20d</td>\n",
       "      <td>4296.0</td>\n",
       "      <td>7571.0</td>\n",
       "      <td>7264.0</td>\n",
       "    </tr>\n",
       "    <tr>\n",
       "      <th>9</th>\n",
       "      <td>2</td>\n",
       "      <td>[web, mobile, email]</td>\n",
       "      <td>3</td>\n",
       "      <td>10</td>\n",
       "      <td>7</td>\n",
       "      <td>discount</td>\n",
       "      <td>2906b810c7d4411798c6938adc9daaa5</td>\n",
       "      <td>4017.0</td>\n",
       "      <td>7632.0</td>\n",
       "      <td>4118.0</td>\n",
       "    </tr>\n",
       "  </tbody>\n",
       "</table>\n",
       "</div>"
      ],
      "text/plain": [
       "   reward                      channels  num_channels  difficulty  duration  \\\n",
       "0      10       [mobile, social, email]             3          10         7   \n",
       "1      10  [web, mobile, social, email]             4          10         5   \n",
       "2       0          [web, mobile, email]             3           0         4   \n",
       "3       5          [web, mobile, email]             3           5         7   \n",
       "4       5                  [web, email]             2          20        10   \n",
       "5       3  [web, mobile, social, email]             4           7         7   \n",
       "6       2  [web, mobile, social, email]             4          10        10   \n",
       "7       0       [mobile, social, email]             3           0         3   \n",
       "8       5  [web, mobile, social, email]             4           5         5   \n",
       "9       2          [web, mobile, email]             3          10         7   \n",
       "\n",
       "      offer_type                          offer_id  offer completed  \\\n",
       "0           bogo  ae264e3637204a6fb9bb56bc8210ddfd           3688.0   \n",
       "1           bogo  4d5c57ea9a6940dd891ad53e9dbe8da0           3331.0   \n",
       "2  informational  3f207df678b143eea3cee63160fa8bed              NaN   \n",
       "3           bogo  9b98b8c7a33c4b65b9aebfe6a799e6d9           4354.0   \n",
       "4       discount  0b1e1539f2cc45b7b9fa7c272da2e1d7           3420.0   \n",
       "5       discount  2298d6c36e964ae4a3e7e9706d1fb8c2           5156.0   \n",
       "6       discount  fafdcd668e3743c1bb461111dcafc2a4           5317.0   \n",
       "7  informational  5a8bc65990b245e5a138643cd4eb9837              NaN   \n",
       "8           bogo  f19421c1d4aa40978ebb69ca19b0e20d           4296.0   \n",
       "9       discount  2906b810c7d4411798c6938adc9daaa5           4017.0   \n",
       "\n",
       "   offer received  offer viewed  \n",
       "0          7658.0        6716.0  \n",
       "1          7593.0        7298.0  \n",
       "2          7617.0        4144.0  \n",
       "3          7677.0        4171.0  \n",
       "4          7668.0        2663.0  \n",
       "5          7646.0        7337.0  \n",
       "6          7597.0        7327.0  \n",
       "7          7618.0        6687.0  \n",
       "8          7571.0        7264.0  \n",
       "9          7632.0        4118.0  "
      ]
     },
     "execution_count": 142,
     "metadata": {},
     "output_type": "execute_result"
    }
   ],
   "source": [
    "portfolio_totals"
   ]
  },
  {
   "cell_type": "markdown",
   "metadata": {},
   "source": [
    "<font size=\"5\"> Correlations <font/>"
   ]
  },
  {
   "cell_type": "markdown",
   "metadata": {},
   "source": [
    "Degree of correlation:\n",
    "\n",
    "* Perfect: If the value is near ± 1, then it said to be a perfect correlation: as one variable increases, the other variable tends to also increase (if positive) or decrease (if negative).  \n",
    "* High degree: If the coefficient value lies between ± 0.50 and ± 1, then it is said to be a strong correlation.  \n",
    "* Moderate degree: If the value lies between ± 0.30 and ± 0.49, then it is said to be a medium correlation.  \n",
    "* Low degree: When the value lies below + .29, then it is said to be a small correlation.  \n",
    "* No correlation: When the value is zero."
   ]
  },
  {
   "cell_type": "markdown",
   "metadata": {},
   "source": [
    "P-value is the probability that you would find the current result if the correlaton coeffiecient was zero (null hypothesis). If the probability is lower than the conventional 5% then we say the correlation coeffcient is statistically signficant.  \n"
   ]
  },
  {
   "cell_type": "code",
   "execution_count": 143,
   "metadata": {},
   "outputs": [],
   "source": [
    "viewed_perc=portfolio_totals['offer viewed']/portfolio_totals['offer received']\n",
    "completed_perc=portfolio_totals['offer completed']/portfolio_totals['offer received']\n"
   ]
  },
  {
   "cell_type": "markdown",
   "metadata": {},
   "source": [
    "the channels have a strong impact on the likelihood of somebody viewing the offer"
   ]
  },
  {
   "cell_type": "code",
   "execution_count": 144,
   "metadata": {},
   "outputs": [
    {
     "name": "stdout",
     "output_type": "stream",
     "text": [
      "the p_value of 0.0017 is less than 0.05 so it seems statistical signficant\n",
      "Pearson's R (correlation) is: 0.8541559624210716\n",
      "Explained variation is: 0.7295824081394671\n"
     ]
    }
   ],
   "source": [
    "channel_count=portfolio_totals['num_channels']\n",
    "#percentage of viewed versus number of channels\n",
    "correlation, p_value  = stats.pearsonr(viewed_perc, channel_count)\n",
    "\n",
    "if (p_value)<0.05:\n",
    "    print(\"the p_value of {} is less than 0.05 so it seems statistical signficant\".format(round(p_value, 4)))\n",
    "else:\n",
    "    print(\"the p_value of {} is more than 0.05 so it does not seem statistical significant\".format(round(p_value, 4)))\n",
    "\n",
    "\n",
    "\n",
    "print(\"Pearson's R (correlation) is: {}\".format(correlation))\n",
    "print(\"Explained variation is: {}\".format(correlation**2))"
   ]
  },
  {
   "cell_type": "markdown",
   "metadata": {},
   "source": [
    "the channel has a much weaker influence on whether or not somebody completes the offer. but still reasonably impactful."
   ]
  },
  {
   "cell_type": "code",
   "execution_count": 145,
   "metadata": {},
   "outputs": [
    {
     "name": "stdout",
     "output_type": "stream",
     "text": [
      "the p_value of 0.1514 is more than 0.05 so it does not seem statistical significant\n",
      "Pearson's R (correlation) is: 0.5571201040269655\n",
      "Explained variation is: 0.3103828103110169\n"
     ]
    }
   ],
   "source": [
    "#get from arrays where either has a null (where the offer is just informational)\n",
    "nas = np.logical_or(np.isnan(completed_perc), np.isnan(channel_count))\n",
    "#perform correlation where neither is a null\n",
    "correlation, p_value=stats.pearsonr(completed_perc[~nas], channel_count[~nas])\n",
    "\n",
    "if (p_value)<0.05:\n",
    "    print(\"the p_value of {} is less than 0.05 so it seems statistical significant\".format(round(p_value, 4)))\n",
    "else:\n",
    "    print(\"the p_value of {} is more than 0.05 so it does not seem statistical significant\".format(round(p_value, 4)))\n",
    "\n",
    "\n",
    "\n",
    "print(\"Pearson's R (correlation) is: {}\".format(correlation))\n",
    "print(\"Explained variation is: {}\".format(correlation**2))"
   ]
  },
  {
   "cell_type": "markdown",
   "metadata": {},
   "source": [
    "The duration very weakly correlated to the percentage the offer has been viewed. And in fact is slighly negatively correlated. I would have expected this to be a stronger positive relationship.  \n",
    "Examining some of the values in the table does give me some ideas why this is the case:  \n",
    "the discount offer with id=0b1e1539f2cc45b7b9fa7c272da2e1d7 has the lowest view rate even though it was available for the joint longest time. I can see the in the channel's column it was only sent via 2 channels. It was not sent via mobile or social. It is possible that mobile and social channels are of very high importance in terms of getting views."
   ]
  },
  {
   "cell_type": "code",
   "execution_count": 146,
   "metadata": {},
   "outputs": [
    {
     "name": "stdout",
     "output_type": "stream",
     "text": [
      "the p_value of 0.4755 is more than 0.05 so it does not seem statistical significant\n",
      "Pearson's R (correlation) is: -0.2558799043306762\n",
      "Explained variation is: 0.065474525440276\n"
     ]
    }
   ],
   "source": [
    "duration_days=portfolio_totals['duration']\n",
    "\n",
    "#percentage of viewed versus days the offer is available\n",
    "correlation, p_value  = stats.pearsonr(viewed_perc, duration_days)\n",
    "\n",
    "if (p_value)<0.05:\n",
    "    print(\"the p_value of {} is less than 0.05 so it seems statistical significant\".format(round(p_value, 4)))\n",
    "else:\n",
    "    print(\"the p_value of {} is more than 0.05 so it does not seem statistical significant\".format(round(p_value, 4)))\n",
    "\n",
    "\n",
    "\n",
    "print(\"Pearson's R (correlation) is: {}\".format(correlation))\n",
    "print(\"Explained variation is: {}\".format(correlation**2))"
   ]
  },
  {
   "cell_type": "markdown",
   "metadata": {},
   "source": [
    "the completed percentage versus the duration is also weak. But it is positive at least which makes sense. So while a longer duration doesn't appear to have a strong affect on the liklihood of somebody viewing the offer, it does seem to have some impact on the chances of them completing the offer."
   ]
  },
  {
   "cell_type": "code",
   "execution_count": 147,
   "metadata": {},
   "outputs": [
    {
     "name": "stdout",
     "output_type": "stream",
     "text": [
      "the p_value of 0.5525 is more than 0.05 so it does not seem statistical significant\n",
      "Pearson's R (correlation) is: 0.24876204811771904\n",
      "Explained variation is: 0.06188255658372237\n"
     ]
    }
   ],
   "source": [
    "#get from arrays where either has a null (where the offer is just informational)\n",
    "nas = np.logical_or(np.isnan(completed_perc), np.isnan(duration_days))\n",
    "#perform correlation where neither is a null\n",
    "correlation, p_value=stats.pearsonr(completed_perc[~nas], duration_days[~nas])\n",
    "\n",
    "if (p_value)<0.05:\n",
    "    print(\"the p_value of {} is less than 0.05 so it seems statistical significant\".format(round(p_value, 4)))\n",
    "else:\n",
    "    print(\"the p_value of {} is more than 0.05 so it does not seem statistical significant\".format(round(p_value, 4)))\n",
    "\n",
    "\n",
    "\n",
    "print(\"Pearson's R (correlation) is: {}\".format(correlation))\n",
    "print(\"Explained variation is: {}\".format(correlation**2))"
   ]
  },
  {
   "cell_type": "markdown",
   "metadata": {},
   "source": [
    "Difficulty -v- completed"
   ]
  },
  {
   "cell_type": "markdown",
   "metadata": {},
   "source": [
    "The difficulty is reasonably strongly negatively correlated with the likelihood of an offer being completed. As expected."
   ]
  },
  {
   "cell_type": "code",
   "execution_count": 148,
   "metadata": {},
   "outputs": [
    {
     "name": "stdout",
     "output_type": "stream",
     "text": [
      "the p_value of 0.2204 is more than 0.05 so it does not seem statistical significant\n",
      "Pearson's R (correlation) is: -0.4875528284426282\n",
      "Explained variation is: 0.23770776052240686\n"
     ]
    }
   ],
   "source": [
    "difficulty_dollars=portfolio_totals['difficulty']\n",
    "\n",
    "#get from arrays where either has a null (where the offer is just informational)\n",
    "nas = np.logical_or(np.isnan(completed_perc), np.isnan(difficulty_dollars))\n",
    "#perform correlation where neither is a null\n",
    "correlation, p_value=stats.pearsonr(completed_perc[~nas], difficulty_dollars[~nas])\n",
    "\n",
    "if (p_value)<0.05:\n",
    "    print(\"the p_value of {} is less than 0.05 so it seems statistical significant\".format(round(p_value, 4)))\n",
    "else:\n",
    "    print(\"the p_value of {} is more than 0.05 so it does not seem statistical significant\".format(round(p_value, 4)))\n",
    "\n",
    "\n",
    "\n",
    "print(\"Pearson's R (correlation) is: {}\".format(correlation))\n",
    "print(\"Explained variation is: {}\".format(correlation**2))"
   ]
  },
  {
   "cell_type": "markdown",
   "metadata": {},
   "source": [
    "The channel column seemed to have the biggest influence on offer viewed. So I will find which channel has most impact on offer viewed/offer completed"
   ]
  },
  {
   "cell_type": "code",
   "execution_count": 149,
   "metadata": {},
   "outputs": [
    {
     "data": {
      "text/plain": [
       "0    False\n",
       "1    False\n",
       "2    False\n",
       "3    False\n",
       "4    False\n",
       "5    False\n",
       "6    False\n",
       "7    False\n",
       "8    False\n",
       "9    False\n",
       "Name: channels, dtype: bool"
      ]
     },
     "execution_count": 149,
     "metadata": {},
     "output_type": "execute_result"
    }
   ],
   "source": [
    "portfolio_totals['channels'].isin(['email'])"
   ]
  },
  {
   "cell_type": "code",
   "execution_count": 150,
   "metadata": {},
   "outputs": [
    {
     "name": "stdout",
     "output_type": "stream",
     "text": [
      "the p_value of 9e-06 is less than 0.05 so it seems statistical significant\n",
      "Pearson's R (correlation) is: 0.9614907242619157\n",
      "Explained variation is: 0.9244644128417032\n"
     ]
    }
   ],
   "source": [
    "is_social=[]\n",
    "\n",
    "for row in portfolio_totals.channels:\n",
    "    is_social.append('social' in row)\n",
    "\n",
    "correlation, p_value  = stats.pearsonr(viewed_perc,is_social)\n",
    "\n",
    "if (p_value)<0.05:\n",
    "    print(\"the p_value of {} is less than 0.05 so it seems statistical significant\".format(round(p_value, 6)))\n",
    "else:\n",
    "    print(\"the p_value of {} is more than 0.05 so it does not seem statistical significant\".format(round(p_value, 6)))\n",
    "\n",
    "\n",
    "\n",
    "print(\"Pearson's R (correlation) is: {}\".format(correlation))\n",
    "print(\"Explained variation is: {}\".format(correlation**2))"
   ]
  },
  {
   "cell_type": "code",
   "execution_count": 151,
   "metadata": {},
   "outputs": [
    {
     "name": "stdout",
     "output_type": "stream",
     "text": [
      "the p_value of 0.061 is more than 0.05 so it does not seem statistical significant\n",
      "Pearson's R (correlation) is: 0.6101585759726189\n",
      "Explained variation is: 0.37229348783293414\n"
     ]
    }
   ],
   "source": [
    "is_mobile=[]\n",
    "\n",
    "for row in portfolio_totals.channels:\n",
    "    is_mobile.append('mobile' in row)\n",
    "\n",
    "correlation, p_value  = stats.pearsonr(viewed_perc,is_mobile)\n",
    "\n",
    "if (p_value)<0.05:\n",
    "    print(\"the p_value of {} is less than 0.05 so it seems statistical significant\".format(round(p_value, 4)))\n",
    "else:\n",
    "    print(\"the p_value of {} is more than 0.05 so it does not seem statistical significant\".format(round(p_value, 4)))\n",
    "\n",
    "\n",
    "\n",
    "print(\"Pearson's R (correlation) is: {}\".format(correlation))\n",
    "print(\"Explained variation is: {}\".format(correlation**2))"
   ]
  },
  {
   "cell_type": "code",
   "execution_count": 152,
   "metadata": {
    "scrolled": true
   },
   "outputs": [
    {
     "name": "stdout",
     "output_type": "stream",
     "text": [
      "the p_value of 0.4543 is more than 0.05 so it does not seem statistical significant\n",
      "Pearson's R (correlation) is: -0.2678830790282936\n",
      "Explained variation is: 0.071761344029679\n"
     ]
    }
   ],
   "source": [
    "is_web=[]\n",
    "\n",
    "for row in portfolio_totals.channels:\n",
    "    is_web.append('web' in row)\n",
    "\n",
    "correlation, p_value  = stats.pearsonr(viewed_perc,is_web)\n",
    "\n",
    "if (p_value)<0.05:\n",
    "    print(\"the p_value of {} is less than 0.05 so it seems statistical significant\".format(round(p_value, 4)))\n",
    "else:\n",
    "    print(\"the p_value of {} is more than 0.05 so it does not seem statistical significant\".format(round(p_value, 4)))\n",
    "\n",
    "\n",
    "\n",
    "print(\"Pearson's R (correlation) is: {}\".format(correlation))\n",
    "print(\"Explained variation is: {}\".format(correlation**2))"
   ]
  },
  {
   "cell_type": "markdown",
   "metadata": {},
   "source": [
    "There is no point in trying to get the relationsip between email and offer viewed as every single offer has email in it"
   ]
  },
  {
   "cell_type": "markdown",
   "metadata": {},
   "source": [
    "There is no obvious correlation with is_social and completed_perc despite the very high relationsip between is_social and viewed_perc"
   ]
  },
  {
   "cell_type": "code",
   "execution_count": 153,
   "metadata": {},
   "outputs": [
    {
     "name": "stdout",
     "output_type": "stream",
     "text": [
      "the p_value of 0.44977 is more than 0.05 so it does not seem statistical significant\n",
      "Pearson's R (correlation) is: 0.31336648740203304\n",
      "Explained variation is: 0.09819855542668854\n"
     ]
    }
   ],
   "source": [
    "\n",
    "    \n",
    "#get from arrays where either has a null (where the offer is just informational)\n",
    "nas = np.logical_or(np.isnan(completed_perc), np.isnan(is_social))\n",
    "#perform correlation where neither is a null\n",
    "correlation, p_value=stats.pearsonr(completed_perc[~nas], pd.Series(is_social)[~nas])\n",
    "\n",
    "\n",
    "\n",
    "if (p_value)<0.05:\n",
    "    print(\"the p_value of {} is less than 0.05 so it seems statistical significant\".format(round(p_value, 6)))\n",
    "else:\n",
    "    print(\"the p_value of {} is more than 0.05 so it does not seem statistical significant\".format(round(p_value, 6)))\n",
    "\n",
    "    \n",
    "print(\"Pearson's R (correlation) is: {}\".format(correlation))\n",
    "print(\"Explained variation is: {}\".format(correlation**2))"
   ]
  },
  {
   "cell_type": "code",
   "execution_count": 154,
   "metadata": {},
   "outputs": [
    {
     "name": "stdout",
     "output_type": "stream",
     "text": [
      "the p_value of 0.287203 is more than 0.05 so it does not seem statistical significant\n",
      "Pearson's R (correlation) is: 0.4303355925677447\n",
      "Explained variation is: 0.18518872223063196\n"
     ]
    }
   ],
   "source": [
    "\n",
    "    \n",
    "#get from arrays where either has a null (where the offer is just informational)\n",
    "nas = np.logical_or(np.isnan(completed_perc), np.isnan(is_mobile))\n",
    "#perform correlation where neither is a null\n",
    "correlation, p_value=stats.pearsonr(completed_perc[~nas], pd.Series(is_mobile)[~nas])\n",
    "\n",
    "\n",
    "\n",
    "if (p_value)<0.05:\n",
    "    print(\"the p_value of {} is less than 0.05 so it seems statistical significant\".format(round(p_value, 6)))\n",
    "else:\n",
    "    print(\"the p_value of {} is more than 0.05 so it does not seem statistical significant\".format(round(p_value, 6)))\n",
    "\n",
    "    \n",
    "print(\"Pearson's R (correlation) is: {}\".format(correlation))\n",
    "print(\"Explained variation is: {}\".format(correlation**2))"
   ]
  },
  {
   "cell_type": "markdown",
   "metadata": {},
   "source": [
    "is probably worth checking correlation between viewed and completed. Because I suspect they arent that highly correlated."
   ]
  },
  {
   "cell_type": "code",
   "execution_count": 155,
   "metadata": {},
   "outputs": [
    {
     "name": "stdout",
     "output_type": "stream",
     "text": [
      "the p_value of 0.294385 is more than 0.05 so it does not seem statistical significant\n",
      "Pearson's R (correlation) is: 0.42460109046405353\n",
      "Explained variation is: 0.18028608602326338\n"
     ]
    }
   ],
   "source": [
    "#get from arrays where either has a null (where the offer is just informational)\n",
    "nas = np.logical_or(np.isnan(completed_perc), np.isnan(viewed_perc))\n",
    "#perform correlation where neither is a null\n",
    "correlation, p_value=stats.pearsonr(completed_perc[~nas], pd.Series(viewed_perc)[~nas])\n",
    "\n",
    "if (p_value)<0.05:\n",
    "    print(\"the p_value of {} is less than 0.05 so it seems statistical significant\".format(round(p_value, 6)))\n",
    "else:\n",
    "    print(\"the p_value of {} is more than 0.05 so it does not seem statistical significant\".format(round(p_value, 6)))\n",
    "\n",
    "    \n",
    "print(\"Pearson's R (correlation) is: {}\".format(correlation))\n",
    "print(\"Explained variation is: {}\".format(correlation**2))\n"
   ]
  },
  {
   "cell_type": "markdown",
   "metadata": {},
   "source": [
    "As we see above they are positively correlated. But not considered a strong correlation. And it is not statistically significant. This tallies with the narative that has been building through the previous correlations. Higher rates of views does not automatically covert to higher rates of completion.  \n",
    "It is possible that while users are far more likely to view an offer it pops up on their social media, they are conditioned to ignore adverts like that. While a more targeted offer straight to their mobile or email is more likely to trigger a response once they view it."
   ]
  },
  {
   "cell_type": "markdown",
   "metadata": {},
   "source": [
    "<font size=4>Filtering out bad data<font>"
   ]
  },
  {
   "cell_type": "markdown",
   "metadata": {},
   "source": [
    "I want to see how much data I will be filtering out if I remove all the customers with missing data"
   ]
  },
  {
   "cell_type": "markdown",
   "metadata": {},
   "source": [
    "if I filter out these values ill be removing 12.8% of the customers "
   ]
  },
  {
   "cell_type": "code",
   "execution_count": 156,
   "metadata": {},
   "outputs": [
    {
     "data": {
      "text/plain": [
       "0.12794117647058822"
      ]
     },
     "execution_count": 156,
     "metadata": {},
     "output_type": "execute_result"
    }
   ],
   "source": [
    "len(profile.loc[profile['age'] == 118])/len(profile['age'])"
   ]
  },
  {
   "cell_type": "code",
   "execution_count": 157,
   "metadata": {},
   "outputs": [
    {
     "data": {
      "text/html": [
       "<div>\n",
       "<style scoped>\n",
       "    .dataframe tbody tr th:only-of-type {\n",
       "        vertical-align: middle;\n",
       "    }\n",
       "\n",
       "    .dataframe tbody tr th {\n",
       "        vertical-align: top;\n",
       "    }\n",
       "\n",
       "    .dataframe thead th {\n",
       "        text-align: right;\n",
       "    }\n",
       "</style>\n",
       "<table border=\"1\" class=\"dataframe\">\n",
       "  <thead>\n",
       "    <tr style=\"text-align: right;\">\n",
       "      <th></th>\n",
       "      <th>gender</th>\n",
       "      <th>age</th>\n",
       "      <th>id</th>\n",
       "      <th>became_member_on</th>\n",
       "      <th>income</th>\n",
       "    </tr>\n",
       "  </thead>\n",
       "  <tbody>\n",
       "    <tr>\n",
       "      <th>0</th>\n",
       "      <td>None</td>\n",
       "      <td>118</td>\n",
       "      <td>68be06ca386d4c31939f3a4f0e3dd783</td>\n",
       "      <td>20170212</td>\n",
       "      <td>NaN</td>\n",
       "    </tr>\n",
       "    <tr>\n",
       "      <th>1</th>\n",
       "      <td>F</td>\n",
       "      <td>55</td>\n",
       "      <td>0610b486422d4921ae7d2bf64640c50b</td>\n",
       "      <td>20170715</td>\n",
       "      <td>112000.0</td>\n",
       "    </tr>\n",
       "    <tr>\n",
       "      <th>2</th>\n",
       "      <td>None</td>\n",
       "      <td>118</td>\n",
       "      <td>38fe809add3b4fcf9315a9694bb96ff5</td>\n",
       "      <td>20180712</td>\n",
       "      <td>NaN</td>\n",
       "    </tr>\n",
       "    <tr>\n",
       "      <th>3</th>\n",
       "      <td>F</td>\n",
       "      <td>75</td>\n",
       "      <td>78afa995795e4d85b5d9ceeca43f5fef</td>\n",
       "      <td>20170509</td>\n",
       "      <td>100000.0</td>\n",
       "    </tr>\n",
       "    <tr>\n",
       "      <th>4</th>\n",
       "      <td>None</td>\n",
       "      <td>118</td>\n",
       "      <td>a03223e636434f42ac4c3df47e8bac43</td>\n",
       "      <td>20170804</td>\n",
       "      <td>NaN</td>\n",
       "    </tr>\n",
       "  </tbody>\n",
       "</table>\n",
       "</div>"
      ],
      "text/plain": [
       "  gender  age                                id  became_member_on    income\n",
       "0   None  118  68be06ca386d4c31939f3a4f0e3dd783          20170212       NaN\n",
       "1      F   55  0610b486422d4921ae7d2bf64640c50b          20170715  112000.0\n",
       "2   None  118  38fe809add3b4fcf9315a9694bb96ff5          20180712       NaN\n",
       "3      F   75  78afa995795e4d85b5d9ceeca43f5fef          20170509  100000.0\n",
       "4   None  118  a03223e636434f42ac4c3df47e8bac43          20170804       NaN"
      ]
     },
     "execution_count": 157,
     "metadata": {},
     "output_type": "execute_result"
    }
   ],
   "source": [
    "profile.head()"
   ]
  },
  {
   "cell_type": "code",
   "execution_count": 158,
   "metadata": {},
   "outputs": [
    {
     "data": {
      "text/html": [
       "<div>\n",
       "<style scoped>\n",
       "    .dataframe tbody tr th:only-of-type {\n",
       "        vertical-align: middle;\n",
       "    }\n",
       "\n",
       "    .dataframe tbody tr th {\n",
       "        vertical-align: top;\n",
       "    }\n",
       "\n",
       "    .dataframe thead th {\n",
       "        text-align: right;\n",
       "    }\n",
       "</style>\n",
       "<table border=\"1\" class=\"dataframe\">\n",
       "  <thead>\n",
       "    <tr style=\"text-align: right;\">\n",
       "      <th></th>\n",
       "      <th>person</th>\n",
       "      <th>event</th>\n",
       "      <th>time</th>\n",
       "      <th>offer_id</th>\n",
       "      <th>amount</th>\n",
       "      <th>reward</th>\n",
       "    </tr>\n",
       "  </thead>\n",
       "  <tbody>\n",
       "    <tr>\n",
       "      <th>0</th>\n",
       "      <td>78afa995795e4d85b5d9ceeca43f5fef</td>\n",
       "      <td>offer received</td>\n",
       "      <td>0</td>\n",
       "      <td>9b98b8c7a33c4b65b9aebfe6a799e6d9</td>\n",
       "      <td>NaN</td>\n",
       "      <td>NaN</td>\n",
       "    </tr>\n",
       "    <tr>\n",
       "      <th>1</th>\n",
       "      <td>a03223e636434f42ac4c3df47e8bac43</td>\n",
       "      <td>offer received</td>\n",
       "      <td>0</td>\n",
       "      <td>0b1e1539f2cc45b7b9fa7c272da2e1d7</td>\n",
       "      <td>NaN</td>\n",
       "      <td>NaN</td>\n",
       "    </tr>\n",
       "    <tr>\n",
       "      <th>2</th>\n",
       "      <td>e2127556f4f64592b11af22de27a7932</td>\n",
       "      <td>offer received</td>\n",
       "      <td>0</td>\n",
       "      <td>2906b810c7d4411798c6938adc9daaa5</td>\n",
       "      <td>NaN</td>\n",
       "      <td>NaN</td>\n",
       "    </tr>\n",
       "    <tr>\n",
       "      <th>3</th>\n",
       "      <td>8ec6ce2a7e7949b1bf142def7d0e0586</td>\n",
       "      <td>offer received</td>\n",
       "      <td>0</td>\n",
       "      <td>fafdcd668e3743c1bb461111dcafc2a4</td>\n",
       "      <td>NaN</td>\n",
       "      <td>NaN</td>\n",
       "    </tr>\n",
       "    <tr>\n",
       "      <th>4</th>\n",
       "      <td>68617ca6246f4fbc85e91a2a49552598</td>\n",
       "      <td>offer received</td>\n",
       "      <td>0</td>\n",
       "      <td>4d5c57ea9a6940dd891ad53e9dbe8da0</td>\n",
       "      <td>NaN</td>\n",
       "      <td>NaN</td>\n",
       "    </tr>\n",
       "  </tbody>\n",
       "</table>\n",
       "</div>"
      ],
      "text/plain": [
       "                             person           event  time  \\\n",
       "0  78afa995795e4d85b5d9ceeca43f5fef  offer received     0   \n",
       "1  a03223e636434f42ac4c3df47e8bac43  offer received     0   \n",
       "2  e2127556f4f64592b11af22de27a7932  offer received     0   \n",
       "3  8ec6ce2a7e7949b1bf142def7d0e0586  offer received     0   \n",
       "4  68617ca6246f4fbc85e91a2a49552598  offer received     0   \n",
       "\n",
       "                           offer_id  amount  reward  \n",
       "0  9b98b8c7a33c4b65b9aebfe6a799e6d9     NaN     NaN  \n",
       "1  0b1e1539f2cc45b7b9fa7c272da2e1d7     NaN     NaN  \n",
       "2  2906b810c7d4411798c6938adc9daaa5     NaN     NaN  \n",
       "3  fafdcd668e3743c1bb461111dcafc2a4     NaN     NaN  \n",
       "4  4d5c57ea9a6940dd891ad53e9dbe8da0     NaN     NaN  "
      ]
     },
     "execution_count": 158,
     "metadata": {},
     "output_type": "execute_result"
    }
   ],
   "source": [
    "transcript.head()"
   ]
  },
  {
   "cell_type": "code",
   "execution_count": 159,
   "metadata": {},
   "outputs": [],
   "source": [
    "profile.rename(columns={\"id\": \"person\"},inplace=True)"
   ]
  },
  {
   "cell_type": "code",
   "execution_count": 160,
   "metadata": {},
   "outputs": [],
   "source": [
    "transcript_profile=transcript.merge(profile)"
   ]
  },
  {
   "cell_type": "code",
   "execution_count": 161,
   "metadata": {},
   "outputs": [
    {
     "data": {
      "text/html": [
       "<div>\n",
       "<style scoped>\n",
       "    .dataframe tbody tr th:only-of-type {\n",
       "        vertical-align: middle;\n",
       "    }\n",
       "\n",
       "    .dataframe tbody tr th {\n",
       "        vertical-align: top;\n",
       "    }\n",
       "\n",
       "    .dataframe thead th {\n",
       "        text-align: right;\n",
       "    }\n",
       "</style>\n",
       "<table border=\"1\" class=\"dataframe\">\n",
       "  <thead>\n",
       "    <tr style=\"text-align: right;\">\n",
       "      <th></th>\n",
       "      <th>person</th>\n",
       "      <th>event</th>\n",
       "      <th>time</th>\n",
       "      <th>offer_id</th>\n",
       "      <th>amount</th>\n",
       "      <th>reward</th>\n",
       "      <th>gender</th>\n",
       "      <th>age</th>\n",
       "      <th>became_member_on</th>\n",
       "      <th>income</th>\n",
       "    </tr>\n",
       "  </thead>\n",
       "  <tbody>\n",
       "    <tr>\n",
       "      <th>0</th>\n",
       "      <td>78afa995795e4d85b5d9ceeca43f5fef</td>\n",
       "      <td>offer received</td>\n",
       "      <td>0</td>\n",
       "      <td>9b98b8c7a33c4b65b9aebfe6a799e6d9</td>\n",
       "      <td>NaN</td>\n",
       "      <td>NaN</td>\n",
       "      <td>F</td>\n",
       "      <td>75</td>\n",
       "      <td>20170509</td>\n",
       "      <td>100000.0</td>\n",
       "    </tr>\n",
       "    <tr>\n",
       "      <th>1</th>\n",
       "      <td>78afa995795e4d85b5d9ceeca43f5fef</td>\n",
       "      <td>offer viewed</td>\n",
       "      <td>6</td>\n",
       "      <td>9b98b8c7a33c4b65b9aebfe6a799e6d9</td>\n",
       "      <td>NaN</td>\n",
       "      <td>NaN</td>\n",
       "      <td>F</td>\n",
       "      <td>75</td>\n",
       "      <td>20170509</td>\n",
       "      <td>100000.0</td>\n",
       "    </tr>\n",
       "    <tr>\n",
       "      <th>2</th>\n",
       "      <td>78afa995795e4d85b5d9ceeca43f5fef</td>\n",
       "      <td>transaction</td>\n",
       "      <td>132</td>\n",
       "      <td>NaN</td>\n",
       "      <td>19.89</td>\n",
       "      <td>NaN</td>\n",
       "      <td>F</td>\n",
       "      <td>75</td>\n",
       "      <td>20170509</td>\n",
       "      <td>100000.0</td>\n",
       "    </tr>\n",
       "    <tr>\n",
       "      <th>3</th>\n",
       "      <td>78afa995795e4d85b5d9ceeca43f5fef</td>\n",
       "      <td>offer completed</td>\n",
       "      <td>132</td>\n",
       "      <td>9b98b8c7a33c4b65b9aebfe6a799e6d9</td>\n",
       "      <td>NaN</td>\n",
       "      <td>5.0</td>\n",
       "      <td>F</td>\n",
       "      <td>75</td>\n",
       "      <td>20170509</td>\n",
       "      <td>100000.0</td>\n",
       "    </tr>\n",
       "    <tr>\n",
       "      <th>4</th>\n",
       "      <td>78afa995795e4d85b5d9ceeca43f5fef</td>\n",
       "      <td>transaction</td>\n",
       "      <td>144</td>\n",
       "      <td>NaN</td>\n",
       "      <td>17.78</td>\n",
       "      <td>NaN</td>\n",
       "      <td>F</td>\n",
       "      <td>75</td>\n",
       "      <td>20170509</td>\n",
       "      <td>100000.0</td>\n",
       "    </tr>\n",
       "  </tbody>\n",
       "</table>\n",
       "</div>"
      ],
      "text/plain": [
       "                             person            event  time  \\\n",
       "0  78afa995795e4d85b5d9ceeca43f5fef   offer received     0   \n",
       "1  78afa995795e4d85b5d9ceeca43f5fef     offer viewed     6   \n",
       "2  78afa995795e4d85b5d9ceeca43f5fef      transaction   132   \n",
       "3  78afa995795e4d85b5d9ceeca43f5fef  offer completed   132   \n",
       "4  78afa995795e4d85b5d9ceeca43f5fef      transaction   144   \n",
       "\n",
       "                           offer_id  amount  reward gender  age  \\\n",
       "0  9b98b8c7a33c4b65b9aebfe6a799e6d9     NaN     NaN      F   75   \n",
       "1  9b98b8c7a33c4b65b9aebfe6a799e6d9     NaN     NaN      F   75   \n",
       "2                               NaN   19.89     NaN      F   75   \n",
       "3  9b98b8c7a33c4b65b9aebfe6a799e6d9     NaN     5.0      F   75   \n",
       "4                               NaN   17.78     NaN      F   75   \n",
       "\n",
       "   became_member_on    income  \n",
       "0          20170509  100000.0  \n",
       "1          20170509  100000.0  \n",
       "2          20170509  100000.0  \n",
       "3          20170509  100000.0  \n",
       "4          20170509  100000.0  "
      ]
     },
     "execution_count": 161,
     "metadata": {},
     "output_type": "execute_result"
    }
   ],
   "source": [
    "transcript_profile.head()"
   ]
  },
  {
   "cell_type": "markdown",
   "metadata": {},
   "source": [
    "I will be removing 11.0% of all events"
   ]
  },
  {
   "cell_type": "code",
   "execution_count": 162,
   "metadata": {},
   "outputs": [
    {
     "data": {
      "text/plain": [
       "0.1102"
      ]
     },
     "execution_count": 162,
     "metadata": {},
     "output_type": "execute_result"
    }
   ],
   "source": [
    "val=len(transcript_profile.loc[transcript_profile['age'] == 118])/len(transcript_profile['age'])\n",
    "round(val,4)"
   ]
  },
  {
   "cell_type": "code",
   "execution_count": 163,
   "metadata": {},
   "outputs": [],
   "source": [
    "transcript_profile_rec=transcript_profile.loc[transcript_profile['event']=='offer received']\n",
    "transcript_profile_tran=transcript_profile.loc[transcript_profile['event']=='transaction']"
   ]
  },
  {
   "cell_type": "markdown",
   "metadata": {},
   "source": [
    "I will be removing 12.8% of total offers sent"
   ]
  },
  {
   "cell_type": "code",
   "execution_count": 164,
   "metadata": {},
   "outputs": [
    {
     "data": {
      "text/plain": [
       "76277"
      ]
     },
     "execution_count": 164,
     "metadata": {},
     "output_type": "execute_result"
    }
   ],
   "source": [
    "len(transcript_profile_rec['age'])"
   ]
  },
  {
   "cell_type": "code",
   "execution_count": 165,
   "metadata": {},
   "outputs": [
    {
     "data": {
      "text/plain": [
       "0.1282"
      ]
     },
     "execution_count": 165,
     "metadata": {},
     "output_type": "execute_result"
    }
   ],
   "source": [
    "val=len(transcript_profile_rec.loc[transcript_profile_rec['age'] == 118])/len(transcript_profile_rec['age'])\n",
    "round(val,4)"
   ]
  },
  {
   "cell_type": "markdown",
   "metadata": {},
   "source": [
    "I will be removing 10.8% of total transactions"
   ]
  },
  {
   "cell_type": "code",
   "execution_count": 166,
   "metadata": {},
   "outputs": [
    {
     "data": {
      "text/plain": [
       "0.1079"
      ]
     },
     "execution_count": 166,
     "metadata": {},
     "output_type": "execute_result"
    }
   ],
   "source": [
    "val=len(transcript_profile_tran.loc[transcript_profile_tran['age'] == 118])/len(transcript_profile_tran['age'])\n",
    "round(val,4)"
   ]
  },
  {
   "cell_type": "markdown",
   "metadata": {},
   "source": [
    "I think it makes sense to remove these values. Although it possible useful information could be garnered from the customers with missing data. They represent 12.8% of the total customers, and receive 12.8% of the total offers, but they only make 10.8% of total transactions.  \n",
    "It could be worth leaving these customers in the model and populate the data with dummy information. I could assign them their own seperate gender. It would be difficult to create good dummy data for age and income because they dont have any feature other than the date they became a member on as a guideline. My estimations for these empty values would be pretty rough.   \n",
    "\n",
    "But for now I am satisfied that I have still a lot of data remaining to work with"
   ]
  }
 ],
 "metadata": {
  "kernelspec": {
   "display_name": "Python 3",
   "language": "python",
   "name": "python3"
  },
  "language_info": {
   "codemirror_mode": {
    "name": "ipython",
    "version": 3
   },
   "file_extension": ".py",
   "mimetype": "text/x-python",
   "name": "python",
   "nbconvert_exporter": "python",
   "pygments_lexer": "ipython3",
   "version": "3.8.5"
  }
 },
 "nbformat": 4,
 "nbformat_minor": 5
}
