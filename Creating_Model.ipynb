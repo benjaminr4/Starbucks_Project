{
 "cells": [
  {
   "cell_type": "code",
   "execution_count": 1,
   "metadata": {},
   "outputs": [],
   "source": [
    "import pandas as pd\n",
    "import numpy as np\n",
    "import matplotlib.pyplot as plt\n",
    "import seaborn as sn\n",
    "from sklearn.preprocessing import QuantileTransformer\n",
    "from scipy import stats\n",
    "from sklearn.model_selection import train_test_split, GridSearchCV, StratifiedKFold\n",
    "from sklearn.metrics import accuracy_score, classification_report, confusion_matrix, recall_score, roc_curve, f1_score\n",
    "\n",
    "#some models\n",
    "from sklearn.decomposition import PCA\n",
    "from sklearn.naive_bayes import GaussianNB\n",
    "from sklearn.svm import SVC\n",
    "from sklearn.ensemble import AdaBoostClassifier,RandomForestClassifier\n",
    "from sklearn.tree import DecisionTreeClassifier\n",
    "\n",
    "\n",
    "%matplotlib inline"
   ]
  },
  {
   "cell_type": "code",
   "execution_count": 2,
   "metadata": {},
   "outputs": [],
   "source": [
    "offers_classed=pd.read_pickle(\"final_table.pkl\")"
   ]
  },
  {
   "cell_type": "markdown",
   "metadata": {},
   "source": [
    "Calling the table off holding all the data 'offers_classed'"
   ]
  },
  {
   "cell_type": "code",
   "execution_count": 3,
   "metadata": {},
   "outputs": [
    {
     "data": {
      "text/html": [
       "<div>\n",
       "<style scoped>\n",
       "    .dataframe tbody tr th:only-of-type {\n",
       "        vertical-align: middle;\n",
       "    }\n",
       "\n",
       "    .dataframe tbody tr th {\n",
       "        vertical-align: top;\n",
       "    }\n",
       "\n",
       "    .dataframe thead th {\n",
       "        text-align: right;\n",
       "    }\n",
       "</style>\n",
       "<table border=\"1\" class=\"dataframe\">\n",
       "  <thead>\n",
       "    <tr style=\"text-align: right;\">\n",
       "      <th></th>\n",
       "      <th>person</th>\n",
       "      <th>time</th>\n",
       "      <th>offer_id</th>\n",
       "      <th>reward</th>\n",
       "      <th>difficulty</th>\n",
       "      <th>duration</th>\n",
       "      <th>successful_offer</th>\n",
       "      <th>mobile</th>\n",
       "      <th>social</th>\n",
       "      <th>web</th>\n",
       "      <th>bogo</th>\n",
       "      <th>discount</th>\n",
       "      <th>informational</th>\n",
       "      <th>age</th>\n",
       "      <th>became_member_on</th>\n",
       "      <th>income</th>\n",
       "      <th>female</th>\n",
       "      <th>male</th>\n",
       "      <th>other</th>\n",
       "    </tr>\n",
       "  </thead>\n",
       "  <tbody>\n",
       "    <tr>\n",
       "      <th>0</th>\n",
       "      <td>0009655768c64bdeb2e877511632db8f</td>\n",
       "      <td>168.0</td>\n",
       "      <td>5a8bc65990b245e5a138643cd4eb9837</td>\n",
       "      <td>0.0</td>\n",
       "      <td>0.0</td>\n",
       "      <td>3.0</td>\n",
       "      <td>1.0</td>\n",
       "      <td>1.0</td>\n",
       "      <td>1.0</td>\n",
       "      <td>0.0</td>\n",
       "      <td>0</td>\n",
       "      <td>0</td>\n",
       "      <td>1</td>\n",
       "      <td>33</td>\n",
       "      <td>1492732800000000000</td>\n",
       "      <td>72000.0</td>\n",
       "      <td>0</td>\n",
       "      <td>1</td>\n",
       "      <td>0</td>\n",
       "    </tr>\n",
       "    <tr>\n",
       "      <th>1</th>\n",
       "      <td>0009655768c64bdeb2e877511632db8f</td>\n",
       "      <td>336.0</td>\n",
       "      <td>3f207df678b143eea3cee63160fa8bed</td>\n",
       "      <td>0.0</td>\n",
       "      <td>0.0</td>\n",
       "      <td>4.0</td>\n",
       "      <td>1.0</td>\n",
       "      <td>1.0</td>\n",
       "      <td>0.0</td>\n",
       "      <td>1.0</td>\n",
       "      <td>0</td>\n",
       "      <td>0</td>\n",
       "      <td>1</td>\n",
       "      <td>33</td>\n",
       "      <td>1492732800000000000</td>\n",
       "      <td>72000.0</td>\n",
       "      <td>0</td>\n",
       "      <td>1</td>\n",
       "      <td>0</td>\n",
       "    </tr>\n",
       "    <tr>\n",
       "      <th>2</th>\n",
       "      <td>0009655768c64bdeb2e877511632db8f</td>\n",
       "      <td>408.0</td>\n",
       "      <td>f19421c1d4aa40978ebb69ca19b0e20d</td>\n",
       "      <td>5.0</td>\n",
       "      <td>5.0</td>\n",
       "      <td>5.0</td>\n",
       "      <td>0.0</td>\n",
       "      <td>1.0</td>\n",
       "      <td>1.0</td>\n",
       "      <td>1.0</td>\n",
       "      <td>1</td>\n",
       "      <td>0</td>\n",
       "      <td>0</td>\n",
       "      <td>33</td>\n",
       "      <td>1492732800000000000</td>\n",
       "      <td>72000.0</td>\n",
       "      <td>0</td>\n",
       "      <td>1</td>\n",
       "      <td>0</td>\n",
       "    </tr>\n",
       "    <tr>\n",
       "      <th>3</th>\n",
       "      <td>0009655768c64bdeb2e877511632db8f</td>\n",
       "      <td>504.0</td>\n",
       "      <td>fafdcd668e3743c1bb461111dcafc2a4</td>\n",
       "      <td>2.0</td>\n",
       "      <td>10.0</td>\n",
       "      <td>10.0</td>\n",
       "      <td>0.0</td>\n",
       "      <td>1.0</td>\n",
       "      <td>1.0</td>\n",
       "      <td>1.0</td>\n",
       "      <td>0</td>\n",
       "      <td>1</td>\n",
       "      <td>0</td>\n",
       "      <td>33</td>\n",
       "      <td>1492732800000000000</td>\n",
       "      <td>72000.0</td>\n",
       "      <td>0</td>\n",
       "      <td>1</td>\n",
       "      <td>0</td>\n",
       "    </tr>\n",
       "    <tr>\n",
       "      <th>4</th>\n",
       "      <td>0009655768c64bdeb2e877511632db8f</td>\n",
       "      <td>576.0</td>\n",
       "      <td>2906b810c7d4411798c6938adc9daaa5</td>\n",
       "      <td>2.0</td>\n",
       "      <td>10.0</td>\n",
       "      <td>7.0</td>\n",
       "      <td>0.0</td>\n",
       "      <td>1.0</td>\n",
       "      <td>0.0</td>\n",
       "      <td>1.0</td>\n",
       "      <td>0</td>\n",
       "      <td>1</td>\n",
       "      <td>0</td>\n",
       "      <td>33</td>\n",
       "      <td>1492732800000000000</td>\n",
       "      <td>72000.0</td>\n",
       "      <td>0</td>\n",
       "      <td>1</td>\n",
       "      <td>0</td>\n",
       "    </tr>\n",
       "  </tbody>\n",
       "</table>\n",
       "</div>"
      ],
      "text/plain": [
       "                             person   time                          offer_id  \\\n",
       "0  0009655768c64bdeb2e877511632db8f  168.0  5a8bc65990b245e5a138643cd4eb9837   \n",
       "1  0009655768c64bdeb2e877511632db8f  336.0  3f207df678b143eea3cee63160fa8bed   \n",
       "2  0009655768c64bdeb2e877511632db8f  408.0  f19421c1d4aa40978ebb69ca19b0e20d   \n",
       "3  0009655768c64bdeb2e877511632db8f  504.0  fafdcd668e3743c1bb461111dcafc2a4   \n",
       "4  0009655768c64bdeb2e877511632db8f  576.0  2906b810c7d4411798c6938adc9daaa5   \n",
       "\n",
       "   reward  difficulty  duration  successful_offer  mobile  social  web  bogo  \\\n",
       "0     0.0         0.0       3.0               1.0     1.0     1.0  0.0     0   \n",
       "1     0.0         0.0       4.0               1.0     1.0     0.0  1.0     0   \n",
       "2     5.0         5.0       5.0               0.0     1.0     1.0  1.0     1   \n",
       "3     2.0        10.0      10.0               0.0     1.0     1.0  1.0     0   \n",
       "4     2.0        10.0       7.0               0.0     1.0     0.0  1.0     0   \n",
       "\n",
       "   discount  informational  age     became_member_on   income  female  male  \\\n",
       "0         0              1   33  1492732800000000000  72000.0       0     1   \n",
       "1         0              1   33  1492732800000000000  72000.0       0     1   \n",
       "2         0              0   33  1492732800000000000  72000.0       0     1   \n",
       "3         1              0   33  1492732800000000000  72000.0       0     1   \n",
       "4         1              0   33  1492732800000000000  72000.0       0     1   \n",
       "\n",
       "   other  \n",
       "0      0  \n",
       "1      0  \n",
       "2      0  \n",
       "3      0  \n",
       "4      0  "
      ]
     },
     "execution_count": 3,
     "metadata": {},
     "output_type": "execute_result"
    }
   ],
   "source": [
    "offers_classed.head()"
   ]
  },
  {
   "cell_type": "code",
   "execution_count": 4,
   "metadata": {},
   "outputs": [
    {
     "name": "stdout",
     "output_type": "stream",
     "text": [
      "66501\n"
     ]
    }
   ],
   "source": [
    "labels=offers_classed['successful_offer'].values\n",
    "print(len(labels))"
   ]
  },
  {
   "cell_type": "code",
   "execution_count": 5,
   "metadata": {},
   "outputs": [
    {
     "name": "stdout",
     "output_type": "stream",
     "text": [
      "66501\n"
     ]
    }
   ],
   "source": [
    "features_df=offers_classed.filter(['reward', 'difficulty', 'duration','mobile', 'social', 'web', 'bogo', 'discount',\n",
    "                 'informational', 'age', 'became_member_on', 'income',   'female', 'male', 'other'])\n",
    "\n",
    "features = features_df.values\n",
    "\n",
    "print(len(features))"
   ]
  },
  {
   "cell_type": "code",
   "execution_count": 6,
   "metadata": {},
   "outputs": [
    {
     "data": {
      "text/plain": [
       "array([1., 1., 0., ..., 1., 0., 0.])"
      ]
     },
     "execution_count": 6,
     "metadata": {},
     "output_type": "execute_result"
    }
   ],
   "source": [
    "labels"
   ]
  },
  {
   "cell_type": "code",
   "execution_count": 7,
   "metadata": {},
   "outputs": [
    {
     "data": {
      "text/plain": [
       "array([[ 0.,  0.,  3., ...,  0.,  1.,  0.],\n",
       "       [ 0.,  0.,  4., ...,  0.,  1.,  0.],\n",
       "       [ 5.,  5.,  5., ...,  0.,  1.,  0.],\n",
       "       ...,\n",
       "       [ 2., 10.,  7., ...,  1.,  0.,  0.],\n",
       "       [ 5.,  5.,  7., ...,  1.,  0.,  0.],\n",
       "       [ 2., 10.,  7., ...,  1.,  0.,  0.]])"
      ]
     },
     "execution_count": 7,
     "metadata": {},
     "output_type": "execute_result"
    }
   ],
   "source": [
    "features"
   ]
  },
  {
   "cell_type": "markdown",
   "metadata": {},
   "source": [
    "I will use a quantile transformer to scale all my features. It is robust at handling outliers and skewed data."
   ]
  },
  {
   "cell_type": "code",
   "execution_count": 8,
   "metadata": {},
   "outputs": [],
   "source": [
    "def scale_split(features,labels):\n",
    "    \n",
    "    #split the features and labels into training and test sets\n",
    "    X_train, X_test, y_train, y_test = train_test_split(features, labels, train_size=0.85, random_state=40)\n",
    "\n",
    "    #fit and transform scaling on training data\n",
    "    scaler=QuantileTransformer()\n",
    "    \n",
    "    #scale the features separately so there is no data leak between the training set and test set\n",
    "    X_train=scaler.fit_transform(X_train)\n",
    "    X_test=scaler.transform(X_test)\n",
    "    \n",
    "    return X_train, X_test, y_train, y_test"
   ]
  },
  {
   "cell_type": "code",
   "execution_count": 9,
   "metadata": {},
   "outputs": [
    {
     "data": {
      "text/plain": [
       "array([0.2992993 , 0.6996997 , 1.        , 1.        , 1.        ,\n",
       "       1.        , 0.        , 1.        , 0.        , 0.51551552,\n",
       "       0.2972973 , 0.94744745, 1.        , 0.        , 0.        ])"
      ]
     },
     "execution_count": 9,
     "metadata": {},
     "output_type": "execute_result"
    }
   ],
   "source": [
    "features_train, features_test, labels_train, labels_test=scale_split(features, labels)\n",
    "features_train[0]"
   ]
  },
  {
   "cell_type": "code",
   "execution_count": 10,
   "metadata": {},
   "outputs": [
    {
     "name": "stdout",
     "output_type": "stream",
     "text": [
      "the size of the train set is: 56525.\n",
      "the size of the test set is: 9976.\n"
     ]
    }
   ],
   "source": [
    "print('the size of the train set is: {}.'.format(len(features_train)))\n",
    "print('the size of the test set is: {}.'.format(len(features_test)))"
   ]
  },
  {
   "cell_type": "markdown",
   "metadata": {},
   "source": [
    "<font size=4>Some initial basic models to see how good they are at predicting<font/>"
   ]
  },
  {
   "cell_type": "markdown",
   "metadata": {},
   "source": [
    "Decision Tree Classifier with default parameters"
   ]
  },
  {
   "cell_type": "code",
   "execution_count": 11,
   "metadata": {},
   "outputs": [],
   "source": [
    "def classifyDecisionTree(features_train, labels_train, features_test, labels_test):\n",
    "    \n",
    "    #create the classifer\n",
    "    clf = DecisionTreeClassifier(random_state=40)\n",
    "    \n",
    "    #fit the training data\n",
    "    clf = clf.fit(features_train, labels_train)\n",
    "    \n",
    "    #predict the testing labels using the testing features\n",
    "    pred=clf.predict(features_test)\n",
    "    \n",
    "    #evaluate how good the model did at predicting the true teting labels\n",
    "    print(classification_report(labels_test, pred,digits=4, target_names=['unsuccessful','successful'],output_dict=False))\n",
    "    \n",
    "    #printing the confusion matrix\n",
    "    con_mat=pd.DataFrame(confusion_matrix(labels_test, pred),  columns=['pred_neg', 'pred_pos'], index=['neg', 'pos'])\n",
    "    plt.figure(figsize = (4,4))\n",
    "    sn.heatmap(con_mat, annot=True,cmap='YlOrBr',fmt='g')\n",
    "\n",
    "    return clf"
   ]
  },
  {
   "cell_type": "markdown",
   "metadata": {},
   "source": [
    "f1-score for unsuccessful offers is quite good. But a score of just under 0.6 for successful offers is lower than I would like."
   ]
  },
  {
   "cell_type": "code",
   "execution_count": 12,
   "metadata": {
    "scrolled": true
   },
   "outputs": [
    {
     "name": "stdout",
     "output_type": "stream",
     "text": [
      "              precision    recall  f1-score   support\n",
      "\n",
      "unsuccessful     0.6971    0.7111    0.7040      5677\n",
      "  successful     0.6081    0.5920    0.6000      4299\n",
      "\n",
      "    accuracy                         0.6598      9976\n",
      "   macro avg     0.6526    0.6516    0.6520      9976\n",
      "weighted avg     0.6588    0.6598    0.6592      9976\n",
      "\n",
      "CPU times: user 315 ms, sys: 52.2 ms, total: 367 ms\n",
      "Wall time: 319 ms\n"
     ]
    },
    {
     "data": {
      "image/png": "[encoded data removed]",
      "text/plain": [
       "<Figure size 288x288 with 2 Axes>"
      ]
     },
     "metadata": {
      "needs_background": "light"
     },
     "output_type": "display_data"
    }
   ],
   "source": [
    "%%time\n",
    "clf = classifyDecisionTree(features_train, labels_train, features_test, labels_test)\n"
   ]
  },
  {
   "cell_type": "markdown",
   "metadata": {},
   "source": [
    "Adaboost with default params"
   ]
  },
  {
   "cell_type": "code",
   "execution_count": 13,
   "metadata": {},
   "outputs": [],
   "source": [
    "def classifyAdaBoost(features_train, labels_train, features_test, labels_test):\n",
    "    \n",
    "    #create the classifer\n",
    "    clf = AdaBoostClassifier(random_state=40)\n",
    "    \n",
    "    #fit the training data\n",
    "    clf = clf.fit(features_train, labels_train)\n",
    "    \n",
    "    #predict the testing labels using the testing features\n",
    "    pred=clf.predict(features_test)\n",
    "    \n",
    "    #evaluate how good the model did at predicting the true teting labels\n",
    "    print(classification_report(labels_test, pred,digits=4, target_names=['unsuccessful','successful'],output_dict=False))\n",
    "    \n",
    "    #printing the confusion matrix\n",
    "    con_mat=pd.DataFrame(confusion_matrix(labels_test, pred),  columns=['pred_neg', 'pred_pos'], index=['neg', 'pos'])\n",
    "    plt.figure(figsize = (4,4))\n",
    "    sn.heatmap(con_mat, annot=True,cmap='YlOrBr',fmt='g')\n",
    "\n",
    "    return clf"
   ]
  },
  {
   "cell_type": "markdown",
   "metadata": {},
   "source": [
    "the f1 score for adaboost is better than the decision tree for unsuccessful offers but performs a bit worse for successful offers."
   ]
  },
  {
   "cell_type": "code",
   "execution_count": 14,
   "metadata": {
    "scrolled": true
   },
   "outputs": [
    {
     "name": "stdout",
     "output_type": "stream",
     "text": [
      "              precision    recall  f1-score   support\n",
      "\n",
      "unsuccessful     0.6876    0.7893    0.7350      5677\n",
      "  successful     0.6542    0.5264    0.5834      4299\n",
      "\n",
      "    accuracy                         0.6760      9976\n",
      "   macro avg     0.6709    0.6579    0.6592      9976\n",
      "weighted avg     0.6732    0.6760    0.6696      9976\n",
      "\n",
      "CPU times: user 1.69 s, sys: 81.3 ms, total: 1.77 s\n",
      "Wall time: 1.65 s\n"
     ]
    },
    {
     "data": {
      "image/png": "[encoded data removed]",
      "text/plain": [
       "<Figure size 288x288 with 2 Axes>"
      ]
     },
     "metadata": {
      "needs_background": "light"
     },
     "output_type": "display_data"
    }
   ],
   "source": [
    "%%time\n",
    "clf = classifyAdaBoost(features_train, labels_train, features_test, labels_test)"
   ]
  },
  {
   "cell_type": "markdown",
   "metadata": {},
   "source": [
    "Random Forest with default params"
   ]
  },
  {
   "cell_type": "code",
   "execution_count": 15,
   "metadata": {},
   "outputs": [],
   "source": [
    "def classifyRandomForest(features_train, labels_train, features_test, labels_test):\n",
    "    \n",
    "    #create the classifer\n",
    "    clf = RandomForestClassifier(random_state=40)\n",
    "    \n",
    "    #fit the training data\n",
    "    clf = clf.fit(features_train, labels_train)\n",
    "    \n",
    "    #predict the testing labels using the testing features\n",
    "    pred=clf.predict(features_test)\n",
    "    \n",
    "    #evaluate how good the model did at predicting the true teting labels\n",
    "    print(classification_report(labels_test, pred,digits=4, target_names=['unsuccessful','successful'],output_dict=False))\n",
    "    \n",
    "    #printing the confusion matrix\n",
    "    con_mat=pd.DataFrame(confusion_matrix(labels_test, pred),  columns=['pred_neg', 'pred_pos'], index=['neg', 'pos'])\n",
    "    plt.figure(figsize = (4,4))\n",
    "    sn.heatmap(con_mat, annot=True,cmap='YlOrBr',fmt='g')\n",
    "\n",
    "    return clf"
   ]
  },
  {
   "cell_type": "markdown",
   "metadata": {},
   "source": [
    "The default random forest classifer performs comfortably better than the other two for successful offers."
   ]
  },
  {
   "cell_type": "code",
   "execution_count": 16,
   "metadata": {
    "scrolled": true
   },
   "outputs": [
    {
     "name": "stdout",
     "output_type": "stream",
     "text": [
      "              precision    recall  f1-score   support\n",
      "\n",
      "unsuccessful     0.7215    0.7631    0.7417      5677\n",
      "  successful     0.6614    0.6111    0.6352      4299\n",
      "\n",
      "    accuracy                         0.6976      9976\n",
      "   macro avg     0.6914    0.6871    0.6885      9976\n",
      "weighted avg     0.6956    0.6976    0.6958      9976\n",
      "\n",
      "CPU times: user 5.53 s, sys: 167 ms, total: 5.69 s\n",
      "Wall time: 5.6 s\n"
     ]
    },
    {
     "data": {
      "image/png": "[encoded data removed]",
      "text/plain": [
       "<Figure size 288x288 with 2 Axes>"
      ]
     },
     "metadata": {
      "needs_background": "light"
     },
     "output_type": "display_data"
    }
   ],
   "source": [
    "%%time\n",
    "clf = classifyRandomForest(features_train, labels_train, features_test, labels_test)"
   ]
  },
  {
   "cell_type": "markdown",
   "metadata": {},
   "source": [
    "Feature Importance"
   ]
  },
  {
   "cell_type": "code",
   "execution_count": 17,
   "metadata": {},
   "outputs": [],
   "source": [
    "#resetting feature_df\n",
    "\n",
    "features_df=offers_classed.filter(['reward', 'difficulty', 'duration','mobile', 'social', 'web', 'bogo', 'discount',\n",
    "                 'informational', 'age', 'became_member_on', 'income',   'female', 'male', 'other'])"
   ]
  },
  {
   "cell_type": "markdown",
   "metadata": {},
   "source": [
    "Create a dictionary between feature names and the feature importance within the classifier."
   ]
  },
  {
   "cell_type": "code",
   "execution_count": 18,
   "metadata": {},
   "outputs": [],
   "source": [
    "dict = {}\n",
    "for A, B in zip(features_df.columns.values, clf.feature_importances_):\n",
    "    dict[A] = B"
   ]
  },
  {
   "cell_type": "code",
   "execution_count": 19,
   "metadata": {
    "scrolled": true
   },
   "outputs": [
    {
     "data": {
      "image/png": "[encoded data removed]",
      "text/plain": [
       "<Figure size 432x288 with 1 Axes>"
      ]
     },
     "metadata": {
      "needs_background": "light"
     },
     "output_type": "display_data"
    }
   ],
   "source": [
    "names = list(dict.keys())\n",
    "values = list(dict.values())\n",
    "\n",
    "plt.bar(range(len(dict)), values, tick_label=names)\n",
    "plt.xticks(rotation=90)\n",
    "plt.show()"
   ]
  },
  {
   "cell_type": "markdown",
   "metadata": {},
   "source": [
    "Naive Bayes "
   ]
  },
  {
   "cell_type": "code",
   "execution_count": 20,
   "metadata": {},
   "outputs": [],
   "source": [
    "def classifyGaussianNB(features_train, labels_train, features_test, labels_test):\n",
    "    \n",
    "    #create the classifer\n",
    "    clf = GaussianNB()\n",
    "    \n",
    "    #fit the training data\n",
    "    clf = clf.fit(features_train, labels_train)\n",
    "    \n",
    "    #predict the testing labels using the testing features\n",
    "    pred=clf.predict(features_test)\n",
    "    \n",
    "    #evaluate how good the model did at predicting the true teting labels\n",
    "    print(classification_report(labels_test, pred,digits=4, target_names=['unsuccessful','successful'],output_dict=False))\n",
    "    \n",
    "    #printing the confusion matrix\n",
    "    con_mat=pd.DataFrame(confusion_matrix(labels_test, pred),  columns=['pred_neg', 'pred_pos'], index=['neg', 'pos'])\n",
    "    plt.figure(figsize = (4,4))\n",
    "    sn.heatmap(con_mat, annot=True,cmap='YlOrBr',fmt='g')\n",
    "\n",
    "    return clf"
   ]
  },
  {
   "cell_type": "markdown",
   "metadata": {},
   "source": [
    "very good positive recall"
   ]
  },
  {
   "cell_type": "code",
   "execution_count": 21,
   "metadata": {},
   "outputs": [
    {
     "name": "stdout",
     "output_type": "stream",
     "text": [
      "              precision    recall  f1-score   support\n",
      "\n",
      "unsuccessful     0.7090    0.6364    0.6708      5677\n",
      "  successful     0.5770    0.6550    0.6136      4299\n",
      "\n",
      "    accuracy                         0.6444      9976\n",
      "   macro avg     0.6430    0.6457    0.6422      9976\n",
      "weighted avg     0.6521    0.6444    0.6461      9976\n",
      "\n",
      "CPU times: user 176 ms, sys: 66.6 ms, total: 242 ms\n",
      "Wall time: 178 ms\n"
     ]
    },
    {
     "data": {
      "image/png": "[encoded data removed]",
      "text/plain": [
       "<Figure size 288x288 with 2 Axes>"
      ]
     },
     "metadata": {
      "needs_background": "light"
     },
     "output_type": "display_data"
    }
   ],
   "source": [
    "%%time\n",
    "clf = classifyGaussianNB(features_train, labels_train, features_test, labels_test)"
   ]
  },
  {
   "cell_type": "markdown",
   "metadata": {},
   "source": [
    "Support Vector Machines with default params"
   ]
  },
  {
   "cell_type": "code",
   "execution_count": 22,
   "metadata": {},
   "outputs": [],
   "source": [
    "def classifySVC(features_train, labels_train, features_test, labels_test):\n",
    "    \n",
    "    #create the classifer\n",
    "    clf = SVC()\n",
    "    \n",
    "    #fit the training data\n",
    "    clf = clf.fit(features_train, labels_train)\n",
    "    \n",
    "    #predict the testing labels using the testing features\n",
    "    pred=clf.predict(features_test)\n",
    "    \n",
    "    #evaluate how good the model did at predicting the true teting labels\n",
    "    print(classification_report(labels_test, pred,digits=4, target_names=['unsuccessful','successful'],output_dict=False))\n",
    "    \n",
    "    #printing the confusion matrix\n",
    "    con_mat=pd.DataFrame(confusion_matrix(labels_test, pred),  columns=['pred_neg', 'pred_pos'], index=['neg', 'pos'])\n",
    "    plt.figure(figsize = (4,4))\n",
    "    sn.heatmap(con_mat, annot=True, cmap='YlOrBr', fmt='g')\n",
    "\n",
    "    return clf"
   ]
  },
  {
   "cell_type": "markdown",
   "metadata": {},
   "source": [
    "Didnt perform as well for the successful offers. But very well for unsuccessful offers."
   ]
  },
  {
   "cell_type": "code",
   "execution_count": 23,
   "metadata": {},
   "outputs": [
    {
     "name": "stdout",
     "output_type": "stream",
     "text": [
      "              precision    recall  f1-score   support\n",
      "\n",
      "unsuccessful     0.6876    0.8022    0.7405      5677\n",
      "  successful     0.6651    0.5187    0.5829      4299\n",
      "\n",
      "    accuracy                         0.6800      9976\n",
      "   macro avg     0.6763    0.6605    0.6617      9976\n",
      "weighted avg     0.6779    0.6800    0.6726      9976\n",
      "\n",
      "CPU times: user 2min 57s, sys: 53.6 ms, total: 2min 57s\n",
      "Wall time: 2min 57s\n"
     ]
    },
    {
     "data": {
      "image/png": "[encoded data removed]",
      "text/plain": [
       "<Figure size 288x288 with 2 Axes>"
      ]
     },
     "metadata": {
      "needs_background": "light"
     },
     "output_type": "display_data"
    }
   ],
   "source": [
    "%%time\n",
    "#commenting this for now as it takes about 3 minutes to run\n",
    "clf = classifySVC(features_train, labels_train, features_test, labels_test)"
   ]
  },
  {
   "cell_type": "markdown",
   "metadata": {},
   "source": [
    "<font size=5>PCA<font/>"
   ]
  },
  {
   "cell_type": "code",
   "execution_count": 24,
   "metadata": {},
   "outputs": [],
   "source": [
    "scaler=QuantileTransformer()"
   ]
  },
  {
   "cell_type": "code",
   "execution_count": 25,
   "metadata": {},
   "outputs": [],
   "source": [
    "features_scaled=scaler.fit_transform(features)\n"
   ]
  },
  {
   "cell_type": "code",
   "execution_count": 26,
   "metadata": {},
   "outputs": [
    {
     "data": {
      "text/plain": [
       "array([0.        , 0.        , 0.        , 1.        , 1.        ,\n",
       "       0.        , 0.        , 0.        , 1.        , 0.13763764,\n",
       "       0.43343343, 0.64064064, 0.        , 1.        , 0.        ])"
      ]
     },
     "execution_count": 26,
     "metadata": {},
     "output_type": "execute_result"
    }
   ],
   "source": [
    "features_scaled[0]"
   ]
  },
  {
   "cell_type": "code",
   "execution_count": 27,
   "metadata": {},
   "outputs": [
    {
     "data": {
      "text/plain": [
       "66501"
      ]
     },
     "execution_count": 27,
     "metadata": {},
     "output_type": "execute_result"
    }
   ],
   "source": [
    "len(features_scaled)"
   ]
  },
  {
   "cell_type": "code",
   "execution_count": 28,
   "metadata": {},
   "outputs": [
    {
     "data": {
      "text/plain": [
       "array([[0.        , 0.        , 0.65015015, ..., 0.2997998 , 0.65015015,\n",
       "        0.2997998 ],\n",
       "       [0.        , 0.        , 0.2992993 , ..., 0.6986987 , 0.2992993 ,\n",
       "        0.6986987 ],\n",
       "       [0.        , 0.14964965, 0.2987988 , ..., 0.5985986 , 0.5985986 ,\n",
       "        0.5985986 ],\n",
       "       ...,\n",
       "       [0.        , 0.        , 0.        , ..., 1.        , 1.        ,\n",
       "        1.        ],\n",
       "       [1.        , 1.        , 1.        , ..., 0.        , 0.        ,\n",
       "        0.        ],\n",
       "       [0.        , 0.        , 0.        , ..., 0.        , 0.        ,\n",
       "        0.        ]])"
      ]
     },
     "execution_count": 28,
     "metadata": {},
     "output_type": "execute_result"
    }
   ],
   "source": [
    "np.transpose(features_scaled)"
   ]
  },
  {
   "cell_type": "code",
   "execution_count": 29,
   "metadata": {},
   "outputs": [
    {
     "data": {
      "text/plain": [
       "PCA(n_components=15)"
      ]
     },
     "execution_count": 29,
     "metadata": {},
     "output_type": "execute_result"
    }
   ],
   "source": [
    "pca = PCA(n_components=15)\n",
    "pca.fit(np.transpose(features_scaled))"
   ]
  },
  {
   "cell_type": "code",
   "execution_count": 30,
   "metadata": {
    "scrolled": true
   },
   "outputs": [
    {
     "name": "stdout",
     "output_type": "stream",
     "text": [
      "[2.66675755e-01 2.04596861e-01 1.70735920e-01 1.38222903e-01\n",
      " 8.51866709e-02 3.62787525e-02 2.91477253e-02 2.15659897e-02\n",
      " 1.96836306e-02 1.55376005e-02 6.59693555e-03 4.43130139e-03\n",
      " 1.33995429e-03 2.53900175e-32 1.77311419e-32]\n"
     ]
    }
   ],
   "source": [
    "print(pca.explained_variance_ratio_)"
   ]
  },
  {
   "cell_type": "markdown",
   "metadata": {},
   "source": [
    "A common method for determining the number of PCs to be retained is a graphical representation known as a scree plot. A Scree Plot is a simple line segment plot that shows the eigenvalues for each individual PC. It shows the eigenvalues on the y-axis and the number of factors on the x-axis. It always displays a downward curve. Most scree plots look broadly similar in shape, starting high on the left, falling rather quickly, and then flattening out at some point. This is because the first component usually explains much of the variability, the next few components explain a moderate amount, and the latter components only explain a small fraction of the overall variability. The scree plot criterion looks for the “elbow” in the curve and selects all components just before the line flattens out. (In the PCA literature, the plot is called a ‘Scree’ Plot because it often looks like a ‘scree’ slope, where rocks have fallen down and accumulated on the side of a mountain.)  \n",
    "https://sanchitamangale12.medium.com/scree-plot-733ed72c8608"
   ]
  },
  {
   "cell_type": "code",
   "execution_count": 31,
   "metadata": {},
   "outputs": [
    {
     "data": {
      "text/plain": [
       "<function matplotlib.pyplot.show(close=None, block=None)>"
      ]
     },
     "execution_count": 31,
     "metadata": {},
     "output_type": "execute_result"
    },
    {
     "data": {
      "image/png": "[encoded data removed]",
      "text/plain": [
       "<Figure size 432x288 with 1 Axes>"
      ]
     },
     "metadata": {
      "needs_background": "light"
     },
     "output_type": "display_data"
    }
   ],
   "source": [
    "plt.title('PCA Eigenvalues')\n",
    "plt.ylabel('Eigenvalues')\n",
    "plt.xlabel('# of Features')\n",
    "plt.plot(pca.explained_variance_)\n",
    "plt.show"
   ]
  },
  {
   "cell_type": "markdown",
   "metadata": {},
   "source": [
    "I see an elbow at 4. I will test my model with 4 pca components and see how they perform."
   ]
  },
  {
   "cell_type": "code",
   "execution_count": 32,
   "metadata": {},
   "outputs": [
    {
     "data": {
      "text/plain": [
       "<function matplotlib.pyplot.show(close=None, block=None)>"
      ]
     },
     "execution_count": 32,
     "metadata": {},
     "output_type": "execute_result"
    },
    {
     "data": {
      "image/png": "[encoded data removed]",
      "text/plain": [
       "<Figure size 432x288 with 1 Axes>"
      ]
     },
     "metadata": {
      "needs_background": "light"
     },
     "output_type": "display_data"
    }
   ],
   "source": [
    "variance=pca.explained_variance_ratio_\n",
    "var=np.cumsum(pca.explained_variance_ratio_)\n",
    "\n",
    "plt.title('PCA Variance Explained')\n",
    "plt.ylabel('% Variance Explained')\n",
    "plt.xlabel('# of Features')\n",
    "plt.plot(var)\n",
    "plt.show"
   ]
  },
  {
   "cell_type": "code",
   "execution_count": 33,
   "metadata": {},
   "outputs": [
    {
     "name": "stdout",
     "output_type": "stream",
     "text": [
      "the first 4 pca components represents 0.78 of the variance\n"
     ]
    }
   ],
   "source": [
    "print(\"the first 4 pca components represents {:0.2f} of the variance\".format(np.cumsum(pca.explained_variance_ratio_)[3]))"
   ]
  },
  {
   "cell_type": "code",
   "execution_count": 34,
   "metadata": {},
   "outputs": [
    {
     "data": {
      "text/plain": [
       "PCA(n_components=4)"
      ]
     },
     "execution_count": 34,
     "metadata": {},
     "output_type": "execute_result"
    }
   ],
   "source": [
    "pca = PCA(n_components=4)\n",
    "pca.fit(np.transpose(features_scaled))"
   ]
  },
  {
   "cell_type": "code",
   "execution_count": 35,
   "metadata": {},
   "outputs": [
    {
     "data": {
      "text/plain": [
       "array([[-0.00171725, -0.00280834, -0.00579649, ..., -0.00245145,\n",
       "        -0.00282433, -0.00245145],\n",
       "       [-0.00396342, -0.00054486, -0.00362468, ...,  0.00457206,\n",
       "        -0.00157998,  0.00457206],\n",
       "       [ 0.00424217,  0.00358818,  0.00145135, ..., -0.00539334,\n",
       "        -0.00577973, -0.00539334],\n",
       "       [-0.00658256, -0.00696897,  0.00130861, ..., -0.00216815,\n",
       "         0.00116608, -0.00216815]])"
      ]
     },
     "execution_count": 35,
     "metadata": {},
     "output_type": "execute_result"
    }
   ],
   "source": [
    "pca.components_"
   ]
  },
  {
   "cell_type": "code",
   "execution_count": 36,
   "metadata": {},
   "outputs": [
    {
     "data": {
      "text/plain": [
       "4"
      ]
     },
     "execution_count": 36,
     "metadata": {},
     "output_type": "execute_result"
    }
   ],
   "source": [
    "len(pca.components_)"
   ]
  },
  {
   "cell_type": "code",
   "execution_count": 37,
   "metadata": {},
   "outputs": [
    {
     "data": {
      "text/plain": [
       "66501"
      ]
     },
     "execution_count": 37,
     "metadata": {},
     "output_type": "execute_result"
    }
   ],
   "source": [
    "len(np.transpose(pca.components_))"
   ]
  },
  {
   "cell_type": "code",
   "execution_count": 38,
   "metadata": {},
   "outputs": [],
   "source": [
    "pca_features=np.transpose(pca.components_)"
   ]
  },
  {
   "cell_type": "code",
   "execution_count": 39,
   "metadata": {},
   "outputs": [],
   "source": [
    "features_train, features_test, labels_train, labels_test = train_test_split(pca_features, labels, train_size=0.85, random_state=40)"
   ]
  },
  {
   "cell_type": "code",
   "execution_count": 40,
   "metadata": {},
   "outputs": [],
   "source": [
    "def classifyRandomForest(features_train, labels_train, features_test, labels_test):\n",
    "    \n",
    "    #create the classifer\n",
    "    clf = RandomForestClassifier(random_state=40)\n",
    "    \n",
    "    #fit the training data\n",
    "    clf = clf.fit(features_train, labels_train)\n",
    "    \n",
    "    #predict the testing labels using the testing features\n",
    "    pred=clf.predict(features_test)\n",
    "    \n",
    "    #evaluate how good the model did at predicting the true teting labels\n",
    "    print(classification_report(labels_test, pred,digits=4, target_names=['unsuccessful','successful'],output_dict=False))\n",
    "    \n",
    "    #printing the confusion matrix\n",
    "    con_mat=pd.DataFrame(confusion_matrix(labels_test, pred),  columns=['pred_neg', 'pred_pos'], index=['neg', 'pos'])\n",
    "    plt.figure(figsize = (4,4))\n",
    "    sn.heatmap(con_mat, annot=True,cmap='YlOrBr',fmt='g')\n",
    "\n",
    "    return clf"
   ]
  },
  {
   "cell_type": "markdown",
   "metadata": {},
   "source": [
    "PCA reduction didnt appear to improve my model."
   ]
  },
  {
   "cell_type": "code",
   "execution_count": 41,
   "metadata": {
    "scrolled": true
   },
   "outputs": [
    {
     "name": "stdout",
     "output_type": "stream",
     "text": [
      "              precision    recall  f1-score   support\n",
      "\n",
      "unsuccessful     0.7082    0.7382    0.7229      5677\n",
      "  successful     0.6338    0.5983    0.6155      4299\n",
      "\n",
      "    accuracy                         0.6779      9976\n",
      "   macro avg     0.6710    0.6683    0.6692      9976\n",
      "weighted avg     0.6761    0.6779    0.6766      9976\n",
      "\n",
      "CPU times: user 13.9 s, sys: 119 ms, total: 14 s\n",
      "Wall time: 13.9 s\n"
     ]
    },
    {
     "data": {
      "image/png": "[encoded data removed]",
      "text/plain": [
       "<Figure size 288x288 with 2 Axes>"
      ]
     },
     "metadata": {
      "needs_background": "light"
     },
     "output_type": "display_data"
    }
   ],
   "source": [
    "%%time\n",
    "clf = classifyRandomForest(features_train, labels_train, features_test, labels_test)"
   ]
  },
  {
   "cell_type": "markdown",
   "metadata": {},
   "source": [
    "<font size=4>Correlation<font/>"
   ]
  },
  {
   "cell_type": "markdown",
   "metadata": {},
   "source": [
    "I wanted to see if any features were highly correlated. And I could remove a feature if that was the case."
   ]
  },
  {
   "cell_type": "code",
   "execution_count": 42,
   "metadata": {},
   "outputs": [
    {
     "data": {
      "text/plain": [
       "Index(['person', 'time', 'offer_id', 'reward', 'difficulty', 'duration',\n",
       "       'successful_offer', 'mobile', 'social', 'web', 'bogo', 'discount',\n",
       "       'informational', 'age', 'became_member_on', 'income', 'female', 'male',\n",
       "       'other'],\n",
       "      dtype='object')"
      ]
     },
     "execution_count": 42,
     "metadata": {},
     "output_type": "execute_result"
    }
   ],
   "source": [
    "offers_classed.columns"
   ]
  },
  {
   "cell_type": "code",
   "execution_count": 43,
   "metadata": {},
   "outputs": [
    {
     "data": {
      "text/html": [
       "<div>\n",
       "<style scoped>\n",
       "    .dataframe tbody tr th:only-of-type {\n",
       "        vertical-align: middle;\n",
       "    }\n",
       "\n",
       "    .dataframe tbody tr th {\n",
       "        vertical-align: top;\n",
       "    }\n",
       "\n",
       "    .dataframe thead th {\n",
       "        text-align: right;\n",
       "    }\n",
       "</style>\n",
       "<table border=\"1\" class=\"dataframe\">\n",
       "  <thead>\n",
       "    <tr style=\"text-align: right;\">\n",
       "      <th></th>\n",
       "      <th>reward</th>\n",
       "      <th>difficulty</th>\n",
       "      <th>duration</th>\n",
       "      <th>mobile</th>\n",
       "      <th>social</th>\n",
       "      <th>web</th>\n",
       "      <th>bogo</th>\n",
       "      <th>discount</th>\n",
       "      <th>informational</th>\n",
       "      <th>age</th>\n",
       "      <th>became_member_on</th>\n",
       "      <th>income</th>\n",
       "      <th>female</th>\n",
       "      <th>male</th>\n",
       "      <th>other</th>\n",
       "    </tr>\n",
       "  </thead>\n",
       "  <tbody>\n",
       "    <tr>\n",
       "      <th>reward</th>\n",
       "      <td>1.00</td>\n",
       "      <td>0.47</td>\n",
       "      <td>0.16</td>\n",
       "      <td>-0.08</td>\n",
       "      <td>0.29</td>\n",
       "      <td>-0.12</td>\n",
       "      <td>0.79</td>\n",
       "      <td>-0.29</td>\n",
       "      <td>-0.62</td>\n",
       "      <td>-0.00</td>\n",
       "      <td>-0.00</td>\n",
       "      <td>0.00</td>\n",
       "      <td>0.00</td>\n",
       "      <td>0.00</td>\n",
       "      <td>-0.00</td>\n",
       "    </tr>\n",
       "    <tr>\n",
       "      <th>difficulty</th>\n",
       "      <td>0.47</td>\n",
       "      <td>1.00</td>\n",
       "      <td>0.81</td>\n",
       "      <td>-0.74</td>\n",
       "      <td>-0.16</td>\n",
       "      <td>0.24</td>\n",
       "      <td>-0.03</td>\n",
       "      <td>0.60</td>\n",
       "      <td>-0.70</td>\n",
       "      <td>-0.00</td>\n",
       "      <td>-0.00</td>\n",
       "      <td>-0.00</td>\n",
       "      <td>-0.00</td>\n",
       "      <td>0.00</td>\n",
       "      <td>-0.00</td>\n",
       "    </tr>\n",
       "    <tr>\n",
       "      <th>duration</th>\n",
       "      <td>0.16</td>\n",
       "      <td>0.81</td>\n",
       "      <td>1.00</td>\n",
       "      <td>-0.53</td>\n",
       "      <td>-0.19</td>\n",
       "      <td>0.34</td>\n",
       "      <td>-0.18</td>\n",
       "      <td>0.74</td>\n",
       "      <td>-0.68</td>\n",
       "      <td>-0.00</td>\n",
       "      <td>-0.00</td>\n",
       "      <td>-0.00</td>\n",
       "      <td>-0.00</td>\n",
       "      <td>0.00</td>\n",
       "      <td>0.00</td>\n",
       "    </tr>\n",
       "    <tr>\n",
       "      <th>mobile</th>\n",
       "      <td>-0.08</td>\n",
       "      <td>-0.74</td>\n",
       "      <td>-0.53</td>\n",
       "      <td>1.00</td>\n",
       "      <td>0.41</td>\n",
       "      <td>-0.17</td>\n",
       "      <td>0.27</td>\n",
       "      <td>-0.41</td>\n",
       "      <td>0.17</td>\n",
       "      <td>-0.00</td>\n",
       "      <td>0.00</td>\n",
       "      <td>0.00</td>\n",
       "      <td>-0.00</td>\n",
       "      <td>0.00</td>\n",
       "      <td>-0.00</td>\n",
       "    </tr>\n",
       "    <tr>\n",
       "      <th>social</th>\n",
       "      <td>0.29</td>\n",
       "      <td>-0.16</td>\n",
       "      <td>-0.19</td>\n",
       "      <td>0.41</td>\n",
       "      <td>1.00</td>\n",
       "      <td>-0.41</td>\n",
       "      <td>0.25</td>\n",
       "      <td>-0.17</td>\n",
       "      <td>-0.10</td>\n",
       "      <td>-0.00</td>\n",
       "      <td>0.00</td>\n",
       "      <td>0.00</td>\n",
       "      <td>-0.00</td>\n",
       "      <td>0.00</td>\n",
       "      <td>-0.00</td>\n",
       "    </tr>\n",
       "    <tr>\n",
       "      <th>web</th>\n",
       "      <td>-0.12</td>\n",
       "      <td>0.24</td>\n",
       "      <td>0.34</td>\n",
       "      <td>-0.17</td>\n",
       "      <td>-0.41</td>\n",
       "      <td>1.00</td>\n",
       "      <td>-0.10</td>\n",
       "      <td>0.41</td>\n",
       "      <td>-0.37</td>\n",
       "      <td>-0.00</td>\n",
       "      <td>0.00</td>\n",
       "      <td>-0.00</td>\n",
       "      <td>-0.00</td>\n",
       "      <td>0.00</td>\n",
       "      <td>-0.00</td>\n",
       "    </tr>\n",
       "    <tr>\n",
       "      <th>bogo</th>\n",
       "      <td>0.79</td>\n",
       "      <td>-0.03</td>\n",
       "      <td>-0.18</td>\n",
       "      <td>0.27</td>\n",
       "      <td>0.25</td>\n",
       "      <td>-0.10</td>\n",
       "      <td>1.00</td>\n",
       "      <td>-0.67</td>\n",
       "      <td>-0.41</td>\n",
       "      <td>-0.00</td>\n",
       "      <td>-0.00</td>\n",
       "      <td>0.00</td>\n",
       "      <td>0.00</td>\n",
       "      <td>-0.00</td>\n",
       "      <td>-0.00</td>\n",
       "    </tr>\n",
       "    <tr>\n",
       "      <th>discount</th>\n",
       "      <td>-0.29</td>\n",
       "      <td>0.60</td>\n",
       "      <td>0.74</td>\n",
       "      <td>-0.41</td>\n",
       "      <td>-0.17</td>\n",
       "      <td>0.41</td>\n",
       "      <td>-0.67</td>\n",
       "      <td>1.00</td>\n",
       "      <td>-0.41</td>\n",
       "      <td>-0.00</td>\n",
       "      <td>0.00</td>\n",
       "      <td>-0.00</td>\n",
       "      <td>-0.00</td>\n",
       "      <td>0.00</td>\n",
       "      <td>-0.00</td>\n",
       "    </tr>\n",
       "    <tr>\n",
       "      <th>informational</th>\n",
       "      <td>-0.62</td>\n",
       "      <td>-0.70</td>\n",
       "      <td>-0.68</td>\n",
       "      <td>0.17</td>\n",
       "      <td>-0.10</td>\n",
       "      <td>-0.37</td>\n",
       "      <td>-0.41</td>\n",
       "      <td>-0.41</td>\n",
       "      <td>1.00</td>\n",
       "      <td>0.01</td>\n",
       "      <td>0.00</td>\n",
       "      <td>0.00</td>\n",
       "      <td>0.00</td>\n",
       "      <td>-0.00</td>\n",
       "      <td>0.00</td>\n",
       "    </tr>\n",
       "    <tr>\n",
       "      <th>age</th>\n",
       "      <td>-0.00</td>\n",
       "      <td>-0.00</td>\n",
       "      <td>-0.00</td>\n",
       "      <td>-0.00</td>\n",
       "      <td>-0.00</td>\n",
       "      <td>-0.00</td>\n",
       "      <td>-0.00</td>\n",
       "      <td>-0.00</td>\n",
       "      <td>0.01</td>\n",
       "      <td>1.00</td>\n",
       "      <td>-0.01</td>\n",
       "      <td>0.31</td>\n",
       "      <td>0.15</td>\n",
       "      <td>-0.15</td>\n",
       "      <td>0.00</td>\n",
       "    </tr>\n",
       "    <tr>\n",
       "      <th>became_member_on</th>\n",
       "      <td>-0.00</td>\n",
       "      <td>-0.00</td>\n",
       "      <td>-0.00</td>\n",
       "      <td>0.00</td>\n",
       "      <td>0.00</td>\n",
       "      <td>0.00</td>\n",
       "      <td>-0.00</td>\n",
       "      <td>0.00</td>\n",
       "      <td>0.00</td>\n",
       "      <td>-0.01</td>\n",
       "      <td>1.00</td>\n",
       "      <td>-0.02</td>\n",
       "      <td>0.02</td>\n",
       "      <td>-0.02</td>\n",
       "      <td>0.01</td>\n",
       "    </tr>\n",
       "    <tr>\n",
       "      <th>income</th>\n",
       "      <td>0.00</td>\n",
       "      <td>-0.00</td>\n",
       "      <td>-0.00</td>\n",
       "      <td>0.00</td>\n",
       "      <td>0.00</td>\n",
       "      <td>-0.00</td>\n",
       "      <td>0.00</td>\n",
       "      <td>-0.00</td>\n",
       "      <td>0.00</td>\n",
       "      <td>0.31</td>\n",
       "      <td>-0.02</td>\n",
       "      <td>1.00</td>\n",
       "      <td>0.23</td>\n",
       "      <td>-0.22</td>\n",
       "      <td>-0.01</td>\n",
       "    </tr>\n",
       "    <tr>\n",
       "      <th>female</th>\n",
       "      <td>0.00</td>\n",
       "      <td>-0.00</td>\n",
       "      <td>-0.00</td>\n",
       "      <td>-0.00</td>\n",
       "      <td>-0.00</td>\n",
       "      <td>-0.00</td>\n",
       "      <td>0.00</td>\n",
       "      <td>-0.00</td>\n",
       "      <td>0.00</td>\n",
       "      <td>0.15</td>\n",
       "      <td>0.02</td>\n",
       "      <td>0.23</td>\n",
       "      <td>1.00</td>\n",
       "      <td>-0.97</td>\n",
       "      <td>-0.10</td>\n",
       "    </tr>\n",
       "    <tr>\n",
       "      <th>male</th>\n",
       "      <td>0.00</td>\n",
       "      <td>0.00</td>\n",
       "      <td>0.00</td>\n",
       "      <td>0.00</td>\n",
       "      <td>0.00</td>\n",
       "      <td>0.00</td>\n",
       "      <td>-0.00</td>\n",
       "      <td>0.00</td>\n",
       "      <td>-0.00</td>\n",
       "      <td>-0.15</td>\n",
       "      <td>-0.02</td>\n",
       "      <td>-0.22</td>\n",
       "      <td>-0.97</td>\n",
       "      <td>1.00</td>\n",
       "      <td>-0.14</td>\n",
       "    </tr>\n",
       "    <tr>\n",
       "      <th>other</th>\n",
       "      <td>-0.00</td>\n",
       "      <td>-0.00</td>\n",
       "      <td>0.00</td>\n",
       "      <td>-0.00</td>\n",
       "      <td>-0.00</td>\n",
       "      <td>-0.00</td>\n",
       "      <td>-0.00</td>\n",
       "      <td>-0.00</td>\n",
       "      <td>0.00</td>\n",
       "      <td>0.00</td>\n",
       "      <td>0.01</td>\n",
       "      <td>-0.01</td>\n",
       "      <td>-0.10</td>\n",
       "      <td>-0.14</td>\n",
       "      <td>1.00</td>\n",
       "    </tr>\n",
       "  </tbody>\n",
       "</table>\n",
       "</div>"
      ],
      "text/plain": [
       "                  reward  difficulty  duration  mobile  social   web  bogo  \\\n",
       "reward              1.00        0.47      0.16   -0.08    0.29 -0.12  0.79   \n",
       "difficulty          0.47        1.00      0.81   -0.74   -0.16  0.24 -0.03   \n",
       "duration            0.16        0.81      1.00   -0.53   -0.19  0.34 -0.18   \n",
       "mobile             -0.08       -0.74     -0.53    1.00    0.41 -0.17  0.27   \n",
       "social              0.29       -0.16     -0.19    0.41    1.00 -0.41  0.25   \n",
       "web                -0.12        0.24      0.34   -0.17   -0.41  1.00 -0.10   \n",
       "bogo                0.79       -0.03     -0.18    0.27    0.25 -0.10  1.00   \n",
       "discount           -0.29        0.60      0.74   -0.41   -0.17  0.41 -0.67   \n",
       "informational      -0.62       -0.70     -0.68    0.17   -0.10 -0.37 -0.41   \n",
       "age                -0.00       -0.00     -0.00   -0.00   -0.00 -0.00 -0.00   \n",
       "became_member_on   -0.00       -0.00     -0.00    0.00    0.00  0.00 -0.00   \n",
       "income              0.00       -0.00     -0.00    0.00    0.00 -0.00  0.00   \n",
       "female              0.00       -0.00     -0.00   -0.00   -0.00 -0.00  0.00   \n",
       "male                0.00        0.00      0.00    0.00    0.00  0.00 -0.00   \n",
       "other              -0.00       -0.00      0.00   -0.00   -0.00 -0.00 -0.00   \n",
       "\n",
       "                  discount  informational   age  became_member_on  income  \\\n",
       "reward               -0.29          -0.62 -0.00             -0.00    0.00   \n",
       "difficulty            0.60          -0.70 -0.00             -0.00   -0.00   \n",
       "duration              0.74          -0.68 -0.00             -0.00   -0.00   \n",
       "mobile               -0.41           0.17 -0.00              0.00    0.00   \n",
       "social               -0.17          -0.10 -0.00              0.00    0.00   \n",
       "web                   0.41          -0.37 -0.00              0.00   -0.00   \n",
       "bogo                 -0.67          -0.41 -0.00             -0.00    0.00   \n",
       "discount              1.00          -0.41 -0.00              0.00   -0.00   \n",
       "informational        -0.41           1.00  0.01              0.00    0.00   \n",
       "age                  -0.00           0.01  1.00             -0.01    0.31   \n",
       "became_member_on      0.00           0.00 -0.01              1.00   -0.02   \n",
       "income               -0.00           0.00  0.31             -0.02    1.00   \n",
       "female               -0.00           0.00  0.15              0.02    0.23   \n",
       "male                  0.00          -0.00 -0.15             -0.02   -0.22   \n",
       "other                -0.00           0.00  0.00              0.01   -0.01   \n",
       "\n",
       "                  female  male  other  \n",
       "reward              0.00  0.00  -0.00  \n",
       "difficulty         -0.00  0.00  -0.00  \n",
       "duration           -0.00  0.00   0.00  \n",
       "mobile             -0.00  0.00  -0.00  \n",
       "social             -0.00  0.00  -0.00  \n",
       "web                -0.00  0.00  -0.00  \n",
       "bogo                0.00 -0.00  -0.00  \n",
       "discount           -0.00  0.00  -0.00  \n",
       "informational       0.00 -0.00   0.00  \n",
       "age                 0.15 -0.15   0.00  \n",
       "became_member_on    0.02 -0.02   0.01  \n",
       "income              0.23 -0.22  -0.01  \n",
       "female              1.00 -0.97  -0.10  \n",
       "male               -0.97  1.00  -0.14  \n",
       "other              -0.10 -0.14   1.00  "
      ]
     },
     "execution_count": 43,
     "metadata": {},
     "output_type": "execute_result"
    }
   ],
   "source": [
    "offers_classed.filter(['reward', 'difficulty', 'duration',\n",
    "       'mobile', 'social', 'web', 'bogo', 'discount',\n",
    "       'informational', 'age', 'became_member_on', 'income', 'female', 'male',\n",
    "       'other']).corr().round(2)"
   ]
  },
  {
   "cell_type": "code",
   "execution_count": 44,
   "metadata": {},
   "outputs": [],
   "source": [
    "#focusing on the customer data"
   ]
  },
  {
   "cell_type": "code",
   "execution_count": 45,
   "metadata": {},
   "outputs": [
    {
     "data": {
      "text/html": [
       "<div>\n",
       "<style scoped>\n",
       "    .dataframe tbody tr th:only-of-type {\n",
       "        vertical-align: middle;\n",
       "    }\n",
       "\n",
       "    .dataframe tbody tr th {\n",
       "        vertical-align: top;\n",
       "    }\n",
       "\n",
       "    .dataframe thead th {\n",
       "        text-align: right;\n",
       "    }\n",
       "</style>\n",
       "<table border=\"1\" class=\"dataframe\">\n",
       "  <thead>\n",
       "    <tr style=\"text-align: right;\">\n",
       "      <th></th>\n",
       "      <th>age</th>\n",
       "      <th>became_member_on</th>\n",
       "      <th>income</th>\n",
       "      <th>female</th>\n",
       "      <th>male</th>\n",
       "      <th>other</th>\n",
       "    </tr>\n",
       "  </thead>\n",
       "  <tbody>\n",
       "    <tr>\n",
       "      <th>age</th>\n",
       "      <td>1.00</td>\n",
       "      <td>-0.01</td>\n",
       "      <td>0.31</td>\n",
       "      <td>0.15</td>\n",
       "      <td>-0.15</td>\n",
       "      <td>0.00</td>\n",
       "    </tr>\n",
       "    <tr>\n",
       "      <th>became_member_on</th>\n",
       "      <td>-0.01</td>\n",
       "      <td>1.00</td>\n",
       "      <td>-0.02</td>\n",
       "      <td>0.02</td>\n",
       "      <td>-0.02</td>\n",
       "      <td>0.01</td>\n",
       "    </tr>\n",
       "    <tr>\n",
       "      <th>income</th>\n",
       "      <td>0.31</td>\n",
       "      <td>-0.02</td>\n",
       "      <td>1.00</td>\n",
       "      <td>0.23</td>\n",
       "      <td>-0.22</td>\n",
       "      <td>-0.01</td>\n",
       "    </tr>\n",
       "    <tr>\n",
       "      <th>female</th>\n",
       "      <td>0.15</td>\n",
       "      <td>0.02</td>\n",
       "      <td>0.23</td>\n",
       "      <td>1.00</td>\n",
       "      <td>-0.97</td>\n",
       "      <td>-0.10</td>\n",
       "    </tr>\n",
       "    <tr>\n",
       "      <th>male</th>\n",
       "      <td>-0.15</td>\n",
       "      <td>-0.02</td>\n",
       "      <td>-0.22</td>\n",
       "      <td>-0.97</td>\n",
       "      <td>1.00</td>\n",
       "      <td>-0.14</td>\n",
       "    </tr>\n",
       "    <tr>\n",
       "      <th>other</th>\n",
       "      <td>0.00</td>\n",
       "      <td>0.01</td>\n",
       "      <td>-0.01</td>\n",
       "      <td>-0.10</td>\n",
       "      <td>-0.14</td>\n",
       "      <td>1.00</td>\n",
       "    </tr>\n",
       "  </tbody>\n",
       "</table>\n",
       "</div>"
      ],
      "text/plain": [
       "                   age  became_member_on  income  female  male  other\n",
       "age               1.00             -0.01    0.31    0.15 -0.15   0.00\n",
       "became_member_on -0.01              1.00   -0.02    0.02 -0.02   0.01\n",
       "income            0.31             -0.02    1.00    0.23 -0.22  -0.01\n",
       "female            0.15              0.02    0.23    1.00 -0.97  -0.10\n",
       "male             -0.15             -0.02   -0.22   -0.97  1.00  -0.14\n",
       "other             0.00              0.01   -0.01   -0.10 -0.14   1.00"
      ]
     },
     "execution_count": 45,
     "metadata": {},
     "output_type": "execute_result"
    }
   ],
   "source": [
    "offers_classed.filter(['age', 'became_member_on', 'income', 'female', 'male',\n",
    "       'other']).corr().round(2)"
   ]
  },
  {
   "cell_type": "markdown",
   "metadata": {},
   "source": [
    "Income and age have a 0.31 correlation. I will try out dropping income to see if the model performs better. The reason I am exploring this option is an attempt to cut down on features."
   ]
  },
  {
   "cell_type": "code",
   "execution_count": 46,
   "metadata": {},
   "outputs": [],
   "source": [
    "labels=offers_classed['successful_offer'].values"
   ]
  },
  {
   "cell_type": "code",
   "execution_count": 47,
   "metadata": {},
   "outputs": [],
   "source": [
    "features = offers_classed.filter(['reward', 'difficulty', 'duration','mobile', 'social', 'web', 'bogo', 'discount',\n",
    "                 'informational', 'age', 'became_member_on',   'female', 'male', 'other']).values"
   ]
  },
  {
   "cell_type": "code",
   "execution_count": 48,
   "metadata": {},
   "outputs": [],
   "source": [
    "features_train, features_test, labels_train, labels_test=scale_split(features, labels)"
   ]
  },
  {
   "cell_type": "code",
   "execution_count": 49,
   "metadata": {},
   "outputs": [],
   "source": [
    "def classifyRandomForest(features_train, labels_train, features_test, labels_test):\n",
    "    \n",
    "    #create the classifer\n",
    "    clf = RandomForestClassifier(random_state=40)\n",
    "    \n",
    "    #fit the training data\n",
    "    clf = clf.fit(features_train, labels_train)\n",
    "    \n",
    "    #predict the testing labels using the testing features\n",
    "    pred=clf.predict(features_test)\n",
    "    \n",
    "    #evaluate how good the model did at predicting the true teting labels\n",
    "    print(classification_report(labels_test, pred,digits=4, target_names=['unsuccessful','successful'],output_dict=False))\n",
    "    \n",
    "    #printing the confusion matrix\n",
    "    con_mat=pd.DataFrame(confusion_matrix(labels_test, pred),  columns=['pred_neg', 'pred_pos'], index=['neg', 'pos'])\n",
    "    plt.figure(figsize = (4,4))\n",
    "    sn.heatmap(con_mat, annot=True,cmap='YlOrBr',fmt='g')\n",
    "\n",
    "    return clf"
   ]
  },
  {
   "cell_type": "markdown",
   "metadata": {},
   "source": [
    "removing 'income' didnt improve the model"
   ]
  },
  {
   "cell_type": "code",
   "execution_count": 50,
   "metadata": {
    "scrolled": true
   },
   "outputs": [
    {
     "name": "stdout",
     "output_type": "stream",
     "text": [
      "              precision    recall  f1-score   support\n",
      "\n",
      "unsuccessful     0.6971    0.7308    0.7136      5677\n",
      "  successful     0.6203    0.5806    0.5998      4299\n",
      "\n",
      "    accuracy                         0.6661      9976\n",
      "   macro avg     0.6587    0.6557    0.6567      9976\n",
      "weighted avg     0.6640    0.6661    0.6645      9976\n",
      "\n",
      "CPU times: user 6.28 s, sys: 130 ms, total: 6.41 s\n",
      "Wall time: 6.38 s\n"
     ]
    },
    {
     "data": {
      "image/png": "[encoded data removed]",
      "text/plain": [
       "<Figure size 288x288 with 2 Axes>"
      ]
     },
     "metadata": {
      "needs_background": "light"
     },
     "output_type": "display_data"
    }
   ],
   "source": [
    "%%time\n",
    "clf = classifyRandomForest(features_train, labels_train, features_test, labels_test)"
   ]
  },
  {
   "cell_type": "markdown",
   "metadata": {},
   "source": [
    "<font size=5>GridSearchCV<font/>"
   ]
  },
  {
   "cell_type": "markdown",
   "metadata": {},
   "source": [
    "https://towardsdatascience.com/fine-tuning-a-classifier-in-scikit-learn-66e048c21e65  \n",
    "or  \n",
    "https://www.kaggle.com/kevinarvai/fine-tuning-a-classifier-in-scikit-learn"
   ]
  },
  {
   "cell_type": "markdown",
   "metadata": {},
   "source": [
    "First build a generic classifier and setup a parameter grid; random forests have many tunable parameters, which make it suitable for GridSearchCV. The scorers dictionary can be used as the scoring argument in GridSearchCV. When multiple scores are passed, GridSearchCV.cv_results_ will return scoring metrics for each of the score types provided.\n"
   ]
  },
  {
   "cell_type": "markdown",
   "metadata": {},
   "source": [
    "The classifier that I feel performed best with the default parameters was the RandomForestClassifier. It had a good F1 score for the positive class while also maintaining a F1 good score for the negative class. And overall its average weight F1 score was comfortably the best. \n",
    "\n",
    "While it didnt have the best recall for the positive cases I think by tuning the parameters to maximise this score I can obtain a model which suits my needs even more. I hope to have a model with a good recall for the positive classes while ensuring it still performs well across the other scores. Also, the RandomForestClassifier is an ideal candiate to perform GridSearchCV on due to the fact that it has many tuneable parameters."
   ]
  },
  {
   "cell_type": "markdown",
   "metadata": {},
   "source": [
    "Resetting the features and labels"
   ]
  },
  {
   "cell_type": "code",
   "execution_count": 51,
   "metadata": {},
   "outputs": [],
   "source": [
    "features = offers_classed.filter(['reward', 'difficulty', 'duration','mobile', 'social', 'web', 'bogo', 'discount',\n",
    "                 'informational', 'age', 'became_member_on', 'income',   'female', 'male', 'other']).values\n",
    "\n",
    "labels=offers_classed['successful_offer'].values\n",
    "\n",
    "features_train, features_test, labels_train, labels_test=scale_split(features, labels)"
   ]
  },
  {
   "cell_type": "code",
   "execution_count": 52,
   "metadata": {},
   "outputs": [
    {
     "data": {
      "text/plain": [
       "array([0.2992993 , 0.6996997 , 1.        , 1.        , 1.        ,\n",
       "       1.        , 0.        , 1.        , 0.        , 0.51551552,\n",
       "       0.2972973 , 0.94744745, 1.        , 0.        , 0.        ])"
      ]
     },
     "execution_count": 52,
     "metadata": {},
     "output_type": "execute_result"
    }
   ],
   "source": [
    "features_train[0]"
   ]
  },
  {
   "cell_type": "code",
   "execution_count": 53,
   "metadata": {},
   "outputs": [],
   "source": [
    "#skf = StratifiedKFold(n_splits=10)\n",
    "#setting to 4 temporarily\n",
    "skf = StratifiedKFold(n_splits=10)"
   ]
  },
  {
   "cell_type": "code",
   "execution_count": 54,
   "metadata": {},
   "outputs": [],
   "source": [
    "#param_grid={'criterion': ['gini', 'entropy'],\n",
    "#            'max_depth': [5, 15, None],\n",
    "#            'max_features': ['auto', 'sqrt','log2'],\n",
    "#            'min_samples_leaf': [1, 3, 5, 10, 20],\n",
    "#            'min_samples_split': [2, 3, 5, 10, 20],\n",
    "#            'n_estimators': [10, 25, 50, 100, 300]}\n",
    "\n",
    "\n",
    "\n",
    "\n",
    "\n",
    "#This took 4h 45min 57s for only 5 folds\n",
    "#so would take 9.5 hours for 10 folds"
   ]
  },
  {
   "cell_type": "code",
   "execution_count": 55,
   "metadata": {},
   "outputs": [],
   "source": [
    "param_grid={'criterion': ['entropy','gini'], \n",
    "            'max_depth': [20 , None],\n",
    "            #'max_features': ['auto', 'sqrt','log2'],\n",
    "            'min_samples_leaf': [1, 5, 10],\n",
    "            'min_samples_split': [2, 10],\n",
    "            'n_estimators': [ 100, 300]}"
   ]
  },
  {
   "cell_type": "code",
   "execution_count": 56,
   "metadata": {
    "scrolled": true
   },
   "outputs": [
    {
     "name": "stdout",
     "output_type": "stream",
     "text": [
      "# Tuning hyper-parameters for accuracy\n",
      "Fitting 10 folds for each of 48 candidates, totalling 480 fits\n",
      "The accuracy score for each hyper-parameter combination on the training set:\n",
      "\n",
      "0.702 (+/-0.014) for {'criterion': 'entropy', 'max_depth': 20, 'min_samples_leaf': 1, 'min_samples_split': 2, 'n_estimators': 100}\n",
      "0.702 (+/-0.014) for {'criterion': 'entropy', 'max_depth': 20, 'min_samples_leaf': 1, 'min_samples_split': 2, 'n_estimators': 300}\n",
      "0.702 (+/-0.017) for {'criterion': 'entropy', 'max_depth': 20, 'min_samples_leaf': 1, 'min_samples_split': 10, 'n_estimators': 100}\n",
      "0.703 (+/-0.016) for {'criterion': 'entropy', 'max_depth': 20, 'min_samples_leaf': 1, 'min_samples_split': 10, 'n_estimators': 300}\n",
      "0.703 (+/-0.014) for {'criterion': 'entropy', 'max_depth': 20, 'min_samples_leaf': 5, 'min_samples_split': 2, 'n_estimators': 100}\n",
      "0.704 (+/-0.015) for {'criterion': 'entropy', 'max_depth': 20, 'min_samples_leaf': 5, 'min_samples_split': 2, 'n_estimators': 300}\n",
      "0.703 (+/-0.014) for {'criterion': 'entropy', 'max_depth': 20, 'min_samples_leaf': 5, 'min_samples_split': 10, 'n_estimators': 100}\n",
      "0.704 (+/-0.015) for {'criterion': 'entropy', 'max_depth': 20, 'min_samples_leaf': 5, 'min_samples_split': 10, 'n_estimators': 300}\n",
      "0.702 (+/-0.013) for {'criterion': 'entropy', 'max_depth': 20, 'min_samples_leaf': 10, 'min_samples_split': 2, 'n_estimators': 100}\n",
      "0.702 (+/-0.014) for {'criterion': 'entropy', 'max_depth': 20, 'min_samples_leaf': 10, 'min_samples_split': 2, 'n_estimators': 300}\n",
      "0.702 (+/-0.013) for {'criterion': 'entropy', 'max_depth': 20, 'min_samples_leaf': 10, 'min_samples_split': 10, 'n_estimators': 100}\n",
      "0.702 (+/-0.014) for {'criterion': 'entropy', 'max_depth': 20, 'min_samples_leaf': 10, 'min_samples_split': 10, 'n_estimators': 300}\n",
      "0.693 (+/-0.014) for {'criterion': 'entropy', 'max_depth': None, 'min_samples_leaf': 1, 'min_samples_split': 2, 'n_estimators': 100}\n",
      "0.694 (+/-0.015) for {'criterion': 'entropy', 'max_depth': None, 'min_samples_leaf': 1, 'min_samples_split': 2, 'n_estimators': 300}\n",
      "0.702 (+/-0.016) for {'criterion': 'entropy', 'max_depth': None, 'min_samples_leaf': 1, 'min_samples_split': 10, 'n_estimators': 100}\n",
      "0.702 (+/-0.017) for {'criterion': 'entropy', 'max_depth': None, 'min_samples_leaf': 1, 'min_samples_split': 10, 'n_estimators': 300}\n",
      "0.702 (+/-0.016) for {'criterion': 'entropy', 'max_depth': None, 'min_samples_leaf': 5, 'min_samples_split': 2, 'n_estimators': 100}\n",
      "0.703 (+/-0.016) for {'criterion': 'entropy', 'max_depth': None, 'min_samples_leaf': 5, 'min_samples_split': 2, 'n_estimators': 300}\n",
      "0.702 (+/-0.016) for {'criterion': 'entropy', 'max_depth': None, 'min_samples_leaf': 5, 'min_samples_split': 10, 'n_estimators': 100}\n",
      "0.703 (+/-0.016) for {'criterion': 'entropy', 'max_depth': None, 'min_samples_leaf': 5, 'min_samples_split': 10, 'n_estimators': 300}\n",
      "0.702 (+/-0.013) for {'criterion': 'entropy', 'max_depth': None, 'min_samples_leaf': 10, 'min_samples_split': 2, 'n_estimators': 100}\n",
      "0.702 (+/-0.013) for {'criterion': 'entropy', 'max_depth': None, 'min_samples_leaf': 10, 'min_samples_split': 2, 'n_estimators': 300}\n",
      "0.702 (+/-0.013) for {'criterion': 'entropy', 'max_depth': None, 'min_samples_leaf': 10, 'min_samples_split': 10, 'n_estimators': 100}\n",
      "0.702 (+/-0.013) for {'criterion': 'entropy', 'max_depth': None, 'min_samples_leaf': 10, 'min_samples_split': 10, 'n_estimators': 300}\n",
      "0.700 (+/-0.014) for {'criterion': 'gini', 'max_depth': 20, 'min_samples_leaf': 1, 'min_samples_split': 2, 'n_estimators': 100}\n",
      "0.701 (+/-0.014) for {'criterion': 'gini', 'max_depth': 20, 'min_samples_leaf': 1, 'min_samples_split': 2, 'n_estimators': 300}\n",
      "0.702 (+/-0.016) for {'criterion': 'gini', 'max_depth': 20, 'min_samples_leaf': 1, 'min_samples_split': 10, 'n_estimators': 100}\n",
      "0.702 (+/-0.016) for {'criterion': 'gini', 'max_depth': 20, 'min_samples_leaf': 1, 'min_samples_split': 10, 'n_estimators': 300}\n",
      "0.703 (+/-0.017) for {'criterion': 'gini', 'max_depth': 20, 'min_samples_leaf': 5, 'min_samples_split': 2, 'n_estimators': 100}\n",
      "0.703 (+/-0.014) for {'criterion': 'gini', 'max_depth': 20, 'min_samples_leaf': 5, 'min_samples_split': 2, 'n_estimators': 300}\n",
      "0.703 (+/-0.017) for {'criterion': 'gini', 'max_depth': 20, 'min_samples_leaf': 5, 'min_samples_split': 10, 'n_estimators': 100}\n",
      "0.703 (+/-0.014) for {'criterion': 'gini', 'max_depth': 20, 'min_samples_leaf': 5, 'min_samples_split': 10, 'n_estimators': 300}\n",
      "0.702 (+/-0.014) for {'criterion': 'gini', 'max_depth': 20, 'min_samples_leaf': 10, 'min_samples_split': 2, 'n_estimators': 100}\n",
      "0.702 (+/-0.014) for {'criterion': 'gini', 'max_depth': 20, 'min_samples_leaf': 10, 'min_samples_split': 2, 'n_estimators': 300}\n",
      "0.702 (+/-0.014) for {'criterion': 'gini', 'max_depth': 20, 'min_samples_leaf': 10, 'min_samples_split': 10, 'n_estimators': 100}\n",
      "0.702 (+/-0.014) for {'criterion': 'gini', 'max_depth': 20, 'min_samples_leaf': 10, 'min_samples_split': 10, 'n_estimators': 300}\n",
      "0.694 (+/-0.015) for {'criterion': 'gini', 'max_depth': None, 'min_samples_leaf': 1, 'min_samples_split': 2, 'n_estimators': 100}\n",
      "0.695 (+/-0.015) for {'criterion': 'gini', 'max_depth': None, 'min_samples_leaf': 1, 'min_samples_split': 2, 'n_estimators': 300}\n",
      "0.701 (+/-0.014) for {'criterion': 'gini', 'max_depth': None, 'min_samples_leaf': 1, 'min_samples_split': 10, 'n_estimators': 100}\n",
      "0.703 (+/-0.015) for {'criterion': 'gini', 'max_depth': None, 'min_samples_leaf': 1, 'min_samples_split': 10, 'n_estimators': 300}\n",
      "0.702 (+/-0.015) for {'criterion': 'gini', 'max_depth': None, 'min_samples_leaf': 5, 'min_samples_split': 2, 'n_estimators': 100}\n",
      "0.703 (+/-0.016) for {'criterion': 'gini', 'max_depth': None, 'min_samples_leaf': 5, 'min_samples_split': 2, 'n_estimators': 300}\n",
      "0.702 (+/-0.015) for {'criterion': 'gini', 'max_depth': None, 'min_samples_leaf': 5, 'min_samples_split': 10, 'n_estimators': 100}\n",
      "0.703 (+/-0.016) for {'criterion': 'gini', 'max_depth': None, 'min_samples_leaf': 5, 'min_samples_split': 10, 'n_estimators': 300}\n",
      "0.702 (+/-0.016) for {'criterion': 'gini', 'max_depth': None, 'min_samples_leaf': 10, 'min_samples_split': 2, 'n_estimators': 100}\n",
      "0.703 (+/-0.014) for {'criterion': 'gini', 'max_depth': None, 'min_samples_leaf': 10, 'min_samples_split': 2, 'n_estimators': 300}\n",
      "0.702 (+/-0.016) for {'criterion': 'gini', 'max_depth': None, 'min_samples_leaf': 10, 'min_samples_split': 10, 'n_estimators': 100}\n",
      "0.703 (+/-0.014) for {'criterion': 'gini', 'max_depth': None, 'min_samples_leaf': 10, 'min_samples_split': 10, 'n_estimators': 300}\n",
      "\n",
      "Best parameters for accuracy found on training set are:\n",
      "{'criterion': 'entropy', 'max_depth': 20, 'min_samples_leaf': 5, 'min_samples_split': 2, 'n_estimators': 300}\n",
      "\n",
      "Classification report when hyper-params are optimised for :accuracy\n",
      "              precision    recall  f1-score   support\n",
      "\n",
      "unsuccessful     0.7146    0.8024    0.7560      5677\n",
      "  successful     0.6885    0.5769    0.6278      4299\n",
      "\n",
      "    accuracy                         0.7052      9976\n",
      "   macro avg     0.7016    0.6896    0.6919      9976\n",
      "weighted avg     0.7034    0.7052    0.7007      9976\n",
      "\n",
      "\n",
      "# Tuning hyper-parameters for recall\n",
      "Fitting 10 folds for each of 48 candidates, totalling 480 fits\n",
      "The recall score for each hyper-parameter combination on the training set:\n",
      "\n",
      "0.614 (+/-0.024) for {'criterion': 'entropy', 'max_depth': 20, 'min_samples_leaf': 1, 'min_samples_split': 2, 'n_estimators': 100}\n",
      "0.614 (+/-0.022) for {'criterion': 'entropy', 'max_depth': 20, 'min_samples_leaf': 1, 'min_samples_split': 2, 'n_estimators': 300}\n",
      "0.596 (+/-0.027) for {'criterion': 'entropy', 'max_depth': 20, 'min_samples_leaf': 1, 'min_samples_split': 10, 'n_estimators': 100}\n",
      "0.594 (+/-0.027) for {'criterion': 'entropy', 'max_depth': 20, 'min_samples_leaf': 1, 'min_samples_split': 10, 'n_estimators': 300}\n",
      "0.586 (+/-0.026) for {'criterion': 'entropy', 'max_depth': 20, 'min_samples_leaf': 5, 'min_samples_split': 2, 'n_estimators': 100}\n",
      "0.584 (+/-0.027) for {'criterion': 'entropy', 'max_depth': 20, 'min_samples_leaf': 5, 'min_samples_split': 2, 'n_estimators': 300}\n",
      "0.586 (+/-0.026) for {'criterion': 'entropy', 'max_depth': 20, 'min_samples_leaf': 5, 'min_samples_split': 10, 'n_estimators': 100}\n",
      "0.584 (+/-0.027) for {'criterion': 'entropy', 'max_depth': 20, 'min_samples_leaf': 5, 'min_samples_split': 10, 'n_estimators': 300}\n",
      "0.571 (+/-0.022) for {'criterion': 'entropy', 'max_depth': 20, 'min_samples_leaf': 10, 'min_samples_split': 2, 'n_estimators': 100}\n",
      "0.569 (+/-0.025) for {'criterion': 'entropy', 'max_depth': 20, 'min_samples_leaf': 10, 'min_samples_split': 2, 'n_estimators': 300}\n",
      "0.571 (+/-0.022) for {'criterion': 'entropy', 'max_depth': 20, 'min_samples_leaf': 10, 'min_samples_split': 10, 'n_estimators': 100}\n",
      "0.569 (+/-0.025) for {'criterion': 'entropy', 'max_depth': 20, 'min_samples_leaf': 10, 'min_samples_split': 10, 'n_estimators': 300}\n",
      "0.609 (+/-0.021) for {'criterion': 'entropy', 'max_depth': None, 'min_samples_leaf': 1, 'min_samples_split': 2, 'n_estimators': 100}\n",
      "0.611 (+/-0.024) for {'criterion': 'entropy', 'max_depth': None, 'min_samples_leaf': 1, 'min_samples_split': 2, 'n_estimators': 300}\n",
      "0.598 (+/-0.027) for {'criterion': 'entropy', 'max_depth': None, 'min_samples_leaf': 1, 'min_samples_split': 10, 'n_estimators': 100}\n",
      "0.598 (+/-0.024) for {'criterion': 'entropy', 'max_depth': None, 'min_samples_leaf': 1, 'min_samples_split': 10, 'n_estimators': 300}\n",
      "0.585 (+/-0.029) for {'criterion': 'entropy', 'max_depth': None, 'min_samples_leaf': 5, 'min_samples_split': 2, 'n_estimators': 100}\n",
      "0.584 (+/-0.028) for {'criterion': 'entropy', 'max_depth': None, 'min_samples_leaf': 5, 'min_samples_split': 2, 'n_estimators': 300}\n",
      "0.585 (+/-0.029) for {'criterion': 'entropy', 'max_depth': None, 'min_samples_leaf': 5, 'min_samples_split': 10, 'n_estimators': 100}\n",
      "0.584 (+/-0.028) for {'criterion': 'entropy', 'max_depth': None, 'min_samples_leaf': 5, 'min_samples_split': 10, 'n_estimators': 300}\n",
      "0.570 (+/-0.021) for {'criterion': 'entropy', 'max_depth': None, 'min_samples_leaf': 10, 'min_samples_split': 2, 'n_estimators': 100}\n",
      "0.570 (+/-0.022) for {'criterion': 'entropy', 'max_depth': None, 'min_samples_leaf': 10, 'min_samples_split': 2, 'n_estimators': 300}\n",
      "0.570 (+/-0.021) for {'criterion': 'entropy', 'max_depth': None, 'min_samples_leaf': 10, 'min_samples_split': 10, 'n_estimators': 100}\n",
      "0.570 (+/-0.022) for {'criterion': 'entropy', 'max_depth': None, 'min_samples_leaf': 10, 'min_samples_split': 10, 'n_estimators': 300}\n",
      "0.614 (+/-0.024) for {'criterion': 'gini', 'max_depth': 20, 'min_samples_leaf': 1, 'min_samples_split': 2, 'n_estimators': 100}\n",
      "0.615 (+/-0.021) for {'criterion': 'gini', 'max_depth': 20, 'min_samples_leaf': 1, 'min_samples_split': 2, 'n_estimators': 300}\n",
      "0.595 (+/-0.028) for {'criterion': 'gini', 'max_depth': 20, 'min_samples_leaf': 1, 'min_samples_split': 10, 'n_estimators': 100}\n",
      "0.593 (+/-0.028) for {'criterion': 'gini', 'max_depth': 20, 'min_samples_leaf': 1, 'min_samples_split': 10, 'n_estimators': 300}\n",
      "0.587 (+/-0.028) for {'criterion': 'gini', 'max_depth': 20, 'min_samples_leaf': 5, 'min_samples_split': 2, 'n_estimators': 100}\n",
      "0.584 (+/-0.027) for {'criterion': 'gini', 'max_depth': 20, 'min_samples_leaf': 5, 'min_samples_split': 2, 'n_estimators': 300}\n",
      "0.587 (+/-0.028) for {'criterion': 'gini', 'max_depth': 20, 'min_samples_leaf': 5, 'min_samples_split': 10, 'n_estimators': 100}\n",
      "0.584 (+/-0.027) for {'criterion': 'gini', 'max_depth': 20, 'min_samples_leaf': 5, 'min_samples_split': 10, 'n_estimators': 300}\n",
      "0.571 (+/-0.022) for {'criterion': 'gini', 'max_depth': 20, 'min_samples_leaf': 10, 'min_samples_split': 2, 'n_estimators': 100}\n",
      "0.571 (+/-0.024) for {'criterion': 'gini', 'max_depth': 20, 'min_samples_leaf': 10, 'min_samples_split': 2, 'n_estimators': 300}\n",
      "0.571 (+/-0.022) for {'criterion': 'gini', 'max_depth': 20, 'min_samples_leaf': 10, 'min_samples_split': 10, 'n_estimators': 100}\n",
      "0.571 (+/-0.024) for {'criterion': 'gini', 'max_depth': 20, 'min_samples_leaf': 10, 'min_samples_split': 10, 'n_estimators': 300}\n",
      "0.610 (+/-0.025) for {'criterion': 'gini', 'max_depth': None, 'min_samples_leaf': 1, 'min_samples_split': 2, 'n_estimators': 100}\n",
      "0.611 (+/-0.024) for {'criterion': 'gini', 'max_depth': None, 'min_samples_leaf': 1, 'min_samples_split': 2, 'n_estimators': 300}\n",
      "0.596 (+/-0.024) for {'criterion': 'gini', 'max_depth': None, 'min_samples_leaf': 1, 'min_samples_split': 10, 'n_estimators': 100}\n",
      "0.596 (+/-0.026) for {'criterion': 'gini', 'max_depth': None, 'min_samples_leaf': 1, 'min_samples_split': 10, 'n_estimators': 300}\n",
      "0.584 (+/-0.026) for {'criterion': 'gini', 'max_depth': None, 'min_samples_leaf': 5, 'min_samples_split': 2, 'n_estimators': 100}\n",
      "0.584 (+/-0.027) for {'criterion': 'gini', 'max_depth': None, 'min_samples_leaf': 5, 'min_samples_split': 2, 'n_estimators': 300}\n",
      "0.584 (+/-0.026) for {'criterion': 'gini', 'max_depth': None, 'min_samples_leaf': 5, 'min_samples_split': 10, 'n_estimators': 100}\n",
      "0.584 (+/-0.027) for {'criterion': 'gini', 'max_depth': None, 'min_samples_leaf': 5, 'min_samples_split': 10, 'n_estimators': 300}\n",
      "0.570 (+/-0.024) for {'criterion': 'gini', 'max_depth': None, 'min_samples_leaf': 10, 'min_samples_split': 2, 'n_estimators': 100}\n",
      "0.572 (+/-0.023) for {'criterion': 'gini', 'max_depth': None, 'min_samples_leaf': 10, 'min_samples_split': 2, 'n_estimators': 300}\n",
      "0.570 (+/-0.024) for {'criterion': 'gini', 'max_depth': None, 'min_samples_leaf': 10, 'min_samples_split': 10, 'n_estimators': 100}\n",
      "0.572 (+/-0.023) for {'criterion': 'gini', 'max_depth': None, 'min_samples_leaf': 10, 'min_samples_split': 10, 'n_estimators': 300}\n",
      "\n",
      "Best parameters for recall found on training set are:\n",
      "{'criterion': 'gini', 'max_depth': 20, 'min_samples_leaf': 1, 'min_samples_split': 2, 'n_estimators': 300}\n",
      "\n",
      "Classification report when hyper-params are optimised for :recall\n"
     ]
    },
    {
     "name": "stdout",
     "output_type": "stream",
     "text": [
      "              precision    recall  f1-score   support\n",
      "\n",
      "unsuccessful     0.7280    0.7710    0.7489      5677\n",
      "  successful     0.6720    0.6197    0.6448      4299\n",
      "\n",
      "    accuracy                         0.7058      9976\n",
      "   macro avg     0.7000    0.6953    0.6969      9976\n",
      "weighted avg     0.7039    0.7058    0.7040      9976\n",
      "\n",
      "\n",
      "CPU times: user 49.6 s, sys: 1.16 s, total: 50.7 s\n",
      "Wall time: 1h 6min 57s\n"
     ]
    }
   ],
   "source": [
    "%%time\n",
    "\n",
    "skf = StratifiedKFold(n_splits=10)\n",
    "\n",
    "scores = ['accuracy', 'recall']\n",
    "#scores = ['precision','f1']\n",
    "\n",
    "for score in scores:\n",
    "    print(\"# Tuning hyper-parameters for %s\" % score)\n",
    "\n",
    "    clf = GridSearchCV(\n",
    "        RandomForestClassifier(random_state=40), param_grid, n_jobs = -1, verbose=5, cv=skf, scoring=score\n",
    "    )\n",
    "    clf.fit(features_train, labels_train)\n",
    "\n",
    "    print(\"The %s score for each hyper-parameter combination on the training set:\\n\" % score)\n",
    "    means = clf.cv_results_['mean_test_score']\n",
    "    stds = clf.cv_results_['std_test_score']\n",
    "    for mean, std, params in zip(means, stds, clf.cv_results_['params']):\n",
    "        print(\"%0.3f (+/-%0.03f) for %r\"\n",
    "              % (mean, std * 2, params))\n",
    "\n",
    "    print(\"\\nBest parameters for {} found on training set are:\\n{}\\n\".format(score, clf.best_params_))\n",
    "    \n",
    "    print(\"Classification report when hyper-params are optimised for :%s\" % score)\n",
    "    labels_true, labels_pred = labels_test, clf.predict(features_test)\n",
    "    print(classification_report(labels_true, labels_pred, digits=4, target_names=['unsuccessful','successful'],output_dict=False))\n",
    "    print()\n",
    "\n"
   ]
  },
  {
   "cell_type": "code",
   "execution_count": 57,
   "metadata": {},
   "outputs": [],
   "source": [
    "#Enter the paremters from the grid search that maxmised recall for the positive class\n",
    "def bestRandomForest(features_train, labels_train, features_test, labels_test):\n",
    "    \n",
    "    #create the classifer\n",
    "    clf = RandomForestClassifier(random_state=40, criterion= 'gini', max_depth= 20, n_estimators= 300)\n",
    "\n",
    "    #fit the training data\n",
    "    clf = clf.fit(features_train, labels_train)\n",
    "    \n",
    "    #predict the testing labels using the testing features\n",
    "    labels_pred=clf.predict(features_test)\n",
    "    \n",
    "  \n",
    "    #printing the confusion matrix\n",
    "    con_mat=pd.DataFrame(confusion_matrix(labels_test, labels_pred),  columns=['pred_neg', 'pred_pos'], index=['neg', 'pos'])\n",
    "    plt.figure(figsize = (4,4))\n",
    "    sn.heatmap(con_mat, annot=True,cmap='YlOrBr',fmt='g')\n",
    "\n",
    "    return clf"
   ]
  },
  {
   "cell_type": "code",
   "execution_count": 58,
   "metadata": {},
   "outputs": [
    {
     "data": {
      "text/plain": [
       "RandomForestClassifier(max_depth=20, n_estimators=300, random_state=40)"
      ]
     },
     "execution_count": 58,
     "metadata": {},
     "output_type": "execute_result"
    },
    {
     "data": {
      "image/png": "[encoded data removed]",
      "text/plain": [
       "<Figure size 288x288 with 2 Axes>"
      ]
     },
     "metadata": {
      "needs_background": "light"
     },
     "output_type": "display_data"
    }
   ],
   "source": [
    "bestRandomForest(features_train, labels_train, features_test, labels_test)"
   ]
  },
  {
   "cell_type": "markdown",
   "metadata": {},
   "source": [
    "my GridSearchCV"
   ]
  },
  {
   "cell_type": "code",
   "execution_count": 59,
   "metadata": {},
   "outputs": [],
   "source": [
    "#Fitting the big one\n",
    "\n",
    "#Fitting 5 folds for each of 2250 candidates, totalling 11250 fits\n",
    "#CPU times: user 1min 55s, sys: 10.2 s, total: 2min 6s\n",
    "#Wall time: 4h 45min 57s\n",
    "#GridSearchCV(cv=StratifiedKFold(n_splits=5, random_state=None, shuffle=False),\n",
    "#             estimator=RandomForestClassifier(random_state=40), n_jobs=-1,\n",
    "#             param_grid={'criterion': ['gini', 'entropy'],\n",
    "#                         'max_depth': [5, 15, None],\n",
    "#                         'max_features': ['auto', 'sqrt', 'log2'],\n",
    "#                         'min_samples_leaf': [1, 3, 5, 10, 20],\n",
    "#                         'min_samples_split': [2, 3, 5, 10, 20],\n",
    "#                         'n_estimators': [10, 25, 50, 100, 300]},\n",
    "#             refit='recall_binary', verbose=5)\n",
    "\n",
    "#results for grid_search.best_params_\n",
    "#{'criterion': 'entropy',\n",
    "# 'max_depth': None,\n",
    "# 'max_features': 'auto',\n",
    "# 'min_samples_leaf': 1,\n",
    "# 'min_samples_split': 20,\n",
    "# 'n_estimators': 300}"
   ]
  },
  {
   "cell_type": "markdown",
   "metadata": {},
   "source": [
    "<font size=5>Refinement with new features<font>"
   ]
  },
  {
   "cell_type": "code",
   "execution_count": 60,
   "metadata": {},
   "outputs": [],
   "source": [
    "offers_classed_nf=pd.read_pickle(\"final_table_nf.pkl\")"
   ]
  },
  {
   "cell_type": "code",
   "execution_count": 61,
   "metadata": {},
   "outputs": [
    {
     "data": {
      "text/html": [
       "<div>\n",
       "<style scoped>\n",
       "    .dataframe tbody tr th:only-of-type {\n",
       "        vertical-align: middle;\n",
       "    }\n",
       "\n",
       "    .dataframe tbody tr th {\n",
       "        vertical-align: top;\n",
       "    }\n",
       "\n",
       "    .dataframe thead th {\n",
       "        text-align: right;\n",
       "    }\n",
       "</style>\n",
       "<table border=\"1\" class=\"dataframe\">\n",
       "  <thead>\n",
       "    <tr style=\"text-align: right;\">\n",
       "      <th></th>\n",
       "      <th>person</th>\n",
       "      <th>time</th>\n",
       "      <th>offer_id</th>\n",
       "      <th>reward</th>\n",
       "      <th>difficulty</th>\n",
       "      <th>duration</th>\n",
       "      <th>successful_offer</th>\n",
       "      <th>mobile</th>\n",
       "      <th>social</th>\n",
       "      <th>web</th>\n",
       "      <th>...</th>\n",
       "      <th>became_member_on</th>\n",
       "      <th>income</th>\n",
       "      <th>female</th>\n",
       "      <th>male</th>\n",
       "      <th>other</th>\n",
       "      <th>total_spend</th>\n",
       "      <th>transaction</th>\n",
       "      <th>completed</th>\n",
       "      <th>received</th>\n",
       "      <th>viewed</th>\n",
       "    </tr>\n",
       "  </thead>\n",
       "  <tbody>\n",
       "    <tr>\n",
       "      <th>0</th>\n",
       "      <td>0009655768c64bdeb2e877511632db8f</td>\n",
       "      <td>168.0</td>\n",
       "      <td>5a8bc65990b245e5a138643cd4eb9837</td>\n",
       "      <td>0.0</td>\n",
       "      <td>0.0</td>\n",
       "      <td>3.0</td>\n",
       "      <td>1.0</td>\n",
       "      <td>1.0</td>\n",
       "      <td>1.0</td>\n",
       "      <td>0.0</td>\n",
       "      <td>...</td>\n",
       "      <td>1492732800000000000</td>\n",
       "      <td>72000.0</td>\n",
       "      <td>0</td>\n",
       "      <td>1</td>\n",
       "      <td>0</td>\n",
       "      <td>0.00</td>\n",
       "      <td>0</td>\n",
       "      <td>0</td>\n",
       "      <td>1</td>\n",
       "      <td>0</td>\n",
       "    </tr>\n",
       "    <tr>\n",
       "      <th>1</th>\n",
       "      <td>0009655768c64bdeb2e877511632db8f</td>\n",
       "      <td>336.0</td>\n",
       "      <td>3f207df678b143eea3cee63160fa8bed</td>\n",
       "      <td>0.0</td>\n",
       "      <td>0.0</td>\n",
       "      <td>4.0</td>\n",
       "      <td>1.0</td>\n",
       "      <td>1.0</td>\n",
       "      <td>0.0</td>\n",
       "      <td>1.0</td>\n",
       "      <td>...</td>\n",
       "      <td>1492732800000000000</td>\n",
       "      <td>72000.0</td>\n",
       "      <td>0</td>\n",
       "      <td>1</td>\n",
       "      <td>0</td>\n",
       "      <td>22.16</td>\n",
       "      <td>1</td>\n",
       "      <td>0</td>\n",
       "      <td>2</td>\n",
       "      <td>1</td>\n",
       "    </tr>\n",
       "    <tr>\n",
       "      <th>2</th>\n",
       "      <td>0009655768c64bdeb2e877511632db8f</td>\n",
       "      <td>408.0</td>\n",
       "      <td>f19421c1d4aa40978ebb69ca19b0e20d</td>\n",
       "      <td>5.0</td>\n",
       "      <td>5.0</td>\n",
       "      <td>5.0</td>\n",
       "      <td>0.0</td>\n",
       "      <td>1.0</td>\n",
       "      <td>1.0</td>\n",
       "      <td>1.0</td>\n",
       "      <td>...</td>\n",
       "      <td>1492732800000000000</td>\n",
       "      <td>72000.0</td>\n",
       "      <td>0</td>\n",
       "      <td>1</td>\n",
       "      <td>0</td>\n",
       "      <td>22.16</td>\n",
       "      <td>1</td>\n",
       "      <td>0</td>\n",
       "      <td>3</td>\n",
       "      <td>2</td>\n",
       "    </tr>\n",
       "    <tr>\n",
       "      <th>3</th>\n",
       "      <td>0009655768c64bdeb2e877511632db8f</td>\n",
       "      <td>504.0</td>\n",
       "      <td>fafdcd668e3743c1bb461111dcafc2a4</td>\n",
       "      <td>2.0</td>\n",
       "      <td>10.0</td>\n",
       "      <td>10.0</td>\n",
       "      <td>0.0</td>\n",
       "      <td>1.0</td>\n",
       "      <td>1.0</td>\n",
       "      <td>1.0</td>\n",
       "      <td>...</td>\n",
       "      <td>1492732800000000000</td>\n",
       "      <td>72000.0</td>\n",
       "      <td>0</td>\n",
       "      <td>1</td>\n",
       "      <td>0</td>\n",
       "      <td>30.73</td>\n",
       "      <td>2</td>\n",
       "      <td>1</td>\n",
       "      <td>4</td>\n",
       "      <td>3</td>\n",
       "    </tr>\n",
       "    <tr>\n",
       "      <th>4</th>\n",
       "      <td>0009655768c64bdeb2e877511632db8f</td>\n",
       "      <td>576.0</td>\n",
       "      <td>2906b810c7d4411798c6938adc9daaa5</td>\n",
       "      <td>2.0</td>\n",
       "      <td>10.0</td>\n",
       "      <td>7.0</td>\n",
       "      <td>0.0</td>\n",
       "      <td>1.0</td>\n",
       "      <td>0.0</td>\n",
       "      <td>1.0</td>\n",
       "      <td>...</td>\n",
       "      <td>1492732800000000000</td>\n",
       "      <td>72000.0</td>\n",
       "      <td>0</td>\n",
       "      <td>1</td>\n",
       "      <td>0</td>\n",
       "      <td>58.40</td>\n",
       "      <td>4</td>\n",
       "      <td>2</td>\n",
       "      <td>5</td>\n",
       "      <td>4</td>\n",
       "    </tr>\n",
       "  </tbody>\n",
       "</table>\n",
       "<p>5 rows × 24 columns</p>\n",
       "</div>"
      ],
      "text/plain": [
       "                             person   time                          offer_id  \\\n",
       "0  0009655768c64bdeb2e877511632db8f  168.0  5a8bc65990b245e5a138643cd4eb9837   \n",
       "1  0009655768c64bdeb2e877511632db8f  336.0  3f207df678b143eea3cee63160fa8bed   \n",
       "2  0009655768c64bdeb2e877511632db8f  408.0  f19421c1d4aa40978ebb69ca19b0e20d   \n",
       "3  0009655768c64bdeb2e877511632db8f  504.0  fafdcd668e3743c1bb461111dcafc2a4   \n",
       "4  0009655768c64bdeb2e877511632db8f  576.0  2906b810c7d4411798c6938adc9daaa5   \n",
       "\n",
       "   reward  difficulty  duration  successful_offer  mobile  social  web  ...  \\\n",
       "0     0.0         0.0       3.0               1.0     1.0     1.0  0.0  ...   \n",
       "1     0.0         0.0       4.0               1.0     1.0     0.0  1.0  ...   \n",
       "2     5.0         5.0       5.0               0.0     1.0     1.0  1.0  ...   \n",
       "3     2.0        10.0      10.0               0.0     1.0     1.0  1.0  ...   \n",
       "4     2.0        10.0       7.0               0.0     1.0     0.0  1.0  ...   \n",
       "\n",
       "      became_member_on   income  female  male  other  total_spend  \\\n",
       "0  1492732800000000000  72000.0       0     1      0         0.00   \n",
       "1  1492732800000000000  72000.0       0     1      0        22.16   \n",
       "2  1492732800000000000  72000.0       0     1      0        22.16   \n",
       "3  1492732800000000000  72000.0       0     1      0        30.73   \n",
       "4  1492732800000000000  72000.0       0     1      0        58.40   \n",
       "\n",
       "   transaction  completed  received  viewed  \n",
       "0            0          0         1       0  \n",
       "1            1          0         2       1  \n",
       "2            1          0         3       2  \n",
       "3            2          1         4       3  \n",
       "4            4          2         5       4  \n",
       "\n",
       "[5 rows x 24 columns]"
      ]
     },
     "execution_count": 61,
     "metadata": {},
     "output_type": "execute_result"
    }
   ],
   "source": [
    "offers_classed_nf.head()"
   ]
  },
  {
   "cell_type": "code",
   "execution_count": 62,
   "metadata": {},
   "outputs": [
    {
     "name": "stdout",
     "output_type": "stream",
     "text": [
      "66501\n"
     ]
    }
   ],
   "source": [
    "labels=offers_classed_nf['successful_offer'].values\n",
    "print(len(labels))"
   ]
  },
  {
   "cell_type": "code",
   "execution_count": 63,
   "metadata": {},
   "outputs": [
    {
     "name": "stdout",
     "output_type": "stream",
     "text": [
      "66501\n"
     ]
    }
   ],
   "source": [
    "features_nf = offers_classed_nf.filter(['reward', 'difficulty', 'duration','mobile', 'social', 'web', 'bogo', 'discount',\n",
    "                 'informational', 'age', 'became_member_on', 'income',   'female', 'male', 'other','total_spend','transaction','completed','received','viewed']).values\n",
    "#,'transaction','completed','received','viewed'\n",
    "print(len(features))"
   ]
  },
  {
   "cell_type": "code",
   "execution_count": 64,
   "metadata": {},
   "outputs": [],
   "source": [
    "features_train, features_test, labels_train, labels_test=scale_split(features_nf, labels)"
   ]
  },
  {
   "cell_type": "code",
   "execution_count": 65,
   "metadata": {},
   "outputs": [],
   "source": [
    "def classifyRandomForest(features_train, labels_train, features_test, labels_test):\n",
    "    \n",
    "    #create the classifer\n",
    "    clf = RandomForestClassifier(random_state=40)\n",
    "    \n",
    "    #fit the training data\n",
    "    clf = clf.fit(features_train, labels_train)\n",
    "    \n",
    "    #predict the testing labels using the testing features\n",
    "    pred=clf.predict(features_test)\n",
    "    \n",
    "    #evaluate how good the model did at predicting the true teting labels\n",
    "    print(classification_report(labels_test, pred,digits=4, target_names=['unsuccessful','successful'],output_dict=False))\n",
    "    \n",
    "    #printing the confusion matrix\n",
    "    con_mat=pd.DataFrame(confusion_matrix(labels_test, pred),  columns=['pred_neg', 'pred_pos'], index=['neg', 'pos'])\n",
    "    plt.figure(figsize = (4,4))\n",
    "    sn.heatmap(con_mat, annot=True,cmap='YlOrBr',fmt='g')\n",
    "\n",
    "    return clf\n"
   ]
  },
  {
   "cell_type": "code",
   "execution_count": 66,
   "metadata": {
    "scrolled": false
   },
   "outputs": [
    {
     "name": "stdout",
     "output_type": "stream",
     "text": [
      "              precision    recall  f1-score   support\n",
      "\n",
      "unsuccessful     0.7218    0.7844    0.7518      5677\n",
      "  successful     0.6785    0.6008    0.6373      4299\n",
      "\n",
      "    accuracy                         0.7053      9976\n",
      "   macro avg     0.7002    0.6926    0.6946      9976\n",
      "weighted avg     0.7032    0.7053    0.7025      9976\n",
      "\n",
      "CPU times: user 8.08 s, sys: 178 ms, total: 8.26 s\n",
      "Wall time: 8.17 s\n"
     ]
    },
    {
     "data": {
      "image/png": "[encoded data removed]",
      "text/plain": [
       "<Figure size 288x288 with 2 Axes>"
      ]
     },
     "metadata": {
      "needs_background": "light"
     },
     "output_type": "display_data"
    }
   ],
   "source": [
    "\n",
    "%%time\n",
    "clf = classifyRandomForest(features_train, labels_train, features_test, labels_test)"
   ]
  },
  {
   "cell_type": "code",
   "execution_count": 67,
   "metadata": {},
   "outputs": [],
   "source": [
    "features_nf_df=offers_classed_nf.filter(['reward', 'difficulty', 'duration','mobile', 'social', 'web', 'bogo', 'discount',\n",
    "                 'informational', 'age', 'became_member_on', 'income',   'female', 'male', 'other','total_spend','transaction','completed','received','viewed'])"
   ]
  },
  {
   "cell_type": "code",
   "execution_count": 68,
   "metadata": {},
   "outputs": [],
   "source": [
    "dict = {}\n",
    "for A, B in zip(features_nf_df.columns.values, clf.feature_importances_):\n",
    "    dict[A] = B"
   ]
  },
  {
   "cell_type": "code",
   "execution_count": 69,
   "metadata": {},
   "outputs": [
    {
     "data": {
      "image/png": "[encoded data removed]",
      "text/plain": [
       "<Figure size 432x288 with 1 Axes>"
      ]
     },
     "metadata": {
      "needs_background": "light"
     },
     "output_type": "display_data"
    }
   ],
   "source": [
    "names = list(dict.keys())\n",
    "values = list(dict.values())\n",
    "\n",
    "plt.bar(range(len(dict)), values, tick_label=names)\n",
    "plt.xticks(rotation=90)\n",
    "plt.show()"
   ]
  },
  {
   "cell_type": "markdown",
   "metadata": {},
   "source": [
    "PCA with new features"
   ]
  },
  {
   "cell_type": "code",
   "execution_count": 70,
   "metadata": {},
   "outputs": [],
   "source": [
    "scaler=QuantileTransformer()"
   ]
  },
  {
   "cell_type": "code",
   "execution_count": 71,
   "metadata": {},
   "outputs": [],
   "source": [
    "features_scaled=scaler.fit_transform(features_nf)"
   ]
  },
  {
   "cell_type": "code",
   "execution_count": 72,
   "metadata": {},
   "outputs": [
    {
     "data": {
      "text/plain": [
       "array([0.        , 0.        , 0.        , 1.        , 1.        ,\n",
       "       0.        , 0.        , 0.        , 1.        , 0.13763764,\n",
       "       0.43343343, 0.64064064, 0.        , 1.        , 0.        ,\n",
       "       0.        , 0.        , 0.        , 0.        , 0.        ])"
      ]
     },
     "execution_count": 72,
     "metadata": {},
     "output_type": "execute_result"
    }
   ],
   "source": [
    "features_scaled[0]"
   ]
  },
  {
   "cell_type": "code",
   "execution_count": 73,
   "metadata": {},
   "outputs": [
    {
     "data": {
      "text/plain": [
       "66501"
      ]
     },
     "execution_count": 73,
     "metadata": {},
     "output_type": "execute_result"
    }
   ],
   "source": [
    "len(features_scaled)"
   ]
  },
  {
   "cell_type": "code",
   "execution_count": 74,
   "metadata": {},
   "outputs": [
    {
     "data": {
      "text/plain": [
       "PCA(n_components=15)"
      ]
     },
     "execution_count": 74,
     "metadata": {},
     "output_type": "execute_result"
    }
   ],
   "source": [
    "pca = PCA(n_components=15)\n",
    "pca.fit(np.transpose(features_scaled))"
   ]
  },
  {
   "cell_type": "code",
   "execution_count": 75,
   "metadata": {},
   "outputs": [
    {
     "name": "stdout",
     "output_type": "stream",
     "text": [
      "[0.23505007 0.1722026  0.14491784 0.12376264 0.10041156 0.07070842\n",
      " 0.0332527  0.02639689 0.01876337 0.01804988 0.01593371 0.0134433\n",
      " 0.01054003 0.00554436 0.00407936]\n"
     ]
    }
   ],
   "source": [
    "print(pca.explained_variance_ratio_)\n"
   ]
  },
  {
   "cell_type": "code",
   "execution_count": 76,
   "metadata": {},
   "outputs": [
    {
     "data": {
      "text/plain": [
       "<function matplotlib.pyplot.show(close=None, block=None)>"
      ]
     },
     "execution_count": 76,
     "metadata": {},
     "output_type": "execute_result"
    },
    {
     "data": {
      "image/png": "[encoded data removed]",
      "text/plain": [
       "<Figure size 432x288 with 1 Axes>"
      ]
     },
     "metadata": {
      "needs_background": "light"
     },
     "output_type": "display_data"
    }
   ],
   "source": [
    "\n",
    "plt.title('PCA Eigenvalues')\n",
    "plt.ylabel('Eigenvalues')\n",
    "plt.xlabel('# of Features')\n",
    "plt.plot(pca.explained_variance_)\n",
    "plt.show"
   ]
  },
  {
   "cell_type": "markdown",
   "metadata": {},
   "source": [
    "The elbow is after 6 features"
   ]
  },
  {
   "cell_type": "code",
   "execution_count": 77,
   "metadata": {},
   "outputs": [
    {
     "data": {
      "text/plain": [
       "<function matplotlib.pyplot.show(close=None, block=None)>"
      ]
     },
     "execution_count": 77,
     "metadata": {},
     "output_type": "execute_result"
    },
    {
     "data": {
      "image/png": "[encoded data removed]",
      "text/plain": [
       "<Figure size 432x288 with 1 Axes>"
      ]
     },
     "metadata": {
      "needs_background": "light"
     },
     "output_type": "display_data"
    }
   ],
   "source": [
    "variance=pca.explained_variance_ratio_\n",
    "var=np.cumsum(pca.explained_variance_ratio_)\n",
    "\n",
    "plt.title('PCA Variance Explained')\n",
    "plt.ylabel('% Variance Explained')\n",
    "plt.xlabel('# of Features')\n",
    "plt.plot(var)\n",
    "plt.show"
   ]
  },
  {
   "cell_type": "code",
   "execution_count": 78,
   "metadata": {},
   "outputs": [
    {
     "name": "stdout",
     "output_type": "stream",
     "text": [
      "the first 6 pca components represents 0.85 of the variance\n"
     ]
    }
   ],
   "source": [
    "print(\"the first 6 pca components represents {:0.2f} of the variance\".format(np.cumsum(pca.explained_variance_ratio_)[5]))\n"
   ]
  },
  {
   "cell_type": "code",
   "execution_count": 79,
   "metadata": {},
   "outputs": [
    {
     "data": {
      "text/plain": [
       "PCA(n_components=6)"
      ]
     },
     "execution_count": 79,
     "metadata": {},
     "output_type": "execute_result"
    }
   ],
   "source": [
    "pca = PCA(n_components=6)\n",
    "pca.fit(np.transpose(features_scaled))"
   ]
  },
  {
   "cell_type": "code",
   "execution_count": 80,
   "metadata": {},
   "outputs": [],
   "source": [
    "pca_features=np.transpose(pca.components_)"
   ]
  },
  {
   "cell_type": "code",
   "execution_count": 81,
   "metadata": {},
   "outputs": [],
   "source": [
    "features_train, features_test, labels_train, labels_test = train_test_split(pca_features, labels, train_size=0.85, random_state=40)"
   ]
  },
  {
   "cell_type": "code",
   "execution_count": 82,
   "metadata": {},
   "outputs": [],
   "source": [
    "def classifyRandomForest(features_train, labels_train, features_test, labels_test):\n",
    "    \n",
    "    #create the classifer\n",
    "    clf = RandomForestClassifier(random_state=40)\n",
    "    \n",
    "    #fit the training data\n",
    "    clf = clf.fit(features_train, labels_train)\n",
    "    \n",
    "    #predict the testing labels using the testing features\n",
    "    pred=clf.predict(features_test)\n",
    "    \n",
    "    #evaluate how good the model did at predicting the true teting labels\n",
    "    print(classification_report(labels_test, pred,digits=4, target_names=['unsuccessful','successful'],output_dict=False))\n",
    "    \n",
    "    #printing the confusion matrix\n",
    "    con_mat=pd.DataFrame(confusion_matrix(labels_test, pred),  columns=['pred_neg', 'pred_pos'], index=['neg', 'pos'])\n",
    "    plt.figure(figsize = (4,4))\n",
    "    sn.heatmap(con_mat, annot=True,cmap='YlOrBr',fmt='g')\n",
    "\n",
    "    return clf"
   ]
  },
  {
   "cell_type": "code",
   "execution_count": 83,
   "metadata": {},
   "outputs": [
    {
     "name": "stdout",
     "output_type": "stream",
     "text": [
      "              precision    recall  f1-score   support\n",
      "\n",
      "unsuccessful     0.6885    0.7386    0.7127      5677\n",
      "  successful     0.6181    0.5587    0.5869      4299\n",
      "\n",
      "    accuracy                         0.6611      9976\n",
      "   macro avg     0.6533    0.6487    0.6498      9976\n",
      "weighted avg     0.6582    0.6611    0.6585      9976\n",
      "\n",
      "CPU times: user 16.5 s, sys: 28.2 ms, total: 16.6 s\n",
      "Wall time: 16.5 s\n"
     ]
    },
    {
     "data": {
      "image/png": "[encoded data removed]",
      "text/plain": [
       "<Figure size 288x288 with 2 Axes>"
      ]
     },
     "metadata": {
      "needs_background": "light"
     },
     "output_type": "display_data"
    }
   ],
   "source": [
    "%%time\n",
    "clf = classifyRandomForest(features_train, labels_train, features_test, labels_test)\n"
   ]
  },
  {
   "cell_type": "markdown",
   "metadata": {},
   "source": [
    "Again, PCA reduction does not show an apparent improvment using the default decision tree parameters."
   ]
  },
  {
   "cell_type": "markdown",
   "metadata": {},
   "source": [
    "<font size=4>Correlations<font>"
   ]
  },
  {
   "cell_type": "code",
   "execution_count": 84,
   "metadata": {
    "scrolled": true
   },
   "outputs": [
    {
     "data": {
      "text/html": [
       "<div>\n",
       "<style scoped>\n",
       "    .dataframe tbody tr th:only-of-type {\n",
       "        vertical-align: middle;\n",
       "    }\n",
       "\n",
       "    .dataframe tbody tr th {\n",
       "        vertical-align: top;\n",
       "    }\n",
       "\n",
       "    .dataframe thead th {\n",
       "        text-align: right;\n",
       "    }\n",
       "</style>\n",
       "<table border=\"1\" class=\"dataframe\">\n",
       "  <thead>\n",
       "    <tr style=\"text-align: right;\">\n",
       "      <th></th>\n",
       "      <th>age</th>\n",
       "      <th>became_member_on</th>\n",
       "      <th>income</th>\n",
       "      <th>female</th>\n",
       "      <th>male</th>\n",
       "      <th>other</th>\n",
       "      <th>total_spend</th>\n",
       "      <th>transaction</th>\n",
       "      <th>completed</th>\n",
       "      <th>received</th>\n",
       "      <th>viewed</th>\n",
       "    </tr>\n",
       "  </thead>\n",
       "  <tbody>\n",
       "    <tr>\n",
       "      <th>age</th>\n",
       "      <td>1.00</td>\n",
       "      <td>-0.01</td>\n",
       "      <td>0.31</td>\n",
       "      <td>0.15</td>\n",
       "      <td>-0.15</td>\n",
       "      <td>0.00</td>\n",
       "      <td>0.06</td>\n",
       "      <td>-0.09</td>\n",
       "      <td>0.06</td>\n",
       "      <td>-0.00</td>\n",
       "      <td>0.01</td>\n",
       "    </tr>\n",
       "    <tr>\n",
       "      <th>became_member_on</th>\n",
       "      <td>-0.01</td>\n",
       "      <td>1.00</td>\n",
       "      <td>-0.02</td>\n",
       "      <td>0.02</td>\n",
       "      <td>-0.02</td>\n",
       "      <td>0.01</td>\n",
       "      <td>-0.11</td>\n",
       "      <td>-0.25</td>\n",
       "      <td>-0.13</td>\n",
       "      <td>-0.00</td>\n",
       "      <td>-0.01</td>\n",
       "    </tr>\n",
       "    <tr>\n",
       "      <th>income</th>\n",
       "      <td>0.31</td>\n",
       "      <td>-0.02</td>\n",
       "      <td>1.00</td>\n",
       "      <td>0.23</td>\n",
       "      <td>-0.22</td>\n",
       "      <td>-0.01</td>\n",
       "      <td>0.21</td>\n",
       "      <td>-0.15</td>\n",
       "      <td>0.15</td>\n",
       "      <td>-0.00</td>\n",
       "      <td>0.03</td>\n",
       "    </tr>\n",
       "    <tr>\n",
       "      <th>female</th>\n",
       "      <td>0.15</td>\n",
       "      <td>0.02</td>\n",
       "      <td>0.23</td>\n",
       "      <td>1.00</td>\n",
       "      <td>-0.97</td>\n",
       "      <td>-0.10</td>\n",
       "      <td>0.10</td>\n",
       "      <td>-0.03</td>\n",
       "      <td>0.10</td>\n",
       "      <td>-0.00</td>\n",
       "      <td>0.01</td>\n",
       "    </tr>\n",
       "    <tr>\n",
       "      <th>male</th>\n",
       "      <td>-0.15</td>\n",
       "      <td>-0.02</td>\n",
       "      <td>-0.22</td>\n",
       "      <td>-0.97</td>\n",
       "      <td>1.00</td>\n",
       "      <td>-0.14</td>\n",
       "      <td>-0.10</td>\n",
       "      <td>0.03</td>\n",
       "      <td>-0.11</td>\n",
       "      <td>0.00</td>\n",
       "      <td>-0.01</td>\n",
       "    </tr>\n",
       "    <tr>\n",
       "      <th>other</th>\n",
       "      <td>0.00</td>\n",
       "      <td>0.01</td>\n",
       "      <td>-0.01</td>\n",
       "      <td>-0.10</td>\n",
       "      <td>-0.14</td>\n",
       "      <td>1.00</td>\n",
       "      <td>0.00</td>\n",
       "      <td>0.00</td>\n",
       "      <td>0.01</td>\n",
       "      <td>-0.01</td>\n",
       "      <td>0.01</td>\n",
       "    </tr>\n",
       "    <tr>\n",
       "      <th>total_spend</th>\n",
       "      <td>0.06</td>\n",
       "      <td>-0.11</td>\n",
       "      <td>0.21</td>\n",
       "      <td>0.10</td>\n",
       "      <td>-0.10</td>\n",
       "      <td>0.00</td>\n",
       "      <td>1.00</td>\n",
       "      <td>0.52</td>\n",
       "      <td>0.59</td>\n",
       "      <td>0.38</td>\n",
       "      <td>0.41</td>\n",
       "    </tr>\n",
       "    <tr>\n",
       "      <th>transaction</th>\n",
       "      <td>-0.09</td>\n",
       "      <td>-0.25</td>\n",
       "      <td>-0.15</td>\n",
       "      <td>-0.03</td>\n",
       "      <td>0.03</td>\n",
       "      <td>0.00</td>\n",
       "      <td>0.52</td>\n",
       "      <td>1.00</td>\n",
       "      <td>0.63</td>\n",
       "      <td>0.60</td>\n",
       "      <td>0.59</td>\n",
       "    </tr>\n",
       "    <tr>\n",
       "      <th>completed</th>\n",
       "      <td>0.06</td>\n",
       "      <td>-0.13</td>\n",
       "      <td>0.15</td>\n",
       "      <td>0.10</td>\n",
       "      <td>-0.11</td>\n",
       "      <td>0.01</td>\n",
       "      <td>0.59</td>\n",
       "      <td>0.63</td>\n",
       "      <td>1.00</td>\n",
       "      <td>0.61</td>\n",
       "      <td>0.63</td>\n",
       "    </tr>\n",
       "    <tr>\n",
       "      <th>received</th>\n",
       "      <td>-0.00</td>\n",
       "      <td>-0.00</td>\n",
       "      <td>-0.00</td>\n",
       "      <td>-0.00</td>\n",
       "      <td>0.00</td>\n",
       "      <td>-0.01</td>\n",
       "      <td>0.38</td>\n",
       "      <td>0.60</td>\n",
       "      <td>0.61</td>\n",
       "      <td>1.00</td>\n",
       "      <td>0.86</td>\n",
       "    </tr>\n",
       "    <tr>\n",
       "      <th>viewed</th>\n",
       "      <td>0.01</td>\n",
       "      <td>-0.01</td>\n",
       "      <td>0.03</td>\n",
       "      <td>0.01</td>\n",
       "      <td>-0.01</td>\n",
       "      <td>0.01</td>\n",
       "      <td>0.41</td>\n",
       "      <td>0.59</td>\n",
       "      <td>0.63</td>\n",
       "      <td>0.86</td>\n",
       "      <td>1.00</td>\n",
       "    </tr>\n",
       "  </tbody>\n",
       "</table>\n",
       "</div>"
      ],
      "text/plain": [
       "                   age  became_member_on  income  female  male  other  \\\n",
       "age               1.00             -0.01    0.31    0.15 -0.15   0.00   \n",
       "became_member_on -0.01              1.00   -0.02    0.02 -0.02   0.01   \n",
       "income            0.31             -0.02    1.00    0.23 -0.22  -0.01   \n",
       "female            0.15              0.02    0.23    1.00 -0.97  -0.10   \n",
       "male             -0.15             -0.02   -0.22   -0.97  1.00  -0.14   \n",
       "other             0.00              0.01   -0.01   -0.10 -0.14   1.00   \n",
       "total_spend       0.06             -0.11    0.21    0.10 -0.10   0.00   \n",
       "transaction      -0.09             -0.25   -0.15   -0.03  0.03   0.00   \n",
       "completed         0.06             -0.13    0.15    0.10 -0.11   0.01   \n",
       "received         -0.00             -0.00   -0.00   -0.00  0.00  -0.01   \n",
       "viewed            0.01             -0.01    0.03    0.01 -0.01   0.01   \n",
       "\n",
       "                  total_spend  transaction  completed  received  viewed  \n",
       "age                      0.06        -0.09       0.06     -0.00    0.01  \n",
       "became_member_on        -0.11        -0.25      -0.13     -0.00   -0.01  \n",
       "income                   0.21        -0.15       0.15     -0.00    0.03  \n",
       "female                   0.10        -0.03       0.10     -0.00    0.01  \n",
       "male                    -0.10         0.03      -0.11      0.00   -0.01  \n",
       "other                    0.00         0.00       0.01     -0.01    0.01  \n",
       "total_spend              1.00         0.52       0.59      0.38    0.41  \n",
       "transaction              0.52         1.00       0.63      0.60    0.59  \n",
       "completed                0.59         0.63       1.00      0.61    0.63  \n",
       "received                 0.38         0.60       0.61      1.00    0.86  \n",
       "viewed                   0.41         0.59       0.63      0.86    1.00  "
      ]
     },
     "execution_count": 84,
     "metadata": {},
     "output_type": "execute_result"
    }
   ],
   "source": [
    "offers_classed_nf.filter(['age', 'became_member_on', 'income', 'female', 'male',\n",
    "       'other','total_spend','transaction','completed','received','viewed']).corr().round(2)"
   ]
  },
  {
   "cell_type": "markdown",
   "metadata": {},
   "source": [
    "Income is correlated somewhat with total_spend as I would expect."
   ]
  },
  {
   "cell_type": "markdown",
   "metadata": {},
   "source": [
    "honing in on my the new features"
   ]
  },
  {
   "cell_type": "code",
   "execution_count": 85,
   "metadata": {
    "scrolled": true
   },
   "outputs": [
    {
     "data": {
      "text/html": [
       "<div>\n",
       "<style scoped>\n",
       "    .dataframe tbody tr th:only-of-type {\n",
       "        vertical-align: middle;\n",
       "    }\n",
       "\n",
       "    .dataframe tbody tr th {\n",
       "        vertical-align: top;\n",
       "    }\n",
       "\n",
       "    .dataframe thead th {\n",
       "        text-align: right;\n",
       "    }\n",
       "</style>\n",
       "<table border=\"1\" class=\"dataframe\">\n",
       "  <thead>\n",
       "    <tr style=\"text-align: right;\">\n",
       "      <th></th>\n",
       "      <th>total_spend</th>\n",
       "      <th>transaction</th>\n",
       "      <th>completed</th>\n",
       "      <th>received</th>\n",
       "      <th>viewed</th>\n",
       "    </tr>\n",
       "  </thead>\n",
       "  <tbody>\n",
       "    <tr>\n",
       "      <th>total_spend</th>\n",
       "      <td>1.00</td>\n",
       "      <td>0.52</td>\n",
       "      <td>0.59</td>\n",
       "      <td>0.38</td>\n",
       "      <td>0.41</td>\n",
       "    </tr>\n",
       "    <tr>\n",
       "      <th>transaction</th>\n",
       "      <td>0.52</td>\n",
       "      <td>1.00</td>\n",
       "      <td>0.63</td>\n",
       "      <td>0.60</td>\n",
       "      <td>0.59</td>\n",
       "    </tr>\n",
       "    <tr>\n",
       "      <th>completed</th>\n",
       "      <td>0.59</td>\n",
       "      <td>0.63</td>\n",
       "      <td>1.00</td>\n",
       "      <td>0.61</td>\n",
       "      <td>0.63</td>\n",
       "    </tr>\n",
       "    <tr>\n",
       "      <th>received</th>\n",
       "      <td>0.38</td>\n",
       "      <td>0.60</td>\n",
       "      <td>0.61</td>\n",
       "      <td>1.00</td>\n",
       "      <td>0.86</td>\n",
       "    </tr>\n",
       "    <tr>\n",
       "      <th>viewed</th>\n",
       "      <td>0.41</td>\n",
       "      <td>0.59</td>\n",
       "      <td>0.63</td>\n",
       "      <td>0.86</td>\n",
       "      <td>1.00</td>\n",
       "    </tr>\n",
       "  </tbody>\n",
       "</table>\n",
       "</div>"
      ],
      "text/plain": [
       "             total_spend  transaction  completed  received  viewed\n",
       "total_spend         1.00         0.52       0.59      0.38    0.41\n",
       "transaction         0.52         1.00       0.63      0.60    0.59\n",
       "completed           0.59         0.63       1.00      0.61    0.63\n",
       "received            0.38         0.60       0.61      1.00    0.86\n",
       "viewed              0.41         0.59       0.63      0.86    1.00"
      ]
     },
     "metadata": {},
     "output_type": "display_data"
    },
    {
     "data": {
      "text/plain": [
       "total_spend    2.90\n",
       "transaction    3.34\n",
       "completed      3.46\n",
       "received       3.45\n",
       "viewed         3.49\n",
       "dtype: float64"
      ]
     },
     "metadata": {},
     "output_type": "display_data"
    }
   ],
   "source": [
    "display(offers_classed_nf.filter(['total_spend','transaction','completed','received','viewed']).corr().round(2))\n",
    "display(offers_classed_nf.filter(['total_spend','transaction','completed','received','viewed']).corr().round(2).sum())"
   ]
  },
  {
   "cell_type": "markdown",
   "metadata": {},
   "source": [
    "I see some pretty strong correlations between the events and the total spend. I tested out some models with some of the new features removed. I saw a slight degradation with 'viewed' or 'received' were removed. "
   ]
  },
  {
   "cell_type": "markdown",
   "metadata": {},
   "source": [
    "I can see 'total_spent' is quite highly correlated with transactions and completed offers (as expected). It is slightly less correlated with received and viewed offers, but still signifcantly correlated (as expected)."
   ]
  },
  {
   "cell_type": "markdown",
   "metadata": {},
   "source": [
    "I will test out a default random forest with the events (transaction, completed, received, viewed) removed.  \n",
    "I can see that viewed is particularly highly correlated with completed and received (the highest two in the grid). So I will leave in viewed and remove completed and received."
   ]
  },
  {
   "cell_type": "code",
   "execution_count": 86,
   "metadata": {
    "scrolled": true
   },
   "outputs": [
    {
     "name": "stdout",
     "output_type": "stream",
     "text": [
      "66501\n"
     ]
    }
   ],
   "source": [
    "features_nf = offers_classed_nf.filter(['reward', 'difficulty', 'duration','mobile', 'social', 'web', 'bogo', 'discount',\n",
    "                 'informational', 'age', 'became_member_on', 'income', 'female', 'male', 'other','total_spend','transaction','received']).values\n",
    "#'completed','viewed'\n",
    "print(len(features))"
   ]
  },
  {
   "cell_type": "code",
   "execution_count": 87,
   "metadata": {},
   "outputs": [
    {
     "data": {
      "text/plain": [
       "array([1.        , 0.6996997 , 0.5985986 , 1.        , 1.        ,\n",
       "       0.        , 1.        , 0.        , 0.        , 0.53953954,\n",
       "       0.17117117, 0.        , 0.        , 1.        , 0.        ,\n",
       "       0.60492071, 0.93193193, 0.9004004 ])"
      ]
     },
     "execution_count": 87,
     "metadata": {},
     "output_type": "execute_result"
    }
   ],
   "source": [
    "features_train, features_test, labels_train, labels_test=scale_split(features_nf, labels)\n",
    "features_train[31]"
   ]
  },
  {
   "cell_type": "code",
   "execution_count": 88,
   "metadata": {},
   "outputs": [],
   "source": [
    "def classifyRandomForest(features_train, labels_train, features_test, labels_test):\n",
    "    \n",
    "    #create the classifer\n",
    "    clf = RandomForestClassifier(random_state=40)\n",
    "    \n",
    "    #fit the training data\n",
    "    clf = clf.fit(features_train, labels_train)\n",
    "    \n",
    "    #predict the testing labels using the testing features\n",
    "    pred=clf.predict(features_test)\n",
    "    \n",
    "    #evaluate how good the model did at predicting the true teting labels\n",
    "    print(classification_report(labels_test, pred,digits=4, target_names=['unsuccessful','successful'],output_dict=False))\n",
    "    \n",
    "    #printing the confusion matrix\n",
    "    con_mat=pd.DataFrame(confusion_matrix(labels_test, pred),  columns=['pred_neg', 'pred_pos'], index=['neg', 'pos'])\n",
    "    plt.figure(figsize = (4,4))\n",
    "    sn.heatmap(con_mat, annot=True,cmap='YlOrBr',fmt='g')\n",
    "\n",
    "    return clf"
   ]
  },
  {
   "cell_type": "markdown",
   "metadata": {},
   "source": [
    "I can see a slight improvment in the weighted f1-score  \n",
    "I can see a slight improvement in the overall accuracy "
   ]
  },
  {
   "cell_type": "code",
   "execution_count": 89,
   "metadata": {
    "scrolled": false
   },
   "outputs": [
    {
     "name": "stdout",
     "output_type": "stream",
     "text": [
      "              precision    recall  f1-score   support\n",
      "\n",
      "unsuccessful     0.7246    0.7870    0.7545      5677\n",
      "  successful     0.6827    0.6050    0.6415      4299\n",
      "\n",
      "    accuracy                         0.7086      9976\n",
      "   macro avg     0.7036    0.6960    0.6980      9976\n",
      "weighted avg     0.7065    0.7086    0.7058      9976\n",
      "\n",
      "CPU times: user 8.64 s, sys: 30.3 ms, total: 8.67 s\n",
      "Wall time: 8.63 s\n"
     ]
    },
    {
     "data": {
      "image/png": "[encoded data removed]",
      "text/plain": [
       "<Figure size 288x288 with 2 Axes>"
      ]
     },
     "metadata": {
      "needs_background": "light"
     },
     "output_type": "display_data"
    }
   ],
   "source": [
    "%%time\n",
    "clf = classifyRandomForest(features_train, labels_train, features_test, labels_test)"
   ]
  },
  {
   "cell_type": "markdown",
   "metadata": {},
   "source": [
    "I will remove the new features 'completed' & 'viewed' in order to try and stem the risk of overfitting my model"
   ]
  },
  {
   "cell_type": "markdown",
   "metadata": {},
   "source": [
    "<font size=4>GridSearchCV with new features<font/>"
   ]
  },
  {
   "cell_type": "code",
   "execution_count": 90,
   "metadata": {},
   "outputs": [],
   "source": [
    "features_nf = offers_classed_nf.filter(['reward', 'difficulty', 'duration','mobile', 'social', 'web', 'bogo', 'discount',\n",
    "                 'informational', 'age', 'became_member_on', 'income', 'female', 'male', 'other','total_spend','transaction','received']).values\n",
    "\n",
    "labels=offers_classed_nf['successful_offer'].values"
   ]
  },
  {
   "cell_type": "code",
   "execution_count": 91,
   "metadata": {},
   "outputs": [],
   "source": [
    "features_train, features_test, labels_train, labels_test=scale_split(features_nf, labels)"
   ]
  },
  {
   "cell_type": "code",
   "execution_count": 92,
   "metadata": {},
   "outputs": [
    {
     "data": {
      "text/plain": [
       "array([0.2992993 , 0.6996997 , 1.        , 1.        , 1.        ,\n",
       "       1.        , 0.        , 1.        , 0.        , 0.51551552,\n",
       "       0.2972973 , 0.94744745, 1.        , 0.        , 0.        ,\n",
       "       0.74602394, 0.43243243, 0.55105105])"
      ]
     },
     "execution_count": 92,
     "metadata": {},
     "output_type": "execute_result"
    }
   ],
   "source": [
    "features_train[0]"
   ]
  },
  {
   "cell_type": "code",
   "execution_count": 93,
   "metadata": {},
   "outputs": [],
   "source": [
    "skf = StratifiedKFold(n_splits=10)"
   ]
  },
  {
   "cell_type": "code",
   "execution_count": 94,
   "metadata": {},
   "outputs": [],
   "source": [
    "\n",
    "\n",
    "param_grid={'criterion': ['entropy','gini'], \n",
    "            'max_depth': [20 , None],\n",
    "            #'max_features': ['auto', 'sqrt','log2'], # the default auto has proved best\n",
    "            'min_samples_leaf': [1, 5, 10],\n",
    "            'min_samples_split': [2, 10],\n",
    "            'n_estimators': [ 100, 300]}"
   ]
  },
  {
   "cell_type": "code",
   "execution_count": 95,
   "metadata": {},
   "outputs": [
    {
     "name": "stdout",
     "output_type": "stream",
     "text": [
      "# Tuning hyper-parameters for accuracy\n",
      "Fitting 10 folds for each of 48 candidates, totalling 480 fits\n",
      "The accuracy score for each hyper-parameter combination on the training set:\n",
      "\n",
      "0.712 (+/-0.012) for {'criterion': 'entropy', 'max_depth': 20, 'min_samples_leaf': 1, 'min_samples_split': 2, 'n_estimators': 100}\n",
      "0.713 (+/-0.013) for {'criterion': 'entropy', 'max_depth': 20, 'min_samples_leaf': 1, 'min_samples_split': 2, 'n_estimators': 300}\n",
      "0.717 (+/-0.012) for {'criterion': 'entropy', 'max_depth': 20, 'min_samples_leaf': 1, 'min_samples_split': 10, 'n_estimators': 100}\n",
      "0.718 (+/-0.012) for {'criterion': 'entropy', 'max_depth': 20, 'min_samples_leaf': 1, 'min_samples_split': 10, 'n_estimators': 300}\n",
      "0.718 (+/-0.011) for {'criterion': 'entropy', 'max_depth': 20, 'min_samples_leaf': 5, 'min_samples_split': 2, 'n_estimators': 100}\n",
      "0.719 (+/-0.013) for {'criterion': 'entropy', 'max_depth': 20, 'min_samples_leaf': 5, 'min_samples_split': 2, 'n_estimators': 300}\n",
      "0.718 (+/-0.011) for {'criterion': 'entropy', 'max_depth': 20, 'min_samples_leaf': 5, 'min_samples_split': 10, 'n_estimators': 100}\n",
      "0.719 (+/-0.013) for {'criterion': 'entropy', 'max_depth': 20, 'min_samples_leaf': 5, 'min_samples_split': 10, 'n_estimators': 300}\n",
      "0.719 (+/-0.013) for {'criterion': 'entropy', 'max_depth': 20, 'min_samples_leaf': 10, 'min_samples_split': 2, 'n_estimators': 100}\n",
      "0.720 (+/-0.013) for {'criterion': 'entropy', 'max_depth': 20, 'min_samples_leaf': 10, 'min_samples_split': 2, 'n_estimators': 300}\n",
      "0.719 (+/-0.013) for {'criterion': 'entropy', 'max_depth': 20, 'min_samples_leaf': 10, 'min_samples_split': 10, 'n_estimators': 100}\n",
      "0.720 (+/-0.013) for {'criterion': 'entropy', 'max_depth': 20, 'min_samples_leaf': 10, 'min_samples_split': 10, 'n_estimators': 300}\n",
      "0.707 (+/-0.012) for {'criterion': 'entropy', 'max_depth': None, 'min_samples_leaf': 1, 'min_samples_split': 2, 'n_estimators': 100}\n",
      "0.708 (+/-0.011) for {'criterion': 'entropy', 'max_depth': None, 'min_samples_leaf': 1, 'min_samples_split': 2, 'n_estimators': 300}\n",
      "0.714 (+/-0.012) for {'criterion': 'entropy', 'max_depth': None, 'min_samples_leaf': 1, 'min_samples_split': 10, 'n_estimators': 100}\n",
      "0.715 (+/-0.012) for {'criterion': 'entropy', 'max_depth': None, 'min_samples_leaf': 1, 'min_samples_split': 10, 'n_estimators': 300}\n",
      "0.718 (+/-0.011) for {'criterion': 'entropy', 'max_depth': None, 'min_samples_leaf': 5, 'min_samples_split': 2, 'n_estimators': 100}\n",
      "0.718 (+/-0.014) for {'criterion': 'entropy', 'max_depth': None, 'min_samples_leaf': 5, 'min_samples_split': 2, 'n_estimators': 300}\n",
      "0.718 (+/-0.011) for {'criterion': 'entropy', 'max_depth': None, 'min_samples_leaf': 5, 'min_samples_split': 10, 'n_estimators': 100}\n",
      "0.718 (+/-0.014) for {'criterion': 'entropy', 'max_depth': None, 'min_samples_leaf': 5, 'min_samples_split': 10, 'n_estimators': 300}\n",
      "0.718 (+/-0.011) for {'criterion': 'entropy', 'max_depth': None, 'min_samples_leaf': 10, 'min_samples_split': 2, 'n_estimators': 100}\n",
      "0.719 (+/-0.012) for {'criterion': 'entropy', 'max_depth': None, 'min_samples_leaf': 10, 'min_samples_split': 2, 'n_estimators': 300}\n",
      "0.718 (+/-0.011) for {'criterion': 'entropy', 'max_depth': None, 'min_samples_leaf': 10, 'min_samples_split': 10, 'n_estimators': 100}\n",
      "0.719 (+/-0.012) for {'criterion': 'entropy', 'max_depth': None, 'min_samples_leaf': 10, 'min_samples_split': 10, 'n_estimators': 300}\n",
      "0.711 (+/-0.012) for {'criterion': 'gini', 'max_depth': 20, 'min_samples_leaf': 1, 'min_samples_split': 2, 'n_estimators': 100}\n",
      "0.712 (+/-0.011) for {'criterion': 'gini', 'max_depth': 20, 'min_samples_leaf': 1, 'min_samples_split': 2, 'n_estimators': 300}\n",
      "0.716 (+/-0.011) for {'criterion': 'gini', 'max_depth': 20, 'min_samples_leaf': 1, 'min_samples_split': 10, 'n_estimators': 100}\n",
      "0.717 (+/-0.013) for {'criterion': 'gini', 'max_depth': 20, 'min_samples_leaf': 1, 'min_samples_split': 10, 'n_estimators': 300}\n",
      "0.718 (+/-0.013) for {'criterion': 'gini', 'max_depth': 20, 'min_samples_leaf': 5, 'min_samples_split': 2, 'n_estimators': 100}\n",
      "0.719 (+/-0.013) for {'criterion': 'gini', 'max_depth': 20, 'min_samples_leaf': 5, 'min_samples_split': 2, 'n_estimators': 300}\n",
      "0.718 (+/-0.013) for {'criterion': 'gini', 'max_depth': 20, 'min_samples_leaf': 5, 'min_samples_split': 10, 'n_estimators': 100}\n",
      "0.719 (+/-0.013) for {'criterion': 'gini', 'max_depth': 20, 'min_samples_leaf': 5, 'min_samples_split': 10, 'n_estimators': 300}\n",
      "0.718 (+/-0.012) for {'criterion': 'gini', 'max_depth': 20, 'min_samples_leaf': 10, 'min_samples_split': 2, 'n_estimators': 100}\n",
      "0.719 (+/-0.012) for {'criterion': 'gini', 'max_depth': 20, 'min_samples_leaf': 10, 'min_samples_split': 2, 'n_estimators': 300}\n",
      "0.718 (+/-0.012) for {'criterion': 'gini', 'max_depth': 20, 'min_samples_leaf': 10, 'min_samples_split': 10, 'n_estimators': 100}\n",
      "0.719 (+/-0.012) for {'criterion': 'gini', 'max_depth': 20, 'min_samples_leaf': 10, 'min_samples_split': 10, 'n_estimators': 300}\n",
      "0.708 (+/-0.011) for {'criterion': 'gini', 'max_depth': None, 'min_samples_leaf': 1, 'min_samples_split': 2, 'n_estimators': 100}\n",
      "0.709 (+/-0.011) for {'criterion': 'gini', 'max_depth': None, 'min_samples_leaf': 1, 'min_samples_split': 2, 'n_estimators': 300}\n",
      "0.714 (+/-0.012) for {'criterion': 'gini', 'max_depth': None, 'min_samples_leaf': 1, 'min_samples_split': 10, 'n_estimators': 100}\n",
      "0.716 (+/-0.012) for {'criterion': 'gini', 'max_depth': None, 'min_samples_leaf': 1, 'min_samples_split': 10, 'n_estimators': 300}\n",
      "0.717 (+/-0.010) for {'criterion': 'gini', 'max_depth': None, 'min_samples_leaf': 5, 'min_samples_split': 2, 'n_estimators': 100}\n",
      "0.718 (+/-0.012) for {'criterion': 'gini', 'max_depth': None, 'min_samples_leaf': 5, 'min_samples_split': 2, 'n_estimators': 300}\n",
      "0.717 (+/-0.010) for {'criterion': 'gini', 'max_depth': None, 'min_samples_leaf': 5, 'min_samples_split': 10, 'n_estimators': 100}\n",
      "0.718 (+/-0.012) for {'criterion': 'gini', 'max_depth': None, 'min_samples_leaf': 5, 'min_samples_split': 10, 'n_estimators': 300}\n",
      "0.718 (+/-0.014) for {'criterion': 'gini', 'max_depth': None, 'min_samples_leaf': 10, 'min_samples_split': 2, 'n_estimators': 100}\n",
      "0.719 (+/-0.013) for {'criterion': 'gini', 'max_depth': None, 'min_samples_leaf': 10, 'min_samples_split': 2, 'n_estimators': 300}\n",
      "0.718 (+/-0.014) for {'criterion': 'gini', 'max_depth': None, 'min_samples_leaf': 10, 'min_samples_split': 10, 'n_estimators': 100}\n",
      "0.719 (+/-0.013) for {'criterion': 'gini', 'max_depth': None, 'min_samples_leaf': 10, 'min_samples_split': 10, 'n_estimators': 300}\n",
      "\n",
      "Best parameters for accuracy found on training set are:\n",
      "{'criterion': 'entropy', 'max_depth': 20, 'min_samples_leaf': 10, 'min_samples_split': 2, 'n_estimators': 300}\n",
      "\n",
      "Classification report when hyper-params are optimised for : accuracy\n",
      "              precision    recall  f1-score   support\n",
      "\n",
      "unsuccessful     0.7260    0.8150    0.7680      5677\n",
      "  successful     0.7086    0.5939    0.6462      4299\n",
      "\n",
      "    accuracy                         0.7197      9976\n",
      "   macro avg     0.7173    0.7045    0.7071      9976\n",
      "weighted avg     0.7185    0.7197    0.7155      9976\n",
      "\n",
      "\n",
      "# Tuning hyper-parameters for recall\n",
      "Fitting 10 folds for each of 48 candidates, totalling 480 fits\n",
      "The recall score for each hyper-parameter combination on the training set:\n",
      "\n",
      "0.621 (+/-0.017) for {'criterion': 'entropy', 'max_depth': 20, 'min_samples_leaf': 1, 'min_samples_split': 2, 'n_estimators': 100}\n",
      "0.619 (+/-0.020) for {'criterion': 'entropy', 'max_depth': 20, 'min_samples_leaf': 1, 'min_samples_split': 2, 'n_estimators': 300}\n",
      "0.621 (+/-0.020) for {'criterion': 'entropy', 'max_depth': 20, 'min_samples_leaf': 1, 'min_samples_split': 10, 'n_estimators': 100}\n",
      "0.620 (+/-0.020) for {'criterion': 'entropy', 'max_depth': 20, 'min_samples_leaf': 1, 'min_samples_split': 10, 'n_estimators': 300}\n",
      "0.615 (+/-0.016) for {'criterion': 'entropy', 'max_depth': 20, 'min_samples_leaf': 5, 'min_samples_split': 2, 'n_estimators': 100}\n",
      "0.615 (+/-0.017) for {'criterion': 'entropy', 'max_depth': 20, 'min_samples_leaf': 5, 'min_samples_split': 2, 'n_estimators': 300}\n",
      "0.615 (+/-0.016) for {'criterion': 'entropy', 'max_depth': 20, 'min_samples_leaf': 5, 'min_samples_split': 10, 'n_estimators': 100}\n",
      "0.615 (+/-0.017) for {'criterion': 'entropy', 'max_depth': 20, 'min_samples_leaf': 5, 'min_samples_split': 10, 'n_estimators': 300}\n",
      "0.605 (+/-0.019) for {'criterion': 'entropy', 'max_depth': 20, 'min_samples_leaf': 10, 'min_samples_split': 2, 'n_estimators': 100}\n",
      "0.605 (+/-0.019) for {'criterion': 'entropy', 'max_depth': 20, 'min_samples_leaf': 10, 'min_samples_split': 2, 'n_estimators': 300}\n",
      "0.605 (+/-0.019) for {'criterion': 'entropy', 'max_depth': 20, 'min_samples_leaf': 10, 'min_samples_split': 10, 'n_estimators': 100}\n",
      "0.605 (+/-0.019) for {'criterion': 'entropy', 'max_depth': 20, 'min_samples_leaf': 10, 'min_samples_split': 10, 'n_estimators': 300}\n",
      "0.613 (+/-0.017) for {'criterion': 'entropy', 'max_depth': None, 'min_samples_leaf': 1, 'min_samples_split': 2, 'n_estimators': 100}\n",
      "0.618 (+/-0.017) for {'criterion': 'entropy', 'max_depth': None, 'min_samples_leaf': 1, 'min_samples_split': 2, 'n_estimators': 300}\n",
      "0.618 (+/-0.016) for {'criterion': 'entropy', 'max_depth': None, 'min_samples_leaf': 1, 'min_samples_split': 10, 'n_estimators': 100}\n",
      "0.619 (+/-0.014) for {'criterion': 'entropy', 'max_depth': None, 'min_samples_leaf': 1, 'min_samples_split': 10, 'n_estimators': 300}\n",
      "0.616 (+/-0.016) for {'criterion': 'entropy', 'max_depth': None, 'min_samples_leaf': 5, 'min_samples_split': 2, 'n_estimators': 100}\n",
      "0.615 (+/-0.019) for {'criterion': 'entropy', 'max_depth': None, 'min_samples_leaf': 5, 'min_samples_split': 2, 'n_estimators': 300}\n",
      "0.616 (+/-0.016) for {'criterion': 'entropy', 'max_depth': None, 'min_samples_leaf': 5, 'min_samples_split': 10, 'n_estimators': 100}\n",
      "0.615 (+/-0.019) for {'criterion': 'entropy', 'max_depth': None, 'min_samples_leaf': 5, 'min_samples_split': 10, 'n_estimators': 300}\n",
      "0.606 (+/-0.018) for {'criterion': 'entropy', 'max_depth': None, 'min_samples_leaf': 10, 'min_samples_split': 2, 'n_estimators': 100}\n",
      "0.605 (+/-0.019) for {'criterion': 'entropy', 'max_depth': None, 'min_samples_leaf': 10, 'min_samples_split': 2, 'n_estimators': 300}\n",
      "0.606 (+/-0.018) for {'criterion': 'entropy', 'max_depth': None, 'min_samples_leaf': 10, 'min_samples_split': 10, 'n_estimators': 100}\n",
      "0.605 (+/-0.019) for {'criterion': 'entropy', 'max_depth': None, 'min_samples_leaf': 10, 'min_samples_split': 10, 'n_estimators': 300}\n",
      "0.621 (+/-0.017) for {'criterion': 'gini', 'max_depth': 20, 'min_samples_leaf': 1, 'min_samples_split': 2, 'n_estimators': 100}\n",
      "0.622 (+/-0.017) for {'criterion': 'gini', 'max_depth': 20, 'min_samples_leaf': 1, 'min_samples_split': 2, 'n_estimators': 300}\n",
      "0.619 (+/-0.016) for {'criterion': 'gini', 'max_depth': 20, 'min_samples_leaf': 1, 'min_samples_split': 10, 'n_estimators': 100}\n",
      "0.619 (+/-0.018) for {'criterion': 'gini', 'max_depth': 20, 'min_samples_leaf': 1, 'min_samples_split': 10, 'n_estimators': 300}\n",
      "0.614 (+/-0.021) for {'criterion': 'gini', 'max_depth': 20, 'min_samples_leaf': 5, 'min_samples_split': 2, 'n_estimators': 100}\n",
      "0.614 (+/-0.019) for {'criterion': 'gini', 'max_depth': 20, 'min_samples_leaf': 5, 'min_samples_split': 2, 'n_estimators': 300}\n",
      "0.614 (+/-0.021) for {'criterion': 'gini', 'max_depth': 20, 'min_samples_leaf': 5, 'min_samples_split': 10, 'n_estimators': 100}\n",
      "0.614 (+/-0.019) for {'criterion': 'gini', 'max_depth': 20, 'min_samples_leaf': 5, 'min_samples_split': 10, 'n_estimators': 300}\n",
      "0.605 (+/-0.020) for {'criterion': 'gini', 'max_depth': 20, 'min_samples_leaf': 10, 'min_samples_split': 2, 'n_estimators': 100}\n",
      "0.605 (+/-0.019) for {'criterion': 'gini', 'max_depth': 20, 'min_samples_leaf': 10, 'min_samples_split': 2, 'n_estimators': 300}\n",
      "0.605 (+/-0.020) for {'criterion': 'gini', 'max_depth': 20, 'min_samples_leaf': 10, 'min_samples_split': 10, 'n_estimators': 100}\n",
      "0.605 (+/-0.019) for {'criterion': 'gini', 'max_depth': 20, 'min_samples_leaf': 10, 'min_samples_split': 10, 'n_estimators': 300}\n",
      "0.614 (+/-0.019) for {'criterion': 'gini', 'max_depth': None, 'min_samples_leaf': 1, 'min_samples_split': 2, 'n_estimators': 100}\n",
      "0.617 (+/-0.019) for {'criterion': 'gini', 'max_depth': None, 'min_samples_leaf': 1, 'min_samples_split': 2, 'n_estimators': 300}\n",
      "0.618 (+/-0.017) for {'criterion': 'gini', 'max_depth': None, 'min_samples_leaf': 1, 'min_samples_split': 10, 'n_estimators': 100}\n",
      "0.619 (+/-0.016) for {'criterion': 'gini', 'max_depth': None, 'min_samples_leaf': 1, 'min_samples_split': 10, 'n_estimators': 300}\n",
      "0.614 (+/-0.017) for {'criterion': 'gini', 'max_depth': None, 'min_samples_leaf': 5, 'min_samples_split': 2, 'n_estimators': 100}\n",
      "0.613 (+/-0.018) for {'criterion': 'gini', 'max_depth': None, 'min_samples_leaf': 5, 'min_samples_split': 2, 'n_estimators': 300}\n",
      "0.614 (+/-0.017) for {'criterion': 'gini', 'max_depth': None, 'min_samples_leaf': 5, 'min_samples_split': 10, 'n_estimators': 100}\n",
      "0.613 (+/-0.018) for {'criterion': 'gini', 'max_depth': None, 'min_samples_leaf': 5, 'min_samples_split': 10, 'n_estimators': 300}\n",
      "0.604 (+/-0.020) for {'criterion': 'gini', 'max_depth': None, 'min_samples_leaf': 10, 'min_samples_split': 2, 'n_estimators': 100}\n",
      "0.605 (+/-0.020) for {'criterion': 'gini', 'max_depth': None, 'min_samples_leaf': 10, 'min_samples_split': 2, 'n_estimators': 300}\n",
      "0.604 (+/-0.020) for {'criterion': 'gini', 'max_depth': None, 'min_samples_leaf': 10, 'min_samples_split': 10, 'n_estimators': 100}\n",
      "0.605 (+/-0.020) for {'criterion': 'gini', 'max_depth': None, 'min_samples_leaf': 10, 'min_samples_split': 10, 'n_estimators': 300}\n",
      "\n",
      "Best parameters for recall found on training set are:\n",
      "{'criterion': 'gini', 'max_depth': 20, 'min_samples_leaf': 1, 'min_samples_split': 2, 'n_estimators': 300}\n",
      "\n",
      "Classification report when hyper-params are optimised for : recall\n"
     ]
    },
    {
     "name": "stdout",
     "output_type": "stream",
     "text": [
      "              precision    recall  f1-score   support\n",
      "\n",
      "unsuccessful     0.7303    0.7918    0.7598      5677\n",
      "  successful     0.6907    0.6139    0.6500      4299\n",
      "\n",
      "    accuracy                         0.7151      9976\n",
      "   macro avg     0.7105    0.7028    0.7049      9976\n",
      "weighted avg     0.7132    0.7151    0.7125      9976\n",
      "\n",
      "\n",
      "CPU times: user 55 s, sys: 1.84 s, total: 56.9 s\n",
      "Wall time: 1h 38min 31s\n"
     ]
    }
   ],
   "source": [
    "%%time\n",
    "\n",
    "scores = ['accuracy', 'recall']\n",
    "\n",
    "for score in scores:\n",
    "    print(\"# Tuning hyper-parameters for %s\" % score)\n",
    "\n",
    "    clf = GridSearchCV(\n",
    "        RandomForestClassifier(random_state=40), param_grid, n_jobs = -1, verbose=5, cv=skf, scoring=score #scoring='%s_macro' % score\n",
    "    )\n",
    "    clf.fit(features_train, labels_train)\n",
    "\n",
    "    print(\"The %s score for each hyper-parameter combination on the training set:\\n\" % score)\n",
    "    means = clf.cv_results_['mean_test_score']\n",
    "    stds = clf.cv_results_['std_test_score']\n",
    "    for mean, std, params in zip(means, stds, clf.cv_results_['params']):\n",
    "        print(\"%0.3f (+/-%0.03f) for %r\"\n",
    "              % (mean, std * 2, params))\n",
    "\n",
    "    print(\"\\nBest parameters for {} found on training set are:\\n{}\\n\".format(score, clf.best_params_))\n",
    "    \n",
    "    print(\"Classification report when hyper-params are optimised for : %s\" % score)\n",
    "    labels_true, labels_pred = labels_test, clf.predict(features_test)\n",
    "    print(classification_report(labels_true, labels_pred, digits=4, target_names=['unsuccessful','successful'],output_dict=False))\n",
    "    print()\n",
    "\n"
   ]
  },
  {
   "cell_type": "code",
   "execution_count": null,
   "metadata": {},
   "outputs": [],
   "source": []
  },
  {
   "cell_type": "code",
   "execution_count": 96,
   "metadata": {},
   "outputs": [],
   "source": [
    "#Enter the paremters from the grid search that maxmised recall for the positive class\n",
    "\n",
    "                \n",
    "def bestRandomForest(features_train, labels_train, features_test, labels_test):\n",
    "    \n",
    "    #create the classifer\n",
    "    clf = RandomForestClassifier(random_state=40, criterion= 'gini', max_depth = 20, n_estimators= 300)\n",
    "\n",
    "    #fit the training data\n",
    "    clf = clf.fit(features_train, labels_train)\n",
    "    \n",
    "    #predict the testing labels using the testing features\n",
    "    labels_pred=clf.predict(features_test)\n",
    " \n",
    "    #labels_true, labels_pred = labels_test, clf.predict(features_test)\n",
    "    print(classification_report(labels_test, labels_pred, digits=4, target_names=['unsuccessful','successful'],output_dict=False))\n",
    "\n",
    "  \n",
    "    #printing the confusion matrix\n",
    "    con_mat=pd.DataFrame(confusion_matrix(labels_test, labels_pred),  columns=['pred_neg', 'pred_pos'], index=['neg', 'pos'])\n",
    "    plt.figure(figsize = (4,4))\n",
    "    sn.heatmap(con_mat, annot=True,cmap='YlOrBr',fmt='g')\n",
    "\n",
    "    return clf"
   ]
  },
  {
   "cell_type": "code",
   "execution_count": 97,
   "metadata": {
    "scrolled": true
   },
   "outputs": [
    {
     "name": "stdout",
     "output_type": "stream",
     "text": [
      "              precision    recall  f1-score   support\n",
      "\n",
      "unsuccessful     0.7303    0.7918    0.7598      5677\n",
      "  successful     0.6907    0.6139    0.6500      4299\n",
      "\n",
      "    accuracy                         0.7151      9976\n",
      "   macro avg     0.7105    0.7028    0.7049      9976\n",
      "weighted avg     0.7132    0.7151    0.7125      9976\n",
      "\n"
     ]
    },
    {
     "data": {
      "text/plain": [
       "RandomForestClassifier(max_depth=20, n_estimators=300, random_state=40)"
      ]
     },
     "execution_count": 97,
     "metadata": {},
     "output_type": "execute_result"
    },
    {
     "data": {
      "image/png": "[encoded data removed]",
      "text/plain": [
       "<Figure size 288x288 with 2 Axes>"
      ]
     },
     "metadata": {
      "needs_background": "light"
     },
     "output_type": "display_data"
    }
   ],
   "source": [
    "bestRandomForest(features_train, labels_train, features_test, labels_test)"
   ]
  },
  {
   "cell_type": "code",
   "execution_count": null,
   "metadata": {},
   "outputs": [],
   "source": []
  }
 ],
 "metadata": {
  "kernelspec": {
   "display_name": "Python 3",
   "language": "python",
   "name": "python3"
  },
  "language_info": {
   "codemirror_mode": {
    "name": "ipython",
    "version": 3
   },
   "file_extension": ".py",
   "mimetype": "text/x-python",
   "name": "python",
   "nbconvert_exporter": "python",
   "pygments_lexer": "ipython3",
   "version": "3.8.5"
  }
 },
 "nbformat": 4,
 "nbformat_minor": 4
}
